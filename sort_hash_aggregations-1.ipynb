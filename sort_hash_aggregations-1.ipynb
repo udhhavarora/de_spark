{
 "cells": [
  {
   "cell_type": "code",
   "execution_count": 1,
   "id": "d0d4acc8",
   "metadata": {},
   "outputs": [
    {
     "data": {
      "text/html": [
       "\n",
       "            <div>\n",
       "                <p><b>SparkSession - hive</b></p>\n",
       "                \n",
       "        <div>\n",
       "            <p><b>SparkContext</b></p>\n",
       "\n",
       "            <p><a href=\"http://g01.itversity.com:4040\">Spark UI</a></p>\n",
       "\n",
       "            <dl>\n",
       "              <dt>Version</dt>\n",
       "                <dd><code>v3.1.2</code></dd>\n",
       "              <dt>Master</dt>\n",
       "                <dd><code>yarn</code></dd>\n",
       "              <dt>AppName</dt>\n",
       "                <dd><code>sort/hash aggregate</code></dd>\n",
       "            </dl>\n",
       "        </div>\n",
       "        \n",
       "            </div>\n",
       "        "
      ],
      "text/plain": [
       "<pyspark.sql.session.SparkSession at 0x7fc1a9c560f0>"
      ]
     },
     "execution_count": 1,
     "metadata": {},
     "output_type": "execute_result"
    }
   ],
   "source": [
    "from pyspark.sql import SparkSession\n",
    "from pyspark.sql.functions import *\n",
    "from pyspark.sql import * #for window\n",
    "\n",
    "spark = SparkSession\\\n",
    ".builder\\\n",
    ".master(\"yarn\")\\\n",
    ".appName(\"sort/hash aggregate\")\\\n",
    ".enableHiveSupport()\\\n",
    ".config(\"spark.shuffle.useOldFetchProtocol\",'true')\\\n",
    ".config(\"spark.sql.warehouse.dir\",\"/user/itv009490/warehouse\")\\\n",
    ".getOrCreate()\n",
    "\n",
    "spark"
   ]
  },
  {
   "cell_type": "code",
   "execution_count": 3,
   "id": "be22773b",
   "metadata": {},
   "outputs": [],
   "source": [
    "order_schema = 'order_id  long, order_date string, customer_id long, order_status string '\n",
    "orders_df = spark.read.format(\"csv\").\\\n",
    "schema(order_schema).\\\n",
    "load(\"/public/trendytech/retail_db/ordersnew\")"
   ]
  },
  {
   "cell_type": "code",
   "execution_count": 4,
   "id": "aaee054c",
   "metadata": {},
   "outputs": [
    {
     "name": "stdout",
     "output_type": "stream",
     "text": [
      "root\n",
      " |-- order_id: long (nullable = true)\n",
      " |-- order_date: string (nullable = true)\n",
      " |-- customer_id: long (nullable = true)\n",
      " |-- order_status: string (nullable = true)\n",
      "\n"
     ]
    }
   ],
   "source": [
    "orders_df.printSchema()"
   ]
  },
  {
   "cell_type": "code",
   "execution_count": 5,
   "id": "432ee77f",
   "metadata": {},
   "outputs": [
    {
     "name": "stdout",
     "output_type": "stream",
     "text": [
      "+--------+--------------------+-----------+------------+\n",
      "|order_id|          order_date|customer_id|order_status|\n",
      "+--------+--------------------+-----------+------------+\n",
      "|    2480|2013-08-07 00:00:...|       3807|    COMPLETE|\n",
      "|   30479|2014-01-30 00:00:...|       9265|    COMPLETE|\n",
      "|    2481|2013-08-07 00:00:...|       2476|    COMPLETE|\n",
      "|   30481|2014-01-30 00:00:...|       9240|    COMPLETE|\n",
      "|    2483|2013-08-07 00:00:...|      10453|    COMPLETE|\n",
      "|   30484|2014-01-30 00:00:...|       2876|    COMPLETE|\n",
      "|    2484|2013-08-07 00:00:...|       9256|    COMPLETE|\n",
      "|   30485|2014-01-30 00:00:...|       1069|    COMPLETE|\n",
      "|    2488|2013-08-07 00:00:...|       1255|    COMPLETE|\n",
      "|   30486|2014-01-30 00:00:...|       1151|    COMPLETE|\n",
      "|    2491|2013-08-07 00:00:...|        247|    COMPLETE|\n",
      "|   30487|2014-01-30 00:00:...|       6772|    COMPLETE|\n",
      "|    2495|2013-08-07 00:00:...|       9011|    COMPLETE|\n",
      "|   30489|2014-01-30 00:00:...|       5717|    COMPLETE|\n",
      "|    2498|2013-08-07 00:00:...|       1966|    COMPLETE|\n",
      "|   30490|2014-01-30 00:00:...|      12189|    COMPLETE|\n",
      "|    2511|2013-08-07 00:00:...|       8544|    COMPLETE|\n",
      "|   30492|2014-01-30 00:00:...|       3710|    COMPLETE|\n",
      "|    2515|2013-08-07 00:00:...|      12056|    COMPLETE|\n",
      "|   30494|2014-01-30 00:00:...|       2724|    COMPLETE|\n",
      "+--------+--------------------+-----------+------------+\n",
      "only showing top 20 rows\n",
      "\n"
     ]
    }
   ],
   "source": [
    "orders_df.show()"
   ]
  },
  {
   "cell_type": "code",
   "execution_count": 6,
   "id": "673600bb",
   "metadata": {},
   "outputs": [
    {
     "data": {
      "text/plain": [
       "23"
      ]
     },
     "execution_count": 6,
     "metadata": {},
     "output_type": "execute_result"
    }
   ],
   "source": [
    "orders_df.rdd.getNumPartitions()"
   ]
  },
  {
   "cell_type": "code",
   "execution_count": 7,
   "id": "3b526651",
   "metadata": {},
   "outputs": [],
   "source": [
    "orders_df.createOrReplaceTempView(\"orders\")"
   ]
  },
  {
   "cell_type": "code",
   "execution_count": 9,
   "id": "427a08bb",
   "metadata": {},
   "outputs": [
    {
     "name": "stdout",
     "output_type": "stream",
     "text": [
      "+-----------+-----+------+\n",
      "|customer_id|month|orders|\n",
      "+-----------+-----+------+\n",
      "|       2125|    1|  2010|\n",
      "|      11530|    1|  2385|\n",
      "|       6680|    1|  2010|\n",
      "|        212|    1|  2010|\n",
      "|       2429|    1|  2010|\n",
      "|       1200|    1|  2010|\n",
      "|       6640|    1|  2010|\n",
      "|       8510|    1|  2385|\n",
      "|       7765|    1|  2010|\n",
      "|       9053|    1|  2010|\n",
      "|       9567|    1|  2010|\n",
      "|       7174|    1|   750|\n",
      "|       2643|    1|   750|\n",
      "|      10820|    1|   375|\n",
      "|       6330|    1|   375|\n",
      "|       5829|    1|   375|\n",
      "|       9703|    1|   375|\n",
      "|       8282|    1|   375|\n",
      "|       2476|    1|   750|\n",
      "|       3486|    1|   375|\n",
      "+-----------+-----+------+\n",
      "only showing top 20 rows\n",
      "\n"
     ]
    }
   ],
   "source": [
    "spark.sql(\"\"\"select customer_id,month(order_date) as month, count(order_id) as orders from orders group by customer_id,\n",
    "month(order_date)\n",
    "order by month(order_date) \"\"\").show()"
   ]
  },
  {
   "cell_type": "code",
   "execution_count": 14,
   "id": "d62ad6e6",
   "metadata": {},
   "outputs": [
    {
     "name": "stdout",
     "output_type": "stream",
     "text": [
      "+-----------+-------+------+--------+\n",
      "|customer_id|  month|orders|month_no|\n",
      "+-----------+-------+------+--------+\n",
      "|       1498|January|  2010|      01|\n",
      "|       1683|January|  2385|      01|\n",
      "|       2724|January|  2010|      01|\n",
      "|       3529|January|   750|      01|\n",
      "|       3948|January|   375|      01|\n",
      "|       4040|January|  2385|      01|\n",
      "|       4048|January|  2010|      01|\n",
      "|       5039|January|   375|      01|\n",
      "|       6862|January|   375|      01|\n",
      "|       3538|January|  2010|      01|\n",
      "|       6001|January|  2010|      01|\n",
      "|       7115|January|   375|      01|\n",
      "|       7536|January|   375|      01|\n",
      "|       7994|January|   375|      01|\n",
      "|       8471|January|   375|      01|\n",
      "|       8525|January|  2385|      01|\n",
      "|       8648|January|   375|      01|\n",
      "|      10172|January|  2385|      01|\n",
      "|       5548|January|  2010|      01|\n",
      "|       5850|January|   375|      01|\n",
      "+-----------+-------+------+--------+\n",
      "only showing top 20 rows\n",
      "\n"
     ]
    }
   ],
   "source": [
    "spark.sql(\"\"\"select customer_id,date_format(order_date,'MMMM') as month, count(order_id) as orders,\n",
    "first(date_format(order_date,'MM')) as month_no\n",
    "from orders group by customer_id,\n",
    "date_format(order_date,'MMMM')\n",
    "order by month_no \"\"\").show()"
   ]
  },
  {
   "cell_type": "code",
   "execution_count": 15,
   "id": "934dc509",
   "metadata": {},
   "outputs": [],
   "source": [
    "spark.sql(\"\"\"select customer_id,date_format(order_date,'MMMM') as month, count(order_id) as orders,\n",
    "first(date_format(order_date,'MM')) as month_no\n",
    "from orders group by customer_id,\n",
    "date_format(order_date,'MMMM')\n",
    "order by month_no \"\"\").write.format(\"noop\").mode(\"overwrite\").save()"
   ]
  },
  {
   "cell_type": "code",
   "execution_count": 17,
   "id": "13078632",
   "metadata": {},
   "outputs": [
    {
     "name": "stdout",
     "output_type": "stream",
     "text": [
      "+-----------+-------+------+--------+\n",
      "|customer_id|  month|orders|month_no|\n",
      "+-----------+-------+------+--------+\n",
      "|       8763|January|  2010|       1|\n",
      "|       1852|January|   375|       1|\n",
      "|       5235|January|  2010|       1|\n",
      "|        332|January|  2010|       1|\n",
      "|       3275|January|  2385|       1|\n",
      "|       4618|January|  4770|       1|\n",
      "|       5291|January|  2010|       1|\n",
      "|       3699|January|  2385|       1|\n",
      "|      12232|January|  2010|       1|\n",
      "|      12198|January|  4395|       1|\n",
      "|       5633|January|  2010|       1|\n",
      "|        255|January|  2010|       1|\n",
      "|       3080|January|   375|       1|\n",
      "|      10275|January|   375|       1|\n",
      "|       2150|January|   375|       1|\n",
      "|       9300|January|   375|       1|\n",
      "|       6022|January|   375|       1|\n",
      "|       9435|January|   750|       1|\n",
      "|       6951|January|   375|       1|\n",
      "|       6012|January|   375|       1|\n",
      "+-----------+-------+------+--------+\n",
      "only showing top 20 rows\n",
      "\n"
     ]
    }
   ],
   "source": [
    "spark.sql(\"\"\"select customer_id,date_format(order_date,'MMMM') as month, count(order_id) as orders,\n",
    "first(int(date_format(order_date,'MM'))) as month_no\n",
    "from orders group by customer_id,\n",
    "date_format(order_date,'MMMM')\n",
    "order by month_no \"\"\").show()"
   ]
  },
  {
   "cell_type": "code",
   "execution_count": 18,
   "id": "caac557c",
   "metadata": {},
   "outputs": [],
   "source": [
    "spark.sql(\"\"\"select customer_id,date_format(order_date,'MMMM') as month, count(order_id) as orders,\n",
    "first(int(date_format(order_date,'MM'))) as month_no\n",
    "from orders group by customer_id,\n",
    "date_format(order_date,'MMMM')\n",
    "order by month_no \"\"\").write.format(\"noop\").mode(\"overwrite\").save()"
   ]
  },
  {
   "cell_type": "code",
   "execution_count": null,
   "id": "c71c6cd8",
   "metadata": {},
   "outputs": [],
   "source": []
  }
 ],
 "metadata": {
  "kernelspec": {
   "display_name": "Pyspark 3",
   "language": "python",
   "name": "pyspark3"
  },
  "language_info": {
   "codemirror_mode": {
    "name": "ipython",
    "version": 3
   },
   "file_extension": ".py",
   "mimetype": "text/x-python",
   "name": "python",
   "nbconvert_exporter": "python",
   "pygments_lexer": "ipython3",
   "version": "3.6.12"
  }
 },
 "nbformat": 4,
 "nbformat_minor": 5
}
