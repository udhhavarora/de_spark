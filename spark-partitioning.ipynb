{
 "cells": [
  {
   "cell_type": "code",
   "execution_count": 54,
   "id": "f1c73e97",
   "metadata": {},
   "outputs": [
    {
     "data": {
      "text/html": [
       "\n",
       "            <div>\n",
       "                <p><b>SparkSession - hive</b></p>\n",
       "                \n",
       "        <div>\n",
       "            <p><b>SparkContext</b></p>\n",
       "\n",
       "            <p><a href=\"http://g01.itversity.com:4040\">Spark UI</a></p>\n",
       "\n",
       "            <dl>\n",
       "              <dt>Version</dt>\n",
       "                <dd><code>v3.1.2</code></dd>\n",
       "              <dt>Master</dt>\n",
       "                <dd><code>yarn</code></dd>\n",
       "              <dt>AppName</dt>\n",
       "                <dd><code>partitionBy</code></dd>\n",
       "            </dl>\n",
       "        </div>\n",
       "        \n",
       "            </div>\n",
       "        "
      ],
      "text/plain": [
       "<pyspark.sql.session.SparkSession at 0x7f8a49729748>"
      ]
     },
     "execution_count": 54,
     "metadata": {},
     "output_type": "execute_result"
    }
   ],
   "source": [
    "from pyspark.sql import SparkSession\n",
    "from pyspark.sql.functions import *\n",
    "from pyspark.sql import * #for window\n",
    "\n",
    "spark = SparkSession\\\n",
    ".builder\\\n",
    ".master(\"yarn\")\\\n",
    ".appName(\"partitionBy\")\\\n",
    ".enableHiveSupport()\\\n",
    ".config(\"spark.sql.warehouse.dir\",\"/user/itv009490/warehouse\")\\\n",
    ".getOrCreate()\n",
    "\n",
    "spark"
   ]
  },
  {
   "cell_type": "code",
   "execution_count": 55,
   "id": "6927a1b8",
   "metadata": {},
   "outputs": [],
   "source": [
    "order_schema = 'order_id  long, order_date string, customer_id long, order_status string '"
   ]
  },
  {
   "cell_type": "code",
   "execution_count": 32,
   "id": "edd0e929",
   "metadata": {},
   "outputs": [],
   "source": [
    "df = spark.read.format(\"csv\").\\\n",
    "schema(order_schema).\\\n",
    "load(\"/user/itv009490/spark_writer_demo2/part*\")"
   ]
  },
  {
   "cell_type": "code",
   "execution_count": 33,
   "id": "bf1265fc",
   "metadata": {},
   "outputs": [
    {
     "name": "stdout",
     "output_type": "stream",
     "text": [
      "+--------+--------------------+-----------+---------------+\n",
      "|order_id|          order_date|customer_id|   order_status|\n",
      "+--------+--------------------+-----------+---------------+\n",
      "|       1|2013-07-25 00:00:...|      11599|         CLOSED|\n",
      "|       2|2013-07-25 00:00:...|        256|PENDING_PAYMENT|\n",
      "|       3|2013-07-25 00:00:...|      12111|       COMPLETE|\n",
      "|       4|2013-07-25 00:00:...|       8827|         CLOSED|\n",
      "|       5|2013-07-25 00:00:...|      11318|       COMPLETE|\n",
      "|       6|2013-07-25 00:00:...|       7130|       COMPLETE|\n",
      "|       7|2013-07-25 00:00:...|       4530|       COMPLETE|\n",
      "|       8|2013-07-25 00:00:...|       2911|     PROCESSING|\n",
      "|       9|2013-07-25 00:00:...|       5657|PENDING_PAYMENT|\n",
      "|      10|2013-07-25 00:00:...|       5648|PENDING_PAYMENT|\n",
      "|      11|2013-07-25 00:00:...|        918| PAYMENT_REVIEW|\n",
      "|      12|2013-07-25 00:00:...|       1837|         CLOSED|\n",
      "|      13|2013-07-25 00:00:...|       9149|PENDING_PAYMENT|\n",
      "|      14|2013-07-25 00:00:...|       9842|     PROCESSING|\n",
      "|      15|2013-07-25 00:00:...|       2568|       COMPLETE|\n",
      "|      16|2013-07-25 00:00:...|       7276|PENDING_PAYMENT|\n",
      "|      17|2013-07-25 00:00:...|       2667|       COMPLETE|\n",
      "|      18|2013-07-25 00:00:...|       1205|         CLOSED|\n",
      "|      19|2013-07-25 00:00:...|       9488|PENDING_PAYMENT|\n",
      "|      20|2013-07-25 00:00:...|       9198|     PROCESSING|\n",
      "+--------+--------------------+-----------+---------------+\n",
      "only showing top 20 rows\n",
      "\n"
     ]
    }
   ],
   "source": [
    "df.show()"
   ]
  },
  {
   "cell_type": "code",
   "execution_count": 34,
   "id": "1c970003",
   "metadata": {},
   "outputs": [],
   "source": [
    "df.createOrReplaceTempView(\"orders\")"
   ]
  },
  {
   "cell_type": "code",
   "execution_count": 35,
   "id": "282194b7",
   "metadata": {},
   "outputs": [
    {
     "name": "stdout",
     "output_type": "stream",
     "text": [
      "+--------+\n",
      "|count(1)|\n",
      "+--------+\n",
      "| 2833500|\n",
      "+--------+\n",
      "\n"
     ]
    }
   ],
   "source": [
    "spark.sql(\"select count(*) from orders where order_status = 'CLOSED' \").show()"
   ]
  },
  {
   "cell_type": "code",
   "execution_count": null,
   "id": "8e7dc25c",
   "metadata": {},
   "outputs": [],
   "source": []
  },
  {
   "cell_type": "code",
   "execution_count": 36,
   "id": "8ce673a5",
   "metadata": {},
   "outputs": [],
   "source": [
    "df.write.format(\"csv\").mode(\"overwrite\").partitionBy(\"order_status\").\\\n",
    "option(\"path\",\"/user/itv009490/spark_writer_demo3\").save()"
   ]
  },
  {
   "cell_type": "code",
   "execution_count": 37,
   "id": "1ee23ac1",
   "metadata": {},
   "outputs": [
    {
     "data": {
      "text/plain": [
       "9"
      ]
     },
     "execution_count": 37,
     "metadata": {},
     "output_type": "execute_result"
    }
   ],
   "source": [
    "df.rdd.getNumPartitions()"
   ]
  },
  {
   "cell_type": "code",
   "execution_count": 56,
   "id": "6f2dea67",
   "metadata": {},
   "outputs": [],
   "source": [
    "df = spark.read.format(\"csv\").\\\n",
    "schema(order_schema).\\\n",
    "load(\"/user/itv009490/spark_writer_demo3/\")"
   ]
  },
  {
   "cell_type": "code",
   "execution_count": 47,
   "id": "2219ea9b",
   "metadata": {},
   "outputs": [
    {
     "name": "stdout",
     "output_type": "stream",
     "text": [
      "+--------+--------------------+-----------+------------+\n",
      "|order_id|          order_date|customer_id|order_status|\n",
      "+--------+--------------------+-----------+------------+\n",
      "|    2480|2013-08-07 00:00:...|       3807|    COMPLETE|\n",
      "|   30479|2014-01-30 00:00:...|       9265|    COMPLETE|\n",
      "|    2481|2013-08-07 00:00:...|       2476|    COMPLETE|\n",
      "|   30481|2014-01-30 00:00:...|       9240|    COMPLETE|\n",
      "|    2483|2013-08-07 00:00:...|      10453|    COMPLETE|\n",
      "|   30484|2014-01-30 00:00:...|       2876|    COMPLETE|\n",
      "|    2484|2013-08-07 00:00:...|       9256|    COMPLETE|\n",
      "|   30485|2014-01-30 00:00:...|       1069|    COMPLETE|\n",
      "|    2488|2013-08-07 00:00:...|       1255|    COMPLETE|\n",
      "|   30486|2014-01-30 00:00:...|       1151|    COMPLETE|\n",
      "|    2491|2013-08-07 00:00:...|        247|    COMPLETE|\n",
      "|   30487|2014-01-30 00:00:...|       6772|    COMPLETE|\n",
      "|    2495|2013-08-07 00:00:...|       9011|    COMPLETE|\n",
      "|   30489|2014-01-30 00:00:...|       5717|    COMPLETE|\n",
      "|    2498|2013-08-07 00:00:...|       1966|    COMPLETE|\n",
      "|   30490|2014-01-30 00:00:...|      12189|    COMPLETE|\n",
      "|    2511|2013-08-07 00:00:...|       8544|    COMPLETE|\n",
      "|   30492|2014-01-30 00:00:...|       3710|    COMPLETE|\n",
      "|    2515|2013-08-07 00:00:...|      12056|    COMPLETE|\n",
      "|   30494|2014-01-30 00:00:...|       2724|    COMPLETE|\n",
      "+--------+--------------------+-----------+------------+\n",
      "only showing top 20 rows\n",
      "\n"
     ]
    }
   ],
   "source": [
    "df.show()"
   ]
  },
  {
   "cell_type": "code",
   "execution_count": 57,
   "id": "bf1032ca",
   "metadata": {},
   "outputs": [],
   "source": [
    "df.createOrReplaceTempView(\"orders\")"
   ]
  },
  {
   "cell_type": "code",
   "execution_count": 58,
   "id": "eaeb78cb",
   "metadata": {},
   "outputs": [
    {
     "name": "stdout",
     "output_type": "stream",
     "text": [
      "+--------+\n",
      "|count(1)|\n",
      "+--------+\n",
      "| 2833500|\n",
      "+--------+\n",
      "\n"
     ]
    }
   ],
   "source": [
    "spark.sql(\"select count(*) from orders where order_status = 'CLOSED' \").show()"
   ]
  },
  {
   "cell_type": "code",
   "execution_count": 59,
   "id": "05448d4d",
   "metadata": {},
   "outputs": [
    {
     "name": "stdout",
     "output_type": "stream",
     "text": [
      "+--------+\n",
      "|count(1)|\n",
      "+--------+\n",
      "| 5636250|\n",
      "+--------+\n",
      "\n"
     ]
    }
   ],
   "source": [
    "spark.sql(\"select count(*) from orders where order_status = 'PENDING_PAYMENT' \").show()"
   ]
  },
  {
   "cell_type": "code",
   "execution_count": 60,
   "id": "9a816661",
   "metadata": {},
   "outputs": [
    {
     "name": "stdout",
     "output_type": "stream",
     "text": [
      "+--------+\n",
      "|count(1)|\n",
      "+--------+\n",
      "|    2250|\n",
      "+--------+\n",
      "\n"
     ]
    }
   ],
   "source": [
    "spark.sql(\"select count(*) from orders where customer_id = 8827 \").show()"
   ]
  },
  {
   "cell_type": "code",
   "execution_count": null,
   "id": "79aa4f86",
   "metadata": {},
   "outputs": [],
   "source": []
  },
  {
   "cell_type": "code",
   "execution_count": null,
   "id": "1c877b47",
   "metadata": {},
   "outputs": [],
   "source": []
  },
  {
   "cell_type": "code",
   "execution_count": 63,
   "id": "72b050e2",
   "metadata": {},
   "outputs": [],
   "source": [
    "df2 = spark.read.format(\"csv\").option(\"inferSchema\",True).\\\n",
    "load(\"/public/trendytech/retail_db/customers/part-00000\")"
   ]
  },
  {
   "cell_type": "code",
   "execution_count": 68,
   "id": "2da6bc58",
   "metadata": {},
   "outputs": [],
   "source": [
    "df2 = df2.toDF(\"customer_id\",\"firstname\",\"lastname\",\"email\",\"password\",\"street\",\"city\",\"state\",\"zipcode\")"
   ]
  },
  {
   "cell_type": "code",
   "execution_count": 69,
   "id": "f3bb6acb",
   "metadata": {},
   "outputs": [
    {
     "name": "stdout",
     "output_type": "stream",
     "text": [
      "+-----------+-----------+---------+---------+---------+--------------------+-------------+-----+-------+\n",
      "|customer_id|  firstname| lastname|    email| password|              street|         city|state|zipcode|\n",
      "+-----------+-----------+---------+---------+---------+--------------------+-------------+-----+-------+\n",
      "|          1|    Richard|Hernandez|XXXXXXXXX|XXXXXXXXX|  6303 Heather Plaza|  Brownsville|   TX|  78521|\n",
      "|          2|       Mary|  Barrett|XXXXXXXXX|XXXXXXXXX|9526 Noble Embers...|    Littleton|   CO|  80126|\n",
      "|          3|        Ann|    Smith|XXXXXXXXX|XXXXXXXXX|3422 Blue Pioneer...|       Caguas|   PR|    725|\n",
      "|          4|       Mary|    Jones|XXXXXXXXX|XXXXXXXXX|  8324 Little Common|   San Marcos|   CA|  92069|\n",
      "|          5|     Robert|   Hudson|XXXXXXXXX|XXXXXXXXX|10 Crystal River ...|       Caguas|   PR|    725|\n",
      "|          6|       Mary|    Smith|XXXXXXXXX|XXXXXXXXX|3151 Sleepy Quail...|      Passaic|   NJ|   7055|\n",
      "|          7|    Melissa|   Wilcox|XXXXXXXXX|XXXXXXXXX|9453 High Concession|       Caguas|   PR|    725|\n",
      "|          8|      Megan|    Smith|XXXXXXXXX|XXXXXXXXX|3047 Foggy Forest...|     Lawrence|   MA|   1841|\n",
      "|          9|       Mary|    Perez|XXXXXXXXX|XXXXXXXXX| 3616 Quaking Street|       Caguas|   PR|    725|\n",
      "|         10|    Melissa|    Smith|XXXXXXXXX|XXXXXXXXX|8598 Harvest Beac...|     Stafford|   VA|  22554|\n",
      "|         11|       Mary|  Huffman|XXXXXXXXX|XXXXXXXXX|    3169 Stony Woods|       Caguas|   PR|    725|\n",
      "|         12|Christopher|    Smith|XXXXXXXXX|XXXXXXXXX|5594 Jagged Ember...|  San Antonio|   TX|  78227|\n",
      "|         13|       Mary|  Baldwin|XXXXXXXXX|XXXXXXXXX|7922 Iron Oak Gar...|       Caguas|   PR|    725|\n",
      "|         14|  Katherine|    Smith|XXXXXXXXX|XXXXXXXXX|5666 Hazy Pony Sq...|  Pico Rivera|   CA|  90660|\n",
      "|         15|       Jane|     Luna|XXXXXXXXX|XXXXXXXXX|    673 Burning Glen|      Fontana|   CA|  92336|\n",
      "|         16|    Tiffany|    Smith|XXXXXXXXX|XXXXXXXXX|      6651 Iron Port|       Caguas|   PR|    725|\n",
      "|         17|       Mary| Robinson|XXXXXXXXX|XXXXXXXXX|     1325 Noble Pike|       Taylor|   MI|  48180|\n",
      "|         18|     Robert|    Smith|XXXXXXXXX|XXXXXXXXX|2734 Hazy Butterf...|     Martinez|   CA|  94553|\n",
      "|         19|  Stephanie| Mitchell|XXXXXXXXX|XXXXXXXXX|3543 Red Treasure...|       Caguas|   PR|    725|\n",
      "|         20|       Mary|    Ellis|XXXXXXXXX|XXXXXXXXX|      4703 Old Route|West New York|   NJ|   7093|\n",
      "+-----------+-----------+---------+---------+---------+--------------------+-------------+-----+-------+\n",
      "only showing top 20 rows\n",
      "\n"
     ]
    }
   ],
   "source": [
    "df2.show()"
   ]
  },
  {
   "cell_type": "code",
   "execution_count": 77,
   "id": "94a9666d",
   "metadata": {},
   "outputs": [],
   "source": [
    "#2 levels pf partitioning\n",
    "\n",
    "df2.write.format(\"parquet\").mode(\"overwrite\").partitionBy(\"state\",\"city\").\\\n",
    "option(\"path\",\"/user/itv009490/partition_demo_output\").save()"
   ]
  },
  {
   "cell_type": "code",
   "execution_count": 78,
   "id": "9ffb210b",
   "metadata": {},
   "outputs": [
    {
     "name": "stdout",
     "output_type": "stream",
     "text": [
      "Found 45 items\n",
      "-rw-r--r--   3 itv009490 supergroup          0 2023-12-01 14:42 /user/itv009490/partition_demo_output/_SUCCESS\n",
      "drwxr-xr-x   - itv009490 supergroup          0 2023-12-01 14:41 /user/itv009490/partition_demo_output/state=AL\n",
      "drwxr-xr-x   - itv009490 supergroup          0 2023-12-01 14:41 /user/itv009490/partition_demo_output/state=AR\n",
      "drwxr-xr-x   - itv009490 supergroup          0 2023-12-01 14:41 /user/itv009490/partition_demo_output/state=AZ\n",
      "drwxr-xr-x   - itv009490 supergroup          0 2023-12-01 14:42 /user/itv009490/partition_demo_output/state=CA\n",
      "drwxr-xr-x   - itv009490 supergroup          0 2023-12-01 14:42 /user/itv009490/partition_demo_output/state=CO\n",
      "drwxr-xr-x   - itv009490 supergroup          0 2023-12-01 14:42 /user/itv009490/partition_demo_output/state=CT\n",
      "drwxr-xr-x   - itv009490 supergroup          0 2023-12-01 14:42 /user/itv009490/partition_demo_output/state=DC\n",
      "drwxr-xr-x   - itv009490 supergroup          0 2023-12-01 14:42 /user/itv009490/partition_demo_output/state=DE\n",
      "drwxr-xr-x   - itv009490 supergroup          0 2023-12-01 14:42 /user/itv009490/partition_demo_output/state=FL\n",
      "drwxr-xr-x   - itv009490 supergroup          0 2023-12-01 14:42 /user/itv009490/partition_demo_output/state=GA\n",
      "drwxr-xr-x   - itv009490 supergroup          0 2023-12-01 14:42 /user/itv009490/partition_demo_output/state=HI\n",
      "drwxr-xr-x   - itv009490 supergroup          0 2023-12-01 14:42 /user/itv009490/partition_demo_output/state=IA\n",
      "drwxr-xr-x   - itv009490 supergroup          0 2023-12-01 14:42 /user/itv009490/partition_demo_output/state=ID\n",
      "drwxr-xr-x   - itv009490 supergroup          0 2023-12-01 14:42 /user/itv009490/partition_demo_output/state=IL\n",
      "drwxr-xr-x   - itv009490 supergroup          0 2023-12-01 14:42 /user/itv009490/partition_demo_output/state=IN\n",
      "drwxr-xr-x   - itv009490 supergroup          0 2023-12-01 14:42 /user/itv009490/partition_demo_output/state=KS\n",
      "drwxr-xr-x   - itv009490 supergroup          0 2023-12-01 14:42 /user/itv009490/partition_demo_output/state=KY\n",
      "drwxr-xr-x   - itv009490 supergroup          0 2023-12-01 14:42 /user/itv009490/partition_demo_output/state=LA\n",
      "drwxr-xr-x   - itv009490 supergroup          0 2023-12-01 14:42 /user/itv009490/partition_demo_output/state=MA\n",
      "drwxr-xr-x   - itv009490 supergroup          0 2023-12-01 14:42 /user/itv009490/partition_demo_output/state=MD\n",
      "drwxr-xr-x   - itv009490 supergroup          0 2023-12-01 14:42 /user/itv009490/partition_demo_output/state=MI\n",
      "drwxr-xr-x   - itv009490 supergroup          0 2023-12-01 14:42 /user/itv009490/partition_demo_output/state=MN\n",
      "drwxr-xr-x   - itv009490 supergroup          0 2023-12-01 14:42 /user/itv009490/partition_demo_output/state=MO\n",
      "drwxr-xr-x   - itv009490 supergroup          0 2023-12-01 14:42 /user/itv009490/partition_demo_output/state=MT\n",
      "drwxr-xr-x   - itv009490 supergroup          0 2023-12-01 14:42 /user/itv009490/partition_demo_output/state=NC\n",
      "drwxr-xr-x   - itv009490 supergroup          0 2023-12-01 14:42 /user/itv009490/partition_demo_output/state=ND\n",
      "drwxr-xr-x   - itv009490 supergroup          0 2023-12-01 14:42 /user/itv009490/partition_demo_output/state=NJ\n",
      "drwxr-xr-x   - itv009490 supergroup          0 2023-12-01 14:42 /user/itv009490/partition_demo_output/state=NM\n",
      "drwxr-xr-x   - itv009490 supergroup          0 2023-12-01 14:42 /user/itv009490/partition_demo_output/state=NV\n",
      "drwxr-xr-x   - itv009490 supergroup          0 2023-12-01 14:42 /user/itv009490/partition_demo_output/state=NY\n",
      "drwxr-xr-x   - itv009490 supergroup          0 2023-12-01 14:42 /user/itv009490/partition_demo_output/state=OH\n",
      "drwxr-xr-x   - itv009490 supergroup          0 2023-12-01 14:42 /user/itv009490/partition_demo_output/state=OK\n",
      "drwxr-xr-x   - itv009490 supergroup          0 2023-12-01 14:42 /user/itv009490/partition_demo_output/state=OR\n",
      "drwxr-xr-x   - itv009490 supergroup          0 2023-12-01 14:42 /user/itv009490/partition_demo_output/state=PA\n",
      "drwxr-xr-x   - itv009490 supergroup          0 2023-12-01 14:42 /user/itv009490/partition_demo_output/state=PR\n",
      "drwxr-xr-x   - itv009490 supergroup          0 2023-12-01 14:42 /user/itv009490/partition_demo_output/state=RI\n",
      "drwxr-xr-x   - itv009490 supergroup          0 2023-12-01 14:42 /user/itv009490/partition_demo_output/state=SC\n",
      "drwxr-xr-x   - itv009490 supergroup          0 2023-12-01 14:42 /user/itv009490/partition_demo_output/state=TN\n",
      "drwxr-xr-x   - itv009490 supergroup          0 2023-12-01 14:42 /user/itv009490/partition_demo_output/state=TX\n",
      "drwxr-xr-x   - itv009490 supergroup          0 2023-12-01 14:42 /user/itv009490/partition_demo_output/state=UT\n",
      "drwxr-xr-x   - itv009490 supergroup          0 2023-12-01 14:42 /user/itv009490/partition_demo_output/state=VA\n",
      "drwxr-xr-x   - itv009490 supergroup          0 2023-12-01 14:42 /user/itv009490/partition_demo_output/state=WA\n",
      "drwxr-xr-x   - itv009490 supergroup          0 2023-12-01 14:42 /user/itv009490/partition_demo_output/state=WI\n",
      "drwxr-xr-x   - itv009490 supergroup          0 2023-12-01 14:42 /user/itv009490/partition_demo_output/state=WV\n"
     ]
    }
   ],
   "source": [
    "!hdfs dfs -ls /user/itv009490/partition_demo_output"
   ]
  },
  {
   "cell_type": "code",
   "execution_count": 79,
   "id": "a254c852",
   "metadata": {},
   "outputs": [
    {
     "name": "stdout",
     "output_type": "stream",
     "text": [
      "Found 151 items\n",
      "drwxr-xr-x   - itv009490 supergroup          0 2023-12-01 14:41 /user/itv009490/partition_demo_output/state=CA/city=Alameda\n",
      "drwxr-xr-x   - itv009490 supergroup          0 2023-12-01 14:41 /user/itv009490/partition_demo_output/state=CA/city=Alhambra\n",
      "drwxr-xr-x   - itv009490 supergroup          0 2023-12-01 14:41 /user/itv009490/partition_demo_output/state=CA/city=Anaheim\n",
      "drwxr-xr-x   - itv009490 supergroup          0 2023-12-01 14:41 /user/itv009490/partition_demo_output/state=CA/city=Antioch\n",
      "drwxr-xr-x   - itv009490 supergroup          0 2023-12-01 14:41 /user/itv009490/partition_demo_output/state=CA/city=Azusa\n",
      "drwxr-xr-x   - itv009490 supergroup          0 2023-12-01 14:41 /user/itv009490/partition_demo_output/state=CA/city=Bakersfield\n",
      "drwxr-xr-x   - itv009490 supergroup          0 2023-12-01 14:41 /user/itv009490/partition_demo_output/state=CA/city=Baldwin Park\n",
      "drwxr-xr-x   - itv009490 supergroup          0 2023-12-01 14:41 /user/itv009490/partition_demo_output/state=CA/city=Bell Gardens\n",
      "drwxr-xr-x   - itv009490 supergroup          0 2023-12-01 14:41 /user/itv009490/partition_demo_output/state=CA/city=Bellflower\n",
      "drwxr-xr-x   - itv009490 supergroup          0 2023-12-01 14:41 /user/itv009490/partition_demo_output/state=CA/city=Buena Park\n",
      "drwxr-xr-x   - itv009490 supergroup          0 2023-12-01 14:41 /user/itv009490/partition_demo_output/state=CA/city=Campbell\n",
      "drwxr-xr-x   - itv009490 supergroup          0 2023-12-01 14:41 /user/itv009490/partition_demo_output/state=CA/city=Canoga Park\n",
      "drwxr-xr-x   - itv009490 supergroup          0 2023-12-01 14:41 /user/itv009490/partition_demo_output/state=CA/city=Canyon Country\n",
      "drwxr-xr-x   - itv009490 supergroup          0 2023-12-01 14:41 /user/itv009490/partition_demo_output/state=CA/city=Carlsbad\n",
      "drwxr-xr-x   - itv009490 supergroup          0 2023-12-01 14:41 /user/itv009490/partition_demo_output/state=CA/city=Carmichael\n",
      "drwxr-xr-x   - itv009490 supergroup          0 2023-12-01 14:41 /user/itv009490/partition_demo_output/state=CA/city=Carson\n",
      "drwxr-xr-x   - itv009490 supergroup          0 2023-12-01 14:41 /user/itv009490/partition_demo_output/state=CA/city=Cerritos\n",
      "drwxr-xr-x   - itv009490 supergroup          0 2023-12-01 14:41 /user/itv009490/partition_demo_output/state=CA/city=Chino\n",
      "drwxr-xr-x   - itv009490 supergroup          0 2023-12-01 14:41 /user/itv009490/partition_demo_output/state=CA/city=Chino Hills\n",
      "drwxr-xr-x   - itv009490 supergroup          0 2023-12-01 14:41 /user/itv009490/partition_demo_output/state=CA/city=Chula Vista\n",
      "drwxr-xr-x   - itv009490 supergroup          0 2023-12-01 14:41 /user/itv009490/partition_demo_output/state=CA/city=Citrus Heights\n",
      "drwxr-xr-x   - itv009490 supergroup          0 2023-12-01 14:41 /user/itv009490/partition_demo_output/state=CA/city=Clovis\n",
      "drwxr-xr-x   - itv009490 supergroup          0 2023-12-01 14:41 /user/itv009490/partition_demo_output/state=CA/city=Colton\n",
      "drwxr-xr-x   - itv009490 supergroup          0 2023-12-01 14:41 /user/itv009490/partition_demo_output/state=CA/city=Compton\n",
      "drwxr-xr-x   - itv009490 supergroup          0 2023-12-01 14:41 /user/itv009490/partition_demo_output/state=CA/city=Corona\n",
      "drwxr-xr-x   - itv009490 supergroup          0 2023-12-01 14:41 /user/itv009490/partition_demo_output/state=CA/city=Costa Mesa\n",
      "drwxr-xr-x   - itv009490 supergroup          0 2023-12-01 14:41 /user/itv009490/partition_demo_output/state=CA/city=Cupertino\n",
      "drwxr-xr-x   - itv009490 supergroup          0 2023-12-01 14:41 /user/itv009490/partition_demo_output/state=CA/city=Cypress\n",
      "drwxr-xr-x   - itv009490 supergroup          0 2023-12-01 14:41 /user/itv009490/partition_demo_output/state=CA/city=Daly City\n",
      "drwxr-xr-x   - itv009490 supergroup          0 2023-12-01 14:41 /user/itv009490/partition_demo_output/state=CA/city=Davis\n",
      "drwxr-xr-x   - itv009490 supergroup          0 2023-12-01 14:41 /user/itv009490/partition_demo_output/state=CA/city=Diamond Bar\n",
      "drwxr-xr-x   - itv009490 supergroup          0 2023-12-01 14:41 /user/itv009490/partition_demo_output/state=CA/city=El Cajon\n",
      "drwxr-xr-x   - itv009490 supergroup          0 2023-12-01 14:41 /user/itv009490/partition_demo_output/state=CA/city=El Centro\n",
      "drwxr-xr-x   - itv009490 supergroup          0 2023-12-01 14:41 /user/itv009490/partition_demo_output/state=CA/city=El Monte\n",
      "drwxr-xr-x   - itv009490 supergroup          0 2023-12-01 14:41 /user/itv009490/partition_demo_output/state=CA/city=Elk Grove\n",
      "drwxr-xr-x   - itv009490 supergroup          0 2023-12-01 14:41 /user/itv009490/partition_demo_output/state=CA/city=Encinitas\n",
      "drwxr-xr-x   - itv009490 supergroup          0 2023-12-01 14:41 /user/itv009490/partition_demo_output/state=CA/city=Escondido\n",
      "drwxr-xr-x   - itv009490 supergroup          0 2023-12-01 14:41 /user/itv009490/partition_demo_output/state=CA/city=Fairfield\n",
      "drwxr-xr-x   - itv009490 supergroup          0 2023-12-01 14:41 /user/itv009490/partition_demo_output/state=CA/city=Folsom\n",
      "drwxr-xr-x   - itv009490 supergroup          0 2023-12-01 14:41 /user/itv009490/partition_demo_output/state=CA/city=Fontana\n",
      "drwxr-xr-x   - itv009490 supergroup          0 2023-12-01 14:41 /user/itv009490/partition_demo_output/state=CA/city=Fountain Valley\n",
      "drwxr-xr-x   - itv009490 supergroup          0 2023-12-01 14:41 /user/itv009490/partition_demo_output/state=CA/city=Fremont\n",
      "drwxr-xr-x   - itv009490 supergroup          0 2023-12-01 14:41 /user/itv009490/partition_demo_output/state=CA/city=Fresno\n",
      "drwxr-xr-x   - itv009490 supergroup          0 2023-12-01 14:41 /user/itv009490/partition_demo_output/state=CA/city=Fullerton\n",
      "drwxr-xr-x   - itv009490 supergroup          0 2023-12-01 14:41 /user/itv009490/partition_demo_output/state=CA/city=Garden Grove\n",
      "drwxr-xr-x   - itv009490 supergroup          0 2023-12-01 14:41 /user/itv009490/partition_demo_output/state=CA/city=Gardena\n",
      "drwxr-xr-x   - itv009490 supergroup          0 2023-12-01 14:41 /user/itv009490/partition_demo_output/state=CA/city=Gilroy\n",
      "drwxr-xr-x   - itv009490 supergroup          0 2023-12-01 14:41 /user/itv009490/partition_demo_output/state=CA/city=Goleta\n",
      "drwxr-xr-x   - itv009490 supergroup          0 2023-12-01 14:41 /user/itv009490/partition_demo_output/state=CA/city=Granada Hills\n",
      "drwxr-xr-x   - itv009490 supergroup          0 2023-12-01 14:41 /user/itv009490/partition_demo_output/state=CA/city=Hacienda Heights\n",
      "drwxr-xr-x   - itv009490 supergroup          0 2023-12-01 14:41 /user/itv009490/partition_demo_output/state=CA/city=Hanford\n",
      "drwxr-xr-x   - itv009490 supergroup          0 2023-12-01 14:41 /user/itv009490/partition_demo_output/state=CA/city=Hawthorne\n",
      "drwxr-xr-x   - itv009490 supergroup          0 2023-12-01 14:41 /user/itv009490/partition_demo_output/state=CA/city=Hayward\n",
      "drwxr-xr-x   - itv009490 supergroup          0 2023-12-01 14:41 /user/itv009490/partition_demo_output/state=CA/city=Hesperia\n",
      "drwxr-xr-x   - itv009490 supergroup          0 2023-12-01 14:41 /user/itv009490/partition_demo_output/state=CA/city=Highland\n",
      "drwxr-xr-x   - itv009490 supergroup          0 2023-12-01 14:41 /user/itv009490/partition_demo_output/state=CA/city=Hollister\n",
      "drwxr-xr-x   - itv009490 supergroup          0 2023-12-01 14:41 /user/itv009490/partition_demo_output/state=CA/city=Huntington Beach\n",
      "drwxr-xr-x   - itv009490 supergroup          0 2023-12-01 14:41 /user/itv009490/partition_demo_output/state=CA/city=Huntington Park\n",
      "drwxr-xr-x   - itv009490 supergroup          0 2023-12-01 14:41 /user/itv009490/partition_demo_output/state=CA/city=Indio\n",
      "drwxr-xr-x   - itv009490 supergroup          0 2023-12-01 14:41 /user/itv009490/partition_demo_output/state=CA/city=La Habra\n",
      "drwxr-xr-x   - itv009490 supergroup          0 2023-12-01 14:41 /user/itv009490/partition_demo_output/state=CA/city=La Mesa\n",
      "drwxr-xr-x   - itv009490 supergroup          0 2023-12-01 14:41 /user/itv009490/partition_demo_output/state=CA/city=La Mirada\n",
      "drwxr-xr-x   - itv009490 supergroup          0 2023-12-01 14:41 /user/itv009490/partition_demo_output/state=CA/city=La Puente\n",
      "drwxr-xr-x   - itv009490 supergroup          0 2023-12-01 14:41 /user/itv009490/partition_demo_output/state=CA/city=Laguna Hills\n",
      "drwxr-xr-x   - itv009490 supergroup          0 2023-12-01 14:41 /user/itv009490/partition_demo_output/state=CA/city=Laguna Niguel\n",
      "drwxr-xr-x   - itv009490 supergroup          0 2023-12-01 14:41 /user/itv009490/partition_demo_output/state=CA/city=Lake Forest\n",
      "drwxr-xr-x   - itv009490 supergroup          0 2023-12-01 14:41 /user/itv009490/partition_demo_output/state=CA/city=Lancaster\n",
      "drwxr-xr-x   - itv009490 supergroup          0 2023-12-01 14:41 /user/itv009490/partition_demo_output/state=CA/city=Livermore\n",
      "drwxr-xr-x   - itv009490 supergroup          0 2023-12-01 14:41 /user/itv009490/partition_demo_output/state=CA/city=Lodi\n",
      "drwxr-xr-x   - itv009490 supergroup          0 2023-12-01 14:41 /user/itv009490/partition_demo_output/state=CA/city=Lompoc\n",
      "drwxr-xr-x   - itv009490 supergroup          0 2023-12-01 14:41 /user/itv009490/partition_demo_output/state=CA/city=Long Beach\n",
      "drwxr-xr-x   - itv009490 supergroup          0 2023-12-01 14:41 /user/itv009490/partition_demo_output/state=CA/city=Los Angeles\n",
      "drwxr-xr-x   - itv009490 supergroup          0 2023-12-01 14:41 /user/itv009490/partition_demo_output/state=CA/city=Lynwood\n",
      "drwxr-xr-x   - itv009490 supergroup          0 2023-12-01 14:41 /user/itv009490/partition_demo_output/state=CA/city=Madera\n",
      "drwxr-xr-x   - itv009490 supergroup          0 2023-12-01 14:41 /user/itv009490/partition_demo_output/state=CA/city=Martinez\n",
      "drwxr-xr-x   - itv009490 supergroup          0 2023-12-01 14:41 /user/itv009490/partition_demo_output/state=CA/city=Merced\n",
      "drwxr-xr-x   - itv009490 supergroup          0 2023-12-01 14:41 /user/itv009490/partition_demo_output/state=CA/city=Milpitas\n",
      "drwxr-xr-x   - itv009490 supergroup          0 2023-12-01 14:41 /user/itv009490/partition_demo_output/state=CA/city=Mission Viejo\n",
      "drwxr-xr-x   - itv009490 supergroup          0 2023-12-01 14:41 /user/itv009490/partition_demo_output/state=CA/city=Modesto\n",
      "drwxr-xr-x   - itv009490 supergroup          0 2023-12-01 14:41 /user/itv009490/partition_demo_output/state=CA/city=Montebello\n",
      "drwxr-xr-x   - itv009490 supergroup          0 2023-12-01 14:41 /user/itv009490/partition_demo_output/state=CA/city=Moreno Valley\n",
      "drwxr-xr-x   - itv009490 supergroup          0 2023-12-01 14:41 /user/itv009490/partition_demo_output/state=CA/city=Napa\n",
      "drwxr-xr-x   - itv009490 supergroup          0 2023-12-01 14:41 /user/itv009490/partition_demo_output/state=CA/city=National City\n",
      "drwxr-xr-x   - itv009490 supergroup          0 2023-12-01 14:41 /user/itv009490/partition_demo_output/state=CA/city=North Hills\n",
      "drwxr-xr-x   - itv009490 supergroup          0 2023-12-01 14:41 /user/itv009490/partition_demo_output/state=CA/city=North Hollywood\n",
      "drwxr-xr-x   - itv009490 supergroup          0 2023-12-01 14:41 /user/itv009490/partition_demo_output/state=CA/city=Norwalk\n",
      "drwxr-xr-x   - itv009490 supergroup          0 2023-12-01 14:41 /user/itv009490/partition_demo_output/state=CA/city=Oakland\n",
      "drwxr-xr-x   - itv009490 supergroup          0 2023-12-01 14:41 /user/itv009490/partition_demo_output/state=CA/city=Oceanside\n",
      "drwxr-xr-x   - itv009490 supergroup          0 2023-12-01 14:41 /user/itv009490/partition_demo_output/state=CA/city=Ontario\n",
      "drwxr-xr-x   - itv009490 supergroup          0 2023-12-01 14:41 /user/itv009490/partition_demo_output/state=CA/city=Oxnard\n",
      "drwxr-xr-x   - itv009490 supergroup          0 2023-12-01 14:41 /user/itv009490/partition_demo_output/state=CA/city=Pacoima\n",
      "drwxr-xr-x   - itv009490 supergroup          0 2023-12-01 14:41 /user/itv009490/partition_demo_output/state=CA/city=Palmdale\n",
      "drwxr-xr-x   - itv009490 supergroup          0 2023-12-01 14:41 /user/itv009490/partition_demo_output/state=CA/city=Palo Alto\n",
      "drwxr-xr-x   - itv009490 supergroup          0 2023-12-01 14:41 /user/itv009490/partition_demo_output/state=CA/city=Panorama City\n",
      "drwxr-xr-x   - itv009490 supergroup          0 2023-12-01 14:41 /user/itv009490/partition_demo_output/state=CA/city=Paramount\n",
      "drwxr-xr-x   - itv009490 supergroup          0 2023-12-01 14:41 /user/itv009490/partition_demo_output/state=CA/city=Pico Rivera\n",
      "drwxr-xr-x   - itv009490 supergroup          0 2023-12-01 14:41 /user/itv009490/partition_demo_output/state=CA/city=Pittsburg\n",
      "drwxr-xr-x   - itv009490 supergroup          0 2023-12-01 14:41 /user/itv009490/partition_demo_output/state=CA/city=Placentia\n",
      "drwxr-xr-x   - itv009490 supergroup          0 2023-12-01 14:41 /user/itv009490/partition_demo_output/state=CA/city=Pomona\n",
      "drwxr-xr-x   - itv009490 supergroup          0 2023-12-01 14:41 /user/itv009490/partition_demo_output/state=CA/city=Porterville\n",
      "drwxr-xr-x   - itv009490 supergroup          0 2023-12-01 14:41 /user/itv009490/partition_demo_output/state=CA/city=Poway\n",
      "drwxr-xr-x   - itv009490 supergroup          0 2023-12-01 14:41 /user/itv009490/partition_demo_output/state=CA/city=Rancho Cordova\n",
      "drwxr-xr-x   - itv009490 supergroup          0 2023-12-01 14:41 /user/itv009490/partition_demo_output/state=CA/city=Rancho Cucamonga\n",
      "drwxr-xr-x   - itv009490 supergroup          0 2023-12-01 14:41 /user/itv009490/partition_demo_output/state=CA/city=Reseda\n",
      "drwxr-xr-x   - itv009490 supergroup          0 2023-12-01 14:41 /user/itv009490/partition_demo_output/state=CA/city=Rialto\n",
      "drwxr-xr-x   - itv009490 supergroup          0 2023-12-01 14:41 /user/itv009490/partition_demo_output/state=CA/city=Riverside\n",
      "drwxr-xr-x   - itv009490 supergroup          0 2023-12-01 14:41 /user/itv009490/partition_demo_output/state=CA/city=Rosemead\n",
      "drwxr-xr-x   - itv009490 supergroup          0 2023-12-01 14:41 /user/itv009490/partition_demo_output/state=CA/city=Rowland Heights\n",
      "drwxr-xr-x   - itv009490 supergroup          0 2023-12-01 14:41 /user/itv009490/partition_demo_output/state=CA/city=Sacramento\n",
      "drwxr-xr-x   - itv009490 supergroup          0 2023-12-01 14:41 /user/itv009490/partition_demo_output/state=CA/city=Salinas\n",
      "drwxr-xr-x   - itv009490 supergroup          0 2023-12-01 14:41 /user/itv009490/partition_demo_output/state=CA/city=San Bernardino\n",
      "drwxr-xr-x   - itv009490 supergroup          0 2023-12-01 14:41 /user/itv009490/partition_demo_output/state=CA/city=San Diego\n",
      "drwxr-xr-x   - itv009490 supergroup          0 2023-12-01 14:41 /user/itv009490/partition_demo_output/state=CA/city=San Francisco\n",
      "drwxr-xr-x   - itv009490 supergroup          0 2023-12-01 14:41 /user/itv009490/partition_demo_output/state=CA/city=San Jose\n",
      "drwxr-xr-x   - itv009490 supergroup          0 2023-12-01 14:42 /user/itv009490/partition_demo_output/state=CA/city=San Marcos\n",
      "drwxr-xr-x   - itv009490 supergroup          0 2023-12-01 14:42 /user/itv009490/partition_demo_output/state=CA/city=San Pablo\n",
      "drwxr-xr-x   - itv009490 supergroup          0 2023-12-01 14:42 /user/itv009490/partition_demo_output/state=CA/city=San Pedro\n",
      "drwxr-xr-x   - itv009490 supergroup          0 2023-12-01 14:42 /user/itv009490/partition_demo_output/state=CA/city=San Ramon\n",
      "drwxr-xr-x   - itv009490 supergroup          0 2023-12-01 14:42 /user/itv009490/partition_demo_output/state=CA/city=Santa Ana\n",
      "drwxr-xr-x   - itv009490 supergroup          0 2023-12-01 14:42 /user/itv009490/partition_demo_output/state=CA/city=Santa Clara\n",
      "drwxr-xr-x   - itv009490 supergroup          0 2023-12-01 14:42 /user/itv009490/partition_demo_output/state=CA/city=Santa Cruz\n",
      "drwxr-xr-x   - itv009490 supergroup          0 2023-12-01 14:42 /user/itv009490/partition_demo_output/state=CA/city=Santa Maria\n",
      "drwxr-xr-x   - itv009490 supergroup          0 2023-12-01 14:42 /user/itv009490/partition_demo_output/state=CA/city=Santee\n",
      "drwxr-xr-x   - itv009490 supergroup          0 2023-12-01 14:42 /user/itv009490/partition_demo_output/state=CA/city=Simi Valley\n",
      "drwxr-xr-x   - itv009490 supergroup          0 2023-12-01 14:42 /user/itv009490/partition_demo_output/state=CA/city=South El Monte\n",
      "drwxr-xr-x   - itv009490 supergroup          0 2023-12-01 14:42 /user/itv009490/partition_demo_output/state=CA/city=South Gate\n",
      "drwxr-xr-x   - itv009490 supergroup          0 2023-12-01 14:42 /user/itv009490/partition_demo_output/state=CA/city=South San Francisco\n",
      "drwxr-xr-x   - itv009490 supergroup          0 2023-12-01 14:42 /user/itv009490/partition_demo_output/state=CA/city=Spring Valley\n",
      "drwxr-xr-x   - itv009490 supergroup          0 2023-12-01 14:42 /user/itv009490/partition_demo_output/state=CA/city=Stockton\n",
      "drwxr-xr-x   - itv009490 supergroup          0 2023-12-01 14:42 /user/itv009490/partition_demo_output/state=CA/city=Sun Valley\n",
      "drwxr-xr-x   - itv009490 supergroup          0 2023-12-01 14:42 /user/itv009490/partition_demo_output/state=CA/city=Sunnyvale\n",
      "drwxr-xr-x   - itv009490 supergroup          0 2023-12-01 14:42 /user/itv009490/partition_demo_output/state=CA/city=Sylmar\n",
      "drwxr-xr-x   - itv009490 supergroup          0 2023-12-01 14:42 /user/itv009490/partition_demo_output/state=CA/city=Temecula\n",
      "drwxr-xr-x   - itv009490 supergroup          0 2023-12-01 14:42 /user/itv009490/partition_demo_output/state=CA/city=Tracy\n",
      "drwxr-xr-x   - itv009490 supergroup          0 2023-12-01 14:42 /user/itv009490/partition_demo_output/state=CA/city=Tulare\n",
      "drwxr-xr-x   - itv009490 supergroup          0 2023-12-01 14:42 /user/itv009490/partition_demo_output/state=CA/city=Tustin\n",
      "drwxr-xr-x   - itv009490 supergroup          0 2023-12-01 14:42 /user/itv009490/partition_demo_output/state=CA/city=Union City\n",
      "drwxr-xr-x   - itv009490 supergroup          0 2023-12-01 14:42 /user/itv009490/partition_demo_output/state=CA/city=Upland\n",
      "drwxr-xr-x   - itv009490 supergroup          0 2023-12-01 14:42 /user/itv009490/partition_demo_output/state=CA/city=Vacaville\n",
      "drwxr-xr-x   - itv009490 supergroup          0 2023-12-01 14:42 /user/itv009490/partition_demo_output/state=CA/city=Vallejo\n",
      "drwxr-xr-x   - itv009490 supergroup          0 2023-12-01 14:42 /user/itv009490/partition_demo_output/state=CA/city=Van Nuys\n",
      "drwxr-xr-x   - itv009490 supergroup          0 2023-12-01 14:42 /user/itv009490/partition_demo_output/state=CA/city=Ventura\n",
      "drwxr-xr-x   - itv009490 supergroup          0 2023-12-01 14:42 /user/itv009490/partition_demo_output/state=CA/city=Victorville\n",
      "drwxr-xr-x   - itv009490 supergroup          0 2023-12-01 14:42 /user/itv009490/partition_demo_output/state=CA/city=Visalia\n",
      "drwxr-xr-x   - itv009490 supergroup          0 2023-12-01 14:42 /user/itv009490/partition_demo_output/state=CA/city=Vista\n",
      "drwxr-xr-x   - itv009490 supergroup          0 2023-12-01 14:42 /user/itv009490/partition_demo_output/state=CA/city=Walnut\n",
      "drwxr-xr-x   - itv009490 supergroup          0 2023-12-01 14:42 /user/itv009490/partition_demo_output/state=CA/city=Watsonville\n",
      "drwxr-xr-x   - itv009490 supergroup          0 2023-12-01 14:42 /user/itv009490/partition_demo_output/state=CA/city=West Covina\n",
      "drwxr-xr-x   - itv009490 supergroup          0 2023-12-01 14:42 /user/itv009490/partition_demo_output/state=CA/city=Westminster\n",
      "drwxr-xr-x   - itv009490 supergroup          0 2023-12-01 14:42 /user/itv009490/partition_demo_output/state=CA/city=Wilmington\n",
      "drwxr-xr-x   - itv009490 supergroup          0 2023-12-01 14:42 /user/itv009490/partition_demo_output/state=CA/city=Winnetka\n"
     ]
    }
   ],
   "source": [
    "!hdfs dfs -ls /user/itv009490/partition_demo_output/state=CA"
   ]
  },
  {
   "cell_type": "code",
   "execution_count": null,
   "id": "d18e3fe5",
   "metadata": {},
   "outputs": [],
   "source": []
  },
  {
   "cell_type": "code",
   "execution_count": null,
   "id": "fdc0358f",
   "metadata": {},
   "outputs": [],
   "source": []
  },
  {
   "cell_type": "code",
   "execution_count": 80,
   "id": "35a7deb8",
   "metadata": {},
   "outputs": [],
   "source": [
    "df3 = spark.read.format(\"parquet\").option(\"inferSchema\",\"true\").load(\"/user/itv009490/partition_demo_output\")"
   ]
  },
  {
   "cell_type": "code",
   "execution_count": 81,
   "id": "c6393b7a",
   "metadata": {},
   "outputs": [
    {
     "name": "stdout",
     "output_type": "stream",
     "text": [
      "+-----------+---------+---------+---------+---------+--------------------+-------+-----+------+\n",
      "|customer_id|firstname| lastname|    email| password|              street|zipcode|state|  city|\n",
      "+-----------+---------+---------+---------+---------+--------------------+-------+-----+------+\n",
      "|          3|      Ann|    Smith|XXXXXXXXX|XXXXXXXXX|3422 Blue Pioneer...|    725|   PR|Caguas|\n",
      "|          5|   Robert|   Hudson|XXXXXXXXX|XXXXXXXXX|10 Crystal River ...|    725|   PR|Caguas|\n",
      "|          7|  Melissa|   Wilcox|XXXXXXXXX|XXXXXXXXX|9453 High Concession|    725|   PR|Caguas|\n",
      "|          9|     Mary|    Perez|XXXXXXXXX|XXXXXXXXX| 3616 Quaking Street|    725|   PR|Caguas|\n",
      "|         11|     Mary|  Huffman|XXXXXXXXX|XXXXXXXXX|    3169 Stony Woods|    725|   PR|Caguas|\n",
      "|         13|     Mary|  Baldwin|XXXXXXXXX|XXXXXXXXX|7922 Iron Oak Gar...|    725|   PR|Caguas|\n",
      "|         16|  Tiffany|    Smith|XXXXXXXXX|XXXXXXXXX|      6651 Iron Port|    725|   PR|Caguas|\n",
      "|         19|Stephanie| Mitchell|XXXXXXXXX|XXXXXXXXX|3543 Red Treasure...|    725|   PR|Caguas|\n",
      "|         21|  William|Zimmerman|XXXXXXXXX|XXXXXXXXX|3323 Old Willow M...|    725|   PR|Caguas|\n",
      "|         24|     Mary|    Smith|XXXXXXXXX|XXXXXXXXX| 9417 Emerald Towers|    725|   PR|Caguas|\n",
      "|         27|     Mary|  Vincent|XXXXXXXXX|XXXXXXXXX|1768 Sleepy Zephy...|    725|   PR|Caguas|\n",
      "|         30|  Barbara|    Smith|XXXXXXXXX|XXXXXXXXX|   2455 Merry Hollow|    725|   PR|Caguas|\n",
      "|         32|    Alice|    Smith|XXXXXXXXX|XXXXXXXXX|   2082 Hidden Green|    725|   PR|Caguas|\n",
      "|         34|     Mary|    Smith|XXXXXXXXX|XXXXXXXXX|3330 Easy Berry R...|    725|   PR|Caguas|\n",
      "|         36| Michelle|    Carey|XXXXXXXXX|XXXXXXXXX| 6336 Fallen Village|    725|   PR|Caguas|\n",
      "|         39|     Juan| Mckinney|XXXXXXXXX|XXXXXXXXX|7274 Blue Wagon  ...|    725|   PR|Caguas|\n",
      "|         43|     Mary|  Herring|XXXXXXXXX|XXXXXXXXX|   4575 Thunder Dale|    725|   PR|Caguas|\n",
      "|         47|     Lori|   Fuller|XXXXXXXXX|XXXXXXXXX|      357 Noble Lane|    725|   PR|Caguas|\n",
      "|         49|   Martha|    Smith|XXXXXXXXX|XXXXXXXXX|    7449 Merry Chase|    725|   PR|Caguas|\n",
      "|         51|  Jessica|    Smith|XXXXXXXXX|XXXXXXXXX|8344 Dewy Fawn Farms|    725|   PR|Caguas|\n",
      "+-----------+---------+---------+---------+---------+--------------------+-------+-----+------+\n",
      "only showing top 20 rows\n",
      "\n"
     ]
    }
   ],
   "source": [
    "df3.show()"
   ]
  },
  {
   "cell_type": "code",
   "execution_count": 82,
   "id": "1bb49cf4",
   "metadata": {},
   "outputs": [],
   "source": [
    "df3.createOrReplaceTempView(\"customers\")"
   ]
  },
  {
   "cell_type": "code",
   "execution_count": 83,
   "id": "d81e6e97",
   "metadata": {},
   "outputs": [
    {
     "name": "stdout",
     "output_type": "stream",
     "text": [
      "+--------+\n",
      "|count(1)|\n",
      "+--------+\n",
      "|    2012|\n",
      "+--------+\n",
      "\n"
     ]
    }
   ],
   "source": [
    "spark.sql(\"\"\"select count(*) from customers where state = 'CA' \"\"\").show()"
   ]
  },
  {
   "cell_type": "code",
   "execution_count": 84,
   "id": "4e3d7efb",
   "metadata": {},
   "outputs": [
    {
     "name": "stdout",
     "output_type": "stream",
     "text": [
      "+--------+\n",
      "|count(1)|\n",
      "+--------+\n",
      "|       3|\n",
      "+--------+\n",
      "\n"
     ]
    }
   ],
   "source": [
    "spark.sql(\"\"\"select count(*) from customers where state = 'AL' \"\"\").show()"
   ]
  },
  {
   "cell_type": "code",
   "execution_count": 87,
   "id": "984f245c",
   "metadata": {},
   "outputs": [
    {
     "name": "stdout",
     "output_type": "stream",
     "text": [
      "+-----------+---------+--------+---------+---------+--------------------+-------+-----+------+\n",
      "|customer_id|firstname|lastname|    email| password|              street|zipcode|state|  city|\n",
      "+-----------+---------+--------+---------+---------+--------------------+-------+-----+------+\n",
      "|         19|Stephanie|Mitchell|XXXXXXXXX|XXXXXXXXX|3543 Red Treasure...|    725|   PR|Caguas|\n",
      "+-----------+---------+--------+---------+---------+--------------------+-------+-----+------+\n",
      "\n"
     ]
    }
   ],
   "source": [
    "spark.sql(\"\"\"select * from customers where city='Caguas' and customer_id = 19 \"\"\").show()"
   ]
  },
  {
   "cell_type": "code",
   "execution_count": 88,
   "id": "354cf276",
   "metadata": {},
   "outputs": [
    {
     "name": "stdout",
     "output_type": "stream",
     "text": [
      "+-----------+---------+--------+---------+---------+------------------+-------+-----+----------+\n",
      "|customer_id|firstname|lastname|    email| password|            street|zipcode|state|      city|\n",
      "+-----------+---------+--------+---------+---------+------------------+-------+-----+----------+\n",
      "|          4|     Mary|   Jones|XXXXXXXXX|XXXXXXXXX|8324 Little Common|  92069|   CA|San Marcos|\n",
      "+-----------+---------+--------+---------+---------+------------------+-------+-----+----------+\n",
      "\n"
     ]
    }
   ],
   "source": [
    "spark.sql(\"\"\"select * from customers where state='CA' and customer_id = 4 \"\"\").show()"
   ]
  },
  {
   "cell_type": "code",
   "execution_count": null,
   "id": "c46f63c5",
   "metadata": {},
   "outputs": [],
   "source": []
  }
 ],
 "metadata": {
  "kernelspec": {
   "display_name": "Pyspark 3",
   "language": "python",
   "name": "pyspark3"
  },
  "language_info": {
   "codemirror_mode": {
    "name": "ipython",
    "version": 3
   },
   "file_extension": ".py",
   "mimetype": "text/x-python",
   "name": "python",
   "nbconvert_exporter": "python",
   "pygments_lexer": "ipython3",
   "version": "3.6.12"
  }
 },
 "nbformat": 4,
 "nbformat_minor": 5
}
