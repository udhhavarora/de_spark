{
 "cells": [
  {
   "cell_type": "code",
   "execution_count": 1,
   "id": "3079d407",
   "metadata": {},
   "outputs": [
    {
     "data": {
      "text/html": [
       "\n",
       "            <div>\n",
       "                <p><b>SparkSession - hive</b></p>\n",
       "                \n",
       "        <div>\n",
       "            <p><b>SparkContext</b></p>\n",
       "\n",
       "            <p><a href=\"http://g01.itversity.com:4041\">Spark UI</a></p>\n",
       "\n",
       "            <dl>\n",
       "              <dt>Version</dt>\n",
       "                <dd><code>v3.1.2</code></dd>\n",
       "              <dt>Master</dt>\n",
       "                <dd><code>yarn</code></dd>\n",
       "              <dt>AppName</dt>\n",
       "                <dd><code>assignment</code></dd>\n",
       "            </dl>\n",
       "        </div>\n",
       "        \n",
       "            </div>\n",
       "        "
      ],
      "text/plain": [
       "<pyspark.sql.session.SparkSession at 0x7fd7374a1080>"
      ]
     },
     "execution_count": 1,
     "metadata": {},
     "output_type": "execute_result"
    }
   ],
   "source": [
    "from pyspark.sql import SparkSession\n",
    "from pyspark.sql.functions import *\n",
    "from pyspark.sql import * #for window\n",
    "from pyspark.sql.types import *\n",
    "\n",
    "spark = SparkSession\\\n",
    ".builder\\\n",
    ".master(\"yarn\")\\\n",
    ".appName(\"assignment\")\\\n",
    ".enableHiveSupport()\\\n",
    ".config(\"spark.shuffle.useOldFetchProtocol\",'true')\\\n",
    ".config(\"spark.sql.warehouse.dir\",\"/user/itv009490/warehouse\")\\\n",
    ".getOrCreate()\n",
    "\n",
    "spark"
   ]
  },
  {
   "cell_type": "code",
   "execution_count": 2,
   "id": "e83dba4f",
   "metadata": {},
   "outputs": [
    {
     "name": "stdout",
     "output_type": "stream",
     "text": [
      "{\"user_id\":900001,\"user_first_name\":\"Vassily\",\"user_last_name\":\"MacGovern\",\"user_email\":\"vmacgovern0@newyorker.com\",\"user_gender\":\"Male\",\"user_phone_numbers\":[\"9419157301\",\"8624563940\",\"2105781515\"],\"user_address\":{\"street\":\"100 Towne Drive\",\"city\":\"Raleigh\",\"state\":\"North Carolina\",\"postal_code\":\"27610\"}}\n",
      "{\"user_id\":900002,\"user_first_name\":\"Helga\",\"user_last_name\":\"Scottrell\",\"user_email\":\"hscottrell1@mac.com\",\"user_gender\":\"Female\",\"user_phone_numbers\":[\"8648414243\",\"3124971105\"],\"user_address\":{\"street\":\"7261 Rusk Avenue\",\"city\":\"Denver\",\"state\":\"Colorado\",\"postal_code\":\"80217\"}}\n",
      "{\"user_id\":900003,\"user_first_name\":\"Dacie\",\"user_last_name\":\"Robertz\",\"user_email\":\"drobertz2@yahoo.co.jp\",\"user_gender\":\"Female\",\"user_phone_numbers\":[\"5034695507\"],\"user_address\":{\"street\":\"7057 Kinsman Avenue\",\"city\":\"West Palm Beach\",\"state\":\"Florida\",\"postal_code\":\"33405\"}}\n",
      "{\"user_id\":900004,\"user_first_name\":\"Tannie\",\"user_last_name\":\"Bewshaw\",\"user_email\":\"tbewshaw3@com.com\",\"user_gender\":\"Male\",\"user_phone_numbers\":[\"2126498585\",\"6612726435\",\"4047483290\",\"4152887118\"],\"user_address\":{\"street\":\"2 Nobel Hill\",\"city\":\"Saint Petersburg\",\"state\":\"Florida\",\"postal_code\":\"33737\"}}\n",
      "{\"user_id\":900005,\"user_first_name\":\"Brnaba\",\"user_last_name\":\"Bergin\",\"user_email\":\"bbergin4@cnet.com\",\"user_gender\":\"Male\",\"user_phone_numbers\":[\"7722600624\",\"5108577219\",\"5028352028\",\"8125302982\"],\"user_address\":{\"street\":\"7 American Ash Terrace\",\"city\":\"Appleton\",\"state\":\"Wisconsin\",\"postal_code\":\"54915\"}}\n",
      "{\"user_id\":900006,\"user_first_name\":\"Lorianna\",\"user_last_name\":\"Lafflin\",\"user_email\":\"llafflin5@dell.com\",\"user_gender\":\"Female\",\"user_phone_numbers\":[\"7659708434\"],\"user_address\":{\"street\":\"8 Jenna Trail\",\"city\":\"Washington\",\"state\":\"District of Columbia\",\"postal_code\":\"20016\"}}\n",
      "{\"user_id\":900007,\"user_first_name\":\"Amelie\",\"user_last_name\":\"Dangl\",\"user_email\":\"adangl6@businessinsider.com\",\"user_gender\":\"Female\",\"user_phone_numbers\":[\"5859847684\",\"4127665322\",\"9714729106\"],\"user_address\":{\"street\":\"8923 Rutledge Junction\",\"city\":\"Bloomington\",\"state\":\"Indiana\",\"postal_code\":\"47405\"}}\n",
      "{\"user_id\":900008,\"user_first_name\":\"Jewell\",\"user_last_name\":\"Lepard\",\"user_email\":\"jlepard7@webnode.com\",\"user_gender\":\"Female\",\"user_phone_numbers\":[\"3214936582\",\"4024866157\",\"7045046588\",\"3617388712\",\"5208640401\"],\"user_address\":{\"street\":\"67154 Tennyson Place\",\"city\":\"Houston\",\"state\":\"Texas\",\"postal_code\":\"77234\"}}\n",
      "{\"user_id\":900009,\"user_first_name\":\"Hilton\",\"user_last_name\":\"Leisk\",\"user_email\":\"hleisk8@webmd.com\",\"user_gender\":\"Male\",\"user_phone_numbers\":[\"9256435903\"],\"user_address\":{\"street\":\"5482 Calypso Circle\",\"city\":\"Baltimore\",\"state\":\"Maryland\",\"postal_code\":\"21211\"}}\n",
      "{\"user_id\":900010,\"user_first_name\":\"Velvet\",\"user_last_name\":\"Baish\",\"user_email\":\"vbaish9@msn.com\",\"user_gender\":\"Female\",\"user_phone_numbers\":[\"7148390575\",\"9131939284\",\"7544674594\",\"2297000431\",\"8035923662\"],\"user_address\":{\"street\":\"48643 Beilfuss Street\",\"city\":\"Whittier\",\"state\":\"California\",\"postal_code\":\"90605\"}}\n",
      "cat: Unable to write to output stream.\n"
     ]
    }
   ],
   "source": [
    "!hdfs dfs -cat /public/sms/users/users_10.json | head"
   ]
  },
  {
   "cell_type": "code",
   "execution_count": 2,
   "id": "a92cfff5",
   "metadata": {},
   "outputs": [],
   "source": [
    "users_schema=StructType([StructField(\"user_id\",IntegerType(),nullable=False),\n",
    "                         StructField(\"user_first_name\",StringType(),nullable=False),\n",
    "                         StructField(\"user_last_name\",StringType(),nullable=False),\n",
    "                         StructField(\"user_email\",StringType(),nullable=False),\n",
    "                         StructField(\"user_gender\",StringType(),nullable=False),\n",
    "                         StructField(\"user_phone_numbers\",ArrayType(StringType()),nullable=True),\n",
    "                         StructField(\"user_address\",StructType([\n",
    "                             StructField(\"street\",StringType(),nullable=False),\n",
    "                             StructField(\"city\",StringType(),nullable=False),\n",
    "                             StructField(\"state\",StringType(),nullable=False),\n",
    "                             StructField(\"postal_code\",StringType(),nullable=False),]),nullable=False)\n",
    "                        ])\n"
   ]
  },
  {
   "cell_type": "code",
   "execution_count": 3,
   "id": "4ce86475",
   "metadata": {},
   "outputs": [],
   "source": [
    "df = spark.read.format(\"json\").schema(users_schema).\\\n",
    "load(\"/public/sms/users/\")"
   ]
  },
  {
   "cell_type": "code",
   "execution_count": 4,
   "id": "82fee7f2",
   "metadata": {},
   "outputs": [
    {
     "name": "stdout",
     "output_type": "stream",
     "text": [
      "+-------+---------------+--------------+--------------------+-----------+--------------------+--------------------+\n",
      "|user_id|user_first_name|user_last_name|          user_email|user_gender|  user_phone_numbers|        user_address|\n",
      "+-------+---------------+--------------+--------------------+-----------+--------------------+--------------------+\n",
      "| 200001|         Eirena|     Cutsforth|ecutsforth0@wisc.edu|     Female|[4197404036, 9173...|{8 Warrior Drive,...|\n",
      "| 200002|          Marja|      Shopcott|mshopcott1@hexun.com|     Female|[9542037028, 2128...|{66 Prairieview T...|\n",
      "| 200003|           Dawn|       Tointon|  dtointon2@ucsd.edu|     Female|[9523035647, 2134...|{18 Ronald Regan ...|\n",
      "| 200004|          Goldi|        Leaman|     gleaman3@360.cn|     Female|[2027069459, 7042...|{7696 Calypso Jun...|\n",
      "| 200005|       Brewster|      Hallagan|bhallagan4@livejo...|       Male|[8134746319, 2152...|{942 Emmet Park, ...|\n",
      "| 200006|       Florence|       Glashby|fglashby5@deviant...|     Female|[7571763565, 7134...|{664 Ridge Oak Ci...|\n",
      "| 200007|         Zollie|     Philimore|zphilimore6@webed...|       Male|[7865450177, 8019...|{4 Continental Dr...|\n",
      "| 200008|      Ferdinand|       Ramelot| framelot7@alexa.com|       Male|        [8164055187]|{44698 Arapahoe P...|\n",
      "| 200009|          Ruddy|     Greystoke|rgreystoke8@digg.com|       Male|                null|{null, null, null...|\n",
      "| 200010|         Gilles|         Beeho|   gbeeho9@webmd.com|       Male|[5599886694, 5201...|{9430 Reinke Park...|\n",
      "| 200011|           Axel|    Kitchinham|akitchinhama@nave...|       Male|        [2036913158]|{688 Granby Point...|\n",
      "| 200012|         Moreen|      Pearmine|mpearmineb@github...|     Female|        [4047148129]|{3997 Russell Par...|\n",
      "| 200013|       Joceline|       Adshead|jadsheadc@joomla.org|     Female|[3134837460, 3022...|{89 Fair Oaks Ter...|\n",
      "| 200014|          Roxie|       Menichi|rmenichid@nationa...|     Female|[6148474898, 9034...|{3 Green Pass, Fo...|\n",
      "| 200015|         Selena|         Flood|sfloode@delicious...|     Female|[7274706417, 4026...|{2 Butterfield Cr...|\n",
      "| 200016|         Leoine|      Markovic|  lmarkovicf@usa.gov|     Female|                null|{null, null, null...|\n",
      "| 200017|           Judi|      Svanetti|jsvanettig@theglo...|     Female|[2158389703, 8169...|{1 Sheridan Pass,...|\n",
      "| 200018|     Hildegarde|         Hapke|     hhapkeh@nps.gov|     Female|        [8183692525]|{60 Oak Valley St...|\n",
      "| 200019|          Hanni|       Dommett|hdommetti@tinyurl...|     Female|[7868201036, 7048...|{5 Vera Point, Wi...|\n",
      "| 200020|         Rupert|       Gaskoin|rgaskoinj@mozilla...|       Male|[5623065887, 9198...|{52636 Heath Alle...|\n",
      "+-------+---------------+--------------+--------------------+-----------+--------------------+--------------------+\n",
      "only showing top 20 rows\n",
      "\n"
     ]
    }
   ],
   "source": [
    "df.show()"
   ]
  },
  {
   "cell_type": "code",
   "execution_count": 23,
   "id": "255e4b51",
   "metadata": {},
   "outputs": [
    {
     "data": {
      "text/plain": [
       "3"
      ]
     },
     "execution_count": 23,
     "metadata": {},
     "output_type": "execute_result"
    }
   ],
   "source": [
    "df.rdd.getNumPartitions()"
   ]
  },
  {
   "cell_type": "code",
   "execution_count": 24,
   "id": "0e7bde32",
   "metadata": {},
   "outputs": [
    {
     "data": {
      "text/plain": [
       "1000000"
      ]
     },
     "execution_count": 24,
     "metadata": {},
     "output_type": "execute_result"
    }
   ],
   "source": [
    "df.count()"
   ]
  },
  {
   "cell_type": "code",
   "execution_count": 5,
   "id": "4f011421",
   "metadata": {},
   "outputs": [
    {
     "name": "stdout",
     "output_type": "stream",
     "text": [
      "+-------+---------------+--------------+--------------------+-----------+--------------------+--------------------+--------------------+-----------------+----------+-----------+---------------+\n",
      "|user_id|user_first_name|user_last_name|          user_email|user_gender|  user_phone_numbers|        user_address|              street|             city|     state|postal_code|num_phn_numbers|\n",
      "+-------+---------------+--------------+--------------------+-----------+--------------------+--------------------+--------------------+-----------------+----------+-----------+---------------+\n",
      "| 200001|         Eirena|     Cutsforth|ecutsforth0@wisc.edu|     Female|[4197404036, 9173...|{8 Warrior Drive,...|     8 Warrior Drive|           Dallas|     Texas|      75358|              4|\n",
      "| 200002|          Marja|      Shopcott|mshopcott1@hexun.com|     Female|[9542037028, 2128...|{66 Prairieview T...|66 Prairieview Te...|           Joliet|  Illinois|      60435|              5|\n",
      "| 200003|           Dawn|       Tointon|  dtointon2@ucsd.edu|     Female|[9523035647, 2134...|{18 Ronald Regan ...|18 Ronald Regan Hill|  Shawnee Mission|    Kansas|      66225|              3|\n",
      "| 200004|          Goldi|        Leaman|     gleaman3@360.cn|     Female|[2027069459, 7042...|{7696 Calypso Jun...|7696 Calypso Junc...|       Saint Paul| Minnesota|      55166|              5|\n",
      "| 200005|       Brewster|      Hallagan|bhallagan4@livejo...|       Male|[8134746319, 2152...|{942 Emmet Park, ...|      942 Emmet Park|      Albuquerque|New Mexico|      87110|              2|\n",
      "| 200006|       Florence|       Glashby|fglashby5@deviant...|     Female|[7571763565, 7134...|{664 Ridge Oak Ci...|664 Ridge Oak Circle|   Virginia Beach|  Virginia|      23454|              5|\n",
      "| 200007|         Zollie|     Philimore|zphilimore6@webed...|       Male|[7865450177, 8019...|{4 Continental Dr...| 4 Continental Drive|    Young America| Minnesota|      55557|              2|\n",
      "| 200008|      Ferdinand|       Ramelot| framelot7@alexa.com|       Male|        [8164055187]|{44698 Arapahoe P...| 44698 Arapahoe Park|           Tucson|   Arizona|      85725|              1|\n",
      "| 200009|          Ruddy|     Greystoke|rgreystoke8@digg.com|       Male|                null|{null, null, null...|                null|             null|      null|       null|             -1|\n",
      "| 200010|         Gilles|         Beeho|   gbeeho9@webmd.com|       Male|[5599886694, 5201...|{9430 Reinke Park...|    9430 Reinke Park|  North Las Vegas|    Nevada|      89087|              2|\n",
      "| 200011|           Axel|    Kitchinham|akitchinhama@nave...|       Male|        [2036913158]|{688 Granby Point...|    688 Granby Point|           Warren|      Ohio|      44485|              1|\n",
      "| 200012|         Moreen|      Pearmine|mpearmineb@github...|     Female|        [4047148129]|{3997 Russell Par...|3997 Russell Parkway|North Little Rock|  Arkansas|      72199|              1|\n",
      "| 200013|       Joceline|       Adshead|jadsheadc@joomla.org|     Female|[3134837460, 3022...|{89 Fair Oaks Ter...|89 Fair Oaks Terrace|  Shawnee Mission|    Kansas|      66220|              4|\n",
      "| 200014|          Roxie|       Menichi|rmenichid@nationa...|     Female|[6148474898, 9034...|{3 Green Pass, Fo...|        3 Green Pass|       Fort Wayne|   Indiana|      46814|              4|\n",
      "| 200015|         Selena|         Flood|sfloode@delicious...|     Female|[7274706417, 4026...|{2 Butterfield Cr...|2 Butterfield Cro...|       Sacramento|California|      94286|              3|\n",
      "| 200016|         Leoine|      Markovic|  lmarkovicf@usa.gov|     Female|                null|{null, null, null...|                null|             null|      null|       null|             -1|\n",
      "| 200017|           Judi|      Svanetti|jsvanettig@theglo...|     Female|[2158389703, 8169...|{1 Sheridan Pass,...|     1 Sheridan Pass|            Miami|   Florida|      33147|              5|\n",
      "| 200018|     Hildegarde|         Hapke|     hhapkeh@nps.gov|     Female|        [8183692525]|{60 Oak Valley St...|60 Oak Valley Street|         Missoula|   Montana|      59806|              1|\n",
      "| 200019|          Hanni|       Dommett|hdommetti@tinyurl...|     Female|[7868201036, 7048...|{5 Vera Point, Wi...|        5 Vera Point|    Wichita Falls|     Texas|      76310|              4|\n",
      "| 200020|         Rupert|       Gaskoin|rgaskoinj@mozilla...|       Male|[5623065887, 9198...|{52636 Heath Alle...|   52636 Heath Alley|      Kansas City|  Missouri|      64160|              3|\n",
      "+-------+---------------+--------------+--------------------+-----------+--------------------+--------------------+--------------------+-----------------+----------+-----------+---------------+\n",
      "only showing top 20 rows\n",
      "\n"
     ]
    }
   ],
   "source": [
    "df2=df.withColumn(\"street\",col(\"user_address.street\"))\\\n",
    ".withColumn(\"city\",col(\"user_address.city\"))\\\n",
    ".withColumn(\"state\",col(\"user_address.state\"))\\\n",
    ".withColumn(\"postal_code\",col(\"user_address.postal_code\"))\\\n",
    ".withColumn(\"num_phn_numbers\",size(col(\"user_phone_numbers\")))\n",
    "\n",
    "df2.show()"
   ]
  },
  {
   "cell_type": "code",
   "execution_count": 6,
   "id": "d9f78bf0",
   "metadata": {},
   "outputs": [],
   "source": [
    "df2.createOrReplaceTempView(\"users\")"
   ]
  },
  {
   "cell_type": "code",
   "execution_count": 34,
   "id": "0de59ce7",
   "metadata": {},
   "outputs": [
    {
     "name": "stdout",
     "output_type": "stream",
     "text": [
      "+--------+\n",
      "|count(1)|\n",
      "+--------+\n",
      "|   49576|\n",
      "+--------+\n",
      "\n"
     ]
    }
   ],
   "source": [
    "spark.sql(\"select count(*) from users where state = 'New York'\").show()"
   ]
  },
  {
   "cell_type": "code",
   "execution_count": 35,
   "id": "0dc7d326",
   "metadata": {},
   "outputs": [
    {
     "data": {
      "text/plain": [
       "49576"
      ]
     },
     "execution_count": 35,
     "metadata": {},
     "output_type": "execute_result"
    }
   ],
   "source": [
    "df2.filter(\"state='New York'\").count()"
   ]
  },
  {
   "cell_type": "code",
   "execution_count": 36,
   "id": "0a327bd9",
   "metadata": {},
   "outputs": [
    {
     "name": "stdout",
     "output_type": "stream",
     "text": [
      "+--------------------+-----+\n",
      "|               state|  cnt|\n",
      "+--------------------+-----+\n",
      "|          California|97836|\n",
      "|               Texas|97236|\n",
      "|             Florida|73380|\n",
      "|            New York|49576|\n",
      "|                Ohio|32561|\n",
      "|            Virginia|31456|\n",
      "|        Pennsylvania|28507|\n",
      "|District of Columbia|28504|\n",
      "|             Georgia|26036|\n",
      "|            Illinois|22445|\n",
      "|      North Carolina|21805|\n",
      "|            Colorado|20253|\n",
      "|             Indiana|19280|\n",
      "|             Arizona|18949|\n",
      "|            Missouri|18854|\n",
      "|           Minnesota|18621|\n",
      "|             Alabama|18485|\n",
      "|           Tennessee|17645|\n",
      "|          Washington|17567|\n",
      "|           Louisiana|17337|\n",
      "+--------------------+-----+\n",
      "only showing top 20 rows\n",
      "\n"
     ]
    }
   ],
   "source": [
    "spark.sql(\"\"\"select state,count(postal_code) as cnt from users group by state order by cnt desc\"\"\").show()"
   ]
  },
  {
   "cell_type": "code",
   "execution_count": null,
   "id": "bbddc290",
   "metadata": {},
   "outputs": [],
   "source": []
  },
  {
   "cell_type": "code",
   "execution_count": 39,
   "id": "e65e63eb",
   "metadata": {},
   "outputs": [
    {
     "name": "stdout",
     "output_type": "stream",
     "text": [
      "+----------+-----+\n",
      "|      city|  cnt|\n",
      "+----------+-----+\n",
      "|Washington|28504|\n",
      "+----------+-----+\n",
      "only showing top 1 row\n",
      "\n"
     ]
    }
   ],
   "source": [
    "spark.sql(\"\"\"select city,count(user_id) as cnt from users where city is not null group by city order by cnt desc\"\"\").show(1)"
   ]
  },
  {
   "cell_type": "code",
   "execution_count": 40,
   "id": "cb90fc4a",
   "metadata": {},
   "outputs": [
    {
     "data": {
      "text/plain": [
       "2015"
      ]
     },
     "execution_count": 40,
     "metadata": {},
     "output_type": "execute_result"
    }
   ],
   "source": [
    "df2.where(\"user_email like '%bizjournals.com'\").count()"
   ]
  },
  {
   "cell_type": "code",
   "execution_count": 43,
   "id": "90e47c74",
   "metadata": {},
   "outputs": [
    {
     "data": {
      "text/plain": [
       "2015"
      ]
     },
     "execution_count": 43,
     "metadata": {},
     "output_type": "execute_result"
    }
   ],
   "source": [
    "df2.filter(col(\"user_email\").like(\"%bizjournals.com\")).count()"
   ]
  },
  {
   "cell_type": "code",
   "execution_count": 45,
   "id": "4f9f7ed1",
   "metadata": {},
   "outputs": [
    {
     "data": {
      "text/plain": [
       "179041"
      ]
     },
     "execution_count": 45,
     "metadata": {},
     "output_type": "execute_result"
    }
   ],
   "source": [
    "df2.filter(col(\"num_phn_numbers\")==4).select(\"user_id\").count()"
   ]
  },
  {
   "cell_type": "code",
   "execution_count": 51,
   "id": "f4c33de5",
   "metadata": {},
   "outputs": [
    {
     "name": "stdout",
     "output_type": "stream",
     "text": [
      "+-------+---------------+--------------+--------------------+-----------+--------------------+--------------------+--------------------+---------------+----------+-----------+---------------+\n",
      "|user_id|user_first_name|user_last_name|          user_email|user_gender|  user_phone_numbers|        user_address|              street|           city|     state|postal_code|num_phn_numbers|\n",
      "+-------+---------------+--------------+--------------------+-----------+--------------------+--------------------+--------------------+---------------+----------+-----------+---------------+\n",
      "| 200001|         Eirena|     Cutsforth|ecutsforth0@wisc.edu|     Female|[4197404036, 9173...|{8 Warrior Drive,...|     8 Warrior Drive|         Dallas|     Texas|      75358|              4|\n",
      "| 200002|          Marja|      Shopcott|mshopcott1@hexun.com|     Female|[9542037028, 2128...|{66 Prairieview T...|66 Prairieview Te...|         Joliet|  Illinois|      60435|              5|\n",
      "| 200003|           Dawn|       Tointon|  dtointon2@ucsd.edu|     Female|[9523035647, 2134...|{18 Ronald Regan ...|18 Ronald Regan Hill|Shawnee Mission|    Kansas|      66225|              3|\n",
      "| 200004|          Goldi|        Leaman|     gleaman3@360.cn|     Female|[2027069459, 7042...|{7696 Calypso Jun...|7696 Calypso Junc...|     Saint Paul| Minnesota|      55166|              5|\n",
      "| 200005|       Brewster|      Hallagan|bhallagan4@livejo...|       Male|[8134746319, 2152...|{942 Emmet Park, ...|      942 Emmet Park|    Albuquerque|New Mexico|      87110|              2|\n",
      "+-------+---------------+--------------+--------------------+-----------+--------------------+--------------------+--------------------+---------------+----------+-----------+---------------+\n",
      "only showing top 5 rows\n",
      "\n"
     ]
    }
   ],
   "source": [
    "df2.show(5)"
   ]
  },
  {
   "cell_type": "code",
   "execution_count": 52,
   "id": "91d3cbc2",
   "metadata": {},
   "outputs": [
    {
     "data": {
      "text/plain": [
       "3"
      ]
     },
     "execution_count": 52,
     "metadata": {},
     "output_type": "execute_result"
    }
   ],
   "source": [
    "df2.rdd.getNumPartitions()"
   ]
  },
  {
   "cell_type": "code",
   "execution_count": 53,
   "id": "0b4396de",
   "metadata": {},
   "outputs": [],
   "source": [
    "df2.write.mode(\"overwrite\").save(\"users_data\")"
   ]
  },
  {
   "cell_type": "code",
   "execution_count": 54,
   "id": "0663fe8d",
   "metadata": {},
   "outputs": [
    {
     "name": "stdout",
     "output_type": "stream",
     "text": [
      "Found 4 items\n",
      "-rw-r--r--   3 itv009490 supergroup          0 2023-12-07 06:38 users_data/_SUCCESS\n",
      "-rw-r--r--   3 itv009490 supergroup   32947815 2023-12-07 06:38 users_data/part-00000-674ac476-c010-4393-aa4b-00553afd9165-c000.snappy.parquet\n",
      "-rw-r--r--   3 itv009490 supergroup   32945627 2023-12-07 06:38 users_data/part-00001-674ac476-c010-4393-aa4b-00553afd9165-c000.snappy.parquet\n",
      "-rw-r--r--   3 itv009490 supergroup   16701974 2023-12-07 06:38 users_data/part-00002-674ac476-c010-4393-aa4b-00553afd9165-c000.snappy.parquet\n"
     ]
    }
   ],
   "source": [
    "!hdfs dfs -ls users_data/"
   ]
  },
  {
   "cell_type": "code",
   "execution_count": null,
   "id": "5869de3e",
   "metadata": {},
   "outputs": [],
   "source": []
  },
  {
   "cell_type": "code",
   "execution_count": null,
   "id": "4a3b91ac",
   "metadata": {},
   "outputs": [],
   "source": []
  },
  {
   "cell_type": "code",
   "execution_count": 55,
   "id": "50a38691",
   "metadata": {},
   "outputs": [
    {
     "name": "stdout",
     "output_type": "stream",
     "text": [
      "+-------+---------------+--------------+--------------------+-----------+--------------------+--------------------+--------------------+-----------------+----------+-----------+---------------+\n",
      "|user_id|user_first_name|user_last_name|          user_email|user_gender|  user_phone_numbers|        user_address|              street|             city|     state|postal_code|num_phn_numbers|\n",
      "+-------+---------------+--------------+--------------------+-----------+--------------------+--------------------+--------------------+-----------------+----------+-----------+---------------+\n",
      "| 200001|         Eirena|     Cutsforth|ecutsforth0@wisc.edu|     Female|[4197404036, 9173...|{8 Warrior Drive,...|     8 Warrior Drive|           Dallas|     Texas|      75358|              4|\n",
      "| 200002|          Marja|      Shopcott|mshopcott1@hexun.com|     Female|[9542037028, 2128...|{66 Prairieview T...|66 Prairieview Te...|           Joliet|  Illinois|      60435|              5|\n",
      "| 200003|           Dawn|       Tointon|  dtointon2@ucsd.edu|     Female|[9523035647, 2134...|{18 Ronald Regan ...|18 Ronald Regan Hill|  Shawnee Mission|    Kansas|      66225|              3|\n",
      "| 200004|          Goldi|        Leaman|     gleaman3@360.cn|     Female|[2027069459, 7042...|{7696 Calypso Jun...|7696 Calypso Junc...|       Saint Paul| Minnesota|      55166|              5|\n",
      "| 200005|       Brewster|      Hallagan|bhallagan4@livejo...|       Male|[8134746319, 2152...|{942 Emmet Park, ...|      942 Emmet Park|      Albuquerque|New Mexico|      87110|              2|\n",
      "| 200006|       Florence|       Glashby|fglashby5@deviant...|     Female|[7571763565, 7134...|{664 Ridge Oak Ci...|664 Ridge Oak Circle|   Virginia Beach|  Virginia|      23454|              5|\n",
      "| 200007|         Zollie|     Philimore|zphilimore6@webed...|       Male|[7865450177, 8019...|{4 Continental Dr...| 4 Continental Drive|    Young America| Minnesota|      55557|              2|\n",
      "| 200008|      Ferdinand|       Ramelot| framelot7@alexa.com|       Male|        [8164055187]|{44698 Arapahoe P...| 44698 Arapahoe Park|           Tucson|   Arizona|      85725|              1|\n",
      "| 200009|          Ruddy|     Greystoke|rgreystoke8@digg.com|       Male|                null|{null, null, null...|                null|             null|      null|       null|             -1|\n",
      "| 200010|         Gilles|         Beeho|   gbeeho9@webmd.com|       Male|[5599886694, 5201...|{9430 Reinke Park...|    9430 Reinke Park|  North Las Vegas|    Nevada|      89087|              2|\n",
      "| 200011|           Axel|    Kitchinham|akitchinhama@nave...|       Male|        [2036913158]|{688 Granby Point...|    688 Granby Point|           Warren|      Ohio|      44485|              1|\n",
      "| 200012|         Moreen|      Pearmine|mpearmineb@github...|     Female|        [4047148129]|{3997 Russell Par...|3997 Russell Parkway|North Little Rock|  Arkansas|      72199|              1|\n",
      "| 200013|       Joceline|       Adshead|jadsheadc@joomla.org|     Female|[3134837460, 3022...|{89 Fair Oaks Ter...|89 Fair Oaks Terrace|  Shawnee Mission|    Kansas|      66220|              4|\n",
      "| 200014|          Roxie|       Menichi|rmenichid@nationa...|     Female|[6148474898, 9034...|{3 Green Pass, Fo...|        3 Green Pass|       Fort Wayne|   Indiana|      46814|              4|\n",
      "| 200015|         Selena|         Flood|sfloode@delicious...|     Female|[7274706417, 4026...|{2 Butterfield Cr...|2 Butterfield Cro...|       Sacramento|California|      94286|              3|\n",
      "| 200016|         Leoine|      Markovic|  lmarkovicf@usa.gov|     Female|                null|{null, null, null...|                null|             null|      null|       null|             -1|\n",
      "| 200017|           Judi|      Svanetti|jsvanettig@theglo...|     Female|[2158389703, 8169...|{1 Sheridan Pass,...|     1 Sheridan Pass|            Miami|   Florida|      33147|              5|\n",
      "| 200018|     Hildegarde|         Hapke|     hhapkeh@nps.gov|     Female|        [8183692525]|{60 Oak Valley St...|60 Oak Valley Street|         Missoula|   Montana|      59806|              1|\n",
      "| 200019|          Hanni|       Dommett|hdommetti@tinyurl...|     Female|[7868201036, 7048...|{5 Vera Point, Wi...|        5 Vera Point|    Wichita Falls|     Texas|      76310|              4|\n",
      "| 200020|         Rupert|       Gaskoin|rgaskoinj@mozilla...|       Male|[5623065887, 9198...|{52636 Heath Alle...|   52636 Heath Alley|      Kansas City|  Missouri|      64160|              3|\n",
      "+-------+---------------+--------------+--------------------+-----------+--------------------+--------------------+--------------------+-----------------+----------+-----------+---------------+\n",
      "only showing top 20 rows\n",
      "\n"
     ]
    }
   ],
   "source": [
    "spark.sql(\"\"\"select * from users\"\"\").show()"
   ]
  },
  {
   "cell_type": "code",
   "execution_count": 7,
   "id": "78c23e4a",
   "metadata": {},
   "outputs": [
    {
     "name": "stdout",
     "output_type": "stream",
     "text": [
      "+--------------------+-----+-------+\n",
      "|               state|Males|Females|\n",
      "+--------------------+-----+-------+\n",
      "|             Alabama| 9307|   9178|\n",
      "|              Alaska| 1882|   1938|\n",
      "|             Arizona| 9406|   9543|\n",
      "|            Arkansas| 2420|   2416|\n",
      "|          California|49120|  48716|\n",
      "|            Colorado|10128|  10125|\n",
      "|         Connecticut| 5797|   5917|\n",
      "|            Delaware| 1651|   1654|\n",
      "|District of Columbia|14212|  14292|\n",
      "|             Florida|36692|  36688|\n",
      "|             Georgia|13008|  13028|\n",
      "|              Hawaii| 2172|   2062|\n",
      "|               Idaho| 2058|   2101|\n",
      "|            Illinois|11178|  11267|\n",
      "|             Indiana| 9604|   9676|\n",
      "|                Iowa| 4706|   4726|\n",
      "|              Kansas| 5962|   5776|\n",
      "|            Kentucky| 6216|   6108|\n",
      "|           Louisiana| 8706|   8631|\n",
      "|               Maine|  225|    228|\n",
      "+--------------------+-----+-------+\n",
      "only showing top 20 rows\n",
      "\n"
     ]
    }
   ],
   "source": [
    "spark.sql(\"\"\"\n",
    "select state,sum(male_cnt) as Males, sum(fmale_cnt) as Females from (\n",
    "select state, case when user_gender ='Male' then count(*) end as male_cnt,\n",
    "case when user_gender ='Female' then count(*) end as fmale_cnt from users\n",
    "where state is not null and user_phone_numbers is not null\n",
    "group by state , user_gender\n",
    ")\n",
    "group by state\n",
    "order by state\n",
    "\n",
    "\"\"\").show()"
   ]
  },
  {
   "cell_type": "code",
   "execution_count": 35,
   "id": "765c8444",
   "metadata": {},
   "outputs": [
    {
     "name": "stdout",
     "output_type": "stream",
     "text": [
      "Found 52 items\n",
      "-rw-r--r--   3 itv009490 supergroup          0 2023-12-07 08:57 /user/itv009490/pivot_assignment_result/_SUCCESS\n",
      "-rw-r--r--   3 itv009490 supergroup        958 2023-12-07 08:57 /user/itv009490/pivot_assignment_result/part-00000-7920b1c3-c773-496b-ab24-ae723af4d155-c000.snappy.parquet\n",
      "-rw-r--r--   3 itv009490 supergroup        949 2023-12-07 08:57 /user/itv009490/pivot_assignment_result/part-00001-7920b1c3-c773-496b-ab24-ae723af4d155-c000.snappy.parquet\n",
      "-rw-r--r--   3 itv009490 supergroup        958 2023-12-07 08:57 /user/itv009490/pivot_assignment_result/part-00002-7920b1c3-c773-496b-ab24-ae723af4d155-c000.snappy.parquet\n",
      "-rw-r--r--   3 itv009490 supergroup        967 2023-12-07 08:57 /user/itv009490/pivot_assignment_result/part-00003-7920b1c3-c773-496b-ab24-ae723af4d155-c000.snappy.parquet\n",
      "-rw-r--r--   3 itv009490 supergroup        985 2023-12-07 08:57 /user/itv009490/pivot_assignment_result/part-00004-7920b1c3-c773-496b-ab24-ae723af4d155-c000.snappy.parquet\n",
      "-rw-r--r--   3 itv009490 supergroup        967 2023-12-07 08:57 /user/itv009490/pivot_assignment_result/part-00005-7920b1c3-c773-496b-ab24-ae723af4d155-c000.snappy.parquet\n",
      "-rw-r--r--   3 itv009490 supergroup        994 2023-12-07 08:57 /user/itv009490/pivot_assignment_result/part-00006-7920b1c3-c773-496b-ab24-ae723af4d155-c000.snappy.parquet\n",
      "-rw-r--r--   3 itv009490 supergroup        967 2023-12-07 08:57 /user/itv009490/pivot_assignment_result/part-00007-7920b1c3-c773-496b-ab24-ae723af4d155-c000.snappy.parquet\n",
      "-rw-r--r--   3 itv009490 supergroup      1.0 K 2023-12-07 08:57 /user/itv009490/pivot_assignment_result/part-00008-7920b1c3-c773-496b-ab24-ae723af4d155-c000.snappy.parquet\n",
      "-rw-r--r--   3 itv009490 supergroup        958 2023-12-07 08:57 /user/itv009490/pivot_assignment_result/part-00009-7920b1c3-c773-496b-ab24-ae723af4d155-c000.snappy.parquet\n",
      "-rw-r--r--   3 itv009490 supergroup        958 2023-12-07 08:57 /user/itv009490/pivot_assignment_result/part-00010-7920b1c3-c773-496b-ab24-ae723af4d155-c000.snappy.parquet\n",
      "-rw-r--r--   3 itv009490 supergroup        949 2023-12-07 08:57 /user/itv009490/pivot_assignment_result/part-00011-7920b1c3-c773-496b-ab24-ae723af4d155-c000.snappy.parquet\n",
      "-rw-r--r--   3 itv009490 supergroup        940 2023-12-07 08:57 /user/itv009490/pivot_assignment_result/part-00012-7920b1c3-c773-496b-ab24-ae723af4d155-c000.snappy.parquet\n",
      "-rw-r--r--   3 itv009490 supergroup        967 2023-12-07 08:57 /user/itv009490/pivot_assignment_result/part-00013-7920b1c3-c773-496b-ab24-ae723af4d155-c000.snappy.parquet\n",
      "-rw-r--r--   3 itv009490 supergroup        958 2023-12-07 08:57 /user/itv009490/pivot_assignment_result/part-00014-7920b1c3-c773-496b-ab24-ae723af4d155-c000.snappy.parquet\n",
      "-rw-r--r--   3 itv009490 supergroup        929 2023-12-07 08:57 /user/itv009490/pivot_assignment_result/part-00015-7920b1c3-c773-496b-ab24-ae723af4d155-c000.snappy.parquet\n",
      "-rw-r--r--   3 itv009490 supergroup        949 2023-12-07 08:57 /user/itv009490/pivot_assignment_result/part-00016-7920b1c3-c773-496b-ab24-ae723af4d155-c000.snappy.parquet\n",
      "-rw-r--r--   3 itv009490 supergroup        967 2023-12-07 08:57 /user/itv009490/pivot_assignment_result/part-00017-7920b1c3-c773-496b-ab24-ae723af4d155-c000.snappy.parquet\n",
      "-rw-r--r--   3 itv009490 supergroup        976 2023-12-07 08:57 /user/itv009490/pivot_assignment_result/part-00018-7920b1c3-c773-496b-ab24-ae723af4d155-c000.snappy.parquet\n",
      "-rw-r--r--   3 itv009490 supergroup        940 2023-12-07 08:57 /user/itv009490/pivot_assignment_result/part-00019-7920b1c3-c773-496b-ab24-ae723af4d155-c000.snappy.parquet\n",
      "-rw-r--r--   3 itv009490 supergroup        967 2023-12-07 08:57 /user/itv009490/pivot_assignment_result/part-00020-7920b1c3-c773-496b-ab24-ae723af4d155-c000.snappy.parquet\n",
      "-rw-r--r--   3 itv009490 supergroup       1012 2023-12-07 08:57 /user/itv009490/pivot_assignment_result/part-00021-7920b1c3-c773-496b-ab24-ae723af4d155-c000.snappy.parquet\n",
      "-rw-r--r--   3 itv009490 supergroup        967 2023-12-07 08:57 /user/itv009490/pivot_assignment_result/part-00022-7920b1c3-c773-496b-ab24-ae723af4d155-c000.snappy.parquet\n",
      "-rw-r--r--   3 itv009490 supergroup        976 2023-12-07 08:57 /user/itv009490/pivot_assignment_result/part-00023-7920b1c3-c773-496b-ab24-ae723af4d155-c000.snappy.parquet\n",
      "-rw-r--r--   3 itv009490 supergroup        994 2023-12-07 08:57 /user/itv009490/pivot_assignment_result/part-00024-7920b1c3-c773-496b-ab24-ae723af4d155-c000.snappy.parquet\n",
      "-rw-r--r--   3 itv009490 supergroup        967 2023-12-07 08:57 /user/itv009490/pivot_assignment_result/part-00025-7920b1c3-c773-496b-ab24-ae723af4d155-c000.snappy.parquet\n",
      "-rw-r--r--   3 itv009490 supergroup        958 2023-12-07 08:57 /user/itv009490/pivot_assignment_result/part-00026-7920b1c3-c773-496b-ab24-ae723af4d155-c000.snappy.parquet\n",
      "-rw-r--r--   3 itv009490 supergroup        967 2023-12-07 08:57 /user/itv009490/pivot_assignment_result/part-00027-7920b1c3-c773-496b-ab24-ae723af4d155-c000.snappy.parquet\n",
      "-rw-r--r--   3 itv009490 supergroup        949 2023-12-07 08:57 /user/itv009490/pivot_assignment_result/part-00028-7920b1c3-c773-496b-ab24-ae723af4d155-c000.snappy.parquet\n",
      "-rw-r--r--   3 itv009490 supergroup       1012 2023-12-07 08:57 /user/itv009490/pivot_assignment_result/part-00029-7920b1c3-c773-496b-ab24-ae723af4d155-c000.snappy.parquet\n",
      "-rw-r--r--   3 itv009490 supergroup        985 2023-12-07 08:57 /user/itv009490/pivot_assignment_result/part-00030-7920b1c3-c773-496b-ab24-ae723af4d155-c000.snappy.parquet\n",
      "-rw-r--r--   3 itv009490 supergroup        985 2023-12-07 08:57 /user/itv009490/pivot_assignment_result/part-00031-7920b1c3-c773-496b-ab24-ae723af4d155-c000.snappy.parquet\n",
      "-rw-r--r--   3 itv009490 supergroup        967 2023-12-07 08:57 /user/itv009490/pivot_assignment_result/part-00032-7920b1c3-c773-496b-ab24-ae723af4d155-c000.snappy.parquet\n",
      "-rw-r--r--   3 itv009490 supergroup       1021 2023-12-07 08:57 /user/itv009490/pivot_assignment_result/part-00033-7920b1c3-c773-496b-ab24-ae723af4d155-c000.snappy.parquet\n",
      "-rw-r--r--   3 itv009490 supergroup       1003 2023-12-07 08:57 /user/itv009490/pivot_assignment_result/part-00034-7920b1c3-c773-496b-ab24-ae723af4d155-c000.snappy.parquet\n",
      "-rw-r--r--   3 itv009490 supergroup        929 2023-12-07 08:57 /user/itv009490/pivot_assignment_result/part-00035-7920b1c3-c773-496b-ab24-ae723af4d155-c000.snappy.parquet\n",
      "-rw-r--r--   3 itv009490 supergroup        967 2023-12-07 08:57 /user/itv009490/pivot_assignment_result/part-00036-7920b1c3-c773-496b-ab24-ae723af4d155-c000.snappy.parquet\n",
      "-rw-r--r--   3 itv009490 supergroup        949 2023-12-07 08:57 /user/itv009490/pivot_assignment_result/part-00037-7920b1c3-c773-496b-ab24-ae723af4d155-c000.snappy.parquet\n",
      "-rw-r--r--   3 itv009490 supergroup       1003 2023-12-07 08:57 /user/itv009490/pivot_assignment_result/part-00038-7920b1c3-c773-496b-ab24-ae723af4d155-c000.snappy.parquet\n",
      "-rw-r--r--   3 itv009490 supergroup       1003 2023-12-07 08:57 /user/itv009490/pivot_assignment_result/part-00039-7920b1c3-c773-496b-ab24-ae723af4d155-c000.snappy.parquet\n",
      "-rw-r--r--   3 itv009490 supergroup       1021 2023-12-07 08:57 /user/itv009490/pivot_assignment_result/part-00040-7920b1c3-c773-496b-ab24-ae723af4d155-c000.snappy.parquet\n",
      "-rw-r--r--   3 itv009490 supergroup       1003 2023-12-07 08:57 /user/itv009490/pivot_assignment_result/part-00041-7920b1c3-c773-496b-ab24-ae723af4d155-c000.snappy.parquet\n",
      "-rw-r--r--   3 itv009490 supergroup        976 2023-12-07 08:57 /user/itv009490/pivot_assignment_result/part-00042-7920b1c3-c773-496b-ab24-ae723af4d155-c000.snappy.parquet\n",
      "-rw-r--r--   3 itv009490 supergroup        940 2023-12-07 08:57 /user/itv009490/pivot_assignment_result/part-00043-7920b1c3-c773-496b-ab24-ae723af4d155-c000.snappy.parquet\n",
      "-rw-r--r--   3 itv009490 supergroup        929 2023-12-07 08:57 /user/itv009490/pivot_assignment_result/part-00044-7920b1c3-c773-496b-ab24-ae723af4d155-c000.snappy.parquet\n",
      "-rw-r--r--   3 itv009490 supergroup        958 2023-12-07 08:57 /user/itv009490/pivot_assignment_result/part-00045-7920b1c3-c773-496b-ab24-ae723af4d155-c000.snappy.parquet\n",
      "-rw-r--r--   3 itv009490 supergroup        967 2023-12-07 08:57 /user/itv009490/pivot_assignment_result/part-00046-7920b1c3-c773-496b-ab24-ae723af4d155-c000.snappy.parquet\n",
      "-rw-r--r--   3 itv009490 supergroup        985 2023-12-07 08:57 /user/itv009490/pivot_assignment_result/part-00047-7920b1c3-c773-496b-ab24-ae723af4d155-c000.snappy.parquet\n",
      "-rw-r--r--   3 itv009490 supergroup       1012 2023-12-07 08:57 /user/itv009490/pivot_assignment_result/part-00048-7920b1c3-c773-496b-ab24-ae723af4d155-c000.snappy.parquet\n",
      "-rw-r--r--   3 itv009490 supergroup        976 2023-12-07 08:57 /user/itv009490/pivot_assignment_result/part-00049-7920b1c3-c773-496b-ab24-ae723af4d155-c000.snappy.parquet\n",
      "-rw-r--r--   3 itv009490 supergroup        958 2023-12-07 08:57 /user/itv009490/pivot_assignment_result/part-00050-7920b1c3-c773-496b-ab24-ae723af4d155-c000.snappy.parquet\n"
     ]
    }
   ],
   "source": [
    "!hdfs dfs -ls -h /user/itv009490/pivot_assignment_result/"
   ]
  },
  {
   "cell_type": "code",
   "execution_count": 21,
   "id": "6cce8639",
   "metadata": {},
   "outputs": [
    {
     "name": "stdout",
     "output_type": "stream",
     "text": [
      "-rw-r--r--   2 hdfs supergroup     64.0 M 2021-01-28 11:16 /public/airlines_all/airlines/part-01910\n",
      "-rw-r--r--   2 hdfs supergroup     64.0 M 2021-01-28 11:15 /public/airlines_all/airlines/part-01911\n",
      "-rw-r--r--   2 hdfs supergroup     64.0 M 2021-01-28 08:03 /public/airlines_all/airlines/part-01912\n",
      "-rw-r--r--   2 hdfs supergroup     64.0 M 2021-01-28 08:02 /public/airlines_all/airlines/part-01913\n",
      "-rw-r--r--   2 hdfs supergroup     64.0 M 2021-01-28 08:51 /public/airlines_all/airlines/part-01914\n",
      "-rw-r--r--   2 hdfs supergroup     64.0 M 2021-01-28 07:46 /public/airlines_all/airlines/part-01915\n",
      "-rw-r--r--   2 hdfs supergroup       64 M 2021-01-28 09:33 /public/airlines_all/airlines/part-01916\n",
      "-rw-r--r--   2 hdfs supergroup     64.0 M 2021-01-28 10:48 /public/airlines_all/airlines/part-01917\n",
      "-rw-r--r--   2 hdfs supergroup     64.0 M 2021-01-28 08:18 /public/airlines_all/airlines/part-01918\n",
      "-rw-r--r--   2 hdfs supergroup     47.4 M 2021-01-28 08:13 /public/airlines_all/airlines/part-01919\n"
     ]
    }
   ],
   "source": [
    "!hdfs dfs -ls -h /public/airlines_all/airlines | tail"
   ]
  },
  {
   "cell_type": "code",
   "execution_count": 18,
   "id": "bf43c1a4",
   "metadata": {},
   "outputs": [],
   "source": [
    "df2 = spark.read.format(\"csv\").load(\"/public/airlines_all/airlines/\")"
   ]
  },
  {
   "cell_type": "code",
   "execution_count": 19,
   "id": "6469d20f",
   "metadata": {},
   "outputs": [
    {
     "name": "stdout",
     "output_type": "stream",
     "text": [
      "+----+---+---+---+----+----+----+----+---+----+------+----+----+----+----+----+----+----+----+----+----+----+----+----+----+----+----+----+----+----+----+\n",
      "| _c0|_c1|_c2|_c3| _c4| _c5| _c6| _c7|_c8| _c9|  _c10|_c11|_c12|_c13|_c14|_c15|_c16|_c17|_c18|_c19|_c20|_c21|_c22|_c23|_c24|_c25|_c26|_c27|_c28|_c29|_c30|\n",
      "+----+---+---+---+----+----+----+----+---+----+------+----+----+----+----+----+----+----+----+----+----+----+----+----+----+----+----+----+----+----+----+\n",
      "|2001|  8|  2|  4|  NA|1047|  NA|1222| AA|1056|�NKNO�|  NA|  95|  NA|  NA|  NA| MCI| ORD| 403|   0|   0|   1|  NA|   0|  NA|  NA|  NA|  NA|  NA| YES| YES|\n",
      "|2001|  8|  3|  5|1048|1047|1210|1222| AA|1056|N274A1|  82|  95|  66| -12|   1| MCI| ORD| 403|   6|  10|   0|  NA|   0|  NA|  NA|  NA|  NA|  NA|  NO| YES|\n",
      "|2001|  8|  4|  6|1043|1047|1159|1222| AA|1056|N513A1|  76|  95|  61| -23|  -4| MCI| ORD| 403|   4|  11|   0|  NA|   0|  NA|  NA|  NA|  NA|  NA|  NO|  NO|\n",
      "|2001|  8|  5|  7|1043|1047|1203|1222| AA|1056|N532A1|  80|  95|  65| -19|  -4| MCI| ORD| 403|   6|   9|   0|  NA|   0|  NA|  NA|  NA|  NA|  NA|  NO|  NO|\n",
      "|2001|  8|  6|  1|1045|1047|1159|1222| AA|1056|N521A1|  74|  95|  62| -23|  -2| MCI| ORD| 403|   4|   8|   0|  NA|   0|  NA|  NA|  NA|  NA|  NA|  NO|  NO|\n",
      "|2001|  8|  7|  2|1047|1047|1208|1222| AA|1056|N417A1|  81|  95|  65| -14|   0| MCI| ORD| 403|   6|  10|   0|  NA|   0|  NA|  NA|  NA|  NA|  NA|  NO|  NO|\n",
      "|2001|  8|  8|  3|1047|1047|1203|1222| AA|1056|N440A1|  76|  95|  60| -19|   0| MCI| ORD| 403|   7|   9|   0|  NA|   0|  NA|  NA|  NA|  NA|  NA|  NO|  NO|\n",
      "|2001|  8|  9|  4|1054|1047|1224|1222| AA|1056|N483A1|  90|  95|  66|   2|   7| MCI| ORD| 403|   7|  17|   0|  NA|   0|  NA|  NA|  NA|  NA|  NA| YES| YES|\n",
      "|2001|  8| 10|  5|1052|1047|1205|1222| AA|1056|N431A1|  73|  95|  53| -17|   5| MCI| ORD| 403|   5|  15|   0|  NA|   0|  NA|  NA|  NA|  NA|  NA|  NO| YES|\n",
      "|2001|  8| 11|  6|1045|1047|1205|1222| AA|1056|N424A1|  80|  95|  54| -17|  -2| MCI| ORD| 403|  16|  10|   0|  NA|   0|  NA|  NA|  NA|  NA|  NA|  NO|  NO|\n",
      "|2001|  8| 12|  7|1122|1047|1235|1222| AA|1056|N404A1|  73|  95|  57|  13|  35| MCI| ORD| 403|   5|  11|   0|  NA|   0|  NA|  NA|  NA|  NA|  NA| YES| YES|\n",
      "|2001|  8| 13|  1|1055|1047|1210|1222| AA|1056|N582A1|  75|  95|  56| -12|   8| MCI| ORD| 403|   5|  14|   0|  NA|   0|  NA|  NA|  NA|  NA|  NA|  NO| YES|\n",
      "|2001|  8| 14|  2|1045|1047|1154|1222| AA|1056|N285A1|  69|  95|  57| -28|  -2| MCI| ORD| 403|   5|   7|   0|  NA|   0|  NA|  NA|  NA|  NA|  NA|  NO|  NO|\n",
      "|2001|  8| 15|  3|1046|1047|1203|1222| AA|1056|N232A1|  77|  95|  63| -19|  -1| MCI| ORD| 403|   6|   8|   0|  NA|   0|  NA|  NA|  NA|  NA|  NA|  NO|  NO|\n",
      "|2001|  8| 16|  4|1157|1047|1314|1222| AA|1056|N430A1|  77|  95|  62|  52|  70| MCI| ORD| 403|   5|  10|   0|  NA|   0|  NA|  NA|  NA|  NA|  NA| YES| YES|\n",
      "|2001|  8| 17|  5|1048|1047|1214|1222| AA|1056|N224A1|  86|  95|  55|  -8|   1| MCI| ORD| 403|  11|  20|   0|  NA|   0|  NA|  NA|  NA|  NA|  NA|  NO| YES|\n",
      "|2001|  8| 18|  6|1046|1047|1202|1222| AA|1056|N471A1|  76|  95|  57| -20|  -1| MCI| ORD| 403|   6|  13|   0|  NA|   0|  NA|  NA|  NA|  NA|  NA|  NO|  NO|\n",
      "|2001|  8| 19|  7|1054|1047|1233|1222| AA|1056|N420A1|  99|  95|  65|  11|   7| MCI| ORD| 403|   9|  25|   0|  NA|   0|  NA|  NA|  NA|  NA|  NA| YES| YES|\n",
      "|2001|  8| 20|  1|1045|1047|1205|1222| AA|1056|N580A1|  80|  95|  59| -17|  -2| MCI| ORD| 403|   8|  13|   0|  NA|   0|  NA|  NA|  NA|  NA|  NA|  NO|  NO|\n",
      "|2001|  8| 21|  2|1042|1047|1159|1222| AA|1056|N421A1|  77|  95|  58| -23|  -5| MCI| ORD| 403|   9|  10|   0|  NA|   0|  NA|  NA|  NA|  NA|  NA|  NO|  NO|\n",
      "+----+---+---+---+----+----+----+----+---+----+------+----+----+----+----+----+----+----+----+----+----+----+----+----+----+----+----+----+----+----+----+\n",
      "only showing top 20 rows\n",
      "\n"
     ]
    }
   ],
   "source": [
    "df2.show()"
   ]
  },
  {
   "cell_type": "code",
   "execution_count": 20,
   "id": "6efd7ed8",
   "metadata": {},
   "outputs": [
    {
     "data": {
      "text/plain": [
       "1919"
      ]
     },
     "execution_count": 20,
     "metadata": {},
     "output_type": "execute_result"
    }
   ],
   "source": [
    "df2.rdd.getNumPartitions()"
   ]
  },
  {
   "cell_type": "code",
   "execution_count": 22,
   "id": "c412a563",
   "metadata": {},
   "outputs": [],
   "source": [
    "spark.stop()"
   ]
  },
  {
   "cell_type": "code",
   "execution_count": 23,
   "id": "ca37b739",
   "metadata": {},
   "outputs": [
    {
     "data": {
      "text/html": [
       "\n",
       "            <div>\n",
       "                <p><b>SparkSession - hive</b></p>\n",
       "                \n",
       "        <div>\n",
       "            <p><b>SparkContext</b></p>\n",
       "\n",
       "            <p><a href=\"http://g01.itversity.com:4040\">Spark UI</a></p>\n",
       "\n",
       "            <dl>\n",
       "              <dt>Version</dt>\n",
       "                <dd><code>v3.1.2</code></dd>\n",
       "              <dt>Master</dt>\n",
       "                <dd><code>yarn</code></dd>\n",
       "              <dt>AppName</dt>\n",
       "                <dd><code>assignment</code></dd>\n",
       "            </dl>\n",
       "        </div>\n",
       "        \n",
       "            </div>\n",
       "        "
      ],
      "text/plain": [
       "<pyspark.sql.session.SparkSession at 0x7fd735fe9518>"
      ]
     },
     "execution_count": 23,
     "metadata": {},
     "output_type": "execute_result"
    }
   ],
   "source": [
    "from pyspark.sql import SparkSession\n",
    "from pyspark.sql.functions import *\n",
    "from pyspark.sql import * #for window\n",
    "from pyspark.sql.types import *\n",
    "\n",
    "spark = SparkSession\\\n",
    ".builder\\\n",
    ".master(\"yarn\")\\\n",
    ".appName(\"assignment\")\\\n",
    ".config(\"spark.sql.files.maxPartitionBytes\",\"146800640\")\\\n",
    ".enableHiveSupport()\\\n",
    ".config(\"spark.shuffle.useOldFetchProtocol\",'true')\\\n",
    ".config(\"spark.sql.warehouse.dir\",\"/user/itv009490/warehouse\")\\\n",
    ".getOrCreate()\n",
    "\n",
    "spark"
   ]
  },
  {
   "cell_type": "code",
   "execution_count": 24,
   "id": "7b96b741",
   "metadata": {},
   "outputs": [],
   "source": [
    "df2 = spark.read.format(\"csv\").load(\"/public/airlines_all/airlines/\")"
   ]
  },
  {
   "cell_type": "code",
   "execution_count": 25,
   "id": "3f80d69b",
   "metadata": {},
   "outputs": [
    {
     "data": {
      "text/plain": [
       "960"
      ]
     },
     "execution_count": 25,
     "metadata": {},
     "output_type": "execute_result"
    }
   ],
   "source": [
    "df2.rdd.getNumPartitions()"
   ]
  },
  {
   "cell_type": "code",
   "execution_count": 29,
   "id": "d62abbf3",
   "metadata": {},
   "outputs": [
    {
     "name": "stdout",
     "output_type": "stream",
     "text": [
      "2023-12-07 08:52:59,786 INFO fs.TrashPolicyDefault: Moved: 'hdfs://m01.itversity.com:9000/user/itv009490/pivot_assignment_result' to trash at: hdfs://m01.itversity.com:9000/user/itv009490/.Trash/Current/user/itv009490/pivot_assignment_result\n"
     ]
    }
   ],
   "source": [
    "!hadoop fs -rm -R /user/itv009490/pivot_assignment_result"
   ]
  },
  {
   "cell_type": "code",
   "execution_count": 30,
   "id": "0ababa3b",
   "metadata": {},
   "outputs": [],
   "source": [
    "spark.stop()"
   ]
  },
  {
   "cell_type": "code",
   "execution_count": 31,
   "id": "8ea433e7",
   "metadata": {},
   "outputs": [],
   "source": [
    "!hadoop fs -mkdir /user/itv009490/pivot_assignment_result"
   ]
  },
  {
   "cell_type": "code",
   "execution_count": null,
   "id": "ccbfc443",
   "metadata": {},
   "outputs": [],
   "source": []
  },
  {
   "cell_type": "code",
   "execution_count": null,
   "id": "1e9cde3d",
   "metadata": {},
   "outputs": [],
   "source": []
  },
  {
   "cell_type": "code",
   "execution_count": null,
   "id": "d206412b",
   "metadata": {},
   "outputs": [],
   "source": []
  },
  {
   "cell_type": "code",
   "execution_count": null,
   "id": "2e25fbc6",
   "metadata": {},
   "outputs": [],
   "source": []
  }
 ],
 "metadata": {
  "kernelspec": {
   "display_name": "Pyspark 3",
   "language": "python",
   "name": "pyspark3"
  },
  "language_info": {
   "codemirror_mode": {
    "name": "ipython",
    "version": 3
   },
   "file_extension": ".py",
   "mimetype": "text/x-python",
   "name": "python",
   "nbconvert_exporter": "python",
   "pygments_lexer": "ipython3",
   "version": "3.6.12"
  }
 },
 "nbformat": 4,
 "nbformat_minor": 5
}
