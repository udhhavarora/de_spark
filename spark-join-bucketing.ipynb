{
 "cells": [
  {
   "cell_type": "code",
   "execution_count": 1,
   "id": "9cb42665",
   "metadata": {},
   "outputs": [
    {
     "data": {
      "text/html": [
       "\n",
       "            <div>\n",
       "                <p><b>SparkSession - hive</b></p>\n",
       "                \n",
       "        <div>\n",
       "            <p><b>SparkContext</b></p>\n",
       "\n",
       "            <p><a href=\"http://g01.itversity.com:4042\">Spark UI</a></p>\n",
       "\n",
       "            <dl>\n",
       "              <dt>Version</dt>\n",
       "                <dd><code>v3.1.2</code></dd>\n",
       "              <dt>Master</dt>\n",
       "                <dd><code>yarn</code></dd>\n",
       "              <dt>AppName</dt>\n",
       "                <dd><code>spark bucketing</code></dd>\n",
       "            </dl>\n",
       "        </div>\n",
       "        \n",
       "            </div>\n",
       "        "
      ],
      "text/plain": [
       "<pyspark.sql.session.SparkSession at 0x7ff348b1c0f0>"
      ]
     },
     "execution_count": 1,
     "metadata": {},
     "output_type": "execute_result"
    }
   ],
   "source": [
    "from pyspark.sql import SparkSession\n",
    "from pyspark.sql.functions import *\n",
    "from pyspark.sql import * #for window\n",
    "\n",
    "spark = SparkSession\\\n",
    ".builder\\\n",
    ".master(\"yarn\")\\\n",
    ".appName(\"spark bucketing\")\\\n",
    ".enableHiveSupport()\\\n",
    ".config(\"spark.shuffle.useOldFetchProtocol\",'true')\\\n",
    ".config(\"spark.sql.warehouse.dir\",\"/user/itv009490/warehouse\")\\\n",
    ".getOrCreate()\n",
    "\n",
    "spark"
   ]
  },
  {
   "cell_type": "code",
   "execution_count": 2,
   "id": "8b1a0e06",
   "metadata": {},
   "outputs": [],
   "source": [
    "order_schema = 'order_id  long, order_date string, customer_id long, order_status string '\n",
    "orders_df = spark.read.format(\"csv\").\\\n",
    "schema(order_schema).\\\n",
    "load(\"/public/trendytech/orders/orders_1gb.csv\")"
   ]
  },
  {
   "cell_type": "code",
   "execution_count": 3,
   "id": "579f1927",
   "metadata": {},
   "outputs": [],
   "source": [
    "customers_schema = \"\"\"customerid long, customer_fname string, customer_lname string, username string, password string,\n",
    "address string, city string, state string, pincode long\"\"\"\n",
    "customers_df = spark.read.format(\"csv\").schema(customers_schema).load(\"/public/trendytech/retail_db/customers\")"
   ]
  },
  {
   "cell_type": "code",
   "execution_count": 4,
   "id": "55c102ec",
   "metadata": {},
   "outputs": [],
   "source": [
    "spark.conf.set('spark.sql.autoBroadcastJoinThreshold','-1')"
   ]
  },
  {
   "cell_type": "code",
   "execution_count": 6,
   "id": "01860b44",
   "metadata": {},
   "outputs": [],
   "source": [
    "orders_df.write.mode(\"overwrite\").bucketBy(8,\"customer_id\").sortBy(\"customer_id\").\\\n",
    "option(\"path\",\"/user/itv009490/orders101\").saveAsTable(\"orderstab101\")"
   ]
  },
  {
   "cell_type": "code",
   "execution_count": 9,
   "id": "e190ca15",
   "metadata": {},
   "outputs": [
    {
     "name": "stdout",
     "output_type": "stream",
     "text": [
      "+----------------------------+-----------------------------------------------------------+-------+\n",
      "|col_name                    |data_type                                                  |comment|\n",
      "+----------------------------+-----------------------------------------------------------+-------+\n",
      "|order_id                    |bigint                                                     |null   |\n",
      "|order_date                  |string                                                     |null   |\n",
      "|customer_id                 |bigint                                                     |null   |\n",
      "|order_status                |string                                                     |null   |\n",
      "|                            |                                                           |       |\n",
      "|# Detailed Table Information|                                                           |       |\n",
      "|Database                    |default                                                    |       |\n",
      "|Table                       |orderstab101                                               |       |\n",
      "|Owner                       |itv009490                                                  |       |\n",
      "|Created Time                |Wed Jan 03 15:05:08 EST 2024                               |       |\n",
      "|Last Access                 |UNKNOWN                                                    |       |\n",
      "|Created By                  |Spark 3.1.2                                                |       |\n",
      "|Type                        |EXTERNAL                                                   |       |\n",
      "|Provider                    |parquet                                                    |       |\n",
      "|Num Buckets                 |8                                                          |       |\n",
      "|Bucket Columns              |[`customer_id`]                                            |       |\n",
      "|Sort Columns                |[`customer_id`]                                            |       |\n",
      "|Statistics                  |24175044 bytes                                             |       |\n",
      "|Location                    |hdfs://m01.itversity.com:9000/user/itv009490/orders101     |       |\n",
      "|Serde Library               |org.apache.hadoop.hive.ql.io.parquet.serde.ParquetHiveSerDe|       |\n",
      "+----------------------------+-----------------------------------------------------------+-------+\n",
      "only showing top 20 rows\n",
      "\n"
     ]
    }
   ],
   "source": [
    "spark.sql(\"desc formatted orderstab101\").show(truncate=False)"
   ]
  },
  {
   "cell_type": "code",
   "execution_count": 10,
   "id": "5f89bf77",
   "metadata": {},
   "outputs": [],
   "source": [
    "customers_df.write.mode(\"overwrite\").bucketBy(8,\"customerid\").sortBy(\"customerid\").\\\n",
    "option(\"path\",\"/user/itv009490/customers101\").saveAsTable(\"customers101\")"
   ]
  },
  {
   "cell_type": "code",
   "execution_count": 11,
   "id": "3bd42b4c",
   "metadata": {},
   "outputs": [
    {
     "data": {
      "text/plain": [
       "9"
      ]
     },
     "execution_count": 11,
     "metadata": {},
     "output_type": "execute_result"
    }
   ],
   "source": [
    "orders_df.rdd.getNumPartitions()"
   ]
  },
  {
   "cell_type": "code",
   "execution_count": 12,
   "id": "25f52b78",
   "metadata": {},
   "outputs": [
    {
     "data": {
      "text/plain": [
       "1"
      ]
     },
     "execution_count": 12,
     "metadata": {},
     "output_type": "execute_result"
    }
   ],
   "source": [
    "customers_df.rdd.getNumPartitions()"
   ]
  },
  {
   "cell_type": "code",
   "execution_count": 13,
   "id": "a59115f3",
   "metadata": {},
   "outputs": [],
   "source": [
    "spark.sql(\"\"\"select * from orderstab101 join customers101 on orderstab101.customer_id == customers101.customerid\n",
    "\"\"\").write.format(\"noop\").mode(\"overwrite\").save()"
   ]
  },
  {
   "cell_type": "code",
   "execution_count": null,
   "id": "cc44ef5c",
   "metadata": {},
   "outputs": [],
   "source": []
  }
 ],
 "metadata": {
  "kernelspec": {
   "display_name": "Pyspark 3",
   "language": "python",
   "name": "pyspark3"
  },
  "language_info": {
   "codemirror_mode": {
    "name": "ipython",
    "version": 3
   },
   "file_extension": ".py",
   "mimetype": "text/x-python",
   "name": "python",
   "nbconvert_exporter": "python",
   "pygments_lexer": "ipython3",
   "version": "3.6.12"
  }
 },
 "nbformat": 4,
 "nbformat_minor": 5
}
