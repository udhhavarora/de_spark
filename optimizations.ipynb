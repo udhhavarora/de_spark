{
 "cells": [
  {
   "cell_type": "code",
   "execution_count": 7,
   "id": "01593e17",
   "metadata": {},
   "outputs": [
    {
     "data": {
      "text/html": [
       "\n",
       "            <div>\n",
       "                <p><b>SparkSession - hive</b></p>\n",
       "                \n",
       "        <div>\n",
       "            <p><b>SparkContext</b></p>\n",
       "\n",
       "            <p><a href=\"http://g01.itversity.com:39253\">Spark UI</a></p>\n",
       "\n",
       "            <dl>\n",
       "              <dt>Version</dt>\n",
       "                <dd><code>v3.1.2</code></dd>\n",
       "              <dt>Master</dt>\n",
       "                <dd><code>yarn</code></dd>\n",
       "              <dt>AppName</dt>\n",
       "                <dd><code>spark internals</code></dd>\n",
       "            </dl>\n",
       "        </div>\n",
       "        \n",
       "            </div>\n",
       "        "
      ],
      "text/plain": [
       "<pyspark.sql.session.SparkSession at 0x7f23187c3400>"
      ]
     },
     "execution_count": 7,
     "metadata": {},
     "output_type": "execute_result"
    }
   ],
   "source": [
    "from pyspark.sql import SparkSession\n",
    "from pyspark.sql.functions import *\n",
    "from pyspark.sql import * #for window\n",
    "\n",
    "spark = SparkSession\\\n",
    ".builder\\\n",
    ".master(\"yarn\")\\\n",
    ".appName(\"spark internals\")\\\n",
    ".enableHiveSupport()\\\n",
    ".config(\"spark.shuffle.useOldFetchProtocol\",'true')\\\n",
    ".config(\"spark.sql.warehouse.dir\",\"/user/itv009490/warehouse\")\\\n",
    ".getOrCreate()\n",
    "\n",
    "spark"
   ]
  },
  {
   "cell_type": "code",
   "execution_count": 8,
   "id": "f83c3c4b",
   "metadata": {},
   "outputs": [],
   "source": [
    "order_schema = 'order_id  long, order_date string, customer_id long, order_status string '\n",
    "df = spark.read.format(\"csv\").\\\n",
    "schema(order_schema).\\\n",
    "load(\"/public/trendytech/orders/orders_1gb.csv\")"
   ]
  },
  {
   "cell_type": "code",
   "execution_count": 9,
   "id": "b81dd852",
   "metadata": {},
   "outputs": [
    {
     "data": {
      "text/plain": [
       "9"
      ]
     },
     "execution_count": 9,
     "metadata": {},
     "output_type": "execute_result"
    }
   ],
   "source": [
    "df.rdd.getNumPartitions()"
   ]
  },
  {
   "cell_type": "code",
   "execution_count": 11,
   "id": "55f68e6c",
   "metadata": {},
   "outputs": [],
   "source": [
    "df.groupBy(\"order_status\").count().write.format(\"csv\").mode(\"overwrite\").save(\"output101\")"
   ]
  },
  {
   "cell_type": "code",
   "execution_count": 13,
   "id": "6c66103b",
   "metadata": {},
   "outputs": [
    {
     "name": "stdout",
     "output_type": "stream",
     "text": [
      "Found 11 items\n",
      "-rw-r--r--   3 itv009490 supergroup          0 2023-12-29 14:02 output101/_SUCCESS\n",
      "-rw-r--r--   3 itv009490 supergroup          0 2023-12-29 14:02 output101/part-00000-55e54bcc-dec4-4eda-984d-ec2bbf5b67a3-c000.csv\n",
      "-rw-r--r--   3 itv009490 supergroup         24 2023-12-29 14:02 output101/part-00002-55e54bcc-dec4-4eda-984d-ec2bbf5b67a3-c000.csv\n",
      "-rw-r--r--   3 itv009490 supergroup         17 2023-12-29 14:02 output101/part-00053-55e54bcc-dec4-4eda-984d-ec2bbf5b67a3-c000.csv\n",
      "-rw-r--r--   3 itv009490 supergroup         16 2023-12-29 14:02 output101/part-00068-55e54bcc-dec4-4eda-984d-ec2bbf5b67a3-c000.csv\n",
      "-rw-r--r--   3 itv009490 supergroup         22 2023-12-29 14:02 output101/part-00100-55e54bcc-dec4-4eda-984d-ec2bbf5b67a3-c000.csv\n",
      "-rw-r--r--   3 itv009490 supergroup         19 2023-12-29 14:02 output101/part-00142-55e54bcc-dec4-4eda-984d-ec2bbf5b67a3-c000.csv\n",
      "-rw-r--r--   3 itv009490 supergroup         15 2023-12-29 14:02 output101/part-00149-55e54bcc-dec4-4eda-984d-ec2bbf5b67a3-c000.csv\n",
      "-rw-r--r--   3 itv009490 supergroup         23 2023-12-29 14:02 output101/part-00168-55e54bcc-dec4-4eda-984d-ec2bbf5b67a3-c000.csv\n",
      "-rw-r--r--   3 itv009490 supergroup         16 2023-12-29 14:02 output101/part-00178-55e54bcc-dec4-4eda-984d-ec2bbf5b67a3-c000.csv\n",
      "-rw-r--r--   3 itv009490 supergroup         16 2023-12-29 14:02 output101/part-00185-55e54bcc-dec4-4eda-984d-ec2bbf5b67a3-c000.csv\n"
     ]
    }
   ],
   "source": [
    "!hdfs dfs -ls output101"
   ]
  },
  {
   "cell_type": "code",
   "execution_count": 17,
   "id": "87a35499",
   "metadata": {},
   "outputs": [],
   "source": [
    "!hdfs dfs -cat output101/part-00000-55e54bcc-dec4-4eda-984d-ec2bbf5b67a3-c000.csv | head"
   ]
  },
  {
   "cell_type": "code",
   "execution_count": null,
   "id": "24ed360d",
   "metadata": {},
   "outputs": [],
   "source": []
  },
  {
   "cell_type": "code",
   "execution_count": null,
   "id": "1b1c04ef",
   "metadata": {},
   "outputs": [],
   "source": []
  },
  {
   "cell_type": "code",
   "execution_count": 18,
   "id": "b110e05e",
   "metadata": {},
   "outputs": [],
   "source": [
    "df.groupBy(\"order_status\").count().write.format(\"noop\").mode(\"overwrite\").save(\"\")"
   ]
  },
  {
   "cell_type": "code",
   "execution_count": null,
   "id": "d61fb79c",
   "metadata": {},
   "outputs": [],
   "source": []
  }
 ],
 "metadata": {
  "kernelspec": {
   "display_name": "Pyspark 3",
   "language": "python",
   "name": "pyspark3"
  },
  "language_info": {
   "codemirror_mode": {
    "name": "ipython",
    "version": 3
   },
   "file_extension": ".py",
   "mimetype": "text/x-python",
   "name": "python",
   "nbconvert_exporter": "python",
   "pygments_lexer": "ipython3",
   "version": "3.6.12"
  }
 },
 "nbformat": 4,
 "nbformat_minor": 5
}
