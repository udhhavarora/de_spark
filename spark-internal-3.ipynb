{
 "cells": [
  {
   "cell_type": "code",
   "execution_count": 24,
   "id": "628b2e7d",
   "metadata": {},
   "outputs": [
    {
     "data": {
      "text/html": [
       "\n",
       "            <div>\n",
       "                <p><b>SparkSession - hive</b></p>\n",
       "                \n",
       "        <div>\n",
       "            <p><b>SparkContext</b></p>\n",
       "\n",
       "            <p><a href=\"http://g01.itversity.com:4042\">Spark UI</a></p>\n",
       "\n",
       "            <dl>\n",
       "              <dt>Version</dt>\n",
       "                <dd><code>v3.1.2</code></dd>\n",
       "              <dt>Master</dt>\n",
       "                <dd><code>yarn</code></dd>\n",
       "              <dt>AppName</dt>\n",
       "                <dd><code>spark internals-non-splittable</code></dd>\n",
       "            </dl>\n",
       "        </div>\n",
       "        \n",
       "            </div>\n",
       "        "
      ],
      "text/plain": [
       "<pyspark.sql.session.SparkSession at 0x7fe506fba9e8>"
      ]
     },
     "execution_count": 24,
     "metadata": {},
     "output_type": "execute_result"
    }
   ],
   "source": [
    "from pyspark.sql import SparkSession\n",
    "from pyspark.sql.functions import *\n",
    "from pyspark.sql import * #for window\n",
    "\n",
    "spark = SparkSession\\\n",
    ".builder\\\n",
    ".master(\"yarn\")\\\n",
    ".appName(\"spark internals-non-splittable\")\\\n",
    ".enableHiveSupport()\\\n",
    ".config(\"spark.shuffle.useOldFetchProtocol\",'true')\\\n",
    ".config(\"spark.sql.warehouse.dir\",\"/user/itv009490/warehouse\")\\\n",
    ".getOrCreate()\n",
    "\n",
    "spark"
   ]
  },
  {
   "cell_type": "code",
   "execution_count": 25,
   "id": "1e1dda42",
   "metadata": {},
   "outputs": [
    {
     "data": {
      "text/plain": [
       "2"
      ]
     },
     "execution_count": 25,
     "metadata": {},
     "output_type": "execute_result"
    }
   ],
   "source": [
    "spark.sparkContext.defaultParallelism"
   ]
  },
  {
   "cell_type": "code",
   "execution_count": 26,
   "id": "ec325c56",
   "metadata": {},
   "outputs": [],
   "source": [
    "order_schema = 'order_id  long, order_date string, customer_id long, order_status string '"
   ]
  },
  {
   "cell_type": "code",
   "execution_count": 27,
   "id": "fe944e5d",
   "metadata": {},
   "outputs": [],
   "source": [
    "df = spark.read.format(\"csv\").\\\n",
    "schema(order_schema).\\\n",
    "load(\"/public/trendytech/orders/orders_1gb.csv\")"
   ]
  },
  {
   "cell_type": "code",
   "execution_count": 28,
   "id": "80c2994b",
   "metadata": {},
   "outputs": [],
   "source": [
    "df.createOrReplaceTempView(\"orders\")"
   ]
  },
  {
   "cell_type": "code",
   "execution_count": 29,
   "id": "074ce34b",
   "metadata": {},
   "outputs": [
    {
     "data": {
      "text/plain": [
       "9"
      ]
     },
     "execution_count": 29,
     "metadata": {},
     "output_type": "execute_result"
    }
   ],
   "source": [
    "df.rdd.getNumPartitions()"
   ]
  },
  {
   "cell_type": "code",
   "execution_count": 30,
   "id": "fb6cab1b",
   "metadata": {},
   "outputs": [],
   "source": [
    "new_df = df.repartition(1)"
   ]
  },
  {
   "cell_type": "code",
   "execution_count": 31,
   "id": "7788fb96",
   "metadata": {},
   "outputs": [
    {
     "data": {
      "text/plain": [
       "1"
      ]
     },
     "execution_count": 31,
     "metadata": {},
     "output_type": "execute_result"
    }
   ],
   "source": [
    "new_df.rdd.getNumPartitions()"
   ]
  },
  {
   "cell_type": "code",
   "execution_count": 9,
   "id": "7ff8c656",
   "metadata": {},
   "outputs": [
    {
     "name": "stdout",
     "output_type": "stream",
     "text": [
      "+--------+--------------------+-----------+---------------+\n",
      "|order_id|          order_date|customer_id|   order_status|\n",
      "+--------+--------------------+-----------+---------------+\n",
      "|   30479|2014-01-30 00:00:...|       9265|       COMPLETE|\n",
      "|   30480|2014-01-30 00:00:...|         26|        PENDING|\n",
      "|   30481|2014-01-30 00:00:...|       9240|       COMPLETE|\n",
      "|   30482|2014-01-30 00:00:...|       9819|SUSPECTED_FRAUD|\n",
      "|   30483|2014-01-30 00:00:...|       1257|PENDING_PAYMENT|\n",
      "|   30484|2014-01-30 00:00:...|       2876|       COMPLETE|\n",
      "|   30485|2014-01-30 00:00:...|       1069|       COMPLETE|\n",
      "|   30486|2014-01-30 00:00:...|       1151|       COMPLETE|\n",
      "|   30487|2014-01-30 00:00:...|       6772|       COMPLETE|\n",
      "|   30488|2014-01-30 00:00:...|      10541|         CLOSED|\n",
      "|   30489|2014-01-30 00:00:...|       5717|       COMPLETE|\n",
      "|   30490|2014-01-30 00:00:...|      12189|       COMPLETE|\n",
      "|   30491|2014-01-30 00:00:...|       2553|         CLOSED|\n",
      "|   30492|2014-01-30 00:00:...|       3710|       COMPLETE|\n",
      "|   30493|2014-01-30 00:00:...|      11688|PENDING_PAYMENT|\n",
      "|   30494|2014-01-30 00:00:...|       2724|       COMPLETE|\n",
      "|   30495|2014-01-30 00:00:...|        128|PENDING_PAYMENT|\n",
      "|   30496|2014-01-30 00:00:...|       4290|       COMPLETE|\n",
      "|   30497|2014-01-30 00:00:...|       8419|       COMPLETE|\n",
      "|   30498|2014-01-30 00:00:...|      10886|PENDING_PAYMENT|\n",
      "+--------+--------------------+-----------+---------------+\n",
      "only showing top 20 rows\n",
      "\n"
     ]
    }
   ],
   "source": [
    "new_df.show()"
   ]
  },
  {
   "cell_type": "code",
   "execution_count": 10,
   "id": "4b42d208",
   "metadata": {},
   "outputs": [],
   "source": [
    "new_df.write.\\\n",
    "format(\"csv\").\\\n",
    "mode(\"overwrite\").\\\n",
    "option(\"codec\",\"org.apache.hadoop.io.compress.GzipCodec\").\\\n",
    "save(\"orders_gz\")"
   ]
  },
  {
   "cell_type": "code",
   "execution_count": null,
   "id": "eb507f98",
   "metadata": {},
   "outputs": [],
   "source": []
  },
  {
   "cell_type": "code",
   "execution_count": 11,
   "id": "fcc4ab93",
   "metadata": {},
   "outputs": [],
   "source": [
    "df2=spark.read.format(\"csv\").schema(order_schema).load(\"orders_gz\")"
   ]
  },
  {
   "cell_type": "code",
   "execution_count": 12,
   "id": "793dea79",
   "metadata": {},
   "outputs": [
    {
     "name": "stdout",
     "output_type": "stream",
     "text": [
      "+--------+--------------------+-----------+---------------+\n",
      "|order_id|          order_date|customer_id|   order_status|\n",
      "+--------+--------------------+-----------+---------------+\n",
      "|       1|2013-07-25 00:00:...|      11599|         CLOSED|\n",
      "|       2|2013-07-25 00:00:...|        256|PENDING_PAYMENT|\n",
      "|       3|2013-07-25 00:00:...|      12111|       COMPLETE|\n",
      "|       4|2013-07-25 00:00:...|       8827|         CLOSED|\n",
      "|       5|2013-07-25 00:00:...|      11318|       COMPLETE|\n",
      "|       6|2013-07-25 00:00:...|       7130|       COMPLETE|\n",
      "|       7|2013-07-25 00:00:...|       4530|       COMPLETE|\n",
      "|       8|2013-07-25 00:00:...|       2911|     PROCESSING|\n",
      "|       9|2013-07-25 00:00:...|       5657|PENDING_PAYMENT|\n",
      "|      10|2013-07-25 00:00:...|       5648|PENDING_PAYMENT|\n",
      "|      11|2013-07-25 00:00:...|        918| PAYMENT_REVIEW|\n",
      "|      12|2013-07-25 00:00:...|       1837|         CLOSED|\n",
      "|      13|2013-07-25 00:00:...|       9149|PENDING_PAYMENT|\n",
      "|      14|2013-07-25 00:00:...|       9842|     PROCESSING|\n",
      "|      15|2013-07-25 00:00:...|       2568|       COMPLETE|\n",
      "|      16|2013-07-25 00:00:...|       7276|PENDING_PAYMENT|\n",
      "|      17|2013-07-25 00:00:...|       2667|       COMPLETE|\n",
      "|      18|2013-07-25 00:00:...|       1205|         CLOSED|\n",
      "|      19|2013-07-25 00:00:...|       9488|PENDING_PAYMENT|\n",
      "|      20|2013-07-25 00:00:...|       9198|     PROCESSING|\n",
      "+--------+--------------------+-----------+---------------+\n",
      "only showing top 20 rows\n",
      "\n"
     ]
    }
   ],
   "source": [
    "df2.show()"
   ]
  },
  {
   "cell_type": "code",
   "execution_count": 13,
   "id": "758b22db",
   "metadata": {},
   "outputs": [
    {
     "data": {
      "text/plain": [
       "1"
      ]
     },
     "execution_count": 13,
     "metadata": {},
     "output_type": "execute_result"
    }
   ],
   "source": [
    "df2.rdd.getNumPartitions()"
   ]
  },
  {
   "cell_type": "code",
   "execution_count": null,
   "id": "3b1556d1",
   "metadata": {},
   "outputs": [],
   "source": []
  },
  {
   "cell_type": "code",
   "execution_count": 14,
   "id": "a2b6487e",
   "metadata": {},
   "outputs": [],
   "source": [
    "new_df.write.\\\n",
    "format(\"csv\").\\\n",
    "mode(\"overwrite\").\\\n",
    "option(\"codec\",\"snappy\").\\\n",
    "save(\"orders_snappy\")"
   ]
  },
  {
   "cell_type": "code",
   "execution_count": 15,
   "id": "cf4c62f2",
   "metadata": {},
   "outputs": [],
   "source": [
    "df3=spark.read.format(\"csv\").schema(order_schema).load(\"orders_snappy\")"
   ]
  },
  {
   "cell_type": "code",
   "execution_count": 16,
   "id": "72bd6de2",
   "metadata": {},
   "outputs": [
    {
     "name": "stdout",
     "output_type": "stream",
     "text": [
      "+--------+--------------------+-----------+---------------+\n",
      "|order_id|          order_date|customer_id|   order_status|\n",
      "+--------+--------------------+-----------+---------------+\n",
      "|   51049|2014-06-09 00:00:...|       4983|     PROCESSING|\n",
      "|   51050|2014-06-09 00:00:...|       1840|        ON_HOLD|\n",
      "|   51051|2014-06-09 00:00:...|       8207|       COMPLETE|\n",
      "|   51052|2014-06-09 00:00:...|       6254|       COMPLETE|\n",
      "|   51053|2014-06-09 00:00:...|        348|        PENDING|\n",
      "|   51054|2014-06-09 00:00:...|       1468|       COMPLETE|\n",
      "|   51055|2014-06-09 00:00:...|       3843|PENDING_PAYMENT|\n",
      "|   51056|2014-06-09 00:00:...|       7178|PENDING_PAYMENT|\n",
      "|   51057|2014-06-09 00:00:...|        749|       COMPLETE|\n",
      "|   51058|2014-06-09 00:00:...|       5146|        PENDING|\n",
      "|   51059|2014-06-09 00:00:...|       4645|         CLOSED|\n",
      "|   51060|2014-06-09 00:00:...|        247|       COMPLETE|\n",
      "|   51061|2014-06-09 00:00:...|       6551|        PENDING|\n",
      "|   51062|2014-06-09 00:00:...|       5548|     PROCESSING|\n",
      "|   51063|2014-06-09 00:00:...|       7020|         CLOSED|\n",
      "|   51064|2014-06-09 00:00:...|        909|PENDING_PAYMENT|\n",
      "|   51065|2014-06-09 00:00:...|       7975|PENDING_PAYMENT|\n",
      "|   51066|2014-06-09 00:00:...|       6494|        PENDING|\n",
      "|   51067|2014-06-09 00:00:...|       1380|         CLOSED|\n",
      "|   51068|2014-06-09 00:00:...|       5766|       COMPLETE|\n",
      "+--------+--------------------+-----------+---------------+\n",
      "only showing top 20 rows\n",
      "\n"
     ]
    }
   ],
   "source": [
    "df3.show()"
   ]
  },
  {
   "cell_type": "code",
   "execution_count": 17,
   "id": "3eb4ca93",
   "metadata": {},
   "outputs": [
    {
     "data": {
      "text/plain": [
       "1"
      ]
     },
     "execution_count": 17,
     "metadata": {},
     "output_type": "execute_result"
    }
   ],
   "source": [
    "df3.rdd.getNumPartitions()"
   ]
  },
  {
   "cell_type": "code",
   "execution_count": 19,
   "id": "70ad79e6",
   "metadata": {},
   "outputs": [],
   "source": [
    "new_df.write.\\\n",
    "mode(\"overwrite\").\\\n",
    "save(\"orders_parquet\")"
   ]
  },
  {
   "cell_type": "code",
   "execution_count": 20,
   "id": "ebc6fb1f",
   "metadata": {},
   "outputs": [],
   "source": [
    "df4=spark.read.load(\"orders_parquet\")"
   ]
  },
  {
   "cell_type": "code",
   "execution_count": 21,
   "id": "1bd81a00",
   "metadata": {},
   "outputs": [
    {
     "name": "stdout",
     "output_type": "stream",
     "text": [
      "+--------+--------------------+-----------+---------------+\n",
      "|order_id|          order_date|customer_id|   order_status|\n",
      "+--------+--------------------+-----------+---------------+\n",
      "|   12649|2013-10-11 00:00:...|       2789|PENDING_PAYMENT|\n",
      "|   12650|2013-10-11 00:00:...|       4566|         CLOSED|\n",
      "|   12651|2013-10-11 00:00:...|        960|       COMPLETE|\n",
      "|   12652|2013-10-11 00:00:...|       8251|PENDING_PAYMENT|\n",
      "|   12653|2013-10-11 00:00:...|       5836|        PENDING|\n",
      "|   12654|2013-10-11 00:00:...|        499|         CLOSED|\n",
      "|   12655|2013-10-11 00:00:...|       2644|       COMPLETE|\n",
      "|   12656|2013-10-11 00:00:...|        933|        PENDING|\n",
      "|   12657|2013-10-11 00:00:...|       1835|     PROCESSING|\n",
      "|   12658|2013-10-11 00:00:...|       1868|       COMPLETE|\n",
      "|   12659|2013-10-11 00:00:...|        118|     PROCESSING|\n",
      "|   12660|2013-10-11 00:00:...|      11615|PENDING_PAYMENT|\n",
      "|   12661|2013-10-11 00:00:...|       9670|        PENDING|\n",
      "|   12662|2013-10-11 00:00:...|       6465|        PENDING|\n",
      "|   12663|2013-10-11 00:00:...|      11233|        PENDING|\n",
      "|   12664|2013-10-11 00:00:...|       4417|PENDING_PAYMENT|\n",
      "|   12665|2013-10-11 00:00:...|       6924|         CLOSED|\n",
      "|   12666|2013-10-11 00:00:...|       1904|         CLOSED|\n",
      "|   12667|2013-10-11 00:00:...|       5339|         CLOSED|\n",
      "|   12668|2013-10-11 00:00:...|       6443|        ON_HOLD|\n",
      "+--------+--------------------+-----------+---------------+\n",
      "only showing top 20 rows\n",
      "\n"
     ]
    }
   ],
   "source": [
    "df4.show()"
   ]
  },
  {
   "cell_type": "code",
   "execution_count": 22,
   "id": "022ba6f4",
   "metadata": {},
   "outputs": [
    {
     "data": {
      "text/plain": [
       "2"
      ]
     },
     "execution_count": 22,
     "metadata": {},
     "output_type": "execute_result"
    }
   ],
   "source": [
    "df4.rdd.getNumPartitions()"
   ]
  },
  {
   "cell_type": "code",
   "execution_count": null,
   "id": "364e08a2",
   "metadata": {},
   "outputs": [],
   "source": []
  },
  {
   "cell_type": "code",
   "execution_count": 32,
   "id": "61be0e86",
   "metadata": {},
   "outputs": [
    {
     "data": {
      "text/plain": [
       "1"
      ]
     },
     "execution_count": 32,
     "metadata": {},
     "output_type": "execute_result"
    }
   ],
   "source": [
    "new_df.rdd.getNumPartitions()"
   ]
  },
  {
   "cell_type": "code",
   "execution_count": 33,
   "id": "cc6ca3fc",
   "metadata": {},
   "outputs": [],
   "source": [
    "df4 = new_df.repartition(20)"
   ]
  },
  {
   "cell_type": "code",
   "execution_count": 34,
   "id": "0bffd277",
   "metadata": {},
   "outputs": [
    {
     "data": {
      "text/plain": [
       "20"
      ]
     },
     "execution_count": 34,
     "metadata": {},
     "output_type": "execute_result"
    }
   ],
   "source": [
    "df4.rdd.getNumPartitions()"
   ]
  },
  {
   "cell_type": "code",
   "execution_count": 35,
   "id": "d5443e39",
   "metadata": {},
   "outputs": [],
   "source": [
    "df4.write.\\\n",
    "format(\"csv\").\\\n",
    "mode(\"overwrite\").\\\n",
    "save(\"orders_file\")"
   ]
  },
  {
   "cell_type": "code",
   "execution_count": null,
   "id": "68438796",
   "metadata": {},
   "outputs": [],
   "source": []
  },
  {
   "cell_type": "code",
   "execution_count": null,
   "id": "da346cce",
   "metadata": {},
   "outputs": [],
   "source": []
  },
  {
   "cell_type": "code",
   "execution_count": 36,
   "id": "f7204d97",
   "metadata": {},
   "outputs": [],
   "source": [
    "df5=spark.read.format(\"csv\").schema(order_schema).load(\"orders_file\")"
   ]
  },
  {
   "cell_type": "code",
   "execution_count": 37,
   "id": "4abde7d5",
   "metadata": {},
   "outputs": [
    {
     "name": "stdout",
     "output_type": "stream",
     "text": [
      "+--------+--------------------+-----------+---------------+\n",
      "|order_id|          order_date|customer_id|   order_status|\n",
      "+--------+--------------------+-----------+---------------+\n",
      "|   17523|2013-11-11 00:00:...|       9277|         CLOSED|\n",
      "|   17523|2013-11-11 00:00:...|       9277|         CLOSED|\n",
      "|   42679|2014-04-14 00:00:...|       1479|        ON_HOLD|\n",
      "|   42679|2014-04-14 00:00:...|       1479|        ON_HOLD|\n",
      "|   33615|2014-02-17 00:00:...|       8581|       COMPLETE|\n",
      "|   33615|2014-02-17 00:00:...|       8581|       COMPLETE|\n",
      "|   32649|2014-02-11 00:00:...|       7926|PENDING_PAYMENT|\n",
      "|   32649|2014-02-11 00:00:...|       7926|PENDING_PAYMENT|\n",
      "|   32649|2014-02-11 00:00:...|       7926|PENDING_PAYMENT|\n",
      "|    3520|2013-08-14 00:00:...|      12180|       COMPLETE|\n",
      "|    3520|2013-08-14 00:00:...|      12180|       COMPLETE|\n",
      "|   39976|2014-03-29 00:00:...|       7426|         CLOSED|\n",
      "|   39976|2014-03-29 00:00:...|       7426|         CLOSED|\n",
      "|   27250|2014-01-10 00:00:...|      10025|         CLOSED|\n",
      "|   27250|2014-01-10 00:00:...|      10025|         CLOSED|\n",
      "|   44570|2014-04-27 00:00:...|       1422|       COMPLETE|\n",
      "|   44570|2014-04-27 00:00:...|       1422|       COMPLETE|\n",
      "|   44570|2014-04-27 00:00:...|       1422|       COMPLETE|\n",
      "|   59434|2013-09-29 00:00:...|       6332|       COMPLETE|\n",
      "|   59434|2013-09-29 00:00:...|       6332|       COMPLETE|\n",
      "+--------+--------------------+-----------+---------------+\n",
      "only showing top 20 rows\n",
      "\n"
     ]
    }
   ],
   "source": [
    "df5.show()"
   ]
  },
  {
   "cell_type": "code",
   "execution_count": 38,
   "id": "a1be6db0",
   "metadata": {},
   "outputs": [
    {
     "data": {
      "text/plain": [
       "10"
      ]
     },
     "execution_count": 38,
     "metadata": {},
     "output_type": "execute_result"
    }
   ],
   "source": [
    "df5.rdd.getNumPartitions()"
   ]
  },
  {
   "cell_type": "code",
   "execution_count": 39,
   "id": "a1f77f64",
   "metadata": {},
   "outputs": [
    {
     "data": {
      "text/plain": [
       "'134217728b'"
      ]
     },
     "execution_count": 39,
     "metadata": {},
     "output_type": "execute_result"
    }
   ],
   "source": [
    "spark.conf.get(\"spark.sql.files.maxPartitionBytes\")"
   ]
  },
  {
   "cell_type": "code",
   "execution_count": 40,
   "id": "3f7ca0b9",
   "metadata": {},
   "outputs": [
    {
     "data": {
      "text/plain": [
       "2"
      ]
     },
     "execution_count": 40,
     "metadata": {},
     "output_type": "execute_result"
    }
   ],
   "source": [
    "spark.sparkContext.defaultParallelism"
   ]
  },
  {
   "cell_type": "code",
   "execution_count": 41,
   "id": "cfffaab6",
   "metadata": {},
   "outputs": [
    {
     "data": {
      "text/plain": [
       "'4194304'"
      ]
     },
     "execution_count": 41,
     "metadata": {},
     "output_type": "execute_result"
    }
   ],
   "source": [
    "spark.conf.get(\"spark.sql.files.openCostInBytes\") #the time it takes to open 1 file, it takes to read 4mb of data"
   ]
  },
  {
   "cell_type": "code",
   "execution_count": 42,
   "id": "b69fcf63",
   "metadata": {},
   "outputs": [
    {
     "data": {
      "text/plain": [
       "4.0"
      ]
     },
     "execution_count": 42,
     "metadata": {},
     "output_type": "execute_result"
    }
   ],
   "source": [
    "4194304/(1024*1024) #MB "
   ]
  },
  {
   "cell_type": "code",
   "execution_count": null,
   "id": "64999a12",
   "metadata": {},
   "outputs": [],
   "source": []
  },
  {
   "cell_type": "code",
   "execution_count": null,
   "id": "499f4903",
   "metadata": {},
   "outputs": [],
   "source": []
  },
  {
   "cell_type": "code",
   "execution_count": 43,
   "id": "0ed3a62b",
   "metadata": {},
   "outputs": [],
   "source": [
    "df5 = new_df.repartition(500)"
   ]
  },
  {
   "cell_type": "code",
   "execution_count": 44,
   "id": "6b7b67b8",
   "metadata": {},
   "outputs": [
    {
     "data": {
      "text/plain": [
       "500"
      ]
     },
     "execution_count": 44,
     "metadata": {},
     "output_type": "execute_result"
    }
   ],
   "source": [
    "df5.rdd.getNumPartitions()"
   ]
  },
  {
   "cell_type": "code",
   "execution_count": 45,
   "id": "4fb5c668",
   "metadata": {},
   "outputs": [],
   "source": [
    "df5.write.\\\n",
    "format(\"csv\").\\\n",
    "mode(\"overwrite\").\\\n",
    "save(\"orders_final\")"
   ]
  },
  {
   "cell_type": "code",
   "execution_count": 46,
   "id": "b80190e5",
   "metadata": {},
   "outputs": [],
   "source": [
    "df6=spark.read.format(\"csv\").schema(order_schema).load(\"orders_final\")"
   ]
  },
  {
   "cell_type": "code",
   "execution_count": 48,
   "id": "6753070c",
   "metadata": {},
   "outputs": [
    {
     "name": "stdout",
     "output_type": "stream",
     "text": [
      "+--------+--------------------+-----------+---------------+\n",
      "|order_id|          order_date|customer_id|   order_status|\n",
      "+--------+--------------------+-----------+---------------+\n",
      "|   39976|2014-03-29 00:00:...|       7426|         CLOSED|\n",
      "|   50936|2014-06-09 00:00:...|       2611|       COMPLETE|\n",
      "|    9107|2013-09-20 00:00:...|      11915|PENDING_PAYMENT|\n",
      "|    2417|2013-08-07 00:00:...|        553|     PROCESSING|\n",
      "|   49186|2014-05-27 00:00:...|       8763|       COMPLETE|\n",
      "|   13123|2013-10-13 00:00:...|       4415|       COMPLETE|\n",
      "|   12615|2013-10-10 00:00:...|       9578|PENDING_PAYMENT|\n",
      "|   54410|2014-07-03 00:00:...|         38|     PROCESSING|\n",
      "|   34912|2014-02-25 00:00:...|       7600|         CLOSED|\n",
      "|   19329|2013-11-22 00:00:...|       4579|       COMPLETE|\n",
      "|   65469|2014-05-13 00:00:...|       3776|       COMPLETE|\n",
      "|   52771|2014-06-21 00:00:...|       4081|PENDING_PAYMENT|\n",
      "|   10918|2013-09-30 00:00:...|       6337|       COMPLETE|\n",
      "|   45373|2014-05-02 00:00:...|       7065|       COMPLETE|\n",
      "|   50081|2014-06-03 00:00:...|       1771|        PENDING|\n",
      "|   63791|2014-03-13 00:00:...|       5423|        ON_HOLD|\n",
      "|   51320|2014-06-12 00:00:...|       8535|         CLOSED|\n",
      "|   36134|2014-03-04 00:00:...|       2980|         CLOSED|\n",
      "|   50961|2014-06-09 00:00:...|      11642|       COMPLETE|\n",
      "|   33532|2014-02-16 00:00:...|       2970|     PROCESSING|\n",
      "+--------+--------------------+-----------+---------------+\n",
      "only showing top 20 rows\n",
      "\n"
     ]
    }
   ],
   "source": [
    "df6.show()"
   ]
  },
  {
   "cell_type": "code",
   "execution_count": 49,
   "id": "8a58b07b",
   "metadata": {},
   "outputs": [
    {
     "data": {
      "text/plain": [
       "24"
      ]
     },
     "execution_count": 49,
     "metadata": {},
     "output_type": "execute_result"
    }
   ],
   "source": [
    "df6.rdd.getNumPartitions()"
   ]
  },
  {
   "cell_type": "code",
   "execution_count": null,
   "id": "2da1617e",
   "metadata": {},
   "outputs": [],
   "source": []
  }
 ],
 "metadata": {
  "kernelspec": {
   "display_name": "Pyspark 3",
   "language": "python",
   "name": "pyspark3"
  },
  "language_info": {
   "codemirror_mode": {
    "name": "ipython",
    "version": 3
   },
   "file_extension": ".py",
   "mimetype": "text/x-python",
   "name": "python",
   "nbconvert_exporter": "python",
   "pygments_lexer": "ipython3",
   "version": "3.6.12"
  }
 },
 "nbformat": 4,
 "nbformat_minor": 5
}
