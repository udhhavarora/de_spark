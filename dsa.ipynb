{
 "cells": [
  {
   "cell_type": "code",
   "execution_count": 1,
   "id": "a0c38d8b",
   "metadata": {},
   "outputs": [],
   "source": [
    "arr_1 = [1,3,2,3,4,5,5,4,2]"
   ]
  },
  {
   "cell_type": "code",
   "execution_count": 2,
   "id": "bc5dbb16",
   "metadata": {},
   "outputs": [
    {
     "name": "stdout",
     "output_type": "stream",
     "text": [
      "Duplicates are there.\n"
     ]
    }
   ],
   "source": [
    "if len(arr_1)==len(set(arr_1)):\n",
    "    print(\"No duplicates\")\n",
    "else:\n",
    "    print(\"Duplicates are there.\")"
   ]
  },
  {
   "cell_type": "code",
   "execution_count": 7,
   "id": "19ec3a06",
   "metadata": {},
   "outputs": [
    {
     "name": "stdout",
     "output_type": "stream",
     "text": [
      "duplicate no:  1\n",
      "duplicate no:  2\n",
      "duplicate no:  4\n",
      "duplicate no:  5\n",
      "duplicate no:  2\n"
     ]
    }
   ],
   "source": [
    "pos =0\n",
    "for i in arr_1:\n",
    "    if i==arr_1[pos]:\n",
    "        print(\"duplicate no: \",arr_1[pos])\n",
    "        pos+=2"
   ]
  },
  {
   "cell_type": "code",
   "execution_count": null,
   "id": "deeec8ad",
   "metadata": {},
   "outputs": [],
   "source": []
  }
 ],
 "metadata": {
  "kernelspec": {
   "display_name": "Python 3",
   "language": "python",
   "name": "python3"
  },
  "language_info": {
   "codemirror_mode": {
    "name": "ipython",
    "version": 3
   },
   "file_extension": ".py",
   "mimetype": "text/x-python",
   "name": "python",
   "nbconvert_exporter": "python",
   "pygments_lexer": "ipython3",
   "version": "3.6.12"
  }
 },
 "nbformat": 4,
 "nbformat_minor": 5
}
