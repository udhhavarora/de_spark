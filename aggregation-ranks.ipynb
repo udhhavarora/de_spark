{
 "cells": [
  {
   "cell_type": "code",
   "execution_count": 1,
   "id": "68167f8b",
   "metadata": {},
   "outputs": [
    {
     "data": {
      "text/html": [
       "\n",
       "            <div>\n",
       "                <p><b>SparkSession - hive</b></p>\n",
       "                \n",
       "        <div>\n",
       "            <p><b>SparkContext</b></p>\n",
       "\n",
       "            <p><a href=\"http://g01.itversity.com:4040\">Spark UI</a></p>\n",
       "\n",
       "            <dl>\n",
       "              <dt>Version</dt>\n",
       "                <dd><code>v3.1.2</code></dd>\n",
       "              <dt>Master</dt>\n",
       "                <dd><code>yarn</code></dd>\n",
       "              <dt>AppName</dt>\n",
       "                <dd><code>window functions</code></dd>\n",
       "            </dl>\n",
       "        </div>\n",
       "        \n",
       "            </div>\n",
       "        "
      ],
      "text/plain": [
       "<pyspark.sql.session.SparkSession at 0x7f8ad8f59278>"
      ]
     },
     "execution_count": 1,
     "metadata": {},
     "output_type": "execute_result"
    }
   ],
   "source": [
    "from pyspark.sql import SparkSession\n",
    "from pyspark.sql.functions import *\n",
    "from pyspark.sql import * #for window\n",
    "\n",
    "spark = SparkSession\\\n",
    ".builder\\\n",
    ".master(\"yarn\")\\\n",
    ".appName(\"window functions\")\\\n",
    ".enableHiveSupport()\\\n",
    ".config(\"spark.sql.warehouse.dir\",\"/user/itv009490/warehouse\")\\\n",
    ".getOrCreate()\n",
    "\n",
    "spark"
   ]
  },
  {
   "cell_type": "code",
   "execution_count": 2,
   "id": "58eb214e",
   "metadata": {},
   "outputs": [],
   "source": [
    "df = spark.read.format(\"csv\").\\\n",
    "option(\"inferSchema\",\"true\").\\\n",
    "option(\"header\",\"true\").\\\n",
    "load(\"/public/trendytech/datasets/windowdatamodified.csv\")"
   ]
  },
  {
   "cell_type": "code",
   "execution_count": 3,
   "id": "7acfcd6a",
   "metadata": {},
   "outputs": [
    {
     "name": "stdout",
     "output_type": "stream",
     "text": [
      "+--------------+-------+-----------+-------------+------------+\n",
      "|       country|weeknum|numinvoices|totalquantity|invoicevalue|\n",
      "+--------------+-------+-----------+-------------+------------+\n",
      "|         Spain|     49|          1|           67|      174.72|\n",
      "|       Germany|     48|         11|         1795|      1600.0|\n",
      "|     Lithuania|     48|          3|          622|     1598.06|\n",
      "|       Germany|     49|         12|         1852|      1800.0|\n",
      "|       Bahrain|     51|          1|           54|      205.74|\n",
      "|       Iceland|     49|          1|          319|      711.79|\n",
      "|         India|     51|          5|           95|       300.0|\n",
      "|     Australia|     50|          2|          133|      387.95|\n",
      "|         Italy|     49|          1|           -2|       -17.0|\n",
      "|         India|     49|          5|         1280|      3284.1|\n",
      "|         Spain|     50|          2|          400|     1049.01|\n",
      "|United Kingdom|     51|        200|        28782|    75103.46|\n",
      "|        Norway|     49|          1|         1730|     1867.98|\n",
      "|United Kingdom|     48|        478|        68865|   166116.72|\n",
      "|        France|     51|          5|          847|       500.0|\n",
      "|      Portugal|     49|          4|          726|     1844.67|\n",
      "|         Spain|     48|          1|          400|       620.0|\n",
      "|         India|     48|          7|         2822|       300.0|\n",
      "|       Germany|     50|         15|         1973|      1800.0|\n",
      "|         Italy|     51|          1|          131|       383.7|\n",
      "+--------------+-------+-----------+-------------+------------+\n",
      "only showing top 20 rows\n",
      "\n"
     ]
    }
   ],
   "source": [
    "df.show()"
   ]
  },
  {
   "cell_type": "code",
   "execution_count": 4,
   "id": "7bb01ee5",
   "metadata": {},
   "outputs": [
    {
     "name": "stdout",
     "output_type": "stream",
     "text": [
      "+---------------+-------+-----------+-------------+------------+\n",
      "|        country|weeknum|numinvoices|totalquantity|invoicevalue|\n",
      "+---------------+-------+-----------+-------------+------------+\n",
      "|      Australia|     49|          1|          214|       258.9|\n",
      "|      Australia|     48|          1|          107|      358.25|\n",
      "|      Australia|     50|          2|          133|      387.95|\n",
      "|        Austria|     50|          2|            3|      257.04|\n",
      "|        Bahrain|     51|          1|           54|      205.74|\n",
      "|        Belgium|     50|          2|          285|      625.16|\n",
      "|        Belgium|     48|          1|          528|       800.0|\n",
      "|        Belgium|     51|          2|          942|       800.0|\n",
      "|Channel Islands|     49|          1|           80|      363.53|\n",
      "|         Cyprus|     50|          1|          917|     1590.82|\n",
      "|        Denmark|     49|          1|          454|      1281.5|\n",
      "|        Finland|     50|          1|         1254|       892.8|\n",
      "|         France|     49|          9|         2303|       500.0|\n",
      "|         France|     48|          4|         1299|       500.0|\n",
      "|         France|     51|          5|          847|       500.0|\n",
      "|         France|     50|          6|          529|      537.32|\n",
      "|        Germany|     51|          5|         1103|      1600.0|\n",
      "|        Germany|     48|         11|         1795|      1600.0|\n",
      "|        Germany|     49|         12|         1852|      1800.0|\n",
      "|        Germany|     50|         15|         1973|      1800.0|\n",
      "+---------------+-------+-----------+-------------+------------+\n",
      "only showing top 20 rows\n",
      "\n"
     ]
    }
   ],
   "source": [
    "df.orderBy(\"country\",\"invoicevalue\").show()"
   ]
  },
  {
   "cell_type": "code",
   "execution_count": 5,
   "id": "ce2610cc",
   "metadata": {},
   "outputs": [],
   "source": [
    "# running total\n",
    "my_window = Window.partitionBy(\"country\").orderBy(\"weeknum\").rowsBetween(Window.unboundedPreceding,Window.currentRow)"
   ]
  },
  {
   "cell_type": "code",
   "execution_count": 6,
   "id": "aafd40bc",
   "metadata": {},
   "outputs": [
    {
     "name": "stdout",
     "output_type": "stream",
     "text": [
      "+---------------+-------+-----------+-------------+------------+------------------+\n",
      "|        country|weeknum|numinvoices|totalquantity|invoicevalue|      runningTotal|\n",
      "+---------------+-------+-----------+-------------+------------+------------------+\n",
      "|      Australia|     48|          1|          107|      358.25|            358.25|\n",
      "|      Australia|     49|          1|          214|       258.9|            617.15|\n",
      "|      Australia|     50|          2|          133|      387.95|1005.0999999999999|\n",
      "|        Austria|     50|          2|            3|      257.04|            257.04|\n",
      "|        Bahrain|     51|          1|           54|      205.74|            205.74|\n",
      "|        Belgium|     48|          1|          528|       800.0|             800.0|\n",
      "|        Belgium|     50|          2|          285|      625.16|1425.1599999999999|\n",
      "|        Belgium|     51|          2|          942|       800.0|           2225.16|\n",
      "|Channel Islands|     49|          1|           80|      363.53|            363.53|\n",
      "|         Cyprus|     50|          1|          917|     1590.82|           1590.82|\n",
      "|        Denmark|     49|          1|          454|      1281.5|            1281.5|\n",
      "|        Finland|     50|          1|         1254|       892.8|             892.8|\n",
      "|         France|     48|          4|         1299|       500.0|             500.0|\n",
      "|         France|     49|          9|         2303|       500.0|            1000.0|\n",
      "|         France|     50|          6|          529|      537.32|1537.3200000000002|\n",
      "|         France|     51|          5|          847|       500.0|2037.3200000000002|\n",
      "|        Germany|     48|         11|         1795|      1600.0|            1600.0|\n",
      "|        Germany|     49|         12|         1852|      1800.0|            3400.0|\n",
      "|        Germany|     50|         15|         1973|      1800.0|            5200.0|\n",
      "|        Germany|     51|          5|         1103|      1600.0|            6800.0|\n",
      "+---------------+-------+-----------+-------------+------------+------------------+\n",
      "only showing top 20 rows\n",
      "\n"
     ]
    }
   ],
   "source": [
    "result = df.withColumn(\"runningTotal\",sum(\"invoicevalue\").over(my_window))\n",
    "result.orderBy(\"country\",\"weeknum\").show()"
   ]
  },
  {
   "cell_type": "code",
   "execution_count": 7,
   "id": "d4328a3c",
   "metadata": {},
   "outputs": [],
   "source": [
    "my_window = Window.partitionBy(\"country\").orderBy(desc(\"invoicevalue\"))"
   ]
  },
  {
   "cell_type": "code",
   "execution_count": 8,
   "id": "00f53b79",
   "metadata": {},
   "outputs": [
    {
     "name": "stdout",
     "output_type": "stream",
     "text": [
      "+-------+-------+-----------+-------------+------------+----+\n",
      "|country|weeknum|numinvoices|totalquantity|invoicevalue|rank|\n",
      "+-------+-------+-----------+-------------+------------+----+\n",
      "| Sweden|     50|          3|         3714|      2646.3|   1|\n",
      "|Germany|     49|         12|         1852|      1800.0|   1|\n",
      "|Germany|     50|         15|         1973|      1800.0|   1|\n",
      "|Germany|     48|         11|         1795|      1600.0|   3|\n",
      "|Germany|     51|          5|         1103|      1600.0|   3|\n",
      "| France|     50|          6|          529|      537.32|   1|\n",
      "| France|     51|          5|          847|       500.0|   2|\n",
      "| France|     49|          9|         2303|       500.0|   2|\n",
      "| France|     48|          4|         1299|       500.0|   2|\n",
      "|Belgium|     48|          1|          528|       800.0|   1|\n",
      "|Belgium|     51|          2|          942|       800.0|   1|\n",
      "|Belgium|     50|          2|          285|      625.16|   3|\n",
      "|Finland|     50|          1|         1254|       892.8|   1|\n",
      "|  India|     49|          5|         1280|      3284.1|   1|\n",
      "|  India|     50|          5|         1184|     2321.78|   2|\n",
      "|  India|     51|          5|           95|       300.0|   3|\n",
      "|  India|     48|          7|         2822|       300.0|   3|\n",
      "|  Italy|     48|          1|          164|       427.8|   1|\n",
      "|  Italy|     51|          1|          131|       383.7|   2|\n",
      "|  Italy|     49|          1|           -2|       -17.0|   3|\n",
      "+-------+-------+-----------+-------------+------------+----+\n",
      "only showing top 20 rows\n",
      "\n"
     ]
    }
   ],
   "source": [
    "result = df.withColumn(\"rank\",rank().over(my_window))\n",
    "result.show()"
   ]
  },
  {
   "cell_type": "code",
   "execution_count": 9,
   "id": "432f124e",
   "metadata": {},
   "outputs": [
    {
     "name": "stdout",
     "output_type": "stream",
     "text": [
      "+-------+-------+-----------+-------------+------------+----+\n",
      "|country|weeknum|numinvoices|totalquantity|invoicevalue|rank|\n",
      "+-------+-------+-----------+-------------+------------+----+\n",
      "| Sweden|     50|          3|         3714|      2646.3|   1|\n",
      "|Germany|     49|         12|         1852|      1800.0|   1|\n",
      "|Germany|     50|         15|         1973|      1800.0|   1|\n",
      "|Germany|     48|         11|         1795|      1600.0|   2|\n",
      "|Germany|     51|          5|         1103|      1600.0|   2|\n",
      "| France|     50|          6|          529|      537.32|   1|\n",
      "| France|     51|          5|          847|       500.0|   2|\n",
      "| France|     49|          9|         2303|       500.0|   2|\n",
      "| France|     48|          4|         1299|       500.0|   2|\n",
      "|Belgium|     48|          1|          528|       800.0|   1|\n",
      "|Belgium|     51|          2|          942|       800.0|   1|\n",
      "|Belgium|     50|          2|          285|      625.16|   2|\n",
      "|Finland|     50|          1|         1254|       892.8|   1|\n",
      "|  India|     49|          5|         1280|      3284.1|   1|\n",
      "|  India|     50|          5|         1184|     2321.78|   2|\n",
      "|  India|     51|          5|           95|       300.0|   3|\n",
      "|  India|     48|          7|         2822|       300.0|   3|\n",
      "|  Italy|     48|          1|          164|       427.8|   1|\n",
      "|  Italy|     51|          1|          131|       383.7|   2|\n",
      "|  Italy|     49|          1|           -2|       -17.0|   3|\n",
      "+-------+-------+-----------+-------------+------------+----+\n",
      "only showing top 20 rows\n",
      "\n"
     ]
    }
   ],
   "source": [
    "result = df.withColumn(\"rank\",dense_rank().over(my_window))\n",
    "result.show()"
   ]
  },
  {
   "cell_type": "code",
   "execution_count": 10,
   "id": "15a8a1b0",
   "metadata": {},
   "outputs": [
    {
     "name": "stdout",
     "output_type": "stream",
     "text": [
      "+-------+-------+-----------+-------------+------------+----+\n",
      "|country|weeknum|numinvoices|totalquantity|invoicevalue|rank|\n",
      "+-------+-------+-----------+-------------+------------+----+\n",
      "| Sweden|     50|          3|         3714|      2646.3|   1|\n",
      "|Germany|     49|         12|         1852|      1800.0|   1|\n",
      "|Germany|     50|         15|         1973|      1800.0|   2|\n",
      "|Germany|     48|         11|         1795|      1600.0|   3|\n",
      "|Germany|     51|          5|         1103|      1600.0|   4|\n",
      "| France|     50|          6|          529|      537.32|   1|\n",
      "| France|     51|          5|          847|       500.0|   2|\n",
      "| France|     49|          9|         2303|       500.0|   3|\n",
      "| France|     48|          4|         1299|       500.0|   4|\n",
      "|Belgium|     48|          1|          528|       800.0|   1|\n",
      "|Belgium|     51|          2|          942|       800.0|   2|\n",
      "|Belgium|     50|          2|          285|      625.16|   3|\n",
      "|Finland|     50|          1|         1254|       892.8|   1|\n",
      "|  India|     49|          5|         1280|      3284.1|   1|\n",
      "|  India|     50|          5|         1184|     2321.78|   2|\n",
      "|  India|     51|          5|           95|       300.0|   3|\n",
      "|  India|     48|          7|         2822|       300.0|   4|\n",
      "|  Italy|     48|          1|          164|       427.8|   1|\n",
      "|  Italy|     51|          1|          131|       383.7|   2|\n",
      "|  Italy|     49|          1|           -2|       -17.0|   3|\n",
      "+-------+-------+-----------+-------------+------------+----+\n",
      "only showing top 20 rows\n",
      "\n"
     ]
    }
   ],
   "source": [
    "result = df.withColumn(\"rank\",row_number().over(my_window))\n",
    "result.show()"
   ]
  },
  {
   "cell_type": "code",
   "execution_count": 14,
   "id": "c2642408",
   "metadata": {},
   "outputs": [
    {
     "name": "stdout",
     "output_type": "stream",
     "text": [
      "+---------------+-------+-----------+-------------+------------+\n",
      "|        country|weeknum|numinvoices|totalquantity|invoicevalue|\n",
      "+---------------+-------+-----------+-------------+------------+\n",
      "|         Sweden|     50|          3|         3714|      2646.3|\n",
      "|        Germany|     49|         12|         1852|      1800.0|\n",
      "|         France|     50|          6|          529|      537.32|\n",
      "|        Belgium|     48|          1|          528|       800.0|\n",
      "|        Finland|     50|          1|         1254|       892.8|\n",
      "|          India|     49|          5|         1280|      3284.1|\n",
      "|          Italy|     48|          1|          164|       427.8|\n",
      "|      Lithuania|     48|          3|          622|     1598.06|\n",
      "|         Norway|     48|          1|         1852|     1919.14|\n",
      "|          Spain|     50|          2|          400|     1049.01|\n",
      "|        Denmark|     49|          1|          454|      1281.5|\n",
      "|        Iceland|     49|          1|          319|      711.79|\n",
      "|         Israel|     50|          1|          -56|     -227.44|\n",
      "|Channel Islands|     49|          1|           80|      363.53|\n",
      "|         Cyprus|     50|          1|          917|     1590.82|\n",
      "|    Switzerland|     51|          1|          604|     1001.52|\n",
      "|          Japan|     49|          2|         3897|     7384.99|\n",
      "|         Poland|     48|          1|          140|      248.16|\n",
      "|       Portugal|     49|          4|          726|     1844.67|\n",
      "|      Australia|     50|          2|          133|      387.95|\n",
      "+---------------+-------+-----------+-------------+------------+\n",
      "only showing top 20 rows\n",
      "\n"
     ]
    }
   ],
   "source": [
    "result.select(\"*\").where(\"rank ==1\").drop(\"rank\").show()"
   ]
  },
  {
   "cell_type": "code",
   "execution_count": 12,
   "id": "3ab3e656",
   "metadata": {},
   "outputs": [],
   "source": [
    "my_window = Window.partitionBy(\"country\").orderBy(\"weeknum\")"
   ]
  },
  {
   "cell_type": "code",
   "execution_count": 20,
   "id": "7ce35645",
   "metadata": {},
   "outputs": [
    {
     "name": "stdout",
     "output_type": "stream",
     "text": [
      "+-------+-------+-----------+-------------+------------+---------------+\n",
      "|country|weeknum|numinvoices|totalquantity|invoicevalue|prev_week_value|\n",
      "+-------+-------+-----------+-------------+------------+---------------+\n",
      "| Sweden|     50|          3|         3714|      2646.3|           null|\n",
      "|Germany|     48|         11|         1795|      1600.0|           null|\n",
      "|Germany|     49|         12|         1852|      1800.0|         1600.0|\n",
      "|Germany|     50|         15|         1973|      1800.0|         1800.0|\n",
      "|Germany|     51|          5|         1103|      1600.0|         1800.0|\n",
      "| France|     48|          4|         1299|       500.0|           null|\n",
      "| France|     49|          9|         2303|       500.0|          500.0|\n",
      "| France|     50|          6|          529|      537.32|          500.0|\n",
      "| France|     51|          5|          847|       500.0|         537.32|\n",
      "|Belgium|     48|          1|          528|       800.0|           null|\n",
      "|Belgium|     50|          2|          285|      625.16|          800.0|\n",
      "|Belgium|     51|          2|          942|       800.0|         625.16|\n",
      "|Finland|     50|          1|         1254|       892.8|           null|\n",
      "|  India|     48|          7|         2822|       300.0|           null|\n",
      "|  India|     49|          5|         1280|      3284.1|          300.0|\n",
      "|  India|     50|          5|         1184|     2321.78|         3284.1|\n",
      "|  India|     51|          5|           95|       300.0|        2321.78|\n",
      "|  Italy|     48|          1|          164|       427.8|           null|\n",
      "|  Italy|     49|          1|           -2|       -17.0|          427.8|\n",
      "|  Italy|     51|          1|          131|       383.7|          -17.0|\n",
      "+-------+-------+-----------+-------------+------------+---------------+\n",
      "only showing top 20 rows\n",
      "\n"
     ]
    }
   ],
   "source": [
    "result = df.withColumn(\"prev_week_value\",lag(\"invoicevalue\").over(my_window))\n",
    "result.show()"
   ]
  },
  {
   "cell_type": "code",
   "execution_count": 24,
   "id": "530ba8d7",
   "metadata": {},
   "outputs": [],
   "source": [
    "res2 = result.withColumn(\"prev_week_value\",expr(\"case when prev_week_value is NULL then 0 else prev_week_value end as prev_week_value\"))"
   ]
  },
  {
   "cell_type": "code",
   "execution_count": 30,
   "id": "a44c37d3",
   "metadata": {},
   "outputs": [
    {
     "name": "stdout",
     "output_type": "stream",
     "text": [
      "+-------+-------+-----------+-------------+------------+---------------+---------+\n",
      "|country|weeknum|numinvoices|totalquantity|invoicevalue|prev_week_value|change(%)|\n",
      "+-------+-------+-----------+-------------+------------+---------------+---------+\n",
      "| Sweden|     50|          3|         3714|      2646.3|            0.0|     100%|\n",
      "|Germany|     48|         11|         1795|      1600.0|            0.0|     100%|\n",
      "|Germany|     49|         12|         1852|      1800.0|         1600.0|      12%|\n",
      "|Germany|     50|         15|         1973|      1800.0|         1800.0|       0%|\n",
      "|Germany|     51|          5|         1103|      1600.0|         1800.0|     -12%|\n",
      "| France|     48|          4|         1299|       500.0|            0.0|     100%|\n",
      "| France|     49|          9|         2303|       500.0|          500.0|       0%|\n",
      "| France|     50|          6|          529|      537.32|          500.0|       7%|\n",
      "| France|     51|          5|          847|       500.0|         537.32|      -7%|\n",
      "|Belgium|     48|          1|          528|       800.0|            0.0|     100%|\n",
      "|Belgium|     50|          2|          285|      625.16|          800.0|     -27%|\n",
      "|Belgium|     51|          2|          942|       800.0|         625.16|      22%|\n",
      "|Finland|     50|          1|         1254|       892.8|            0.0|     100%|\n",
      "|  India|     48|          7|         2822|       300.0|            0.0|     100%|\n",
      "|  India|     49|          5|         1280|      3284.1|          300.0|      91%|\n",
      "|  India|     50|          5|         1184|     2321.78|         3284.1|     -41%|\n",
      "|  India|     51|          5|           95|       300.0|        2321.78|    -673%|\n",
      "|  Italy|     48|          1|          164|       427.8|            0.0|     100%|\n",
      "|  Italy|     49|          1|           -2|       -17.0|          427.8|    2617%|\n",
      "|  Italy|     51|          1|          131|       383.7|          -17.0|     105%|\n",
      "+-------+-------+-----------+-------------+------------+---------------+---------+\n",
      "only showing top 20 rows\n",
      "\n"
     ]
    }
   ],
   "source": [
    "res2.withColumn(\"change(%)\",concat(ceil(expr(\"(invoicevalue-prev_week_value )/invoicevalue*100 \")),lit(\"%\"))).show()"
   ]
  },
  {
   "cell_type": "code",
   "execution_count": 31,
   "id": "8ebc3e1a",
   "metadata": {},
   "outputs": [],
   "source": [
    "my_wind=Window.partitionBy(\"country\")"
   ]
  },
  {
   "cell_type": "code",
   "execution_count": 35,
   "id": "6265ba8c",
   "metadata": {},
   "outputs": [
    {
     "name": "stdout",
     "output_type": "stream",
     "text": [
      "+-------+-------+-----------+-------------+------------+---------------+------------------+\n",
      "|country|weeknum|numinvoices|totalquantity|invoicevalue|prev_week_value|        week_total|\n",
      "+-------+-------+-----------+-------------+------------+---------------+------------------+\n",
      "| Sweden|     50|          3|         3714|      2646.3|            0.0|            2646.3|\n",
      "|Germany|     48|         11|         1795|      1600.0|            0.0|            6800.0|\n",
      "|Germany|     49|         12|         1852|      1800.0|         1600.0|            6800.0|\n",
      "|Germany|     50|         15|         1973|      1800.0|         1800.0|            6800.0|\n",
      "|Germany|     51|          5|         1103|      1600.0|         1800.0|            6800.0|\n",
      "| France|     48|          4|         1299|       500.0|            0.0|2037.3200000000002|\n",
      "| France|     49|          9|         2303|       500.0|          500.0|2037.3200000000002|\n",
      "| France|     50|          6|          529|      537.32|          500.0|2037.3200000000002|\n",
      "| France|     51|          5|          847|       500.0|         537.32|2037.3200000000002|\n",
      "|Belgium|     48|          1|          528|       800.0|            0.0|           2225.16|\n",
      "|Belgium|     50|          2|          285|      625.16|          800.0|           2225.16|\n",
      "|Belgium|     51|          2|          942|       800.0|         625.16|           2225.16|\n",
      "|Finland|     50|          1|         1254|       892.8|            0.0|             892.8|\n",
      "|  India|     48|          7|         2822|       300.0|            0.0|           6205.88|\n",
      "|  India|     49|          5|         1280|      3284.1|          300.0|           6205.88|\n",
      "|  India|     50|          5|         1184|     2321.78|         3284.1|           6205.88|\n",
      "|  India|     51|          5|           95|       300.0|        2321.78|           6205.88|\n",
      "|  Italy|     48|          1|          164|       427.8|            0.0|             794.5|\n",
      "|  Italy|     49|          1|           -2|       -17.0|          427.8|             794.5|\n",
      "|  Italy|     51|          1|          131|       383.7|          -17.0|             794.5|\n",
      "+-------+-------+-----------+-------------+------------+---------------+------------------+\n",
      "only showing top 20 rows\n",
      "\n"
     ]
    }
   ],
   "source": [
    "res3 = res2.withColumn(\"week_total\",sum(\"invoicevalue\").over(my_wind))\n",
    "res3.show()"
   ]
  },
  {
   "cell_type": "code",
   "execution_count": 39,
   "id": "8bbbac4a",
   "metadata": {},
   "outputs": [
    {
     "name": "stdout",
     "output_type": "stream",
     "text": [
      "+-------+-------+-----------+-------------+------------+---------------+------------------+-----------+\n",
      "|country|weeknum|numinvoices|totalquantity|invoicevalue|prev_week_value|        week_total|week_contri|\n",
      "+-------+-------+-----------+-------------+------------+---------------+------------------+-----------+\n",
      "| Sweden|     50|          3|         3714|      2646.3|            0.0|            2646.3|       100%|\n",
      "|Germany|     48|         11|         1795|      1600.0|            0.0|            6800.0|        24%|\n",
      "|Germany|     49|         12|         1852|      1800.0|         1600.0|            6800.0|        27%|\n",
      "|Germany|     50|         15|         1973|      1800.0|         1800.0|            6800.0|        27%|\n",
      "|Germany|     51|          5|         1103|      1600.0|         1800.0|            6800.0|        24%|\n",
      "| France|     48|          4|         1299|       500.0|            0.0|2037.3200000000002|        25%|\n",
      "| France|     49|          9|         2303|       500.0|          500.0|2037.3200000000002|        25%|\n",
      "| France|     50|          6|          529|      537.32|          500.0|2037.3200000000002|        27%|\n",
      "| France|     51|          5|          847|       500.0|         537.32|2037.3200000000002|        25%|\n",
      "|Belgium|     48|          1|          528|       800.0|            0.0|           2225.16|        36%|\n",
      "|Belgium|     50|          2|          285|      625.16|          800.0|           2225.16|        29%|\n",
      "|Belgium|     51|          2|          942|       800.0|         625.16|           2225.16|        36%|\n",
      "|Finland|     50|          1|         1254|       892.8|            0.0|             892.8|       100%|\n",
      "|  India|     48|          7|         2822|       300.0|            0.0|           6205.88|         5%|\n",
      "|  India|     49|          5|         1280|      3284.1|          300.0|           6205.88|        53%|\n",
      "|  India|     50|          5|         1184|     2321.78|         3284.1|           6205.88|        38%|\n",
      "|  India|     51|          5|           95|       300.0|        2321.78|           6205.88|         5%|\n",
      "|  Italy|     48|          1|          164|       427.8|            0.0|             794.5|        54%|\n",
      "|  Italy|     49|          1|           -2|       -17.0|          427.8|             794.5|        -2%|\n",
      "|  Italy|     51|          1|          131|       383.7|          -17.0|             794.5|        49%|\n",
      "+-------+-------+-----------+-------------+------------+---------------+------------------+-----------+\n",
      "only showing top 20 rows\n",
      "\n"
     ]
    }
   ],
   "source": [
    "res4 = res3.withColumn(\"week_contri\",concat(ceil(expr(\"invoicevalue/week_total*100\")),lit(\"%\")))\n",
    "res4.show()"
   ]
  },
  {
   "cell_type": "code",
   "execution_count": null,
   "id": "0161031d",
   "metadata": {},
   "outputs": [],
   "source": []
  }
 ],
 "metadata": {
  "kernelspec": {
   "display_name": "Pyspark 3",
   "language": "python",
   "name": "pyspark3"
  },
  "language_info": {
   "codemirror_mode": {
    "name": "ipython",
    "version": 3
   },
   "file_extension": ".py",
   "mimetype": "text/x-python",
   "name": "python",
   "nbconvert_exporter": "python",
   "pygments_lexer": "ipython3",
   "version": "3.6.12"
  }
 },
 "nbformat": 4,
 "nbformat_minor": 5
}
