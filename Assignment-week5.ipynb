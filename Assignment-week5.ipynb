{
 "cells": [
  {
   "cell_type": "code",
   "execution_count": 94,
   "id": "05d9f7d4",
   "metadata": {},
   "outputs": [
    {
     "data": {
      "text/html": [
       "\n",
       "            <div>\n",
       "                <p><b>SparkSession - hive</b></p>\n",
       "                \n",
       "        <div>\n",
       "            <p><b>SparkContext</b></p>\n",
       "\n",
       "            <p><a href=\"http://g01.itversity.com:41635\">Spark UI</a></p>\n",
       "\n",
       "            <dl>\n",
       "              <dt>Version</dt>\n",
       "                <dd><code>v3.1.2</code></dd>\n",
       "              <dt>Master</dt>\n",
       "                <dd><code>yarn</code></dd>\n",
       "              <dt>AppName</dt>\n",
       "                <dd><code>pyspark-shell</code></dd>\n",
       "            </dl>\n",
       "        </div>\n",
       "        \n",
       "            </div>\n",
       "        "
      ],
      "text/plain": [
       "<pyspark.sql.session.SparkSession at 0x7fc15919c6a0>"
      ]
     },
     "execution_count": 94,
     "metadata": {},
     "output_type": "execute_result"
    }
   ],
   "source": [
    "from pyspark.sql import SparkSession\n",
    "\n",
    "import getpass\n",
    "\n",
    "username = getpass.getuser()\n",
    "\n",
    "spark = SparkSession.\\\n",
    "builder. \\\n",
    "config('spark.ui.port','0'). \\\n",
    "config(\"spark.sql.warehouse.dir\", f\"/user/{username}/warehouse\"). \\\n",
    "enableHiveSupport(). \\\n",
    "master('yarn'). \\\n",
    "getOrCreate()\n",
    "\n",
    "spark"
   ]
  },
  {
   "cell_type": "code",
   "execution_count": 4,
   "id": "e177cbbc",
   "metadata": {},
   "outputs": [
    {
     "name": "stdout",
     "output_type": "stream",
     "text": [
      "+--------+---------+--------+----------+--------+\n",
      "|order_id| location|    item|order_date|quantity|\n",
      "+--------+---------+--------+----------+--------+\n",
      "|      o1|  Seattle| Bananas|01/01/2017|       7|\n",
      "|      o2|     Kent|  Apples|02/01/2017|      20|\n",
      "|      o3| Bellevue| Flowers|02/01/2017|      10|\n",
      "|      o4|  Redmond|    Meat|03/01/2017|      40|\n",
      "|      o5|  Seattle|Potatoes|04/01/2017|       9|\n",
      "|      o6| Bellevue|   Bread|04/01/2017|       5|\n",
      "|      o7|  Redmond|   Bread|05/01/2017|       5|\n",
      "|      o8| Issaquah|   Onion|05/01/2017|       4|\n",
      "|      o9|  Redmond|  Cheese|05/01/2017|      15|\n",
      "|     o10| Issaquah|   Onion|06/01/2017|       4|\n",
      "|     o11|   Renton|   Bread|05/01/2017|       5|\n",
      "|     o12| Issaquah|   Onion|07/01/2017|       4|\n",
      "|     o13|Sammamish|   Bread|07/01/2017|       5|\n",
      "|     o14| Issaquah|  Tomato|07/01/2017|       6|\n",
      "|     o15| Issaquah|    Meat|08/01/2017|       3|\n",
      "|     o16| Issaquah|    Meat|09/01/2017|       5|\n",
      "|     o17| Issaquah|    Meat|10/01/2017|       6|\n",
      "|     o18| Bellevue|   Bread|11/01/2017|       7|\n",
      "|     o19| Bellevue|   Bread|12/01/2017|      54|\n",
      "|     o20| Bellevue|   Bread|13/01/2017|      34|\n",
      "+--------+---------+--------+----------+--------+\n",
      "only showing top 20 rows\n",
      "\n"
     ]
    }
   ],
   "source": [
    "groceries_df = spark.read.csv(\"/public/trendytech/groceries.csv\",header=True,inferSchema=True)\n",
    "groceries_df.createOrReplaceTempView(\"groceries\")\n",
    "spark.sql(\"select * from groceries\").show()"
   ]
  },
  {
   "cell_type": "code",
   "execution_count": 5,
   "id": "d96e1228",
   "metadata": {},
   "outputs": [
    {
     "name": "stdout",
     "output_type": "stream",
     "text": [
      "++\n",
      "||\n",
      "++\n",
      "++\n",
      "\n"
     ]
    }
   ],
   "source": [
    "spark.sql(\"\"\"create table  if not exists 009490_retail.groceries (order_id string, location string,\n",
    "item string, order_date string, quantity int) \"\"\").show()"
   ]
  },
  {
   "cell_type": "code",
   "execution_count": 6,
   "id": "3dc9a8ff",
   "metadata": {},
   "outputs": [
    {
     "name": "stdout",
     "output_type": "stream",
     "text": [
      "++\n",
      "||\n",
      "++\n",
      "++\n",
      "\n"
     ]
    }
   ],
   "source": [
    "spark.sql(\"\"\"insert into 009490_retail.groceries select * from groceries\"\"\").show()"
   ]
  },
  {
   "cell_type": "code",
   "execution_count": 7,
   "id": "761ccdd2",
   "metadata": {},
   "outputs": [
    {
     "name": "stdout",
     "output_type": "stream",
     "text": [
      "+-------------+----------+-----------+\n",
      "|     database| tableName|isTemporary|\n",
      "+-------------+----------+-----------+\n",
      "|009490_retail| groceries|      false|\n",
      "|009490_retail|orders_ext|      false|\n",
      "|             | groceries|       true|\n",
      "+-------------+----------+-----------+\n",
      "\n"
     ]
    }
   ],
   "source": [
    "spark.sql(\"\"\"use 009490_retail\"\"\")\n",
    "spark.sql(\"\"\"show tables\"\"\").show()"
   ]
  },
  {
   "cell_type": "code",
   "execution_count": 8,
   "id": "d921a53b",
   "metadata": {},
   "outputs": [
    {
     "name": "stdout",
     "output_type": "stream",
     "text": [
      "+----------------------------+---------------------------------------------------------------------------------+-------+\n",
      "|col_name                    |data_type                                                                        |comment|\n",
      "+----------------------------+---------------------------------------------------------------------------------+-------+\n",
      "|order_id                    |string                                                                           |null   |\n",
      "|location                    |string                                                                           |null   |\n",
      "|item                        |string                                                                           |null   |\n",
      "|order_date                  |string                                                                           |null   |\n",
      "|quantity                    |int                                                                              |null   |\n",
      "|                            |                                                                                 |       |\n",
      "|# Detailed Table Information|                                                                                 |       |\n",
      "|Database                    |009490_retail                                                                    |       |\n",
      "|Table                       |groceries                                                                        |       |\n",
      "|Owner                       |itv009490                                                                        |       |\n",
      "|Created Time                |Sun Oct 29 05:28:50 EDT 2023                                                     |       |\n",
      "|Last Access                 |UNKNOWN                                                                          |       |\n",
      "|Created By                  |Spark 3.1.2                                                                      |       |\n",
      "|Type                        |MANAGED                                                                          |       |\n",
      "|Provider                    |hive                                                                             |       |\n",
      "|Table Properties            |[transient_lastDdlTime=1698571735]                                               |       |\n",
      "|Statistics                  |666 bytes                                                                        |       |\n",
      "|Location                    |hdfs://m01.itversity.com:9000/user/itv009490/warehouse/009490_retail.db/groceries|       |\n",
      "|Serde Library               |org.apache.hadoop.hive.serde2.lazy.LazySimpleSerDe                               |       |\n",
      "|InputFormat                 |org.apache.hadoop.mapred.TextInputFormat                                         |       |\n",
      "+----------------------------+---------------------------------------------------------------------------------+-------+\n",
      "only showing top 20 rows\n",
      "\n"
     ]
    }
   ],
   "source": [
    "spark.sql(\"\"\"desc extended 009490_retail.groceries\"\"\").show(truncate=0)"
   ]
  },
  {
   "cell_type": "code",
   "execution_count": null,
   "id": "43a7b136",
   "metadata": {},
   "outputs": [],
   "source": []
  },
  {
   "cell_type": "code",
   "execution_count": null,
   "id": "da1e46e3",
   "metadata": {},
   "outputs": [],
   "source": []
  },
  {
   "cell_type": "code",
   "execution_count": 19,
   "id": "b7b76668",
   "metadata": {},
   "outputs": [
    {
     "name": "stdout",
     "output_type": "stream",
     "text": [
      "++\n",
      "||\n",
      "++\n",
      "++\n",
      "\n"
     ]
    }
   ],
   "source": [
    "spark.sql(\"\"\"create table  009490_retail.groceries_ext (order_id string, location string,\n",
    "item string, order_date string, quantity int) using csv location '/public/trendytech/groceries.csv' \"\"\").show()"
   ]
  },
  {
   "cell_type": "code",
   "execution_count": 20,
   "id": "9f7e542c",
   "metadata": {},
   "outputs": [
    {
     "name": "stdout",
     "output_type": "stream",
     "text": [
      "+-------------+-------------+-----------+\n",
      "|     database|    tableName|isTemporary|\n",
      "+-------------+-------------+-----------+\n",
      "|009490_retail|    groceries|      false|\n",
      "|009490_retail|groceries_ext|      false|\n",
      "|009490_retail|   orders_ext|      false|\n",
      "|             |    groceries|       true|\n",
      "+-------------+-------------+-----------+\n",
      "\n"
     ]
    }
   ],
   "source": [
    "spark.sql(\"\"\"show tables\"\"\").show()"
   ]
  },
  {
   "cell_type": "code",
   "execution_count": 21,
   "id": "e6c069ce",
   "metadata": {},
   "outputs": [
    {
     "name": "stdout",
     "output_type": "stream",
     "text": [
      "+----------------------------+-------------------------------------------------------------+-------+\n",
      "|col_name                    |data_type                                                    |comment|\n",
      "+----------------------------+-------------------------------------------------------------+-------+\n",
      "|order_id                    |string                                                       |null   |\n",
      "|location                    |string                                                       |null   |\n",
      "|item                        |string                                                       |null   |\n",
      "|order_date                  |string                                                       |null   |\n",
      "|quantity                    |int                                                          |null   |\n",
      "|                            |                                                             |       |\n",
      "|# Detailed Table Information|                                                             |       |\n",
      "|Database                    |009490_retail                                                |       |\n",
      "|Table                       |groceries_ext                                                |       |\n",
      "|Owner                       |itv009490                                                    |       |\n",
      "|Created Time                |Sun Oct 29 05:31:25 EDT 2023                                 |       |\n",
      "|Last Access                 |UNKNOWN                                                      |       |\n",
      "|Created By                  |Spark 3.1.2                                                  |       |\n",
      "|Type                        |EXTERNAL                                                     |       |\n",
      "|Provider                    |csv                                                          |       |\n",
      "|Location                    |hdfs://m01.itversity.com:9000/public/trendytech/groceries.csv|       |\n",
      "|Serde Library               |org.apache.hadoop.hive.serde2.lazy.LazySimpleSerDe           |       |\n",
      "|InputFormat                 |org.apache.hadoop.mapred.SequenceFileInputFormat             |       |\n",
      "|OutputFormat                |org.apache.hadoop.hive.ql.io.HiveSequenceFileOutputFormat    |       |\n",
      "+----------------------------+-------------------------------------------------------------+-------+\n",
      "\n"
     ]
    }
   ],
   "source": [
    "spark.sql(\"\"\"desc extended groceries_ext\"\"\").show(truncate=0)"
   ]
  },
  {
   "cell_type": "code",
   "execution_count": 22,
   "id": "6886d9e7",
   "metadata": {},
   "outputs": [
    {
     "name": "stdout",
     "output_type": "stream",
     "text": [
      "+--------+--------+--------+----------+--------+\n",
      "|order_id|location|item    |order_date|quantity|\n",
      "+--------+--------+--------+----------+--------+\n",
      "|o1      |Seattle |Bananas |01/01/2017|7       |\n",
      "|o2      |Kent    |Apples  |02/01/2017|20      |\n",
      "|o3      |Bellevue|Flowers |02/01/2017|10      |\n",
      "|o4      |Redmond |Meat    |03/01/2017|40      |\n",
      "|o5      |Seattle |Potatoes|04/01/2017|9       |\n",
      "|o6      |Bellevue|Bread   |04/01/2017|5       |\n",
      "|o7      |Redmond |Bread   |05/01/2017|5       |\n",
      "|o8      |Issaquah|Onion   |05/01/2017|4       |\n",
      "|o9      |Redmond |Cheese  |05/01/2017|15      |\n",
      "|o10     |Issaquah|Onion   |06/01/2017|4       |\n",
      "+--------+--------+--------+----------+--------+\n",
      "\n"
     ]
    }
   ],
   "source": [
    "spark.sql(\"\"\"select * from 009490_retail.groceries limit 10\"\"\").show(truncate=0)"
   ]
  },
  {
   "cell_type": "code",
   "execution_count": 23,
   "id": "559fa6a9",
   "metadata": {},
   "outputs": [
    {
     "name": "stdout",
     "output_type": "stream",
     "text": [
      "+--------+---------+--------+----------+--------+\n",
      "|order_id|location |item    |order_date|quantity|\n",
      "+--------+---------+--------+----------+--------+\n",
      "|order_id|location |item    |order_date|null    |\n",
      "|o1      |Seattle  |Bananas |01/01/2017|7       |\n",
      "|o2      |Kent     |Apples  |02/01/2017|20      |\n",
      "|o3      |Bellevue |Flowers |02/01/2017|10      |\n",
      "|o4      |Redmond  |Meat    |03/01/2017|40      |\n",
      "|o5      |Seattle  |Potatoes|04/01/2017|9       |\n",
      "|o6      |Bellevue |Bread   |04/01/2017|5       |\n",
      "|o7      |Redmond  |Bread   |05/01/2017|5       |\n",
      "|o8      |Issaquah |Onion   |05/01/2017|4       |\n",
      "|o9      |Redmond  |Cheese  |05/01/2017|15      |\n",
      "|o10     |Issaquah |Onion   |06/01/2017|4       |\n",
      "|o11     |Renton   |Bread   |05/01/2017|5       |\n",
      "|o12     |Issaquah |Onion   |07/01/2017|4       |\n",
      "|o13     |Sammamish|Bread   |07/01/2017|5       |\n",
      "|o14     |Issaquah |Tomato  |07/01/2017|6       |\n",
      "|o15     |Issaquah |Meat    |08/01/2017|3       |\n",
      "|o16     |Issaquah |Meat    |09/01/2017|5       |\n",
      "|o17     |Issaquah |Meat    |10/01/2017|6       |\n",
      "|o18     |Bellevue |Bread   |11/01/2017|7       |\n",
      "|o19     |Bellevue |Bread   |12/01/2017|54      |\n",
      "+--------+---------+--------+----------+--------+\n",
      "only showing top 20 rows\n",
      "\n"
     ]
    }
   ],
   "source": [
    "spark.sql(\"\"\"select * from 009490_retail.groceries_ext \"\"\").show(truncate=0)"
   ]
  },
  {
   "cell_type": "code",
   "execution_count": 24,
   "id": "2fda1a3f",
   "metadata": {},
   "outputs": [
    {
     "name": "stdout",
     "output_type": "stream",
     "text": [
      "++\n",
      "||\n",
      "++\n",
      "++\n",
      "\n"
     ]
    }
   ],
   "source": [
    "spark.sql(\"\"\"drop table  009490_retail.groceries \"\"\").show(truncate=0)"
   ]
  },
  {
   "cell_type": "code",
   "execution_count": 25,
   "id": "267d7a0d",
   "metadata": {},
   "outputs": [
    {
     "name": "stdout",
     "output_type": "stream",
     "text": [
      "++\n",
      "||\n",
      "++\n",
      "++\n",
      "\n"
     ]
    }
   ],
   "source": [
    "spark.sql(\"\"\"drop table  009490_retail.groceries_ext \"\"\").show(truncate=0)"
   ]
  },
  {
   "cell_type": "code",
   "execution_count": null,
   "id": "5efdcdcd",
   "metadata": {},
   "outputs": [],
   "source": []
  },
  {
   "cell_type": "code",
   "execution_count": null,
   "id": "62a81444",
   "metadata": {},
   "outputs": [],
   "source": []
  },
  {
   "cell_type": "code",
   "execution_count": 42,
   "id": "f496bd0b",
   "metadata": {},
   "outputs": [
    {
     "name": "stdout",
     "output_type": "stream",
     "text": [
      "+-----------+--------------------+--------+---------------+\n",
      "|customer_id|          order_date|order_id|   order_status|\n",
      "+-----------+--------------------+--------+---------------+\n",
      "|      11599|2013-07-25 00:00:...|       1|         CLOSED|\n",
      "|        256|2013-07-25 00:00:...|       2|PENDING_PAYMENT|\n",
      "|      12111|2013-07-25 00:00:...|       3|       COMPLETE|\n",
      "|       8827|2013-07-25 00:00:...|       4|         CLOSED|\n",
      "|      11318|2013-07-25 00:00:...|       5|       COMPLETE|\n",
      "|       7130|2013-07-25 00:00:...|       6|       COMPLETE|\n",
      "|       4530|2013-07-25 00:00:...|       7|       COMPLETE|\n",
      "|       2911|2013-07-25 00:00:...|       8|     PROCESSING|\n",
      "|       5657|2013-07-25 00:00:...|       9|PENDING_PAYMENT|\n",
      "|       5648|2013-07-25 00:00:...|      10|PENDING_PAYMENT|\n",
      "|        918|2013-07-25 00:00:...|      11| PAYMENT_REVIEW|\n",
      "|       1837|2013-07-25 00:00:...|      12|         CLOSED|\n",
      "|       9149|2013-07-25 00:00:...|      13|PENDING_PAYMENT|\n",
      "|       9842|2013-07-25 00:00:...|      14|     PROCESSING|\n",
      "|       2568|2013-07-25 00:00:...|      15|       COMPLETE|\n",
      "|       7276|2013-07-25 00:00:...|      16|PENDING_PAYMENT|\n",
      "|       2667|2013-07-25 00:00:...|      17|       COMPLETE|\n",
      "|       1205|2013-07-25 00:00:...|      18|         CLOSED|\n",
      "|       9488|2013-07-25 00:00:...|      19|PENDING_PAYMENT|\n",
      "|       9198|2013-07-25 00:00:...|      20|     PROCESSING|\n",
      "+-----------+--------------------+--------+---------------+\n",
      "only showing top 20 rows\n",
      "\n"
     ]
    }
   ],
   "source": [
    "orders = spark.read.json(\"/public/trendytech/orders_wh.json/part-00000-68544d18-9a34-443f-bf0e-1dd8103ff94e-c000.json\")\n",
    "orders.show()"
   ]
  },
  {
   "cell_type": "code",
   "execution_count": 43,
   "id": "f2672079",
   "metadata": {},
   "outputs": [],
   "source": [
    "orders = orders.select(\"customer_id\",\"order_date\",\"order_id\",\"order_status\")\n",
    "orders.createOrReplaceTempView(\"orders\")"
   ]
  },
  {
   "cell_type": "code",
   "execution_count": 44,
   "id": "ac449bd6",
   "metadata": {},
   "outputs": [
    {
     "name": "stdout",
     "output_type": "stream",
     "text": [
      "+-------------+\n",
      "|    namespace|\n",
      "+-------------+\n",
      "|009490_retail|\n",
      "+-------------+\n",
      "\n"
     ]
    }
   ],
   "source": [
    "spark.sql(\"show databases\").filter(\"namespace like '009490%'\").show()"
   ]
  },
  {
   "cell_type": "code",
   "execution_count": 45,
   "id": "70092b31",
   "metadata": {},
   "outputs": [
    {
     "data": {
      "text/html": [
       "<table border='1'>\n",
       "<tr><th></th></tr>\n",
       "</table>\n"
      ],
      "text/plain": [
       "++\n",
       "||\n",
       "++\n",
       "++"
      ]
     },
     "execution_count": 45,
     "metadata": {},
     "output_type": "execute_result"
    }
   ],
   "source": [
    "spark.sql(\"\"\"use 009490_retail\"\"\")"
   ]
  },
  {
   "cell_type": "code",
   "execution_count": 50,
   "id": "b285b4d6",
   "metadata": {},
   "outputs": [
    {
     "name": "stdout",
     "output_type": "stream",
     "text": [
      "+--------+---------+-----------+\n",
      "|database|tableName|isTemporary|\n",
      "+--------+---------+-----------+\n",
      "|        |groceries|       true|\n",
      "|        |   orders|       true|\n",
      "+--------+---------+-----------+\n",
      "\n"
     ]
    }
   ],
   "source": [
    "spark.sql(\"\"\"show tables \"\"\").show()"
   ]
  },
  {
   "cell_type": "code",
   "execution_count": 51,
   "id": "ee783f5c",
   "metadata": {},
   "outputs": [
    {
     "name": "stdout",
     "output_type": "stream",
     "text": [
      "++\n",
      "||\n",
      "++\n",
      "++\n",
      "\n"
     ]
    }
   ],
   "source": [
    "spark.sql(\"\"\"create table if not exists 009490_retail.orders_mgd (customer_id string, order_date string, order_id string, order_status string)\"\"\").show()"
   ]
  },
  {
   "cell_type": "code",
   "execution_count": 52,
   "id": "7521865b",
   "metadata": {},
   "outputs": [
    {
     "name": "stdout",
     "output_type": "stream",
     "text": [
      "++\n",
      "||\n",
      "++\n",
      "++\n",
      "\n"
     ]
    }
   ],
   "source": [
    "spark.sql(\"\"\"insert into 009490_retail.orders_mgd select * from orders\"\"\").show()"
   ]
  },
  {
   "cell_type": "code",
   "execution_count": 53,
   "id": "99e42ddd",
   "metadata": {},
   "outputs": [
    {
     "name": "stdout",
     "output_type": "stream",
     "text": [
      "+----------------------------+----------------------------------------------------------------------------------+-------+\n",
      "|col_name                    |data_type                                                                         |comment|\n",
      "+----------------------------+----------------------------------------------------------------------------------+-------+\n",
      "|customer_id                 |string                                                                            |null   |\n",
      "|order_date                  |string                                                                            |null   |\n",
      "|order_id                    |string                                                                            |null   |\n",
      "|order_status                |string                                                                            |null   |\n",
      "|                            |                                                                                  |       |\n",
      "|# Detailed Table Information|                                                                                  |       |\n",
      "|Database                    |009490_retail                                                                     |       |\n",
      "|Table                       |orders_mgd                                                                        |       |\n",
      "|Owner                       |itv009490                                                                         |       |\n",
      "|Created Time                |Sun Oct 29 05:48:21 EDT 2023                                                      |       |\n",
      "|Last Access                 |UNKNOWN                                                                           |       |\n",
      "|Created By                  |Spark 3.1.2                                                                       |       |\n",
      "|Type                        |MANAGED                                                                           |       |\n",
      "|Provider                    |hive                                                                              |       |\n",
      "|Table Properties            |[transient_lastDdlTime=1698572903]                                                |       |\n",
      "|Statistics                  |2999944 bytes                                                                     |       |\n",
      "|Location                    |hdfs://m01.itversity.com:9000/user/itv009490/warehouse/009490_retail.db/orders_mgd|       |\n",
      "|Serde Library               |org.apache.hadoop.hive.serde2.lazy.LazySimpleSerDe                                |       |\n",
      "|InputFormat                 |org.apache.hadoop.mapred.TextInputFormat                                          |       |\n",
      "|OutputFormat                |org.apache.hadoop.hive.ql.io.HiveIgnoreKeyTextOutputFormat                        |       |\n",
      "+----------------------------+----------------------------------------------------------------------------------+-------+\n",
      "only showing top 20 rows\n",
      "\n"
     ]
    }
   ],
   "source": [
    "spark.sql(\"\"\"desc formatted 009490_retail.orders_mgd \"\"\").show(truncate=0)"
   ]
  },
  {
   "cell_type": "code",
   "execution_count": 54,
   "id": "7d508208",
   "metadata": {},
   "outputs": [
    {
     "name": "stdout",
     "output_type": "stream",
     "text": [
      "++\n",
      "||\n",
      "++\n",
      "++\n",
      "\n"
     ]
    }
   ],
   "source": [
    "spark.sql(\"\"\"create table if not exists 009490_retail.orders_ext (customer_id string, order_date string, order_id string, order_status string)\n",
    "using json location '/public/trendytech/orders_wh.json/part-00000-68544d18-9a34-443f-bf0e-1dd8103ff94e-c000.json'\n",
    "\"\"\").show()"
   ]
  },
  {
   "cell_type": "code",
   "execution_count": 55,
   "id": "a8d58525",
   "metadata": {},
   "outputs": [
    {
     "name": "stdout",
     "output_type": "stream",
     "text": [
      "+-----------+--------------------+--------+---------------+\n",
      "|customer_id|          order_date|order_id|   order_status|\n",
      "+-----------+--------------------+--------+---------------+\n",
      "|      11599|2013-07-25 00:00:...|       1|         CLOSED|\n",
      "|        256|2013-07-25 00:00:...|       2|PENDING_PAYMENT|\n",
      "|      12111|2013-07-25 00:00:...|       3|       COMPLETE|\n",
      "|       8827|2013-07-25 00:00:...|       4|         CLOSED|\n",
      "|      11318|2013-07-25 00:00:...|       5|       COMPLETE|\n",
      "|       7130|2013-07-25 00:00:...|       6|       COMPLETE|\n",
      "|       4530|2013-07-25 00:00:...|       7|       COMPLETE|\n",
      "|       2911|2013-07-25 00:00:...|       8|     PROCESSING|\n",
      "|       5657|2013-07-25 00:00:...|       9|PENDING_PAYMENT|\n",
      "|       5648|2013-07-25 00:00:...|      10|PENDING_PAYMENT|\n",
      "|        918|2013-07-25 00:00:...|      11| PAYMENT_REVIEW|\n",
      "|       1837|2013-07-25 00:00:...|      12|         CLOSED|\n",
      "|       9149|2013-07-25 00:00:...|      13|PENDING_PAYMENT|\n",
      "|       9842|2013-07-25 00:00:...|      14|     PROCESSING|\n",
      "|       2568|2013-07-25 00:00:...|      15|       COMPLETE|\n",
      "|       7276|2013-07-25 00:00:...|      16|PENDING_PAYMENT|\n",
      "|       2667|2013-07-25 00:00:...|      17|       COMPLETE|\n",
      "|       1205|2013-07-25 00:00:...|      18|         CLOSED|\n",
      "|       9488|2013-07-25 00:00:...|      19|PENDING_PAYMENT|\n",
      "|       9198|2013-07-25 00:00:...|      20|     PROCESSING|\n",
      "+-----------+--------------------+--------+---------------+\n",
      "only showing top 20 rows\n",
      "\n"
     ]
    }
   ],
   "source": [
    "spark.sql(\"\"\"select * from 009490_retail.orders_ext\"\"\").show()"
   ]
  },
  {
   "cell_type": "code",
   "execution_count": 56,
   "id": "7f11772d",
   "metadata": {},
   "outputs": [
    {
     "name": "stdout",
     "output_type": "stream",
     "text": [
      "+-----------+--------------------+--------+---------------+\n",
      "|customer_id|          order_date|order_id|   order_status|\n",
      "+-----------+--------------------+--------+---------------+\n",
      "|      11599|2013-07-25 00:00:...|       1|         CLOSED|\n",
      "|        256|2013-07-25 00:00:...|       2|PENDING_PAYMENT|\n",
      "|      12111|2013-07-25 00:00:...|       3|       COMPLETE|\n",
      "|       8827|2013-07-25 00:00:...|       4|         CLOSED|\n",
      "|      11318|2013-07-25 00:00:...|       5|       COMPLETE|\n",
      "|       7130|2013-07-25 00:00:...|       6|       COMPLETE|\n",
      "|       4530|2013-07-25 00:00:...|       7|       COMPLETE|\n",
      "|       2911|2013-07-25 00:00:...|       8|     PROCESSING|\n",
      "|       5657|2013-07-25 00:00:...|       9|PENDING_PAYMENT|\n",
      "|       5648|2013-07-25 00:00:...|      10|PENDING_PAYMENT|\n",
      "|        918|2013-07-25 00:00:...|      11| PAYMENT_REVIEW|\n",
      "|       1837|2013-07-25 00:00:...|      12|         CLOSED|\n",
      "|       9149|2013-07-25 00:00:...|      13|PENDING_PAYMENT|\n",
      "|       9842|2013-07-25 00:00:...|      14|     PROCESSING|\n",
      "|       2568|2013-07-25 00:00:...|      15|       COMPLETE|\n",
      "|       7276|2013-07-25 00:00:...|      16|PENDING_PAYMENT|\n",
      "|       2667|2013-07-25 00:00:...|      17|       COMPLETE|\n",
      "|       1205|2013-07-25 00:00:...|      18|         CLOSED|\n",
      "|       9488|2013-07-25 00:00:...|      19|PENDING_PAYMENT|\n",
      "|       9198|2013-07-25 00:00:...|      20|     PROCESSING|\n",
      "+-----------+--------------------+--------+---------------+\n",
      "only showing top 20 rows\n",
      "\n"
     ]
    }
   ],
   "source": [
    "spark.sql(\"\"\"select * from 009490_retail.orders_mgd\"\"\").show()"
   ]
  },
  {
   "cell_type": "code",
   "execution_count": 58,
   "id": "883d4952",
   "metadata": {},
   "outputs": [
    {
     "name": "stdout",
     "output_type": "stream",
     "text": [
      "+----------------------------+------------------------------------------------------------------------------------------------------------------------+-------+\n",
      "|col_name                    |data_type                                                                                                               |comment|\n",
      "+----------------------------+------------------------------------------------------------------------------------------------------------------------+-------+\n",
      "|customer_id                 |string                                                                                                                  |null   |\n",
      "|order_date                  |string                                                                                                                  |null   |\n",
      "|order_id                    |string                                                                                                                  |null   |\n",
      "|order_status                |string                                                                                                                  |null   |\n",
      "|                            |                                                                                                                        |       |\n",
      "|# Detailed Table Information|                                                                                                                        |       |\n",
      "|Database                    |009490_retail                                                                                                           |       |\n",
      "|Table                       |orders_ext                                                                                                              |       |\n",
      "|Owner                       |itv009490                                                                                                               |       |\n",
      "|Created Time                |Sun Oct 29 05:48:36 EDT 2023                                                                                            |       |\n",
      "|Last Access                 |UNKNOWN                                                                                                                 |       |\n",
      "|Created By                  |Spark 3.1.2                                                                                                             |       |\n",
      "|Type                        |EXTERNAL                                                                                                                |       |\n",
      "|Provider                    |json                                                                                                                    |       |\n",
      "|Location                    |hdfs://m01.itversity.com:9000/public/trendytech/orders_wh.json/part-00000-68544d18-9a34-443f-bf0e-1dd8103ff94e-c000.json|       |\n",
      "|Serde Library               |org.apache.hadoop.hive.serde2.lazy.LazySimpleSerDe                                                                      |       |\n",
      "|InputFormat                 |org.apache.hadoop.mapred.SequenceFileInputFormat                                                                        |       |\n",
      "|OutputFormat                |org.apache.hadoop.hive.ql.io.HiveSequenceFileOutputFormat                                                               |       |\n",
      "+----------------------------+------------------------------------------------------------------------------------------------------------------------+-------+\n",
      "\n"
     ]
    }
   ],
   "source": [
    "spark.sql(\"\"\"desc extended 009490_retail.orders_ext\"\"\").show(truncate=0)"
   ]
  },
  {
   "cell_type": "code",
   "execution_count": 49,
   "id": "8ff6ab00",
   "metadata": {},
   "outputs": [
    {
     "name": "stdout",
     "output_type": "stream",
     "text": [
      "++\n",
      "||\n",
      "++\n",
      "++\n",
      "\n"
     ]
    }
   ],
   "source": [
    "spark.sql(\"\"\"drop table 009490_retail.orders_ext\"\"\").show()"
   ]
  },
  {
   "cell_type": "code",
   "execution_count": null,
   "id": "2d37a17e",
   "metadata": {},
   "outputs": [],
   "source": []
  },
  {
   "cell_type": "code",
   "execution_count": null,
   "id": "e200f52a",
   "metadata": {},
   "outputs": [],
   "source": []
  },
  {
   "cell_type": "code",
   "execution_count": null,
   "id": "4d7686be",
   "metadata": {},
   "outputs": [],
   "source": []
  },
  {
   "cell_type": "code",
   "execution_count": null,
   "id": "1caa7faf",
   "metadata": {},
   "outputs": [],
   "source": []
  },
  {
   "cell_type": "code",
   "execution_count": 95,
   "id": "af7af895",
   "metadata": {},
   "outputs": [],
   "source": [
    "products = spark.read.csv(\"products/*\",header=True,inferSchema=True)"
   ]
  },
  {
   "cell_type": "code",
   "execution_count": 96,
   "id": "b0e78a6e",
   "metadata": {},
   "outputs": [
    {
     "name": "stdout",
     "output_type": "stream",
     "text": [
      "+---------+--------+---------------------------------------------+-----------+------+-------------------------------------------------------------------------------------+\n",
      "|ProductID|Category|ProductName                                  |Description|Price |ImageURL                                                                             |\n",
      "+---------+--------+---------------------------------------------+-----------+------+-------------------------------------------------------------------------------------+\n",
      "|1        |2       |Quest Q64 10 FT. x 10 FT. Slant Leg Instant U|null       |59.98 |http://images.acmesports.sports/Quest+Q64+10+FT.+x+10+FT.+Slant+Leg+Instant+Up+Canopy|\n",
      "|2        |2       |Under Armour Men's Highlight MC Football Clea|null       |129.99|http://images.acmesports.sports/Under+Armour+Men%27s+Highlight+MC+Football+Cleat     |\n",
      "|3        |2       |Under Armour Men's Renegade D Mid Football Cl|null       |89.99 |http://images.acmesports.sports/Under+Armour+Men%27s+Renegade+D+Mid+Football+Cleat   |\n",
      "|4        |2       |Under Armour Men's Renegade D Mid Football Cl|null       |89.99 |http://images.acmesports.sports/Under+Armour+Men%27s+Renegade+D+Mid+Football+Cleat   |\n",
      "|5        |2       |Riddell Youth Revolution Speed Custom Footbal|null       |199.99|http://images.acmesports.sports/Riddell+Youth+Revolution+Speed+Custom+Football+Helmet|\n",
      "+---------+--------+---------------------------------------------+-----------+------+-------------------------------------------------------------------------------------+\n",
      "only showing top 5 rows\n",
      "\n"
     ]
    }
   ],
   "source": [
    "products.show(5,truncate=0)"
   ]
  },
  {
   "cell_type": "code",
   "execution_count": 97,
   "id": "e2e332a3",
   "metadata": {},
   "outputs": [
    {
     "name": "stdout",
     "output_type": "stream",
     "text": [
      "root\n",
      " |-- ProductID: string (nullable = true)\n",
      " |-- Category: string (nullable = true)\n",
      " |-- ProductName: string (nullable = true)\n",
      " |-- Description: string (nullable = true)\n",
      " |-- Price: string (nullable = true)\n",
      " |-- ImageURL: string (nullable = true)\n",
      "\n"
     ]
    }
   ],
   "source": [
    "products.printSchema()"
   ]
  },
  {
   "cell_type": "code",
   "execution_count": 98,
   "id": "0fa641f8",
   "metadata": {},
   "outputs": [],
   "source": [
    "products.createOrReplaceTempView(\"products\")"
   ]
  },
  {
   "cell_type": "code",
   "execution_count": 99,
   "id": "d7c53137",
   "metadata": {},
   "outputs": [
    {
     "data": {
      "text/plain": [
       "1346"
      ]
     },
     "execution_count": 99,
     "metadata": {},
     "output_type": "execute_result"
    }
   ],
   "source": [
    "res = products.select(\"productID\").count()\n",
    "res"
   ]
  },
  {
   "cell_type": "code",
   "execution_count": 100,
   "id": "6dc3098d",
   "metadata": {},
   "outputs": [
    {
     "name": "stdout",
     "output_type": "stream",
     "text": [
      "+----------------+\n",
      "|count(productID)|\n",
      "+----------------+\n",
      "|            1346|\n",
      "+----------------+\n",
      "\n"
     ]
    }
   ],
   "source": [
    "res = spark.sql(\"\"\"select count(productID) from products\"\"\")\n",
    "res.show()"
   ]
  },
  {
   "cell_type": "code",
   "execution_count": 93,
   "id": "c1e697ae",
   "metadata": {},
   "outputs": [],
   "source": [
    "spark.stop()"
   ]
  },
  {
   "cell_type": "code",
   "execution_count": null,
   "id": "c04b3dd5",
   "metadata": {},
   "outputs": [],
   "source": []
  },
  {
   "cell_type": "code",
   "execution_count": 101,
   "id": "45031e62",
   "metadata": {},
   "outputs": [
    {
     "data": {
      "text/plain": [
       "56"
      ]
     },
     "execution_count": 101,
     "metadata": {},
     "output_type": "execute_result"
    }
   ],
   "source": [
    "res = products.select(\"category\").distinct().count()\n",
    "res"
   ]
  },
  {
   "cell_type": "code",
   "execution_count": 102,
   "id": "da0dad0f",
   "metadata": {},
   "outputs": [
    {
     "name": "stdout",
     "output_type": "stream",
     "text": [
      "+------------------------+\n",
      "|count(DISTINCT category)|\n",
      "+------------------------+\n",
      "|                      56|\n",
      "+------------------------+\n",
      "\n"
     ]
    }
   ],
   "source": [
    "spark.sql(\"\"\"select count(distinct category) from products\"\"\").show()"
   ]
  },
  {
   "cell_type": "code",
   "execution_count": null,
   "id": "ab9bacef",
   "metadata": {},
   "outputs": [],
   "source": []
  },
  {
   "cell_type": "code",
   "execution_count": null,
   "id": "06882e2e",
   "metadata": {},
   "outputs": [],
   "source": []
  },
  {
   "cell_type": "code",
   "execution_count": 103,
   "id": "c45874c8",
   "metadata": {},
   "outputs": [
    {
     "name": "stdout",
     "output_type": "stream",
     "text": [
      "+------+---------------------------------------------+--------+------------------------------------------------------------------------------------------+\n",
      "|Price |ProductName                                  |Category|ImageURL                                                                                  |\n",
      "+------+---------------------------------------------+--------+------------------------------------------------------------------------------------------+\n",
      "|Price |ProductName                                  |Category|ImageURL                                                                                  |\n",
      "|999.99|SOLE E25 Elliptical                          |4       |http://images.acmesports.sports/SOLE+E25+Elliptical                                       |\n",
      "|999.99|SOLE E25 Elliptical                          |22      |http://images.acmesports.sports/SOLE+E25+Elliptical                                       |\n",
      "|999.99|SOLE E25 Elliptical                          |10      |http://images.acmesports.sports/SOLE+E25+Elliptical                                       |\n",
      "|999.99|Callaway Women's Solaire Gems 20-Piece Comple|32      |http://images.acmesports.sports/Callaway+Women%27s+Solaire+Gems+20-Piece+Complete+Set+-...|\n",
      "+------+---------------------------------------------+--------+------------------------------------------------------------------------------------------+\n",
      "only showing top 5 rows\n",
      "\n"
     ]
    }
   ],
   "source": [
    "res = products.select(\"Price\",\"ProductName\",\"Category\",\"ImageURL\").sort(\"Price\",ascending=False)\n",
    "res.show(5,truncate=0)"
   ]
  },
  {
   "cell_type": "code",
   "execution_count": 85,
   "id": "e4a46537",
   "metadata": {},
   "outputs": [
    {
     "name": "stdout",
     "output_type": "stream",
     "text": [
      "+---------+--------+--------------------+-----------+------+--------------------+\n",
      "|ProductID|Category|         ProductName|Description| Price|            ImageURL|\n",
      "+---------+--------+--------------------+-----------+------+--------------------+\n",
      "|        1|       2|Quest Q64 10 FT. ...|       null| 59.98|http://images.acm...|\n",
      "|        2|       2|Under Armour Men'...|       null|129.99|http://images.acm...|\n",
      "|        3|       2|Under Armour Men'...|       null| 89.99|http://images.acm...|\n",
      "|        4|       2|Under Armour Men'...|       null| 89.99|http://images.acm...|\n",
      "|        5|       2|Riddell Youth Rev...|       null|199.99|http://images.acm...|\n",
      "|        6|       2|Jordan Men's VI R...|       null|134.99|http://images.acm...|\n",
      "|        7|       2|Schutt Youth Recr...|       null| 99.99|http://images.acm...|\n",
      "|        8|       2|Nike Men's Vapor ...|       null|129.99|http://images.acm...|\n",
      "|        9|       2|Nike Adult Vapor ...|       null|  50.0|http://images.acm...|\n",
      "|       10|       2|Under Armour Men'...|       null|129.99|http://images.acm...|\n",
      "|       11|       2|Fitness Gear 300 ...|       null|209.99|http://images.acm...|\n",
      "|       12|       2|Under Armour Men'...|       null|139.99|http://images.acm...|\n",
      "|       13|       2|Under Armour Men'...|       null| 89.99|http://images.acm...|\n",
      "|       14|       2|Quik Shade Summit...|       null|199.99|http://images.acm...|\n",
      "|       15|       2|Under Armour Kids...|       null| 59.99|http://images.acm...|\n",
      "|       16|       2|Riddell Youth 360...|       null|299.99|http://images.acm...|\n",
      "|       17|       2|Under Armour Men'...|       null|129.99|http://images.acm...|\n",
      "|       18|       2|Reebok Men's Full...|       null| 29.97|http://images.acm...|\n",
      "|       19|       2|Nike Men's Finger...|       null|124.99|http://images.acm...|\n",
      "|       20|       2|Under Armour Men'...|       null|129.99|http://images.acm...|\n",
      "+---------+--------+--------------------+-----------+------+--------------------+\n",
      "only showing top 20 rows\n",
      "\n"
     ]
    }
   ],
   "source": [
    "products.show()"
   ]
  },
  {
   "cell_type": "code",
   "execution_count": null,
   "id": "a73bb57e",
   "metadata": {},
   "outputs": [],
   "source": []
  },
  {
   "cell_type": "code",
   "execution_count": null,
   "id": "f7090a4b",
   "metadata": {},
   "outputs": [],
   "source": []
  },
  {
   "cell_type": "code",
   "execution_count": 104,
   "id": "3e1bb081",
   "metadata": {},
   "outputs": [
    {
     "name": "stdout",
     "output_type": "stream",
     "text": [
      "+--------+-----+\n",
      "|category|count|\n",
      "+--------+-----+\n",
      "|       7|   24|\n",
      "|      51|   24|\n",
      "|      15|   24|\n",
      "|      54|   24|\n",
      "|      11|   24|\n",
      "|      29|   24|\n",
      "|      42|    4|\n",
      "|       3|   23|\n",
      "|      30|   24|\n",
      "|      34|   24|\n",
      "|      59|   24|\n",
      "|       8|   24|\n",
      "|      22|   24|\n",
      "|      16|   24|\n",
      "|      35|   24|\n",
      "|      52|   23|\n",
      "|      47|   24|\n",
      "|      43|   24|\n",
      "|       5|   24|\n",
      "|      31|   24|\n",
      "+--------+-----+\n",
      "only showing top 20 rows\n",
      "\n"
     ]
    }
   ],
   "source": [
    "res = products.filter(\"price>'100'\").groupBy(\"category\").count()\n",
    "res.show()"
   ]
  },
  {
   "cell_type": "code",
   "execution_count": null,
   "id": "e3dc5168",
   "metadata": {},
   "outputs": [],
   "source": []
  },
  {
   "cell_type": "code",
   "execution_count": 111,
   "id": "7ed051df",
   "metadata": {},
   "outputs": [
    {
     "name": "stdout",
     "output_type": "stream",
     "text": [
      "+------------------------------------------------+------+\n",
      "|productname                                     |price |\n",
      "+------------------------------------------------+------+\n",
      "|\"Goaliath 54\"\" In-Ground Basketball Hoop with P\"|499.99|\n",
      "|Fitness Gear 300 lb Olympic Weight Set          |209.99|\n",
      "|Teeter Hang Ups NXT-S Inversion Table           |299.99|\n",
      "+------------------------------------------------+------+\n",
      "\n"
     ]
    }
   ],
   "source": [
    "res = products.filter(\"category = 5 and price > 200 \").select(\"productname\",\"price\")\n",
    "res.show(truncate=0)"
   ]
  },
  {
   "cell_type": "code",
   "execution_count": null,
   "id": "c217b4a9",
   "metadata": {},
   "outputs": [],
   "source": []
  },
  {
   "cell_type": "code",
   "execution_count": null,
   "id": "4fd55be7",
   "metadata": {},
   "outputs": [],
   "source": []
  },
  {
   "cell_type": "code",
   "execution_count": null,
   "id": "bf00d3a5",
   "metadata": {},
   "outputs": [],
   "source": []
  },
  {
   "cell_type": "code",
   "execution_count": null,
   "id": "b7ed62a3",
   "metadata": {},
   "outputs": [],
   "source": []
  },
  {
   "cell_type": "code",
   "execution_count": 112,
   "id": "a85bb3d2",
   "metadata": {},
   "outputs": [
    {
     "name": "stdout",
     "output_type": "stream",
     "text": [
      "root\n",
      " |-- cust_id: integer (nullable = true)\n",
      " |-- cust_fname: string (nullable = true)\n",
      " |-- cust_lname: string (nullable = true)\n",
      " |-- cust_email: string (nullable = true)\n",
      " |-- cust_password: string (nullable = true)\n",
      " |-- cust_street: string (nullable = true)\n",
      " |-- cust_city: string (nullable = true)\n",
      " |-- cust_state: string (nullable = true)\n",
      " |-- cust_zipcode: integer (nullable = true)\n",
      "\n"
     ]
    }
   ],
   "source": [
    "customers = spark.read.csv(\"customers/customers_wh.csv\",header=True,inferSchema=True)\n",
    "customers.printSchema()"
   ]
  },
  {
   "cell_type": "code",
   "execution_count": 113,
   "id": "633f0f4e",
   "metadata": {},
   "outputs": [
    {
     "name": "stdout",
     "output_type": "stream",
     "text": [
      "+-------+----------+----------+----------+-------------+-----------------------+-----------+----------+------------+\n",
      "|cust_id|cust_fname|cust_lname|cust_email|cust_password|cust_street            |cust_city  |cust_state|cust_zipcode|\n",
      "+-------+----------+----------+----------+-------------+-----------------------+-----------+----------+------------+\n",
      "|1      |Richard   |Hernandez |XXXXXXXXX |XXXXXXXXX    |6303 Heather Plaza     |Brownsville|TX        |78521       |\n",
      "|2      |Mary      |Barrett   |XXXXXXXXX |XXXXXXXXX    |9526 Noble Embers Ridge|Littleton  |CO        |80126       |\n",
      "|3      |Ann       |Smith     |XXXXXXXXX |XXXXXXXXX    |3422 Blue Pioneer Bend |Caguas     |PR        |725         |\n",
      "|4      |Mary      |Jones     |XXXXXXXXX |XXXXXXXXX    |8324 Little Common     |San Marcos |CA        |92069       |\n",
      "|5      |Robert    |Hudson    |XXXXXXXXX |XXXXXXXXX    |10 Crystal River Mall  |Caguas     |PR        |725         |\n",
      "+-------+----------+----------+----------+-------------+-----------------------+-----------+----------+------------+\n",
      "only showing top 5 rows\n",
      "\n"
     ]
    }
   ],
   "source": [
    "customers.show(5,truncate=0)"
   ]
  },
  {
   "cell_type": "code",
   "execution_count": 115,
   "id": "d52077be",
   "metadata": {},
   "outputs": [],
   "source": [
    "customers.createOrReplaceTempView(\"customers\")"
   ]
  },
  {
   "cell_type": "code",
   "execution_count": 118,
   "id": "32744ee7",
   "metadata": {},
   "outputs": [
    {
     "name": "stdout",
     "output_type": "stream",
     "text": [
      "+----------+----+\n",
      "|cust_state|cnt |\n",
      "+----------+----+\n",
      "|AZ        |213 |\n",
      "|SC        |41  |\n",
      "|LA        |63  |\n",
      "|MN        |39  |\n",
      "|NJ        |219 |\n",
      "|DC        |42  |\n",
      "|OR        |119 |\n",
      "|VA        |136 |\n",
      "|RI        |15  |\n",
      "|KY        |35  |\n",
      "|MI        |254 |\n",
      "|NV        |103 |\n",
      "|WI        |64  |\n",
      "|ID        |9   |\n",
      "|CA        |2012|\n",
      "|CT        |73  |\n",
      "|MT        |7   |\n",
      "|NC        |150 |\n",
      "|MD        |164 |\n",
      "|DE        |23  |\n",
      "+----------+----+\n",
      "only showing top 20 rows\n",
      "\n"
     ]
    }
   ],
   "source": [
    "spark.sql(\"\"\"select cust_state,count(*) as cnt from customers group by cust_state \"\"\").show(truncate=0)"
   ]
  },
  {
   "cell_type": "code",
   "execution_count": 119,
   "id": "a3be7ac6",
   "metadata": {},
   "outputs": [
    {
     "name": "stdout",
     "output_type": "stream",
     "text": [
      "+----------+-----+\n",
      "|cust_state|count|\n",
      "+----------+-----+\n",
      "|        AZ|  213|\n",
      "|        SC|   41|\n",
      "|        LA|   63|\n",
      "|        MN|   39|\n",
      "|        NJ|  219|\n",
      "|        DC|   42|\n",
      "|        OR|  119|\n",
      "|        VA|  136|\n",
      "|        RI|   15|\n",
      "|        KY|   35|\n",
      "|        MI|  254|\n",
      "|        NV|  103|\n",
      "|        WI|   64|\n",
      "|        ID|    9|\n",
      "|        CA| 2012|\n",
      "|        CT|   73|\n",
      "|        MT|    7|\n",
      "|        NC|  150|\n",
      "|        MD|  164|\n",
      "|        DE|   23|\n",
      "+----------+-----+\n",
      "only showing top 20 rows\n",
      "\n"
     ]
    }
   ],
   "source": [
    "res = customers.groupby(\"cust_state\").count()\n",
    "res.show()"
   ]
  },
  {
   "cell_type": "code",
   "execution_count": 120,
   "id": "87e077df",
   "metadata": {},
   "outputs": [
    {
     "name": "stdout",
     "output_type": "stream",
     "text": [
      "+----------+-----+\n",
      "|cust_lname|count|\n",
      "+----------+-----+\n",
      "|Smith     |4626 |\n",
      "|Johnson   |76   |\n",
      "|Williams  |69   |\n",
      "|Jones     |65   |\n",
      "|Brown     |62   |\n",
      "+----------+-----+\n",
      "only showing top 5 rows\n",
      "\n"
     ]
    }
   ],
   "source": [
    "res = customers.groupby(\"cust_lname\").count()\n",
    "res.sort(\"count\",ascending=False).show(5,truncate=0)"
   ]
  },
  {
   "cell_type": "code",
   "execution_count": 121,
   "id": "daa8b366",
   "metadata": {},
   "outputs": [
    {
     "name": "stdout",
     "output_type": "stream",
     "text": [
      "+----------+-----+\n",
      "|cust_lname|count|\n",
      "+----------+-----+\n",
      "|     Smith| 4626|\n",
      "|   Johnson|   76|\n",
      "|  Williams|   69|\n",
      "|     Jones|   65|\n",
      "|     Brown|   62|\n",
      "+----------+-----+\n",
      "\n"
     ]
    }
   ],
   "source": [
    "spark.sql(\"\"\"select cust_lname,count(*) as count from customers group by cust_lname order by count desc limit 5 \"\"\").show()"
   ]
  },
  {
   "cell_type": "code",
   "execution_count": 131,
   "id": "6fd9a81e",
   "metadata": {},
   "outputs": [
    {
     "name": "stdout",
     "output_type": "stream",
     "text": [
      "+-------+----------+----------+----------+-------------+--------------------+-------------+----------+------------+\n",
      "|cust_id|cust_fname|cust_lname|cust_email|cust_password|         cust_street|    cust_city|cust_state|cust_zipcode|\n",
      "+-------+----------+----------+----------+-------------+--------------------+-------------+----------+------------+\n",
      "|      3|       Ann|     Smith| XXXXXXXXX|    XXXXXXXXX|3422 Blue Pioneer...|       Caguas|        PR|         725|\n",
      "|      5|    Robert|    Hudson| XXXXXXXXX|    XXXXXXXXX|10 Crystal River ...|       Caguas|        PR|         725|\n",
      "|      6|      Mary|     Smith| XXXXXXXXX|    XXXXXXXXX|3151 Sleepy Quail...|      Passaic|        NJ|        7055|\n",
      "|      7|   Melissa|    Wilcox| XXXXXXXXX|    XXXXXXXXX|9453 High Concession|       Caguas|        PR|         725|\n",
      "|      8|     Megan|     Smith| XXXXXXXXX|    XXXXXXXXX|3047 Foggy Forest...|     Lawrence|        MA|        1841|\n",
      "|      9|      Mary|     Perez| XXXXXXXXX|    XXXXXXXXX| 3616 Quaking Street|       Caguas|        PR|         725|\n",
      "|     11|      Mary|   Huffman| XXXXXXXXX|    XXXXXXXXX|    3169 Stony Woods|       Caguas|        PR|         725|\n",
      "|     13|      Mary|   Baldwin| XXXXXXXXX|    XXXXXXXXX|7922 Iron Oak Gar...|       Caguas|        PR|         725|\n",
      "|     16|   Tiffany|     Smith| XXXXXXXXX|    XXXXXXXXX|      6651 Iron Port|       Caguas|        PR|         725|\n",
      "|     19| Stephanie|  Mitchell| XXXXXXXXX|    XXXXXXXXX|3543 Red Treasure...|       Caguas|        PR|         725|\n",
      "|     20|      Mary|     Ellis| XXXXXXXXX|    XXXXXXXXX|      4703 Old Route|West New York|        NJ|        7093|\n",
      "|     21|   William| Zimmerman| XXXXXXXXX|    XXXXXXXXX|3323 Old Willow M...|       Caguas|        PR|         725|\n",
      "|     22|    Joseph|     Smith| XXXXXXXXX|    XXXXXXXXX|7740 Broad Fox Vi...| North Bergen|        NJ|        7047|\n",
      "|     23|  Benjamin|    Duarte| XXXXXXXXX|    XXXXXXXXX|8811 High Horse I...|     San Juan|        PR|         921|\n",
      "|     24|      Mary|     Smith| XXXXXXXXX|    XXXXXXXXX| 9417 Emerald Towers|       Caguas|        PR|         725|\n",
      "|     27|      Mary|   Vincent| XXXXXXXXX|    XXXXXXXXX|1768 Sleepy Zephy...|       Caguas|        PR|         725|\n",
      "|     30|   Barbara|     Smith| XXXXXXXXX|    XXXXXXXXX|   2455 Merry Hollow|       Caguas|        PR|         725|\n",
      "|     32|     Alice|     Smith| XXXXXXXXX|    XXXXXXXXX|   2082 Hidden Green|       Caguas|        PR|         725|\n",
      "|     34|      Mary|     Smith| XXXXXXXXX|    XXXXXXXXX|3330 Easy Berry R...|       Caguas|        PR|         725|\n",
      "|     36|  Michelle|     Carey| XXXXXXXXX|    XXXXXXXXX| 6336 Fallen Village|       Caguas|        PR|         725|\n",
      "+-------+----------+----------+----------+-------------+--------------------+-------------+----------+------------+\n",
      "only showing top 20 rows\n",
      "\n"
     ]
    }
   ],
   "source": [
    "res = customers.filter(\"length(cust_zipcode)<>5\")\n",
    "res.show()"
   ]
  },
  {
   "cell_type": "code",
   "execution_count": 134,
   "id": "38cd1cff",
   "metadata": {},
   "outputs": [
    {
     "name": "stdout",
     "output_type": "stream",
     "text": [
      "+-------+----------+----------+----------+-------------+--------------------+-------------+----------+------------+\n",
      "|cust_id|cust_fname|cust_lname|cust_email|cust_password|         cust_street|    cust_city|cust_state|cust_zipcode|\n",
      "+-------+----------+----------+----------+-------------+--------------------+-------------+----------+------------+\n",
      "|      3|       Ann|     Smith| XXXXXXXXX|    XXXXXXXXX|3422 Blue Pioneer...|       Caguas|        PR|         725|\n",
      "|      5|    Robert|    Hudson| XXXXXXXXX|    XXXXXXXXX|10 Crystal River ...|       Caguas|        PR|         725|\n",
      "|      6|      Mary|     Smith| XXXXXXXXX|    XXXXXXXXX|3151 Sleepy Quail...|      Passaic|        NJ|        7055|\n",
      "|      7|   Melissa|    Wilcox| XXXXXXXXX|    XXXXXXXXX|9453 High Concession|       Caguas|        PR|         725|\n",
      "|      8|     Megan|     Smith| XXXXXXXXX|    XXXXXXXXX|3047 Foggy Forest...|     Lawrence|        MA|        1841|\n",
      "|      9|      Mary|     Perez| XXXXXXXXX|    XXXXXXXXX| 3616 Quaking Street|       Caguas|        PR|         725|\n",
      "|     11|      Mary|   Huffman| XXXXXXXXX|    XXXXXXXXX|    3169 Stony Woods|       Caguas|        PR|         725|\n",
      "|     13|      Mary|   Baldwin| XXXXXXXXX|    XXXXXXXXX|7922 Iron Oak Gar...|       Caguas|        PR|         725|\n",
      "|     16|   Tiffany|     Smith| XXXXXXXXX|    XXXXXXXXX|      6651 Iron Port|       Caguas|        PR|         725|\n",
      "|     19| Stephanie|  Mitchell| XXXXXXXXX|    XXXXXXXXX|3543 Red Treasure...|       Caguas|        PR|         725|\n",
      "|     20|      Mary|     Ellis| XXXXXXXXX|    XXXXXXXXX|      4703 Old Route|West New York|        NJ|        7093|\n",
      "|     21|   William| Zimmerman| XXXXXXXXX|    XXXXXXXXX|3323 Old Willow M...|       Caguas|        PR|         725|\n",
      "|     22|    Joseph|     Smith| XXXXXXXXX|    XXXXXXXXX|7740 Broad Fox Vi...| North Bergen|        NJ|        7047|\n",
      "|     23|  Benjamin|    Duarte| XXXXXXXXX|    XXXXXXXXX|8811 High Horse I...|     San Juan|        PR|         921|\n",
      "|     24|      Mary|     Smith| XXXXXXXXX|    XXXXXXXXX| 9417 Emerald Towers|       Caguas|        PR|         725|\n",
      "|     27|      Mary|   Vincent| XXXXXXXXX|    XXXXXXXXX|1768 Sleepy Zephy...|       Caguas|        PR|         725|\n",
      "|     30|   Barbara|     Smith| XXXXXXXXX|    XXXXXXXXX|   2455 Merry Hollow|       Caguas|        PR|         725|\n",
      "|     32|     Alice|     Smith| XXXXXXXXX|    XXXXXXXXX|   2082 Hidden Green|       Caguas|        PR|         725|\n",
      "|     34|      Mary|     Smith| XXXXXXXXX|    XXXXXXXXX|3330 Easy Berry R...|       Caguas|        PR|         725|\n",
      "|     36|  Michelle|     Carey| XXXXXXXXX|    XXXXXXXXX| 6336 Fallen Village|       Caguas|        PR|         725|\n",
      "+-------+----------+----------+----------+-------------+--------------------+-------------+----------+------------+\n",
      "only showing top 20 rows\n",
      "\n"
     ]
    }
   ],
   "source": [
    "spark.sql(\"\"\"select *  from customers where length(cust_zipcode) <>5 \"\"\").show()"
   ]
  },
  {
   "cell_type": "code",
   "execution_count": 135,
   "id": "b18b9c3c",
   "metadata": {},
   "outputs": [
    {
     "data": {
      "text/plain": [
       "7244"
      ]
     },
     "execution_count": 135,
     "metadata": {},
     "output_type": "execute_result"
    }
   ],
   "source": [
    "res = customers.filter(\"length(cust_zipcode)=5\").select(\"cust_id\").count()\n",
    "res"
   ]
  },
  {
   "cell_type": "code",
   "execution_count": 136,
   "id": "ceea24fe",
   "metadata": {},
   "outputs": [
    {
     "name": "stdout",
     "output_type": "stream",
     "text": [
      "+--------+\n",
      "|count(1)|\n",
      "+--------+\n",
      "|    7244|\n",
      "+--------+\n",
      "\n"
     ]
    }
   ],
   "source": [
    "spark.sql(\"\"\"select count(*) from customers where length(cust_zipcode)=5 \"\"\").show()"
   ]
  },
  {
   "cell_type": "code",
   "execution_count": null,
   "id": "9fb3dbcd",
   "metadata": {},
   "outputs": [],
   "source": []
  },
  {
   "cell_type": "code",
   "execution_count": 126,
   "id": "bd3c5527",
   "metadata": {},
   "outputs": [
    {
     "name": "stdout",
     "output_type": "stream",
     "text": [
      "+-------------+-----+\n",
      "|    cust_city|count|\n",
      "+-------------+-----+\n",
      "|       Corona|   14|\n",
      "|    Pittsburg|    4|\n",
      "|      Compton|   19|\n",
      "|    Palo Alto|    6|\n",
      "|      Hanford|    9|\n",
      "|      Anaheim|   19|\n",
      "|       Folsom|    6|\n",
      "|         Napa|    8|\n",
      "|     Temecula|    6|\n",
      "|       Reseda|    6|\n",
      "|    Encinitas|   17|\n",
      "|    Oceanside|   24|\n",
      "|    Cupertino|    9|\n",
      "|      Oakland|    3|\n",
      "|        Davis|    9|\n",
      "|      Fontana|   18|\n",
      "|Mission Viejo|   26|\n",
      "|       Madera|    5|\n",
      "|    Elk Grove|   10|\n",
      "|  Bakersfield|   41|\n",
      "+-------------+-----+\n",
      "only showing top 20 rows\n",
      "\n"
     ]
    }
   ],
   "source": [
    "res = customers.filter(\"cust_state = 'CA'\").groupby(\"cust_city\").count()\n",
    "res.show()"
   ]
  },
  {
   "cell_type": "code",
   "execution_count": 127,
   "id": "517fcd70",
   "metadata": {},
   "outputs": [
    {
     "name": "stdout",
     "output_type": "stream",
     "text": [
      "+-------------+--------+\n",
      "|    cust_city|count(1)|\n",
      "+-------------+--------+\n",
      "|       Corona|      14|\n",
      "|    Pittsburg|       4|\n",
      "|      Compton|      19|\n",
      "|    Palo Alto|       6|\n",
      "|      Hanford|       9|\n",
      "|      Anaheim|      19|\n",
      "|       Folsom|       6|\n",
      "|         Napa|       8|\n",
      "|     Temecula|       6|\n",
      "|       Reseda|       6|\n",
      "|    Encinitas|      17|\n",
      "|    Oceanside|      24|\n",
      "|    Cupertino|       9|\n",
      "|      Oakland|       3|\n",
      "|        Davis|       9|\n",
      "|      Fontana|      18|\n",
      "|Mission Viejo|      26|\n",
      "|       Madera|       5|\n",
      "|    Elk Grove|      10|\n",
      "|  Bakersfield|      41|\n",
      "+-------------+--------+\n",
      "only showing top 20 rows\n",
      "\n"
     ]
    }
   ],
   "source": [
    "spark.sql(\"\"\"select cust_city,count(*) from customers where cust_state='CA' group by cust_city\"\"\").show()"
   ]
  },
  {
   "cell_type": "code",
   "execution_count": null,
   "id": "4d38af38",
   "metadata": {},
   "outputs": [],
   "source": []
  }
 ],
 "metadata": {
  "kernelspec": {
   "display_name": "Pyspark 3",
   "language": "python",
   "name": "pyspark3"
  },
  "language_info": {
   "codemirror_mode": {
    "name": "ipython",
    "version": 3
   },
   "file_extension": ".py",
   "mimetype": "text/x-python",
   "name": "python",
   "nbconvert_exporter": "python",
   "pygments_lexer": "ipython3",
   "version": "3.6.12"
  }
 },
 "nbformat": 4,
 "nbformat_minor": 5
}
