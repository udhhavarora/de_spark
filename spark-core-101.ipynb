{
 "cells": [
  {
   "cell_type": "code",
   "execution_count": 1,
   "id": "f9a7db9d",
   "metadata": {},
   "outputs": [
    {
     "data": {
      "text/html": [
       "\n",
       "            <div>\n",
       "                <p><b>SparkSession - hive</b></p>\n",
       "                \n",
       "        <div>\n",
       "            <p><b>SparkContext</b></p>\n",
       "\n",
       "            <p><a href=\"http://g01.itversity.com:44397\">Spark UI</a></p>\n",
       "\n",
       "            <dl>\n",
       "              <dt>Version</dt>\n",
       "                <dd><code>v3.1.2</code></dd>\n",
       "              <dt>Master</dt>\n",
       "                <dd><code>yarn</code></dd>\n",
       "              <dt>AppName</dt>\n",
       "                <dd><code>pyspark-shell</code></dd>\n",
       "            </dl>\n",
       "        </div>\n",
       "        \n",
       "            </div>\n",
       "        "
      ],
      "text/plain": [
       "<pyspark.sql.session.SparkSession at 0x7f778f5196d8>"
      ]
     },
     "execution_count": 1,
     "metadata": {},
     "output_type": "execute_result"
    }
   ],
   "source": [
    "from pyspark.sql import SparkSession\n",
    "\n",
    "import getpass\n",
    "\n",
    "username = getpass.getuser()\n",
    "\n",
    "spark = SparkSession.\\\n",
    "builder. \\\n",
    "config('spark.ui.port','0'). \\\n",
    "config(\"spark.sql.warehouse.dir\", f\"/user/{username}/warehouse\"). \\\n",
    "enableHiveSupport(). \\\n",
    "master('yarn'). \\\n",
    "getOrCreate()\n",
    "\n",
    "spark"
   ]
  },
  {
   "cell_type": "code",
   "execution_count": 2,
   "id": "663ac2c8",
   "metadata": {},
   "outputs": [],
   "source": [
    "orders_rdd = spark.sparkContext.textFile(\"/public/trendytech/retail_db/orders/*\")"
   ]
  },
  {
   "cell_type": "code",
   "execution_count": 5,
   "id": "8f0844ec",
   "metadata": {},
   "outputs": [
    {
     "data": {
      "text/plain": [
       "['1,2013-07-25 00:00:00.0,11599,CLOSED',\n",
       " '2,2013-07-25 00:00:00.0,256,PENDING_PAYMENT',\n",
       " '3,2013-07-25 00:00:00.0,12111,COMPLETE',\n",
       " '4,2013-07-25 00:00:00.0,8827,CLOSED',\n",
       " '5,2013-07-25 00:00:00.0,11318,COMPLETE',\n",
       " '6,2013-07-25 00:00:00.0,7130,COMPLETE',\n",
       " '7,2013-07-25 00:00:00.0,4530,COMPLETE',\n",
       " '8,2013-07-25 00:00:00.0,2911,PROCESSING',\n",
       " '9,2013-07-25 00:00:00.0,5657,PENDING_PAYMENT',\n",
       " '10,2013-07-25 00:00:00.0,5648,PENDING_PAYMENT']"
      ]
     },
     "execution_count": 5,
     "metadata": {},
     "output_type": "execute_result"
    }
   ],
   "source": [
    "orders_rdd.take(10)"
   ]
  },
  {
   "cell_type": "code",
   "execution_count": 10,
   "id": "02f24ac9",
   "metadata": {},
   "outputs": [],
   "source": [
    "rdd1 = orders_rdd.map(lambda x : (x.split(\",\")[-1],1))"
   ]
  },
  {
   "cell_type": "code",
   "execution_count": 11,
   "id": "efd5362c",
   "metadata": {},
   "outputs": [
    {
     "data": {
      "text/plain": [
       "[('CLOSED', 1),\n",
       " ('PENDING_PAYMENT', 1),\n",
       " ('COMPLETE', 1),\n",
       " ('CLOSED', 1),\n",
       " ('COMPLETE', 1),\n",
       " ('COMPLETE', 1),\n",
       " ('COMPLETE', 1),\n",
       " ('PROCESSING', 1),\n",
       " ('PENDING_PAYMENT', 1),\n",
       " ('PENDING_PAYMENT', 1)]"
      ]
     },
     "execution_count": 11,
     "metadata": {},
     "output_type": "execute_result"
    }
   ],
   "source": [
    "rdd1.take(10)"
   ]
  },
  {
   "cell_type": "code",
   "execution_count": 12,
   "id": "398ad71d",
   "metadata": {},
   "outputs": [],
   "source": [
    "rdd2 = rdd1.reduceByKey(lambda x,y:x+y)"
   ]
  },
  {
   "cell_type": "code",
   "execution_count": 13,
   "id": "e082757d",
   "metadata": {},
   "outputs": [
    {
     "data": {
      "text/plain": [
       "[('CLOSED', 7556),\n",
       " ('CANCELED', 1428),\n",
       " ('PENDING_PAYMENT', 15030),\n",
       " ('COMPLETE', 22899),\n",
       " ('PROCESSING', 8275),\n",
       " ('PAYMENT_REVIEW', 729),\n",
       " ('PENDING', 7610),\n",
       " ('ON_HOLD', 3798),\n",
       " ('SUSPECTED_FRAUD', 1558)]"
      ]
     },
     "execution_count": 13,
     "metadata": {},
     "output_type": "execute_result"
    }
   ],
   "source": [
    "rdd2.take(10)"
   ]
  },
  {
   "cell_type": "code",
   "execution_count": 17,
   "id": "2993783a",
   "metadata": {},
   "outputs": [],
   "source": [
    "rdd3 = rdd2.sortByKey(ascending=False)"
   ]
  },
  {
   "cell_type": "code",
   "execution_count": 18,
   "id": "71dbcec1",
   "metadata": {},
   "outputs": [
    {
     "data": {
      "text/plain": [
       "[('SUSPECTED_FRAUD', 1558),\n",
       " ('PROCESSING', 8275),\n",
       " ('PENDING_PAYMENT', 15030),\n",
       " ('PENDING', 7610),\n",
       " ('PAYMENT_REVIEW', 729),\n",
       " ('ON_HOLD', 3798),\n",
       " ('COMPLETE', 22899),\n",
       " ('CLOSED', 7556),\n",
       " ('CANCELED', 1428)]"
      ]
     },
     "execution_count": 18,
     "metadata": {},
     "output_type": "execute_result"
    }
   ],
   "source": [
    "rdd3.take(10)"
   ]
  },
  {
   "cell_type": "code",
   "execution_count": 19,
   "id": "ac01a4de",
   "metadata": {},
   "outputs": [],
   "source": [
    "rdd4 = rdd2.sortBy(lambda x:x[-1],ascending=False)"
   ]
  },
  {
   "cell_type": "code",
   "execution_count": 20,
   "id": "55c952ef",
   "metadata": {},
   "outputs": [
    {
     "data": {
      "text/plain": [
       "[('COMPLETE', 22899),\n",
       " ('PENDING_PAYMENT', 15030),\n",
       " ('PROCESSING', 8275),\n",
       " ('PENDING', 7610),\n",
       " ('CLOSED', 7556),\n",
       " ('ON_HOLD', 3798),\n",
       " ('SUSPECTED_FRAUD', 1558),\n",
       " ('CANCELED', 1428),\n",
       " ('PAYMENT_REVIEW', 729)]"
      ]
     },
     "execution_count": 20,
     "metadata": {},
     "output_type": "execute_result"
    }
   ],
   "source": [
    "rdd4.take(10)"
   ]
  },
  {
   "cell_type": "markdown",
   "id": "01c0274d",
   "metadata": {},
   "source": [
    "# Top10 customer_id's who placed max orders"
   ]
  },
  {
   "cell_type": "code",
   "execution_count": 23,
   "id": "84259424",
   "metadata": {},
   "outputs": [
    {
     "data": {
      "text/plain": [
       "['1,2013-07-25 00:00:00.0,11599,CLOSED',\n",
       " '2,2013-07-25 00:00:00.0,256,PENDING_PAYMENT',\n",
       " '3,2013-07-25 00:00:00.0,12111,COMPLETE',\n",
       " '4,2013-07-25 00:00:00.0,8827,CLOSED',\n",
       " '5,2013-07-25 00:00:00.0,11318,COMPLETE',\n",
       " '6,2013-07-25 00:00:00.0,7130,COMPLETE',\n",
       " '7,2013-07-25 00:00:00.0,4530,COMPLETE',\n",
       " '8,2013-07-25 00:00:00.0,2911,PROCESSING',\n",
       " '9,2013-07-25 00:00:00.0,5657,PENDING_PAYMENT',\n",
       " '10,2013-07-25 00:00:00.0,5648,PENDING_PAYMENT']"
      ]
     },
     "execution_count": 23,
     "metadata": {},
     "output_type": "execute_result"
    }
   ],
   "source": [
    "orders_rdd.take(10)"
   ]
  },
  {
   "cell_type": "code",
   "execution_count": 25,
   "id": "bea46fd3",
   "metadata": {},
   "outputs": [],
   "source": [
    "customer_id_cnt_rdd = orders_rdd.map(lambda x:(x.split(\",\")[-2],1))"
   ]
  },
  {
   "cell_type": "code",
   "execution_count": 26,
   "id": "455b0c4e",
   "metadata": {},
   "outputs": [
    {
     "data": {
      "text/plain": [
       "[('11599', 1),\n",
       " ('256', 1),\n",
       " ('12111', 1),\n",
       " ('8827', 1),\n",
       " ('11318', 1),\n",
       " ('7130', 1),\n",
       " ('4530', 1),\n",
       " ('2911', 1),\n",
       " ('5657', 1),\n",
       " ('5648', 1)]"
      ]
     },
     "execution_count": 26,
     "metadata": {},
     "output_type": "execute_result"
    }
   ],
   "source": [
    "customer_id_cnt_rdd.take(10)"
   ]
  },
  {
   "cell_type": "code",
   "execution_count": 27,
   "id": "7bfc63b7",
   "metadata": {},
   "outputs": [],
   "source": [
    "customer_id_sum_rdd = customer_id_cnt_rdd.reduceByKey(lambda x,y:x+y)"
   ]
  },
  {
   "cell_type": "code",
   "execution_count": 28,
   "id": "8b144ae1",
   "metadata": {},
   "outputs": [
    {
     "data": {
      "text/plain": [
       "[('3066', 6),\n",
       " ('3159', 7),\n",
       " ('8135', 11),\n",
       " ('2248', 4),\n",
       " ('6117', 6),\n",
       " ('7733', 7),\n",
       " ('6540', 3),\n",
       " ('4882', 8),\n",
       " ('6060', 7),\n",
       " ('10436', 8)]"
      ]
     },
     "execution_count": 28,
     "metadata": {},
     "output_type": "execute_result"
    }
   ],
   "source": [
    "customer_id_sum_rdd.take(10)"
   ]
  },
  {
   "cell_type": "code",
   "execution_count": 29,
   "id": "0ff4ee75",
   "metadata": {},
   "outputs": [],
   "source": [
    "ordered_customers = customer_id_sum_rdd.sortBy(lambda x:x[-1],False)"
   ]
  },
  {
   "cell_type": "code",
   "execution_count": 30,
   "id": "a93533c9",
   "metadata": {},
   "outputs": [
    {
     "data": {
      "text/plain": [
       "[('5897', 16),\n",
       " ('6316', 16),\n",
       " ('12431', 16),\n",
       " ('569', 16),\n",
       " ('4320', 15),\n",
       " ('221', 15),\n",
       " ('5624', 15),\n",
       " ('5283', 15),\n",
       " ('12284', 15),\n",
       " ('5654', 15)]"
      ]
     },
     "execution_count": 30,
     "metadata": {},
     "output_type": "execute_result"
    }
   ],
   "source": [
    "ordered_customers.take(10)"
   ]
  },
  {
   "cell_type": "code",
   "execution_count": 31,
   "id": "900c9afb",
   "metadata": {},
   "outputs": [],
   "source": [
    "atleast_1_order = customer_id_sum_rdd.filter(lambda x : x[-1]>=1)"
   ]
  },
  {
   "cell_type": "code",
   "execution_count": 32,
   "id": "12bb38c0",
   "metadata": {},
   "outputs": [
    {
     "data": {
      "text/plain": [
       "[('256', 10),\n",
       " ('12111', 6),\n",
       " ('11318', 6),\n",
       " ('7130', 7),\n",
       " ('2911', 6),\n",
       " ('5657', 12),\n",
       " ('9149', 4),\n",
       " ('9842', 7),\n",
       " ('7276', 5),\n",
       " ('9488', 7)]"
      ]
     },
     "execution_count": 32,
     "metadata": {},
     "output_type": "execute_result"
    }
   ],
   "source": [
    "atleast_1_order.take(10)"
   ]
  },
  {
   "cell_type": "code",
   "execution_count": 35,
   "id": "b4565414",
   "metadata": {},
   "outputs": [
    {
     "data": {
      "text/plain": [
       "12405"
      ]
     },
     "execution_count": 35,
     "metadata": {},
     "output_type": "execute_result"
    }
   ],
   "source": [
    "# or\n",
    "\n",
    "cust_atleast_1_order = orders_rdd.map(lambda x:(x.split(\",\")[-2])).distinct()\n",
    "cust_atleast_1_order.count()"
   ]
  },
  {
   "cell_type": "markdown",
   "id": "8779eb23",
   "metadata": {},
   "source": [
    "# Customer with max closed orders"
   ]
  },
  {
   "cell_type": "code",
   "execution_count": 42,
   "id": "34ed177d",
   "metadata": {},
   "outputs": [],
   "source": [
    "closed_orders = orders_rdd.filter(lambda x:(x.split(\",\")[-1])==\"CLOSED\")"
   ]
  },
  {
   "cell_type": "code",
   "execution_count": 43,
   "id": "3294b6c3",
   "metadata": {},
   "outputs": [
    {
     "data": {
      "text/plain": [
       "['1,2013-07-25 00:00:00.0,11599,CLOSED',\n",
       " '4,2013-07-25 00:00:00.0,8827,CLOSED',\n",
       " '12,2013-07-25 00:00:00.0,1837,CLOSED',\n",
       " '18,2013-07-25 00:00:00.0,1205,CLOSED',\n",
       " '24,2013-07-25 00:00:00.0,11441,CLOSED',\n",
       " '25,2013-07-25 00:00:00.0,9503,CLOSED',\n",
       " '37,2013-07-25 00:00:00.0,5863,CLOSED',\n",
       " '51,2013-07-25 00:00:00.0,12271,CLOSED',\n",
       " '57,2013-07-25 00:00:00.0,7073,CLOSED',\n",
       " '61,2013-07-25 00:00:00.0,4791,CLOSED']"
      ]
     },
     "execution_count": 43,
     "metadata": {},
     "output_type": "execute_result"
    }
   ],
   "source": [
    "closed_orders.take(10)"
   ]
  },
  {
   "cell_type": "code",
   "execution_count": 50,
   "id": "37d29314",
   "metadata": {},
   "outputs": [],
   "source": [
    "cust_cnt = closed_orders.map(lambda x:(x.split(\",\")[-2],1))"
   ]
  },
  {
   "cell_type": "code",
   "execution_count": 55,
   "id": "d5c2a8b9",
   "metadata": {},
   "outputs": [
    {
     "data": {
      "text/plain": [
       "[('1833', 6)]"
      ]
     },
     "execution_count": 55,
     "metadata": {},
     "output_type": "execute_result"
    }
   ],
   "source": [
    "order_sum = cust_cnt.reduceByKey(lambda x,y:x+y)\n",
    "top_cust = order_sum.sortBy(lambda x:x[-1],False)\n",
    "top_cust.take(1)"
   ]
  },
  {
   "cell_type": "code",
   "execution_count": null,
   "id": "865e7410",
   "metadata": {},
   "outputs": [],
   "source": []
  }
 ],
 "metadata": {
  "kernelspec": {
   "display_name": "Pyspark 3",
   "language": "python",
   "name": "pyspark3"
  },
  "language_info": {
   "codemirror_mode": {
    "name": "ipython",
    "version": 3
   },
   "file_extension": ".py",
   "mimetype": "text/x-python",
   "name": "python",
   "nbconvert_exporter": "python",
   "pygments_lexer": "ipython3",
   "version": "3.6.12"
  }
 },
 "nbformat": 4,
 "nbformat_minor": 5
}
