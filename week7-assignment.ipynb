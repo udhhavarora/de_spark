{
 "cells": [
  {
   "cell_type": "code",
   "execution_count": 104,
   "id": "f644ca98",
   "metadata": {},
   "outputs": [
    {
     "data": {
      "text/html": [
       "\n",
       "            <div>\n",
       "                <p><b>SparkSession - hive</b></p>\n",
       "                \n",
       "        <div>\n",
       "            <p><b>SparkContext</b></p>\n",
       "\n",
       "            <p><a href=\"http://g01.itversity.com:4040\">Spark UI</a></p>\n",
       "\n",
       "            <dl>\n",
       "              <dt>Version</dt>\n",
       "                <dd><code>v2.4.7</code></dd>\n",
       "              <dt>Master</dt>\n",
       "                <dd><code>yarn</code></dd>\n",
       "              <dt>AppName</dt>\n",
       "                <dd><code>assignment-week7</code></dd>\n",
       "            </dl>\n",
       "        </div>\n",
       "        \n",
       "            </div>\n",
       "        "
      ],
      "text/plain": [
       "<pyspark.sql.session.SparkSession at 0x7f00e1e9f710>"
      ]
     },
     "execution_count": 104,
     "metadata": {},
     "output_type": "execute_result"
    }
   ],
   "source": [
    "from pyspark.sql import SparkSession\n",
    "\n",
    "spark = SparkSession\\\n",
    ".builder\\\n",
    ".master(\"yarn\")\\\n",
    ".appName(\"assignment-week7\")\\\n",
    ".enableHiveSupport()\\\n",
    ".config(\"spark.sql.warehouse.dir\",\"/user/itv009490/warehouse\")\\\n",
    ".getOrCreate()\n",
    "\n",
    "spark"
   ]
  },
  {
   "cell_type": "code",
   "execution_count": 2,
   "id": "1b3a2fa4",
   "metadata": {},
   "outputs": [
    {
     "name": "stdout",
     "output_type": "stream",
     "text": [
      "1001,2023-05-15,1001,49.99\n",
      "1002,2023-05-16,1002,29.99\n",
      "1003,2023-05-17,1003,39.99\n",
      "1004,2023-05-18,1004,19.99\n",
      "1005,2023-05-19,1005,24.99\n",
      "1001,2023-05-20,1002,29.99\n",
      "1002,2023-05-21,1003,39.99\n",
      "1003,2023-05-22,1004,19.99\n",
      "1004,2023-05-23,1005,24.99\n",
      "1005,2023-05-24,1001,49.99\n",
      "cat: Unable to write to output stream.\n"
     ]
    }
   ],
   "source": [
    "!hdfs dfs -cat /public/trendytech/datasets/cust_transf.csv | head"
   ]
  },
  {
   "cell_type": "code",
   "execution_count": 15,
   "id": "5fad6cb3",
   "metadata": {},
   "outputs": [],
   "source": [
    "schema = 'customer_id long, purchase_date date, product_id long, amount float'"
   ]
  },
  {
   "cell_type": "code",
   "execution_count": 16,
   "id": "195d9fbf",
   "metadata": {},
   "outputs": [],
   "source": [
    "df = spark.read.format(\"csv\").\\\n",
    "schema(schema).\\\n",
    "load(\"/public/trendytech/datasets/cust_transf.csv\")"
   ]
  },
  {
   "cell_type": "code",
   "execution_count": 17,
   "id": "db51392b",
   "metadata": {},
   "outputs": [
    {
     "name": "stdout",
     "output_type": "stream",
     "text": [
      "+-----------+-------------+----------+------+\n",
      "|customer_id|purchase_date|product_id|amount|\n",
      "+-----------+-------------+----------+------+\n",
      "|       1001|   2023-05-15|      1001| 49.99|\n",
      "|       1002|   2023-05-16|      1002| 29.99|\n",
      "|       1003|   2023-05-17|      1003| 39.99|\n",
      "|       1004|   2023-05-18|      1004| 19.99|\n",
      "|       1005|   2023-05-19|      1005| 24.99|\n",
      "|       1001|   2023-05-20|      1002| 29.99|\n",
      "|       1002|   2023-05-21|      1003| 39.99|\n",
      "|       1003|   2023-05-22|      1004| 19.99|\n",
      "|       1004|   2023-05-23|      1005| 24.99|\n",
      "|       1005|   2023-05-24|      1001| 49.99|\n",
      "|       1001|   2023-05-25|      1003| 39.99|\n",
      "|       1002|   2023-05-26|      1004| 19.99|\n",
      "|       1003|   2023-05-27|      1005| 24.99|\n",
      "|       1004|   2023-05-28|      1001| 49.99|\n",
      "|       1005|   2023-05-29|      1002| 29.99|\n",
      "|       1001|   2023-05-30|      1003| 39.99|\n",
      "|       1002|   2023-05-31|      1004| 19.99|\n",
      "|       1003|   2023-06-01|      1005| 24.99|\n",
      "|       1004|   2023-06-02|      1001| 49.99|\n",
      "|       1005|   2023-06-03|      1002| 29.99|\n",
      "+-----------+-------------+----------+------+\n",
      "only showing top 20 rows\n",
      "\n"
     ]
    }
   ],
   "source": [
    "df.show()"
   ]
  },
  {
   "cell_type": "code",
   "execution_count": 11,
   "id": "b28b0b2a",
   "metadata": {},
   "outputs": [
    {
     "name": "stdout",
     "output_type": "stream",
     "text": [
      "++\n",
      "||\n",
      "++\n",
      "++\n",
      "\n"
     ]
    }
   ],
   "source": [
    "spark.sql(\"\"\"create database assignment_7\"\"\").show()"
   ]
  },
  {
   "cell_type": "code",
   "execution_count": null,
   "id": "3b6299f7",
   "metadata": {},
   "outputs": [],
   "source": []
  },
  {
   "cell_type": "code",
   "execution_count": 12,
   "id": "80852ca8",
   "metadata": {},
   "outputs": [],
   "source": [
    "df.write.saveAsTable(\"assignment_7.products\")"
   ]
  },
  {
   "cell_type": "code",
   "execution_count": 18,
   "id": "2a1c0f33",
   "metadata": {},
   "outputs": [],
   "source": [
    "start_date=\"2023-05-01\"\n",
    "end_date=\"2023-06-08\""
   ]
  },
  {
   "cell_type": "code",
   "execution_count": 21,
   "id": "e06fb79f",
   "metadata": {},
   "outputs": [],
   "source": [
    "filtered_df = df.filter((df[\"purchase_date\"]>=start_date) & (df[\"purchase_date\"]<=end_date))"
   ]
  },
  {
   "cell_type": "code",
   "execution_count": 23,
   "id": "f1c52e9c",
   "metadata": {},
   "outputs": [],
   "source": [
    "filtered_cache = filtered_df.cache()"
   ]
  },
  {
   "cell_type": "code",
   "execution_count": 26,
   "id": "ea250ec2",
   "metadata": {},
   "outputs": [],
   "source": [
    "revenue_df = filtered_cache.groupBy(\"product_id\").sum(\"amount\").withColumnRenamed(\"sum(amount)\",\"revenue\")"
   ]
  },
  {
   "cell_type": "code",
   "execution_count": 27,
   "id": "31b62d0a",
   "metadata": {},
   "outputs": [
    {
     "name": "stdout",
     "output_type": "stream",
     "text": [
      "+----------+--------------------+\n",
      "|product_id|             revenue|\n",
      "+----------+--------------------+\n",
      "|      1003| 5.725592484315491E8|\n",
      "|      1001| 5.566826598912048E8|\n",
      "|      1002| 4.293836211229706E8|\n",
      "|      1004| 2.862080211229706E8|\n",
      "|      1005|2.7828563865119934E8|\n",
      "|      1015|   12537.91035079956|\n",
      "|      1014|   11492.91035079956|\n",
      "|      1013|   10447.91035079956|\n",
      "|      1012|    9402.91035079956|\n",
      "|      1011|    8357.91035079956|\n",
      "|      1010|   7312.910350799561|\n",
      "|      1009|   6267.909952163696|\n",
      "|      1008|   5222.909952163696|\n",
      "|      1007|   4177.909952163696|\n",
      "|      1006|  3132.9099521636963|\n",
      "+----------+--------------------+\n",
      "\n"
     ]
    }
   ],
   "source": [
    "revenue_df.sort(\"revenue\",ascending=False).show()"
   ]
  },
  {
   "cell_type": "code",
   "execution_count": 60,
   "id": "149731ea",
   "metadata": {},
   "outputs": [
    {
     "name": "stdout",
     "output_type": "stream",
     "text": [
      "+-----------+--------------------+\n",
      "|customer_id|             revenue|\n",
      "+-----------+--------------------+\n",
      "|       1001| 3.180884683165741E8|\n",
      "|       1004| 3.101342652822876E8|\n",
      "|       1005| 2.624090592137146E8|\n",
      "|       1003| 2.146838592137146E8|\n",
      "|       1002| 2.067296592137146E8|\n",
      "|       1011|1.2724374341640854E8|\n",
      "|       1006| 1.272385184160099E8|\n",
      "|       1012|1.1133638841640854E8|\n",
      "|       1007| 1.113311634160099E8|\n",
      "|       1013| 9.542903341640854E7|\n",
      "+-----------+--------------------+\n",
      "\n"
     ]
    }
   ],
   "source": [
    "cust_df = filtered_df.groupBy(\"customer_id\").sum(\"amount\").withColumnRenamed(\"sum(amount)\",\"revenue\")\n",
    "cust_df.sort(\"revenue\",ascending=False).limit(10).show()"
   ]
  },
  {
   "cell_type": "code",
   "execution_count": null,
   "id": "6ea92e8e",
   "metadata": {},
   "outputs": [],
   "source": []
  },
  {
   "cell_type": "code",
   "execution_count": 45,
   "id": "de437467",
   "metadata": {},
   "outputs": [
    {
     "data": {
      "text/html": [
       "<table border='1'>\n",
       "<tr><th></th></tr>\n",
       "</table>\n"
      ],
      "text/plain": [
       "++\n",
       "||\n",
       "++\n",
       "++"
      ]
     },
     "execution_count": 45,
     "metadata": {},
     "output_type": "execute_result"
    }
   ],
   "source": [
    "spark.sql(\"\"\"create database itv009490_assingment_ext\"\"\")"
   ]
  },
  {
   "cell_type": "code",
   "execution_count": 64,
   "id": "d9da3240",
   "metadata": {},
   "outputs": [
    {
     "data": {
      "text/html": [
       "<table border='1'>\n",
       "<tr><th></th></tr>\n",
       "</table>\n"
      ],
      "text/plain": [
       "++\n",
       "||\n",
       "++\n",
       "++"
      ]
     },
     "execution_count": 64,
     "metadata": {},
     "output_type": "execute_result"
    }
   ],
   "source": [
    "spark.sql(\"\"\"drop table itv009490_assingment_ext.customer_transactions_ext\"\"\")"
   ]
  },
  {
   "cell_type": "code",
   "execution_count": 65,
   "id": "aa841f7b",
   "metadata": {},
   "outputs": [
    {
     "data": {
      "text/html": [
       "<table border='1'>\n",
       "<tr><th></th></tr>\n",
       "</table>\n"
      ],
      "text/plain": [
       "++\n",
       "||\n",
       "++\n",
       "++"
      ]
     },
     "execution_count": 65,
     "metadata": {},
     "output_type": "execute_result"
    }
   ],
   "source": [
    "spark.sql(\"\"\"create table itv009490_assingment_ext.customer_transactions_ext \n",
    "          (customer_id long,purchase_date string,product_id integer,transaction_amount double) USING csv  location\n",
    "          '/public/trendytech/datasets/cust_transf.csv'\n",
    "          \"\"\")"
   ]
  },
  {
   "cell_type": "code",
   "execution_count": 56,
   "id": "8ec4e780",
   "metadata": {},
   "outputs": [],
   "source": [
    "!hdfs dfs -ls /user/itv009490/warehouse/itv009490_assingment_ext.db"
   ]
  },
  {
   "cell_type": "code",
   "execution_count": 66,
   "id": "868ae67b",
   "metadata": {},
   "outputs": [
    {
     "name": "stdout",
     "output_type": "stream",
     "text": [
      "+--------------------+--------------------+-------+\n",
      "|            col_name|           data_type|comment|\n",
      "+--------------------+--------------------+-------+\n",
      "|         customer_id|              bigint|   null|\n",
      "|       purchase_date|              string|   null|\n",
      "|          product_id|                 int|   null|\n",
      "|  transaction_amount|              double|   null|\n",
      "|                    |                    |       |\n",
      "|# Detailed Table ...|                    |       |\n",
      "|            Database|itv009490_assingm...|       |\n",
      "|               Table|customer_transact...|       |\n",
      "|               Owner|           itv009490|       |\n",
      "|        Created Time|Sun Nov 26 13:41:...|       |\n",
      "|         Last Access|Wed Dec 31 19:00:...|       |\n",
      "|          Created By|         Spark 2.4.7|       |\n",
      "|                Type|            EXTERNAL|       |\n",
      "|            Provider|                 csv|       |\n",
      "|    Table Properties|[transient_lastDd...|       |\n",
      "|            Location|hdfs://m01.itvers...|       |\n",
      "|       Serde Library|org.apache.hadoop...|       |\n",
      "|         InputFormat|org.apache.hadoop...|       |\n",
      "|        OutputFormat|org.apache.hadoop...|       |\n",
      "|  Storage Properties|[serialization.fo...|       |\n",
      "+--------------------+--------------------+-------+\n",
      "\n"
     ]
    }
   ],
   "source": [
    "spark.sql(\"\"\"desc extended customer_transactions_ext\"\"\").show()"
   ]
  },
  {
   "cell_type": "code",
   "execution_count": 69,
   "id": "5478fd0b",
   "metadata": {},
   "outputs": [
    {
     "name": "stdout",
     "output_type": "stream",
     "text": [
      "+----------+-------------------+\n",
      "|product_id|            revenue|\n",
      "+----------+-------------------+\n",
      "|      1001|8.747870076028482E8|\n",
      "|      1003|6.997946075949881E8|\n",
      "|      1002|5.248022075897805E8|\n",
      "|      1005|4.373060075933379E8|\n",
      "|      1004|3.498098075985675E8|\n",
      "|      1015| 12537.909999999963|\n",
      "|      1014| 11492.909999999963|\n",
      "|      1013| 10447.909999999963|\n",
      "|      1012|  9402.909999999965|\n",
      "|      1011|  8357.909999999967|\n",
      "+----------+-------------------+\n",
      "\n"
     ]
    }
   ],
   "source": [
    "spark.sql(f\"\"\"select product_id, sum(transaction_amount) as revenue from itv009490_assingment_ext.customer_transactions_ext \n",
    "where purchase_date>='2023-05-01'AND purchase_date<='2023-06-30'\n",
    "group by product_id order by revenue desc limit 10\n",
    "\"\"\").show()"
   ]
  },
  {
   "cell_type": "code",
   "execution_count": 71,
   "id": "780b0e7b",
   "metadata": {},
   "outputs": [
    {
     "data": {
      "text/html": [
       "<table border='1'>\n",
       "<tr><th></th></tr>\n",
       "</table>\n"
      ],
      "text/plain": [
       "++\n",
       "||\n",
       "++\n",
       "++"
      ]
     },
     "execution_count": 71,
     "metadata": {},
     "output_type": "execute_result"
    }
   ],
   "source": [
    "spark.sql(\"\"\"cache table itv009490_assingment_ext.customer_transactions_ext\"\"\")"
   ]
  },
  {
   "cell_type": "code",
   "execution_count": 72,
   "id": "8c3ba22b",
   "metadata": {},
   "outputs": [
    {
     "name": "stdout",
     "output_type": "stream",
     "text": [
      "+----------+--------------------+\n",
      "|product_id|             revenue|\n",
      "+----------+--------------------+\n",
      "|      1001| 8.747870076028483E8|\n",
      "|      1003| 6.997946075949881E8|\n",
      "|      1002| 5.248022075897805E8|\n",
      "|      1005| 4.373060075933379E8|\n",
      "|      1004|3.4980980759856737E8|\n",
      "|      1015|  12537.909999999963|\n",
      "|      1014|  11492.909999999963|\n",
      "|      1013|  10447.909999999963|\n",
      "|      1012|   9402.909999999965|\n",
      "|      1011|   8357.909999999967|\n",
      "+----------+--------------------+\n",
      "\n"
     ]
    }
   ],
   "source": [
    "spark.sql(f\"\"\"select product_id, sum(transaction_amount) as revenue from itv009490_assingment_ext.customer_transactions_ext \n",
    "where purchase_date>='2023-05-01'AND purchase_date<='2023-06-30'\n",
    "group by product_id order by revenue desc limit 10\n",
    "\"\"\").show()"
   ]
  },
  {
   "cell_type": "code",
   "execution_count": 74,
   "id": "8c95edf4",
   "metadata": {},
   "outputs": [
    {
     "name": "stdout",
     "output_type": "stream",
     "text": [
      "+-----------+--------------------+\n",
      "|customer_id|   cust_transactions|\n",
      "+-----------+--------------------+\n",
      "|       1001| 3.180884580005336E8|\n",
      "|       1004| 3.101342580008687E8|\n",
      "|       1005|2.6240905800151232E8|\n",
      "|       1003|2.1468385800145328E8|\n",
      "|       1002| 2.067296580014408E8|\n",
      "|       1011|1.9086143271084768E8|\n",
      "|       1006|1.9085620771084768E8|\n",
      "|       1015|1.6700301271081638E8|\n",
      "|       1010|1.6699778771081635E8|\n",
      "|       1014|1.5109356771079004E8|\n",
      "+-----------+--------------------+\n",
      "\n"
     ]
    }
   ],
   "source": [
    "spark.sql(f\"\"\"select customer_id, sum(transaction_amount) as cust_transactions from itv009490_assingment_ext.customer_transactions_ext \n",
    "where purchase_date>='2023-05-01'AND purchase_date<='2023-06-30'\n",
    "group by customer_id order by cust_transactions desc limit 10\n",
    "\"\"\").show()"
   ]
  },
  {
   "cell_type": "code",
   "execution_count": 75,
   "id": "f2d1abcf",
   "metadata": {},
   "outputs": [
    {
     "data": {
      "text/html": [
       "<table border='1'>\n",
       "<tr><th></th></tr>\n",
       "</table>\n"
      ],
      "text/plain": [
       "++\n",
       "||\n",
       "++\n",
       "++"
      ]
     },
     "execution_count": 75,
     "metadata": {},
     "output_type": "execute_result"
    }
   ],
   "source": [
    "spark.sql(\"\"\"clear cache\"\"\")"
   ]
  },
  {
   "cell_type": "code",
   "execution_count": 76,
   "id": "4d320f3e",
   "metadata": {},
   "outputs": [
    {
     "name": "stdout",
     "output_type": "stream",
     "text": [
      "+----------------------------------+\n",
      "|month(CAST(purchase_date AS DATE))|\n",
      "+----------------------------------+\n",
      "|                                 5|\n",
      "|                                 5|\n",
      "|                                 5|\n",
      "|                                 5|\n",
      "|                                 5|\n",
      "|                                 5|\n",
      "|                                 5|\n",
      "|                                 5|\n",
      "|                                 5|\n",
      "|                                 5|\n",
      "|                                 5|\n",
      "|                                 5|\n",
      "|                                 5|\n",
      "|                                 5|\n",
      "|                                 5|\n",
      "|                                 5|\n",
      "|                                 5|\n",
      "|                                 6|\n",
      "|                                 6|\n",
      "|                                 6|\n",
      "+----------------------------------+\n",
      "only showing top 20 rows\n",
      "\n"
     ]
    }
   ],
   "source": [
    "spark.sql(\"\"\"select month(purchase_date) from  itv009490_assingment_ext.customer_transactions_ext\"\"\").show()"
   ]
  },
  {
   "cell_type": "code",
   "execution_count": 86,
   "id": "a04de280",
   "metadata": {},
   "outputs": [
    {
     "name": "stdout",
     "output_type": "stream",
     "text": [
      "+-----------+\n",
      "|customer_id|\n",
      "+-----------+\n",
      "|       1002|\n",
      "|       1009|\n",
      "|       1013|\n",
      "|       1005|\n",
      "|       1015|\n",
      "|       1008|\n",
      "|       1004|\n",
      "|       1003|\n",
      "|       1010|\n",
      "|       1012|\n",
      "+-----------+\n",
      "\n"
     ]
    }
   ],
   "source": [
    "spark.sql(\"\"\"select distinct customer_id from (select customer_id,cnt from (select customer_id,count(customer_id)  over(partition by month(purchase_date)) as cnt from\n",
    "itv009490_assingment_ext.customer_transactions_ext)\n",
    "where cnt >1 order by cnt desc) limit 10\n",
    "\"\"\").show()"
   ]
  },
  {
   "cell_type": "code",
   "execution_count": 105,
   "id": "14d84a39",
   "metadata": {},
   "outputs": [],
   "source": [
    "from pyspark.sql.functions import year,month\n",
    "from pyspark.sql.functions import countDistinct"
   ]
  },
  {
   "cell_type": "code",
   "execution_count": 106,
   "id": "1d6585ef",
   "metadata": {},
   "outputs": [],
   "source": [
    "cust_schema='customer_id long,purchase_date date,product_id integer,transaction_amount double'"
   ]
  },
  {
   "cell_type": "code",
   "execution_count": 107,
   "id": "083011a7",
   "metadata": {},
   "outputs": [],
   "source": [
    "transactions_df=spark.read\\\n",
    ".format(\"csv\")\\\n",
    ".schema(cust_schema)\\\n",
    ".load(\"/public/trendytech/datasets/cust_transf.csv\")"
   ]
  },
  {
   "cell_type": "code",
   "execution_count": 108,
   "id": "e37346ee",
   "metadata": {},
   "outputs": [],
   "source": [
    "new_df=transactions_df.withColumn(\"purchase_year\",year(\"purchase_date\")).withColumn(\"purchase_month\",month(\"purchase_date\"))"
   ]
  },
  {
   "cell_type": "code",
   "execution_count": 109,
   "id": "eeab7d9d",
   "metadata": {},
   "outputs": [
    {
     "name": "stdout",
     "output_type": "stream",
     "text": [
      "+-----------+-------------+----------+------------------+-------------+--------------+\n",
      "|customer_id|purchase_date|product_id|transaction_amount|purchase_year|purchase_month|\n",
      "+-----------+-------------+----------+------------------+-------------+--------------+\n",
      "|       1001|   2023-05-15|      1001|             49.99|         2023|             5|\n",
      "|       1002|   2023-05-16|      1002|             29.99|         2023|             5|\n",
      "|       1003|   2023-05-17|      1003|             39.99|         2023|             5|\n",
      "|       1004|   2023-05-18|      1004|             19.99|         2023|             5|\n",
      "|       1005|   2023-05-19|      1005|             24.99|         2023|             5|\n",
      "|       1001|   2023-05-20|      1002|             29.99|         2023|             5|\n",
      "|       1002|   2023-05-21|      1003|             39.99|         2023|             5|\n",
      "|       1003|   2023-05-22|      1004|             19.99|         2023|             5|\n",
      "|       1004|   2023-05-23|      1005|             24.99|         2023|             5|\n",
      "|       1005|   2023-05-24|      1001|             49.99|         2023|             5|\n",
      "|       1001|   2023-05-25|      1003|             39.99|         2023|             5|\n",
      "|       1002|   2023-05-26|      1004|             19.99|         2023|             5|\n",
      "|       1003|   2023-05-27|      1005|             24.99|         2023|             5|\n",
      "|       1004|   2023-05-28|      1001|             49.99|         2023|             5|\n",
      "|       1005|   2023-05-29|      1002|             29.99|         2023|             5|\n",
      "|       1001|   2023-05-30|      1003|             39.99|         2023|             5|\n",
      "|       1002|   2023-05-31|      1004|             19.99|         2023|             5|\n",
      "|       1003|   2023-06-01|      1005|             24.99|         2023|             6|\n",
      "|       1004|   2023-06-02|      1001|             49.99|         2023|             6|\n",
      "|       1005|   2023-06-03|      1002|             29.99|         2023|             6|\n",
      "+-----------+-------------+----------+------------------+-------------+--------------+\n",
      "only showing top 20 rows\n",
      "\n"
     ]
    }
   ],
   "source": [
    "new_df.show()"
   ]
  },
  {
   "cell_type": "code",
   "execution_count": 110,
   "id": "652ee23a",
   "metadata": {},
   "outputs": [
    {
     "name": "stdout",
     "output_type": "stream",
     "text": [
      "+-----------+-------------+--------------+---------------+\n",
      "|customer_id|purchase_year|purchase_month|distinct_months|\n",
      "+-----------+-------------+--------------+---------------+\n",
      "|       1011|         2023|             5|              1|\n",
      "|       1002|         2023|             5|              1|\n",
      "|       1004|         2023|             6|              1|\n",
      "|       1014|         2023|             5|              1|\n",
      "|       1004|         2023|             5|              1|\n",
      "|       1009|         2023|             6|              1|\n",
      "|       1013|         2023|             6|              1|\n",
      "|       1002|         2023|             6|              1|\n",
      "|       1013|         2023|             5|              1|\n",
      "|       1001|         2023|             6|              1|\n",
      "|       1007|         2023|             6|              1|\n",
      "|       1007|         2023|             5|              1|\n",
      "|       1015|         2023|             6|              1|\n",
      "|       1006|         2023|             5|              1|\n",
      "|       1005|         2023|             6|              1|\n",
      "|       1006|         2023|             6|              1|\n",
      "|       1014|         2023|             6|              1|\n",
      "|       1003|         2023|             5|              1|\n",
      "|       1010|         2023|             5|              1|\n",
      "|       1012|         2023|             5|              1|\n",
      "+-----------+-------------+--------------+---------------+\n",
      "only showing top 20 rows\n",
      "\n"
     ]
    }
   ],
   "source": [
    "customer_month_counts=new_df.groupBy(\"customer_id\",\"purchase_year\",\"purchase_month\").agg(countDistinct(\"purchase_month\").alias(\"distinct_months\"))\n",
    "customer_month_counts.show()"
   ]
  },
  {
   "cell_type": "code",
   "execution_count": 111,
   "id": "ab10db34",
   "metadata": {},
   "outputs": [
    {
     "name": "stdout",
     "output_type": "stream",
     "text": [
      "+-----------+-----+\n",
      "|customer_id|count|\n",
      "+-----------+-----+\n",
      "|       1011|    2|\n",
      "|       1007|    2|\n",
      "|       1002|    2|\n",
      "|       1005|    2|\n",
      "|       1003|    2|\n",
      "|       1013|    2|\n",
      "|       1001|    2|\n",
      "|       1004|    2|\n",
      "|       1008|    2|\n",
      "|       1010|    2|\n",
      "+-----------+-----+\n",
      "\n"
     ]
    }
   ],
   "source": [
    "regular_customers=customer_month_counts.filter(\"distinct_months=1\")\\\n",
    ".groupBy(\"customer_id\").count()\\\n",
    ".orderBy(\"count\",ascending=False).limit(10)\n",
    "regular_customers.show()"
   ]
  },
  {
   "cell_type": "code",
   "execution_count": null,
   "id": "96e45070",
   "metadata": {},
   "outputs": [],
   "source": []
  },
  {
   "cell_type": "code",
   "execution_count": 112,
   "id": "6a3724b5",
   "metadata": {},
   "outputs": [],
   "source": [
    "#persist\n",
    "\n",
    "customer_month_counts=new_df.groupBy(\"customer_id\",\"purchase_year\",\"purchase_month\")\\\n",
    ".agg(countDistinct(\"purchase_month\").alias(\"distinct_months\")).persist()"
   ]
  },
  {
   "cell_type": "code",
   "execution_count": 113,
   "id": "1c4175af",
   "metadata": {},
   "outputs": [
    {
     "name": "stdout",
     "output_type": "stream",
     "text": [
      "+-----------+-----+\n",
      "|customer_id|count|\n",
      "+-----------+-----+\n",
      "|       1005|    2|\n",
      "|       1004|    2|\n",
      "|       1003|    2|\n",
      "|       1014|    2|\n",
      "|       1012|    2|\n",
      "|       1008|    2|\n",
      "|       1015|    2|\n",
      "|       1001|    2|\n",
      "|       1002|    2|\n",
      "|       1006|    2|\n",
      "+-----------+-----+\n",
      "\n"
     ]
    }
   ],
   "source": [
    "regular_customers=customer_month_counts.filter(\"distinct_months=1\")\\\n",
    ".groupBy(\"customer_id\").count()\\\n",
    ".orderBy(\"count\",ascending=False).limit(10)\n",
    "regular_customers.show()"
   ]
  },
  {
   "cell_type": "code",
   "execution_count": 114,
   "id": "29e0ae1e",
   "metadata": {},
   "outputs": [
    {
     "name": "stdout",
     "output_type": "stream",
     "text": [
      "+-----------+-----+\n",
      "|customer_id|count|\n",
      "+-----------+-----+\n",
      "|       1005|    2|\n",
      "|       1013|    2|\n",
      "|       1004|    2|\n",
      "|       1003|    2|\n",
      "|       1002|    2|\n",
      "|       1014|    2|\n",
      "|       1006|    2|\n",
      "|       1001|    2|\n",
      "|       1008|    2|\n",
      "|       1012|    2|\n",
      "+-----------+-----+\n",
      "\n"
     ]
    }
   ],
   "source": [
    "regular_customers=customer_month_counts.filter(\"distinct_months=1\")\\\n",
    ".groupBy(\"customer_id\").count()\\\n",
    ".orderBy(\"count\",ascending=False).limit(10).show()\n"
   ]
  },
  {
   "cell_type": "code",
   "execution_count": 115,
   "id": "6441c273",
   "metadata": {},
   "outputs": [
    {
     "data": {
      "text/html": [
       "<table border='1'>\n",
       "<tr><th></th></tr>\n",
       "</table>\n"
      ],
      "text/plain": [
       "++\n",
       "||\n",
       "++\n",
       "++"
      ]
     },
     "execution_count": 115,
     "metadata": {},
     "output_type": "execute_result"
    }
   ],
   "source": [
    "spark.sql(\"\"\"clear cache\"\"\")"
   ]
  },
  {
   "cell_type": "code",
   "execution_count": 116,
   "id": "606946b0",
   "metadata": {},
   "outputs": [],
   "source": [
    "#cache\n",
    "\n",
    "customer_month_counts=new_df.groupBy(\"customer_id\",\"purchase_year\",\"purchase_month\")\\\n",
    ".agg(countDistinct(\"purchase_month\").alias(\"distinct_months\")).cache()"
   ]
  },
  {
   "cell_type": "code",
   "execution_count": 117,
   "id": "34d61312",
   "metadata": {},
   "outputs": [
    {
     "name": "stdout",
     "output_type": "stream",
     "text": [
      "+-----------+-----+\n",
      "|customer_id|count|\n",
      "+-----------+-----+\n",
      "|       1014|    2|\n",
      "|       1005|    2|\n",
      "|       1012|    2|\n",
      "|       1010|    2|\n",
      "|       1006|    2|\n",
      "|       1015|    2|\n",
      "|       1011|    2|\n",
      "|       1007|    2|\n",
      "|       1009|    2|\n",
      "|       1008|    2|\n",
      "+-----------+-----+\n",
      "\n"
     ]
    }
   ],
   "source": [
    "regular_customers=customer_month_counts.filter(\"distinct_months=1\")\\\n",
    ".groupBy(\"customer_id\").count()\\\n",
    ".orderBy(\"count\",ascending=False).limit(10)\n",
    "regular_customers.show()"
   ]
  },
  {
   "cell_type": "code",
   "execution_count": 118,
   "id": "fc914abb",
   "metadata": {},
   "outputs": [
    {
     "name": "stdout",
     "output_type": "stream",
     "text": [
      "+-----------+-----+\n",
      "|customer_id|count|\n",
      "+-----------+-----+\n",
      "|       1010|    2|\n",
      "|       1014|    2|\n",
      "|       1012|    2|\n",
      "|       1005|    2|\n",
      "|       1008|    2|\n",
      "|       1006|    2|\n",
      "|       1015|    2|\n",
      "|       1013|    2|\n",
      "|       1004|    2|\n",
      "|       1002|    2|\n",
      "+-----------+-----+\n",
      "\n"
     ]
    }
   ],
   "source": [
    "regular_customers=customer_month_counts.filter(\"distinct_months=1\")\\\n",
    ".groupBy(\"customer_id\").count()\\\n",
    ".orderBy(\"count\",ascending=False).limit(10).show()\n"
   ]
  },
  {
   "cell_type": "code",
   "execution_count": null,
   "id": "0b505d71",
   "metadata": {},
   "outputs": [],
   "source": []
  }
 ],
 "metadata": {
  "kernelspec": {
   "display_name": "Pyspark 2",
   "language": "python",
   "name": "pyspark2"
  },
  "language_info": {
   "codemirror_mode": {
    "name": "ipython",
    "version": 3
   },
   "file_extension": ".py",
   "mimetype": "text/x-python",
   "name": "python",
   "nbconvert_exporter": "python",
   "pygments_lexer": "ipython3",
   "version": "3.6.12"
  }
 },
 "nbformat": 4,
 "nbformat_minor": 5
}
