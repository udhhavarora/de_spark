{
 "cells": [
  {
   "cell_type": "code",
   "execution_count": 3,
   "id": "f2bcd282",
   "metadata": {},
   "outputs": [
    {
     "data": {
      "text/html": [
       "\n",
       "            <div>\n",
       "                <p><b>SparkSession - hive</b></p>\n",
       "                \n",
       "        <div>\n",
       "            <p><b>SparkContext</b></p>\n",
       "\n",
       "            <p><a href=\"http://g01.itversity.com:4040\">Spark UI</a></p>\n",
       "\n",
       "            <dl>\n",
       "              <dt>Version</dt>\n",
       "                <dd><code>v3.1.2</code></dd>\n",
       "              <dt>Master</dt>\n",
       "                <dd><code>yarn</code></dd>\n",
       "              <dt>AppName</dt>\n",
       "                <dd><code>aggregation functions</code></dd>\n",
       "            </dl>\n",
       "        </div>\n",
       "        \n",
       "            </div>\n",
       "        "
      ],
      "text/plain": [
       "<pyspark.sql.session.SparkSession at 0x7f38194b14a8>"
      ]
     },
     "execution_count": 3,
     "metadata": {},
     "output_type": "execute_result"
    }
   ],
   "source": [
    "from pyspark.sql import SparkSession\n",
    "\n",
    "spark = SparkSession\\\n",
    ".builder\\\n",
    ".master(\"yarn\")\\\n",
    ".appName(\"aggregation functions\")\\\n",
    ".enableHiveSupport()\\\n",
    ".config(\"spark.sql.warehouse.dir\",\"/user/itv009490/warehouse\")\\\n",
    ".getOrCreate()\n",
    "\n",
    "spark"
   ]
  },
  {
   "cell_type": "code",
   "execution_count": 4,
   "id": "8f1fbb25",
   "metadata": {},
   "outputs": [],
   "source": [
    "orders_schema = 'order_id long, order_date date, customer_id long, order_status string'"
   ]
  },
  {
   "cell_type": "code",
   "execution_count": 12,
   "id": "21b63d97",
   "metadata": {},
   "outputs": [],
   "source": [
    "df = spark.read.format(\"csv\").\\\n",
    "option(\"inferSchema\",\"true\").\\\n",
    "option(\"header\",\"true\").\\\n",
    "load(\"/public/trendytech/datasets/order_data.csv\")"
   ]
  },
  {
   "cell_type": "code",
   "execution_count": 13,
   "id": "f7f4a62f",
   "metadata": {},
   "outputs": [
    {
     "name": "stdout",
     "output_type": "stream",
     "text": [
      "+---------+---------+--------------------+--------+---------------+---------+----------+--------------+\n",
      "|InvoiceNo|StockCode|         Description|Quantity|    InvoiceDate|UnitPrice|CustomerID|       Country|\n",
      "+---------+---------+--------------------+--------+---------------+---------+----------+--------------+\n",
      "|   536378|     null|PACK OF 60 DINOSA...|      24|01-12-2010 9.37|     0.55|     14688|United Kingdom|\n",
      "|   536378|     null|PACK OF 60 PINK P...|      24|01-12-2010 9.37|     0.55|     14688|United Kingdom|\n",
      "|   536378|    84991|60 TEATIME FAIRY ...|      24|01-12-2010 9.37|     0.55|     14688|United Kingdom|\n",
      "|   536378|   84519A|TOMATO CHARLIE+LO...|       6|01-12-2010 9.37|     2.95|     14688|United Kingdom|\n",
      "|   536378|   85183B|CHARLIE & LOLA WA...|      48|01-12-2010 9.37|     1.25|     14688|United Kingdom|\n",
      "|   536378|   85071B|RED CHARLIE+LOLA ...|      96|01-12-2010 9.37|     0.38|     14688|United Kingdom|\n",
      "|   536378|    21931|JUMBO STORAGE BAG...|      10|01-12-2010 9.37|     1.95|     14688|United Kingdom|\n",
      "|   536378|    21929|JUMBO BAG PINK VI...|      10|01-12-2010 9.37|     1.95|     14688|United Kingdom|\n",
      "|   536380|    22961|JAM MAKING SET PR...|      24|01-12-2010 9.41|     1.45|     17809|United Kingdom|\n",
      "|   536381|    22139|RETROSPOT TEA SET...|      23|01-12-2010 9.41|     4.25|     15311|United Kingdom|\n",
      "|   536381|    84854| GIRLY PINK TOOL SET|       5|01-12-2010 9.41|     4.95|     15311|United Kingdom|\n",
      "|   536381|    22411|JUMBO SHOPPER VIN...|      10|01-12-2010 9.41|     1.95|     15311|United Kingdom|\n",
      "|   536381|    82567|AIRLINE LOUNGE,ME...|       2|01-12-2010 9.41|      2.1|     15311|United Kingdom|\n",
      "|   536381|    21672|WHITE SPOT RED CE...|       6|01-12-2010 9.41|     1.25|     15311|United Kingdom|\n",
      "|   536381|    22774|RED DRAWER KNOB A...|      24|01-12-2010 9.41|     1.25|     15311|United Kingdom|\n",
      "|   536381|    22771|CLEAR DRAWER KNOB...|      24|01-12-2010 9.41|     1.25|     15311|United Kingdom|\n",
      "|   536381|    71270|     PHOTO CLIP LINE|       1|01-12-2010 9.41|     1.25|     15311|United Kingdom|\n",
      "|   536381|    22262|FELT EGG COSY CHI...|       1|01-12-2010 9.41|     0.85|     15311|United Kingdom|\n",
      "|   536381|    22637|PIGGY BANK RETROS...|       1|01-12-2010 9.41|     2.55|     15311|United Kingdom|\n",
      "|   536381|    21934|  SKULL SHOULDER BAG|      10|01-12-2010 9.41|     1.65|     15311|United Kingdom|\n",
      "+---------+---------+--------------------+--------+---------------+---------+----------+--------------+\n",
      "only showing top 20 rows\n",
      "\n"
     ]
    }
   ],
   "source": [
    "df.show()"
   ]
  },
  {
   "cell_type": "code",
   "execution_count": 14,
   "id": "46ddb8fe",
   "metadata": {},
   "outputs": [],
   "source": [
    "from pyspark.sql.functions import *"
   ]
  },
  {
   "cell_type": "code",
   "execution_count": 34,
   "id": "d837cf12",
   "metadata": {},
   "outputs": [
    {
     "data": {
      "text/html": [
       "<table border='1'>\n",
       "<tr><th>InvoiceNo</th><th>StockCode</th><th>Description</th><th>Quantity</th><th>InvoiceDate</th><th>UnitPrice</th><th>CustomerID</th><th>Country</th></tr>\n",
       "<tr><td>536378</td><td>null</td><td>PACK OF 60 DINOSA...</td><td>24</td><td>01-12-2010 9.37</td><td>0.55</td><td>14688</td><td>United Kingdom</td></tr>\n",
       "<tr><td>536378</td><td>null</td><td>PACK OF 60 PINK P...</td><td>24</td><td>01-12-2010 9.37</td><td>0.55</td><td>14688</td><td>United Kingdom</td></tr>\n",
       "<tr><td>536378</td><td>84991</td><td>60 TEATIME FAIRY ...</td><td>24</td><td>01-12-2010 9.37</td><td>0.55</td><td>14688</td><td>United Kingdom</td></tr>\n",
       "<tr><td>536378</td><td>84519A</td><td>TOMATO CHARLIE+LO...</td><td>6</td><td>01-12-2010 9.37</td><td>2.95</td><td>14688</td><td>United Kingdom</td></tr>\n",
       "<tr><td>536378</td><td>85183B</td><td>CHARLIE &amp; LOLA WA...</td><td>48</td><td>01-12-2010 9.37</td><td>1.25</td><td>14688</td><td>United Kingdom</td></tr>\n",
       "<tr><td>536378</td><td>85071B</td><td>RED CHARLIE+LOLA ...</td><td>96</td><td>01-12-2010 9.37</td><td>0.38</td><td>14688</td><td>United Kingdom</td></tr>\n",
       "<tr><td>536378</td><td>21931</td><td>JUMBO STORAGE BAG...</td><td>10</td><td>01-12-2010 9.37</td><td>1.95</td><td>14688</td><td>United Kingdom</td></tr>\n",
       "<tr><td>536378</td><td>21929</td><td>JUMBO BAG PINK VI...</td><td>10</td><td>01-12-2010 9.37</td><td>1.95</td><td>14688</td><td>United Kingdom</td></tr>\n",
       "<tr><td>536380</td><td>22961</td><td>JAM MAKING SET PR...</td><td>24</td><td>01-12-2010 9.41</td><td>1.45</td><td>17809</td><td>United Kingdom</td></tr>\n",
       "<tr><td>536381</td><td>22139</td><td>RETROSPOT TEA SET...</td><td>23</td><td>01-12-2010 9.41</td><td>4.25</td><td>15311</td><td>United Kingdom</td></tr>\n",
       "<tr><td>536381</td><td>84854</td><td>GIRLY PINK TOOL SET</td><td>5</td><td>01-12-2010 9.41</td><td>4.95</td><td>15311</td><td>United Kingdom</td></tr>\n",
       "<tr><td>536381</td><td>22411</td><td>JUMBO SHOPPER VIN...</td><td>10</td><td>01-12-2010 9.41</td><td>1.95</td><td>15311</td><td>United Kingdom</td></tr>\n",
       "<tr><td>536381</td><td>82567</td><td>AIRLINE LOUNGE,ME...</td><td>2</td><td>01-12-2010 9.41</td><td>2.1</td><td>15311</td><td>United Kingdom</td></tr>\n",
       "<tr><td>536381</td><td>21672</td><td>WHITE SPOT RED CE...</td><td>6</td><td>01-12-2010 9.41</td><td>1.25</td><td>15311</td><td>United Kingdom</td></tr>\n",
       "<tr><td>536381</td><td>22774</td><td>RED DRAWER KNOB A...</td><td>24</td><td>01-12-2010 9.41</td><td>1.25</td><td>15311</td><td>United Kingdom</td></tr>\n",
       "<tr><td>536381</td><td>22771</td><td>CLEAR DRAWER KNOB...</td><td>24</td><td>01-12-2010 9.41</td><td>1.25</td><td>15311</td><td>United Kingdom</td></tr>\n",
       "<tr><td>536381</td><td>71270</td><td>PHOTO CLIP LINE</td><td>1</td><td>01-12-2010 9.41</td><td>1.25</td><td>15311</td><td>United Kingdom</td></tr>\n",
       "<tr><td>536381</td><td>22262</td><td>FELT EGG COSY CHI...</td><td>1</td><td>01-12-2010 9.41</td><td>0.85</td><td>15311</td><td>United Kingdom</td></tr>\n",
       "<tr><td>536381</td><td>22637</td><td>PIGGY BANK RETROS...</td><td>1</td><td>01-12-2010 9.41</td><td>2.55</td><td>15311</td><td>United Kingdom</td></tr>\n",
       "<tr><td>536381</td><td>21934</td><td>SKULL SHOULDER BAG</td><td>10</td><td>01-12-2010 9.41</td><td>1.65</td><td>15311</td><td>United Kingdom</td></tr>\n",
       "</table>\n",
       "only showing top 20 rows\n"
      ],
      "text/plain": [
       "+---------+---------+--------------------+--------+---------------+---------+----------+--------------+\n",
       "|InvoiceNo|StockCode|         Description|Quantity|    InvoiceDate|UnitPrice|CustomerID|       Country|\n",
       "+---------+---------+--------------------+--------+---------------+---------+----------+--------------+\n",
       "|   536378|     null|PACK OF 60 DINOSA...|      24|01-12-2010 9.37|     0.55|     14688|United Kingdom|\n",
       "|   536378|     null|PACK OF 60 PINK P...|      24|01-12-2010 9.37|     0.55|     14688|United Kingdom|\n",
       "|   536378|    84991|60 TEATIME FAIRY ...|      24|01-12-2010 9.37|     0.55|     14688|United Kingdom|\n",
       "|   536378|   84519A|TOMATO CHARLIE+LO...|       6|01-12-2010 9.37|     2.95|     14688|United Kingdom|\n",
       "|   536378|   85183B|CHARLIE & LOLA WA...|      48|01-12-2010 9.37|     1.25|     14688|United Kingdom|\n",
       "|   536378|   85071B|RED CHARLIE+LOLA ...|      96|01-12-2010 9.37|     0.38|     14688|United Kingdom|\n",
       "|   536378|    21931|JUMBO STORAGE BAG...|      10|01-12-2010 9.37|     1.95|     14688|United Kingdom|\n",
       "|   536378|    21929|JUMBO BAG PINK VI...|      10|01-12-2010 9.37|     1.95|     14688|United Kingdom|\n",
       "|   536380|    22961|JAM MAKING SET PR...|      24|01-12-2010 9.41|     1.45|     17809|United Kingdom|\n",
       "|   536381|    22139|RETROSPOT TEA SET...|      23|01-12-2010 9.41|     4.25|     15311|United Kingdom|\n",
       "|   536381|    84854| GIRLY PINK TOOL SET|       5|01-12-2010 9.41|     4.95|     15311|United Kingdom|\n",
       "|   536381|    22411|JUMBO SHOPPER VIN...|      10|01-12-2010 9.41|     1.95|     15311|United Kingdom|\n",
       "|   536381|    82567|AIRLINE LOUNGE,ME...|       2|01-12-2010 9.41|      2.1|     15311|United Kingdom|\n",
       "|   536381|    21672|WHITE SPOT RED CE...|       6|01-12-2010 9.41|     1.25|     15311|United Kingdom|\n",
       "|   536381|    22774|RED DRAWER KNOB A...|      24|01-12-2010 9.41|     1.25|     15311|United Kingdom|\n",
       "|   536381|    22771|CLEAR DRAWER KNOB...|      24|01-12-2010 9.41|     1.25|     15311|United Kingdom|\n",
       "|   536381|    71270|     PHOTO CLIP LINE|       1|01-12-2010 9.41|     1.25|     15311|United Kingdom|\n",
       "|   536381|    22262|FELT EGG COSY CHI...|       1|01-12-2010 9.41|     0.85|     15311|United Kingdom|\n",
       "|   536381|    22637|PIGGY BANK RETROS...|       1|01-12-2010 9.41|     2.55|     15311|United Kingdom|\n",
       "|   536381|    21934|  SKULL SHOULDER BAG|      10|01-12-2010 9.41|     1.65|     15311|United Kingdom|\n",
       "+---------+---------+--------------------+--------+---------------+---------+----------+--------------+\n",
       "only showing top 20 rows"
      ]
     },
     "execution_count": 34,
     "metadata": {},
     "output_type": "execute_result"
    }
   ],
   "source": [
    "df.cache()"
   ]
  },
  {
   "cell_type": "code",
   "execution_count": 35,
   "id": "b1c0fb2d",
   "metadata": {},
   "outputs": [
    {
     "data": {
      "text/plain": [
       "541782"
      ]
     },
     "execution_count": 35,
     "metadata": {},
     "output_type": "execute_result"
    }
   ],
   "source": [
    "df.count()"
   ]
  },
  {
   "cell_type": "code",
   "execution_count": 36,
   "id": "675d2b05",
   "metadata": {},
   "outputs": [
    {
     "name": "stdout",
     "output_type": "stream",
     "text": [
      "+-------------+\n",
      "|max(Quantity)|\n",
      "+-------------+\n",
      "|        80995|\n",
      "+-------------+\n",
      "\n"
     ]
    }
   ],
   "source": [
    "df.agg(max(df.Quantity)).show()"
   ]
  },
  {
   "cell_type": "code",
   "execution_count": 37,
   "id": "e1188a33",
   "metadata": {},
   "outputs": [
    {
     "data": {
      "text/plain": [
       "25858"
      ]
     },
     "execution_count": 37,
     "metadata": {},
     "output_type": "execute_result"
    }
   ],
   "source": [
    "df[['InvoiceNo']].distinct().count()"
   ]
  },
  {
   "cell_type": "code",
   "execution_count": 38,
   "id": "de7b5e83",
   "metadata": {},
   "outputs": [
    {
     "data": {
      "text/plain": [
       "541782"
      ]
     },
     "execution_count": 38,
     "metadata": {},
     "output_type": "execute_result"
    }
   ],
   "source": [
    "df[['InvoiceNo']].count()"
   ]
  },
  {
   "cell_type": "code",
   "execution_count": null,
   "id": "cd4ce6f7",
   "metadata": {},
   "outputs": [],
   "source": []
  },
  {
   "cell_type": "markdown",
   "id": "3c287835",
   "metadata": {},
   "source": [
    "#### SIMPLE AGGREGATIONS"
   ]
  },
  {
   "cell_type": "code",
   "execution_count": 47,
   "id": "bab6a13d",
   "metadata": {},
   "outputs": [
    {
     "name": "stdout",
     "output_type": "stream",
     "text": [
      "+---------+--------------+--------------+-----------------+\n",
      "|row_count|unique_invoice|total quantity|   avg unit_price|\n",
      "+---------+--------------+--------------+-----------------+\n",
      "|   541782|         25858|       5175855|4.611565323321927|\n",
      "+---------+--------------+--------------+-----------------+\n",
      "\n"
     ]
    }
   ],
   "source": [
    "df.select(count(\"*\").alias(\"row_count\"),countDistinct(\"InvoiceNo\").alias(\"unique_invoice\"),sum(\"quantity\").alias(\"total quantity\"),avg(\"UnitPrice\").alias(\"avg unit_price\")).show()"
   ]
  },
  {
   "cell_type": "code",
   "execution_count": 51,
   "id": "951efdde",
   "metadata": {},
   "outputs": [
    {
     "name": "stdout",
     "output_type": "stream",
     "text": [
      "+---------+--------------+--------------+-----------------+\n",
      "|row_count|unique_invoice|total_quantity|        avg_price|\n",
      "+---------+--------------+--------------+-----------------+\n",
      "|   541782|         25858|       5175855|4.611565323321927|\n",
      "+---------+--------------+--------------+-----------------+\n",
      "\n"
     ]
    }
   ],
   "source": [
    "df.selectExpr(\"count(*) as row_count\", \"count(distinct InvoiceNo) as unique_invoice\",\n",
    "\"sum(quantity) as total_quantity\",\n",
    "\"avg(UnitPrice) as avg_price\").show()"
   ]
  },
  {
   "cell_type": "code",
   "execution_count": 52,
   "id": "28e31314",
   "metadata": {},
   "outputs": [],
   "source": [
    "df.createOrReplaceTempView(\"orders_df\")"
   ]
  },
  {
   "cell_type": "code",
   "execution_count": 53,
   "id": "64dc79e6",
   "metadata": {},
   "outputs": [
    {
     "name": "stdout",
     "output_type": "stream",
     "text": [
      "+---------+--------------+--------------+-----------------+\n",
      "|row_count|unique_invoice|total_quantity|        avg_price|\n",
      "+---------+--------------+--------------+-----------------+\n",
      "|   541782|         25858|       5175855|4.611565323321927|\n",
      "+---------+--------------+--------------+-----------------+\n",
      "\n"
     ]
    }
   ],
   "source": [
    "spark.sql(\"\"\"select count(*) as row_count, count(distinct InvoiceNo) as unique_invoice,\n",
    "sum(quantity) as total_quantity,\n",
    "avg(UnitPrice) as avg_price from orders_df\"\"\").show()"
   ]
  },
  {
   "cell_type": "code",
   "execution_count": null,
   "id": "ead3e58d",
   "metadata": {},
   "outputs": [],
   "source": []
  },
  {
   "cell_type": "code",
   "execution_count": null,
   "id": "86d9bb9c",
   "metadata": {},
   "outputs": [],
   "source": []
  },
  {
   "cell_type": "markdown",
   "id": "5f6044fd",
   "metadata": {},
   "source": [
    "#### GROUPING AGGREGATIONS"
   ]
  },
  {
   "cell_type": "code",
   "execution_count": 61,
   "id": "cfa5126a",
   "metadata": {},
   "outputs": [],
   "source": [
    "summary_df = df\\\n",
    ".groupBy(\"Country\",\"InvoiceNo\")\\\n",
    ".agg(sum(\"quantity\").alias(\"total_quantity\"),sum(expr(\"quantity*unitprice\")).alias(\"InvoiceValue\"))\\\n",
    ".sort(\"InvoiceNo\")"
   ]
  },
  {
   "cell_type": "code",
   "execution_count": 62,
   "id": "8d98a8d2",
   "metadata": {},
   "outputs": [
    {
     "name": "stdout",
     "output_type": "stream",
     "text": [
      "+--------------+---------+--------------+------------------+\n",
      "|       Country|InvoiceNo|total_quantity|      InvoiceValue|\n",
      "+--------------+---------+--------------+------------------+\n",
      "|United Kingdom|   536378|           242|192.78000000000003|\n",
      "|United Kingdom|   536380|            24|              34.8|\n",
      "|United Kingdom|   536381|           198|449.97999999999996|\n",
      "|United Kingdom|   536382|           134|430.59999999999997|\n",
      "|United Kingdom|   536384|           190|             489.6|\n",
      "|United Kingdom|   536385|            53|            130.85|\n",
      "|United Kingdom|   536386|           236|508.20000000000005|\n",
      "|United Kingdom|   536387|          1440|           3193.92|\n",
      "|United Kingdom|   536388|           108|            226.14|\n",
      "|     Australia|   536389|           107|            358.25|\n",
      "|United Kingdom|   536390|          1568|           1825.74|\n",
      "|United Kingdom|   536392|           103|318.14000000000004|\n",
      "|United Kingdom|   536393|             8|              79.6|\n",
      "|United Kingdom|   536394|           544|1024.6800000000003|\n",
      "|United Kingdom|   536395|           260| 507.8800000000001|\n",
      "|United Kingdom|   536396|           102|376.36000000000007|\n",
      "|United Kingdom|   536397|            60|             279.0|\n",
      "|United Kingdom|   536398|           150|426.56000000000006|\n",
      "|United Kingdom|   536399|            12|22.200000000000003|\n",
      "|United Kingdom|   536400|            12|              17.4|\n",
      "+--------------+---------+--------------+------------------+\n",
      "only showing top 20 rows\n",
      "\n"
     ]
    }
   ],
   "source": [
    "summary_df.show()"
   ]
  },
  {
   "cell_type": "code",
   "execution_count": 63,
   "id": "d2dafee0",
   "metadata": {},
   "outputs": [],
   "source": [
    "summary_df =df.groupBy(\"Country\",\"InvoiceNo\")\\\n",
    ".agg(expr(\"sum(quantity) as total_quantity\"),expr(\"sum(quantity*unitprice) as invoiceValue\"))\\\n",
    ".sort(\"InvoiceNo\")"
   ]
  },
  {
   "cell_type": "code",
   "execution_count": 64,
   "id": "6483976a",
   "metadata": {},
   "outputs": [
    {
     "name": "stdout",
     "output_type": "stream",
     "text": [
      "+--------------+---------+--------------+------------------+\n",
      "|       Country|InvoiceNo|total_quantity|      invoiceValue|\n",
      "+--------------+---------+--------------+------------------+\n",
      "|United Kingdom|   536378|           242|192.78000000000003|\n",
      "|United Kingdom|   536380|            24|              34.8|\n",
      "|United Kingdom|   536381|           198|449.97999999999996|\n",
      "|United Kingdom|   536382|           134|430.59999999999997|\n",
      "|United Kingdom|   536384|           190|             489.6|\n",
      "|United Kingdom|   536385|            53|            130.85|\n",
      "|United Kingdom|   536386|           236|508.20000000000005|\n",
      "|United Kingdom|   536387|          1440|           3193.92|\n",
      "|United Kingdom|   536388|           108|            226.14|\n",
      "|     Australia|   536389|           107|            358.25|\n",
      "|United Kingdom|   536390|          1568|           1825.74|\n",
      "|United Kingdom|   536392|           103|318.14000000000004|\n",
      "|United Kingdom|   536393|             8|              79.6|\n",
      "|United Kingdom|   536394|           544|1024.6800000000003|\n",
      "|United Kingdom|   536395|           260| 507.8800000000001|\n",
      "|United Kingdom|   536396|           102|376.36000000000007|\n",
      "|United Kingdom|   536397|            60|             279.0|\n",
      "|United Kingdom|   536398|           150|426.56000000000006|\n",
      "|United Kingdom|   536399|            12|22.200000000000003|\n",
      "|United Kingdom|   536400|            12|              17.4|\n",
      "+--------------+---------+--------------+------------------+\n",
      "only showing top 20 rows\n",
      "\n"
     ]
    }
   ],
   "source": [
    "summary_df.show()"
   ]
  },
  {
   "cell_type": "code",
   "execution_count": null,
   "id": "f8082665",
   "metadata": {},
   "outputs": [],
   "source": []
  }
 ],
 "metadata": {
  "kernelspec": {
   "display_name": "Pyspark 3",
   "language": "python",
   "name": "pyspark3"
  },
  "language_info": {
   "codemirror_mode": {
    "name": "ipython",
    "version": 3
   },
   "file_extension": ".py",
   "mimetype": "text/x-python",
   "name": "python",
   "nbconvert_exporter": "python",
   "pygments_lexer": "ipython3",
   "version": "3.6.12"
  }
 },
 "nbformat": 4,
 "nbformat_minor": 5
}
