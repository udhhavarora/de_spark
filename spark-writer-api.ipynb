{
 "cells": [
  {
   "cell_type": "code",
   "execution_count": 1,
   "id": "abd4892f",
   "metadata": {},
   "outputs": [
    {
     "data": {
      "text/html": [
       "\n",
       "            <div>\n",
       "                <p><b>SparkSession - hive</b></p>\n",
       "                \n",
       "        <div>\n",
       "            <p><b>SparkContext</b></p>\n",
       "\n",
       "            <p><a href=\"http://g01.itversity.com:4041\">Spark UI</a></p>\n",
       "\n",
       "            <dl>\n",
       "              <dt>Version</dt>\n",
       "                <dd><code>v3.1.2</code></dd>\n",
       "              <dt>Master</dt>\n",
       "                <dd><code>yarn</code></dd>\n",
       "              <dt>AppName</dt>\n",
       "                <dd><code>df writer apis</code></dd>\n",
       "            </dl>\n",
       "        </div>\n",
       "        \n",
       "            </div>\n",
       "        "
      ],
      "text/plain": [
       "<pyspark.sql.session.SparkSession at 0x7f5f64798400>"
      ]
     },
     "execution_count": 1,
     "metadata": {},
     "output_type": "execute_result"
    }
   ],
   "source": [
    "from pyspark.sql import SparkSession\n",
    "from pyspark.sql.functions import *\n",
    "from pyspark.sql import * #for window\n",
    "\n",
    "spark = SparkSession\\\n",
    ".builder\\\n",
    ".master(\"yarn\")\\\n",
    ".appName(\"df writer apis\")\\\n",
    ".enableHiveSupport()\\\n",
    ".config(\"spark.sql.warehouse.dir\",\"/user/itv009490/warehouse\")\\\n",
    ".getOrCreate()\n",
    "\n",
    "spark"
   ]
  },
  {
   "cell_type": "code",
   "execution_count": 3,
   "id": "ad8108eb",
   "metadata": {},
   "outputs": [],
   "source": [
    "order_schema = 'order_id  long, order_date string, customer_id long, order_status string '"
   ]
  },
  {
   "cell_type": "code",
   "execution_count": 4,
   "id": "9406ec1a",
   "metadata": {},
   "outputs": [],
   "source": [
    "df = spark.read.format(\"csv\").\\\n",
    "schema(order_schema).\\\n",
    "load(\"/public/trendytech/orders/orders_1gb.csv\")"
   ]
  },
  {
   "cell_type": "code",
   "execution_count": 5,
   "id": "0d1f0ff6",
   "metadata": {},
   "outputs": [
    {
     "name": "stdout",
     "output_type": "stream",
     "text": [
      "root\n",
      " |-- order_id: long (nullable = true)\n",
      " |-- order_date: string (nullable = true)\n",
      " |-- customer_id: long (nullable = true)\n",
      " |-- order_status: string (nullable = true)\n",
      "\n"
     ]
    }
   ],
   "source": [
    "df.printSchema()"
   ]
  },
  {
   "cell_type": "code",
   "execution_count": 6,
   "id": "4d049a85",
   "metadata": {},
   "outputs": [
    {
     "name": "stdout",
     "output_type": "stream",
     "text": [
      "+--------+--------------------+-----------+---------------+\n",
      "|order_id|          order_date|customer_id|   order_status|\n",
      "+--------+--------------------+-----------+---------------+\n",
      "|       1|2013-07-25 00:00:...|      11599|         CLOSED|\n",
      "|       2|2013-07-25 00:00:...|        256|PENDING_PAYMENT|\n",
      "|       3|2013-07-25 00:00:...|      12111|       COMPLETE|\n",
      "|       4|2013-07-25 00:00:...|       8827|         CLOSED|\n",
      "|       5|2013-07-25 00:00:...|      11318|       COMPLETE|\n",
      "|       6|2013-07-25 00:00:...|       7130|       COMPLETE|\n",
      "|       7|2013-07-25 00:00:...|       4530|       COMPLETE|\n",
      "|       8|2013-07-25 00:00:...|       2911|     PROCESSING|\n",
      "|       9|2013-07-25 00:00:...|       5657|PENDING_PAYMENT|\n",
      "|      10|2013-07-25 00:00:...|       5648|PENDING_PAYMENT|\n",
      "|      11|2013-07-25 00:00:...|        918| PAYMENT_REVIEW|\n",
      "|      12|2013-07-25 00:00:...|       1837|         CLOSED|\n",
      "|      13|2013-07-25 00:00:...|       9149|PENDING_PAYMENT|\n",
      "|      14|2013-07-25 00:00:...|       9842|     PROCESSING|\n",
      "|      15|2013-07-25 00:00:...|       2568|       COMPLETE|\n",
      "|      16|2013-07-25 00:00:...|       7276|PENDING_PAYMENT|\n",
      "|      17|2013-07-25 00:00:...|       2667|       COMPLETE|\n",
      "|      18|2013-07-25 00:00:...|       1205|         CLOSED|\n",
      "|      19|2013-07-25 00:00:...|       9488|PENDING_PAYMENT|\n",
      "|      20|2013-07-25 00:00:...|       9198|     PROCESSING|\n",
      "+--------+--------------------+-----------+---------------+\n",
      "only showing top 20 rows\n",
      "\n"
     ]
    }
   ],
   "source": [
    "df.show()"
   ]
  },
  {
   "cell_type": "code",
   "execution_count": 8,
   "id": "12d95872",
   "metadata": {},
   "outputs": [
    {
     "data": {
      "text/plain": [
       "9"
      ]
     },
     "execution_count": 8,
     "metadata": {},
     "output_type": "execute_result"
    }
   ],
   "source": [
    "df.rdd.getNumPartitions()"
   ]
  },
  {
   "cell_type": "code",
   "execution_count": 11,
   "id": "4c32bf56",
   "metadata": {},
   "outputs": [
    {
     "name": "stdout",
     "output_type": "stream",
     "text": [
      "3.5 G    10.5 G  /public/trendytech/orders/orders.csv\n",
      "1.0 G    3.1 G   /public/trendytech/orders/orders_1gb.csv\n",
      "370.7 M  1.1 G   /public/trendytech/orders/ordersparquet\n"
     ]
    }
   ],
   "source": [
    "!hdfs dfs -du -h /public/trendytech/orders/"
   ]
  },
  {
   "cell_type": "code",
   "execution_count": 12,
   "id": "72854f58",
   "metadata": {},
   "outputs": [],
   "source": [
    "df.write.format(\"csv\").mode(\"overwrite\").option(\"path\",\"/user/itv009490/spark_writer_demo1\").save()"
   ]
  },
  {
   "cell_type": "code",
   "execution_count": 13,
   "id": "4fc3c1da",
   "metadata": {},
   "outputs": [
    {
     "name": "stdout",
     "output_type": "stream",
     "text": [
      "Found 10 items\n",
      "-rw-r--r--   3 itv009490 supergroup          0 2023-12-01 13:11 /user/itv009490/spark_writer_demo1/_SUCCESS\n",
      "-rw-r--r--   3 itv009490 supergroup  134217756 2023-12-01 13:11 /user/itv009490/spark_writer_demo1/part-00000-b4a0078e-390c-4146-9808-7935d56d9ac1-c000.csv\n",
      "-rw-r--r--   3 itv009490 supergroup  134217738 2023-12-01 13:10 /user/itv009490/spark_writer_demo1/part-00001-b4a0078e-390c-4146-9808-7935d56d9ac1-c000.csv\n",
      "-rw-r--r--   3 itv009490 supergroup  134217735 2023-12-01 13:11 /user/itv009490/spark_writer_demo1/part-00002-b4a0078e-390c-4146-9808-7935d56d9ac1-c000.csv\n",
      "-rw-r--r--   3 itv009490 supergroup  134217692 2023-12-01 13:11 /user/itv009490/spark_writer_demo1/part-00003-b4a0078e-390c-4146-9808-7935d56d9ac1-c000.csv\n",
      "-rw-r--r--   3 itv009490 supergroup  134217743 2023-12-01 13:11 /user/itv009490/spark_writer_demo1/part-00004-b4a0078e-390c-4146-9808-7935d56d9ac1-c000.csv\n",
      "-rw-r--r--   3 itv009490 supergroup  134217746 2023-12-01 13:11 /user/itv009490/spark_writer_demo1/part-00005-b4a0078e-390c-4146-9808-7935d56d9ac1-c000.csv\n",
      "-rw-r--r--   3 itv009490 supergroup  134217689 2023-12-01 13:11 /user/itv009490/spark_writer_demo1/part-00006-b4a0078e-390c-4146-9808-7935d56d9ac1-c000.csv\n",
      "-rw-r--r--   3 itv009490 supergroup  134217755 2023-12-01 13:11 /user/itv009490/spark_writer_demo1/part-00007-b4a0078e-390c-4146-9808-7935d56d9ac1-c000.csv\n",
      "-rw-r--r--   3 itv009490 supergroup   51237146 2023-12-01 13:11 /user/itv009490/spark_writer_demo1/part-00008-b4a0078e-390c-4146-9808-7935d56d9ac1-c000.csv\n"
     ]
    }
   ],
   "source": [
    "!hdfs dfs -ls /user/itv009490/spark_writer_demo1"
   ]
  },
  {
   "cell_type": "code",
   "execution_count": 14,
   "id": "e5a59ba7",
   "metadata": {},
   "outputs": [
    {
     "name": "stdout",
     "output_type": "stream",
     "text": [
      "0        0        /user/itv009490/spark_writer_demo1/_SUCCESS\n",
      "128.0 M  384.0 M  /user/itv009490/spark_writer_demo1/part-00000-b4a0078e-390c-4146-9808-7935d56d9ac1-c000.csv\n",
      "128.0 M  384.0 M  /user/itv009490/spark_writer_demo1/part-00001-b4a0078e-390c-4146-9808-7935d56d9ac1-c000.csv\n",
      "128.0 M  384.0 M  /user/itv009490/spark_writer_demo1/part-00002-b4a0078e-390c-4146-9808-7935d56d9ac1-c000.csv\n",
      "128.0 M  384.0 M  /user/itv009490/spark_writer_demo1/part-00003-b4a0078e-390c-4146-9808-7935d56d9ac1-c000.csv\n",
      "128.0 M  384.0 M  /user/itv009490/spark_writer_demo1/part-00004-b4a0078e-390c-4146-9808-7935d56d9ac1-c000.csv\n",
      "128.0 M  384.0 M  /user/itv009490/spark_writer_demo1/part-00005-b4a0078e-390c-4146-9808-7935d56d9ac1-c000.csv\n",
      "128.0 M  384.0 M  /user/itv009490/spark_writer_demo1/part-00006-b4a0078e-390c-4146-9808-7935d56d9ac1-c000.csv\n",
      "128.0 M  384.0 M  /user/itv009490/spark_writer_demo1/part-00007-b4a0078e-390c-4146-9808-7935d56d9ac1-c000.csv\n",
      "48.9 M   146.6 M  /user/itv009490/spark_writer_demo1/part-00008-b4a0078e-390c-4146-9808-7935d56d9ac1-c000.csv\n"
     ]
    }
   ],
   "source": [
    "!hdfs dfs -du -h /user/itv009490/spark_writer_demo1"
   ]
  },
  {
   "cell_type": "code",
   "execution_count": 17,
   "id": "cafb05bc",
   "metadata": {},
   "outputs": [],
   "source": [
    "#default format\n",
    "\n",
    "df.write.format(\"orc\").mode(\"append\").option(\"path\",\"/user/itv009490/spark_writer_demo1\").save()"
   ]
  },
  {
   "cell_type": "code",
   "execution_count": 19,
   "id": "6fdbff0e",
   "metadata": {},
   "outputs": [
    {
     "name": "stdout",
     "output_type": "stream",
     "text": [
      "Found 19 items\n",
      "-rw-r--r--   3 itv009490 supergroup          0 2023-12-01 13:22 /user/itv009490/spark_writer_demo1/_SUCCESS\n",
      "-rw-r--r--   3 itv009490 supergroup      7.0 M 2023-12-01 13:22 /user/itv009490/spark_writer_demo1/part-00000-a67238e8-c20c-4bd7-bf56-401130da3f1b-c000.snappy.orc\n",
      "-rw-r--r--   3 itv009490 supergroup     13.4 M 2023-12-01 13:15 /user/itv009490/spark_writer_demo1/part-00000-f26f3edb-6922-4072-b7ac-654def9483d9-c000.snappy.parquet\n",
      "-rw-r--r--   3 itv009490 supergroup      7.0 M 2023-12-01 13:22 /user/itv009490/spark_writer_demo1/part-00001-a67238e8-c20c-4bd7-bf56-401130da3f1b-c000.snappy.orc\n",
      "-rw-r--r--   3 itv009490 supergroup     13.4 M 2023-12-01 13:15 /user/itv009490/spark_writer_demo1/part-00001-f26f3edb-6922-4072-b7ac-654def9483d9-c000.snappy.parquet\n",
      "-rw-r--r--   3 itv009490 supergroup      7.0 M 2023-12-01 13:22 /user/itv009490/spark_writer_demo1/part-00002-a67238e8-c20c-4bd7-bf56-401130da3f1b-c000.snappy.orc\n",
      "-rw-r--r--   3 itv009490 supergroup     13.4 M 2023-12-01 13:15 /user/itv009490/spark_writer_demo1/part-00002-f26f3edb-6922-4072-b7ac-654def9483d9-c000.snappy.parquet\n",
      "-rw-r--r--   3 itv009490 supergroup      7.0 M 2023-12-01 13:22 /user/itv009490/spark_writer_demo1/part-00003-a67238e8-c20c-4bd7-bf56-401130da3f1b-c000.snappy.orc\n",
      "-rw-r--r--   3 itv009490 supergroup     13.4 M 2023-12-01 13:15 /user/itv009490/spark_writer_demo1/part-00003-f26f3edb-6922-4072-b7ac-654def9483d9-c000.snappy.parquet\n",
      "-rw-r--r--   3 itv009490 supergroup      7.0 M 2023-12-01 13:22 /user/itv009490/spark_writer_demo1/part-00004-a67238e8-c20c-4bd7-bf56-401130da3f1b-c000.snappy.orc\n",
      "-rw-r--r--   3 itv009490 supergroup     13.4 M 2023-12-01 13:15 /user/itv009490/spark_writer_demo1/part-00004-f26f3edb-6922-4072-b7ac-654def9483d9-c000.snappy.parquet\n",
      "-rw-r--r--   3 itv009490 supergroup      7.0 M 2023-12-01 13:22 /user/itv009490/spark_writer_demo1/part-00005-a67238e8-c20c-4bd7-bf56-401130da3f1b-c000.snappy.orc\n",
      "-rw-r--r--   3 itv009490 supergroup     13.4 M 2023-12-01 13:15 /user/itv009490/spark_writer_demo1/part-00005-f26f3edb-6922-4072-b7ac-654def9483d9-c000.snappy.parquet\n",
      "-rw-r--r--   3 itv009490 supergroup      7.0 M 2023-12-01 13:22 /user/itv009490/spark_writer_demo1/part-00006-a67238e8-c20c-4bd7-bf56-401130da3f1b-c000.snappy.orc\n",
      "-rw-r--r--   3 itv009490 supergroup     13.4 M 2023-12-01 13:15 /user/itv009490/spark_writer_demo1/part-00006-f26f3edb-6922-4072-b7ac-654def9483d9-c000.snappy.parquet\n",
      "-rw-r--r--   3 itv009490 supergroup      7.0 M 2023-12-01 13:22 /user/itv009490/spark_writer_demo1/part-00007-a67238e8-c20c-4bd7-bf56-401130da3f1b-c000.snappy.orc\n",
      "-rw-r--r--   3 itv009490 supergroup     13.4 M 2023-12-01 13:15 /user/itv009490/spark_writer_demo1/part-00007-f26f3edb-6922-4072-b7ac-654def9483d9-c000.snappy.parquet\n",
      "-rw-r--r--   3 itv009490 supergroup      2.7 M 2023-12-01 13:22 /user/itv009490/spark_writer_demo1/part-00008-a67238e8-c20c-4bd7-bf56-401130da3f1b-c000.snappy.orc\n",
      "-rw-r--r--   3 itv009490 supergroup      5.3 M 2023-12-01 13:15 /user/itv009490/spark_writer_demo1/part-00008-f26f3edb-6922-4072-b7ac-654def9483d9-c000.snappy.parquet\n"
     ]
    }
   ],
   "source": [
    "!hdfs dfs -ls -h /user/itv009490/spark_writer_demo1"
   ]
  },
  {
   "cell_type": "code",
   "execution_count": null,
   "id": "e65acd57",
   "metadata": {},
   "outputs": [],
   "source": []
  }
 ],
 "metadata": {
  "kernelspec": {
   "display_name": "Pyspark 3",
   "language": "python",
   "name": "pyspark3"
  },
  "language_info": {
   "codemirror_mode": {
    "name": "ipython",
    "version": 3
   },
   "file_extension": ".py",
   "mimetype": "text/x-python",
   "name": "python",
   "nbconvert_exporter": "python",
   "pygments_lexer": "ipython3",
   "version": "3.6.12"
  }
 },
 "nbformat": 4,
 "nbformat_minor": 5
}
