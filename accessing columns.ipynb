{
 "cells": [
  {
   "cell_type": "code",
   "execution_count": 1,
   "id": "a131c696",
   "metadata": {},
   "outputs": [
    {
     "data": {
      "text/html": [
       "\n",
       "            <div>\n",
       "                <p><b>SparkSession - hive</b></p>\n",
       "                \n",
       "        <div>\n",
       "            <p><b>SparkContext</b></p>\n",
       "\n",
       "            <p><a href=\"http://g01.itversity.com:4040\">Spark UI</a></p>\n",
       "\n",
       "            <dl>\n",
       "              <dt>Version</dt>\n",
       "                <dd><code>v3.1.2</code></dd>\n",
       "              <dt>Master</dt>\n",
       "                <dd><code>yarn</code></dd>\n",
       "              <dt>AppName</dt>\n",
       "                <dd><code>accessing columns</code></dd>\n",
       "            </dl>\n",
       "        </div>\n",
       "        \n",
       "            </div>\n",
       "        "
      ],
      "text/plain": [
       "<pyspark.sql.session.SparkSession at 0x7fcfd3cef3c8>"
      ]
     },
     "execution_count": 1,
     "metadata": {},
     "output_type": "execute_result"
    }
   ],
   "source": [
    "from pyspark.sql import SparkSession\n",
    "\n",
    "spark = SparkSession\\\n",
    ".builder\\\n",
    ".master(\"yarn\")\\\n",
    ".appName(\"accessing columns\")\\\n",
    ".enableHiveSupport()\\\n",
    ".config(\"spark.sql.warehouse.dir\",\"/user/itv009490/warehouse\")\\\n",
    ".getOrCreate()\n",
    "\n",
    "spark"
   ]
  },
  {
   "cell_type": "code",
   "execution_count": 2,
   "id": "ff5d8632",
   "metadata": {},
   "outputs": [],
   "source": [
    "orders_schema = 'order_id long, order_date date, customer_id long, order_status string'"
   ]
  },
  {
   "cell_type": "code",
   "execution_count": 3,
   "id": "c25b1cde",
   "metadata": {},
   "outputs": [],
   "source": [
    "df = spark.read.format(\"csv\").\\\n",
    "schema(orders_schema).\\\n",
    "load(\"/public/trendytech/orders/orders_1gb.csv\")"
   ]
  },
  {
   "cell_type": "code",
   "execution_count": 4,
   "id": "e4d8d28c",
   "metadata": {},
   "outputs": [
    {
     "name": "stdout",
     "output_type": "stream",
     "text": [
      "+--------+----------+-----------+---------------+\n",
      "|order_id|order_date|customer_id|   order_status|\n",
      "+--------+----------+-----------+---------------+\n",
      "|       1|2013-07-25|      11599|         CLOSED|\n",
      "|       2|2013-07-25|        256|PENDING_PAYMENT|\n",
      "|       3|2013-07-25|      12111|       COMPLETE|\n",
      "|       4|2013-07-25|       8827|         CLOSED|\n",
      "|       5|2013-07-25|      11318|       COMPLETE|\n",
      "|       6|2013-07-25|       7130|       COMPLETE|\n",
      "|       7|2013-07-25|       4530|       COMPLETE|\n",
      "|       8|2013-07-25|       2911|     PROCESSING|\n",
      "|       9|2013-07-25|       5657|PENDING_PAYMENT|\n",
      "|      10|2013-07-25|       5648|PENDING_PAYMENT|\n",
      "|      11|2013-07-25|        918| PAYMENT_REVIEW|\n",
      "|      12|2013-07-25|       1837|         CLOSED|\n",
      "|      13|2013-07-25|       9149|PENDING_PAYMENT|\n",
      "|      14|2013-07-25|       9842|     PROCESSING|\n",
      "|      15|2013-07-25|       2568|       COMPLETE|\n",
      "|      16|2013-07-25|       7276|PENDING_PAYMENT|\n",
      "|      17|2013-07-25|       2667|       COMPLETE|\n",
      "|      18|2013-07-25|       1205|         CLOSED|\n",
      "|      19|2013-07-25|       9488|PENDING_PAYMENT|\n",
      "|      20|2013-07-25|       9198|     PROCESSING|\n",
      "+--------+----------+-----------+---------------+\n",
      "only showing top 20 rows\n",
      "\n"
     ]
    }
   ],
   "source": [
    "df.show()"
   ]
  },
  {
   "cell_type": "code",
   "execution_count": 5,
   "id": "cc4e9c85",
   "metadata": {},
   "outputs": [
    {
     "name": "stdout",
     "output_type": "stream",
     "text": [
      "+--------+----------+-----------+---------------+\n",
      "|order_id|order_date|customer_id|   order_status|\n",
      "+--------+----------+-----------+---------------+\n",
      "|       1|2013-07-25|      11599|         CLOSED|\n",
      "|       2|2013-07-25|        256|PENDING_PAYMENT|\n",
      "|       3|2013-07-25|      12111|       COMPLETE|\n",
      "|       4|2013-07-25|       8827|         CLOSED|\n",
      "|       5|2013-07-25|      11318|       COMPLETE|\n",
      "|       6|2013-07-25|       7130|       COMPLETE|\n",
      "|       7|2013-07-25|       4530|       COMPLETE|\n",
      "|       8|2013-07-25|       2911|     PROCESSING|\n",
      "|       9|2013-07-25|       5657|PENDING_PAYMENT|\n",
      "|      10|2013-07-25|       5648|PENDING_PAYMENT|\n",
      "|      11|2013-07-25|        918| PAYMENT_REVIEW|\n",
      "|      12|2013-07-25|       1837|         CLOSED|\n",
      "|      13|2013-07-25|       9149|PENDING_PAYMENT|\n",
      "|      14|2013-07-25|       9842|     PROCESSING|\n",
      "|      15|2013-07-25|       2568|       COMPLETE|\n",
      "|      16|2013-07-25|       7276|PENDING_PAYMENT|\n",
      "|      17|2013-07-25|       2667|       COMPLETE|\n",
      "|      18|2013-07-25|       1205|         CLOSED|\n",
      "|      19|2013-07-25|       9488|PENDING_PAYMENT|\n",
      "|      20|2013-07-25|       9198|     PROCESSING|\n",
      "+--------+----------+-----------+---------------+\n",
      "only showing top 20 rows\n",
      "\n"
     ]
    }
   ],
   "source": [
    "df.select(\"*\").show()"
   ]
  },
  {
   "cell_type": "code",
   "execution_count": 6,
   "id": "e2ca1ee1",
   "metadata": {},
   "outputs": [
    {
     "name": "stdout",
     "output_type": "stream",
     "text": [
      "+--------+-----------+\n",
      "|order_id|customer_id|\n",
      "+--------+-----------+\n",
      "|       1|      11599|\n",
      "|       2|        256|\n",
      "|       3|      12111|\n",
      "|       4|       8827|\n",
      "|       5|      11318|\n",
      "|       6|       7130|\n",
      "|       7|       4530|\n",
      "|       8|       2911|\n",
      "|       9|       5657|\n",
      "|      10|       5648|\n",
      "|      11|        918|\n",
      "|      12|       1837|\n",
      "|      13|       9149|\n",
      "|      14|       9842|\n",
      "|      15|       2568|\n",
      "|      16|       7276|\n",
      "|      17|       2667|\n",
      "|      18|       1205|\n",
      "|      19|       9488|\n",
      "|      20|       9198|\n",
      "+--------+-----------+\n",
      "only showing top 20 rows\n",
      "\n"
     ]
    }
   ],
   "source": [
    "df.select(\"order_id\",\"customer_id\").show()"
   ]
  },
  {
   "cell_type": "code",
   "execution_count": 9,
   "id": "a3bf627d",
   "metadata": {},
   "outputs": [
    {
     "name": "stdout",
     "output_type": "stream",
     "text": [
      "+--------+-----------+\n",
      "|order_id|customer_id|\n",
      "+--------+-----------+\n",
      "|       1|      11599|\n",
      "|       2|        256|\n",
      "|       3|      12111|\n",
      "|       4|       8827|\n",
      "|       5|      11318|\n",
      "|       6|       7130|\n",
      "|       7|       4530|\n",
      "|       8|       2911|\n",
      "|       9|       5657|\n",
      "|      10|       5648|\n",
      "|      11|        918|\n",
      "|      12|       1837|\n",
      "|      13|       9149|\n",
      "|      14|       9842|\n",
      "|      15|       2568|\n",
      "|      16|       7276|\n",
      "|      17|       2667|\n",
      "|      18|       1205|\n",
      "|      19|       9488|\n",
      "|      20|       9198|\n",
      "+--------+-----------+\n",
      "only showing top 20 rows\n",
      "\n"
     ]
    }
   ],
   "source": [
    "df[['order_id','customer_id']].show()"
   ]
  },
  {
   "cell_type": "code",
   "execution_count": 13,
   "id": "136dc949",
   "metadata": {},
   "outputs": [
    {
     "name": "stdout",
     "output_type": "stream",
     "text": [
      "+--------+-----------+--------+----------+\n",
      "|order_id|customer_id|order_id|order_date|\n",
      "+--------+-----------+--------+----------+\n",
      "|       1|      11599|       1|2013-07-25|\n",
      "|       2|        256|       2|2013-07-25|\n",
      "|       3|      12111|       3|2013-07-25|\n",
      "|       4|       8827|       4|2013-07-25|\n",
      "|       5|      11318|       5|2013-07-25|\n",
      "|       6|       7130|       6|2013-07-25|\n",
      "|       7|       4530|       7|2013-07-25|\n",
      "|       8|       2911|       8|2013-07-25|\n",
      "|       9|       5657|       9|2013-07-25|\n",
      "|      10|       5648|      10|2013-07-25|\n",
      "|      11|        918|      11|2013-07-25|\n",
      "|      12|       1837|      12|2013-07-25|\n",
      "|      13|       9149|      13|2013-07-25|\n",
      "|      14|       9842|      14|2013-07-25|\n",
      "|      15|       2568|      15|2013-07-25|\n",
      "|      16|       7276|      16|2013-07-25|\n",
      "|      17|       2667|      17|2013-07-25|\n",
      "|      18|       1205|      18|2013-07-25|\n",
      "|      19|       9488|      19|2013-07-25|\n",
      "|      20|       9198|      20|2013-07-25|\n",
      "+--------+-----------+--------+----------+\n",
      "only showing top 20 rows\n",
      "\n"
     ]
    }
   ],
   "source": [
    "df.select(df.order_id,df.customer_id,df['order_id'],\"order_date\").show()"
   ]
  },
  {
   "cell_type": "code",
   "execution_count": 14,
   "id": "d382ccfb",
   "metadata": {},
   "outputs": [
    {
     "name": "stdout",
     "output_type": "stream",
     "text": [
      "+-----------+\n",
      "|customer_id|\n",
      "+-----------+\n",
      "|      11599|\n",
      "|        256|\n",
      "|      12111|\n",
      "|       8827|\n",
      "|      11318|\n",
      "|       7130|\n",
      "|       4530|\n",
      "|       2911|\n",
      "|       5657|\n",
      "|       5648|\n",
      "|        918|\n",
      "|       1837|\n",
      "|       9149|\n",
      "|       9842|\n",
      "|       2568|\n",
      "|       7276|\n",
      "|       2667|\n",
      "|       1205|\n",
      "|       9488|\n",
      "|       9198|\n",
      "+-----------+\n",
      "only showing top 20 rows\n",
      "\n"
     ]
    }
   ],
   "source": [
    "from pyspark.sql.functions import *\n",
    "\n",
    "df.select(col(\"customer_id\")).show()"
   ]
  },
  {
   "cell_type": "code",
   "execution_count": 21,
   "id": "9e2544f3",
   "metadata": {},
   "outputs": [
    {
     "name": "stdout",
     "output_type": "stream",
     "text": [
      "+--------+-----------+--------+----------+---------------+---------------+------------+\n",
      "|order_id|customer_id|order_id|order_date|   order_status|   order_status|new_order_id|\n",
      "+--------+-----------+--------+----------+---------------+---------------+------------+\n",
      "|       1|      11599|       1|2013-07-25|         CLOSED|         CLOSED|           2|\n",
      "|       2|        256|       2|2013-07-25|PENDING_PAYMENT|PENDING_PAYMENT|           3|\n",
      "|       3|      12111|       3|2013-07-25|       COMPLETE|       COMPLETE|           4|\n",
      "|       4|       8827|       4|2013-07-25|         CLOSED|         CLOSED|           5|\n",
      "|       5|      11318|       5|2013-07-25|       COMPLETE|       COMPLETE|           6|\n",
      "|       6|       7130|       6|2013-07-25|       COMPLETE|       COMPLETE|           7|\n",
      "|       7|       4530|       7|2013-07-25|       COMPLETE|       COMPLETE|           8|\n",
      "|       8|       2911|       8|2013-07-25|     PROCESSING|     PROCESSING|           9|\n",
      "|       9|       5657|       9|2013-07-25|PENDING_PAYMENT|PENDING_PAYMENT|          10|\n",
      "|      10|       5648|      10|2013-07-25|PENDING_PAYMENT|PENDING_PAYMENT|          11|\n",
      "|      11|        918|      11|2013-07-25| PAYMENT_REVIEW| PAYMENT_REVIEW|          12|\n",
      "|      12|       1837|      12|2013-07-25|         CLOSED|         CLOSED|          13|\n",
      "|      13|       9149|      13|2013-07-25|PENDING_PAYMENT|PENDING_PAYMENT|          14|\n",
      "|      14|       9842|      14|2013-07-25|     PROCESSING|     PROCESSING|          15|\n",
      "|      15|       2568|      15|2013-07-25|       COMPLETE|       COMPLETE|          16|\n",
      "|      16|       7276|      16|2013-07-25|PENDING_PAYMENT|PENDING_PAYMENT|          17|\n",
      "|      17|       2667|      17|2013-07-25|       COMPLETE|       COMPLETE|          18|\n",
      "|      18|       1205|      18|2013-07-25|         CLOSED|         CLOSED|          19|\n",
      "|      19|       9488|      19|2013-07-25|PENDING_PAYMENT|PENDING_PAYMENT|          20|\n",
      "|      20|       9198|      20|2013-07-25|     PROCESSING|     PROCESSING|          21|\n",
      "+--------+-----------+--------+----------+---------------+---------------+------------+\n",
      "only showing top 20 rows\n",
      "\n"
     ]
    }
   ],
   "source": [
    "df.select(df.order_id,df.customer_id,df['order_id'],\"order_date\",col(\"order_status\"),expr(\"order_status\"),expr(\"order_id +1 as new_order_id\")).show()"
   ]
  },
  {
   "cell_type": "code",
   "execution_count": 24,
   "id": "5964ab5c",
   "metadata": {},
   "outputs": [
    {
     "name": "stdout",
     "output_type": "stream",
     "text": [
      "+--------+-----------+--------+----------+---------------+---------------+------------+\n",
      "|order_id|customer_id|order_id|order_date|   order_status|   order_status|new_order_id|\n",
      "+--------+-----------+--------+----------+---------------+---------------+------------+\n",
      "|       2|        256|       2|2013-07-25|PENDING_PAYMENT|PENDING_PAYMENT|           3|\n",
      "|       9|       5657|       9|2013-07-25|PENDING_PAYMENT|PENDING_PAYMENT|          10|\n",
      "|      10|       5648|      10|2013-07-25|PENDING_PAYMENT|PENDING_PAYMENT|          11|\n",
      "|      13|       9149|      13|2013-07-25|PENDING_PAYMENT|PENDING_PAYMENT|          14|\n",
      "|      16|       7276|      16|2013-07-25|PENDING_PAYMENT|PENDING_PAYMENT|          17|\n",
      "|      19|       9488|      19|2013-07-25|PENDING_PAYMENT|PENDING_PAYMENT|          20|\n",
      "|      21|       2711|      21|2013-07-25|        PENDING|        PENDING|          22|\n",
      "|      23|       4367|      23|2013-07-25|PENDING_PAYMENT|PENDING_PAYMENT|          24|\n",
      "|      27|       3241|      27|2013-07-25|PENDING_PAYMENT|PENDING_PAYMENT|          28|\n",
      "|      30|      10039|      30|2013-07-25|PENDING_PAYMENT|PENDING_PAYMENT|          31|\n",
      "|      33|       5793|      33|2013-07-25|PENDING_PAYMENT|PENDING_PAYMENT|          34|\n",
      "|      36|       5649|      36|2013-07-25|        PENDING|        PENDING|          37|\n",
      "|      39|       8214|      39|2013-07-25|        PENDING|        PENDING|          40|\n",
      "|      40|      12092|      40|2013-07-25|PENDING_PAYMENT|PENDING_PAYMENT|          41|\n",
      "|      41|       8136|      41|2013-07-25|PENDING_PAYMENT|PENDING_PAYMENT|          42|\n",
      "|      42|       9776|      42|2013-07-25|        PENDING|        PENDING|          43|\n",
      "|      43|       7776|      43|2013-07-25|PENDING_PAYMENT|PENDING_PAYMENT|          44|\n",
      "|      44|      10500|      44|2013-07-25|        PENDING|        PENDING|          45|\n",
      "|      47|       8487|      47|2013-07-25|PENDING_PAYMENT|PENDING_PAYMENT|          48|\n",
      "|      49|       1871|      49|2013-07-25|        PENDING|        PENDING|          50|\n",
      "+--------+-----------+--------+----------+---------------+---------------+------------+\n",
      "only showing top 20 rows\n",
      "\n"
     ]
    }
   ],
   "source": [
    "df.select(df.order_id,df.customer_id,df['order_id'],\"order_date\",col(\"order_status\"),expr(\"order_status\"),expr(\"order_id +1 as new_order_id\"))\\\n",
    ".where(col(\"order_status\").like('PEND%') ).show()"
   ]
  },
  {
   "cell_type": "code",
   "execution_count": 27,
   "id": "71e209c4",
   "metadata": {},
   "outputs": [
    {
     "name": "stdout",
     "output_type": "stream",
     "text": [
      "+--------+-----------+--------+----------+---------------+---------------+------------+\n",
      "|order_id|customer_id|order_id|order_date|   order_status|   order_status|new_order_id|\n",
      "+--------+-----------+--------+----------+---------------+---------------+------------+\n",
      "|       2|        256|       2|2013-07-25|PENDING_PAYMENT|PENDING_PAYMENT|           3|\n",
      "|       9|       5657|       9|2013-07-25|PENDING_PAYMENT|PENDING_PAYMENT|          10|\n",
      "|      10|       5648|      10|2013-07-25|PENDING_PAYMENT|PENDING_PAYMENT|          11|\n",
      "|      13|       9149|      13|2013-07-25|PENDING_PAYMENT|PENDING_PAYMENT|          14|\n",
      "|      16|       7276|      16|2013-07-25|PENDING_PAYMENT|PENDING_PAYMENT|          17|\n",
      "|      19|       9488|      19|2013-07-25|PENDING_PAYMENT|PENDING_PAYMENT|          20|\n",
      "|      21|       2711|      21|2013-07-25|        PENDING|        PENDING|          22|\n",
      "|      23|       4367|      23|2013-07-25|PENDING_PAYMENT|PENDING_PAYMENT|          24|\n",
      "|      27|       3241|      27|2013-07-25|PENDING_PAYMENT|PENDING_PAYMENT|          28|\n",
      "|      30|      10039|      30|2013-07-25|PENDING_PAYMENT|PENDING_PAYMENT|          31|\n",
      "|      33|       5793|      33|2013-07-25|PENDING_PAYMENT|PENDING_PAYMENT|          34|\n",
      "|      36|       5649|      36|2013-07-25|        PENDING|        PENDING|          37|\n",
      "|      39|       8214|      39|2013-07-25|        PENDING|        PENDING|          40|\n",
      "|      40|      12092|      40|2013-07-25|PENDING_PAYMENT|PENDING_PAYMENT|          41|\n",
      "|      41|       8136|      41|2013-07-25|PENDING_PAYMENT|PENDING_PAYMENT|          42|\n",
      "|      42|       9776|      42|2013-07-25|        PENDING|        PENDING|          43|\n",
      "|      43|       7776|      43|2013-07-25|PENDING_PAYMENT|PENDING_PAYMENT|          44|\n",
      "|      44|      10500|      44|2013-07-25|        PENDING|        PENDING|          45|\n",
      "|      47|       8487|      47|2013-07-25|PENDING_PAYMENT|PENDING_PAYMENT|          48|\n",
      "|      49|       1871|      49|2013-07-25|        PENDING|        PENDING|          50|\n",
      "+--------+-----------+--------+----------+---------------+---------------+------------+\n",
      "only showing top 20 rows\n",
      "\n"
     ]
    }
   ],
   "source": [
    "df.select(df.order_id,df.customer_id,df['order_id'],\"order_date\",col(\"order_status\"),expr(\"order_status\"),expr(\"order_id +1 as new_order_id\"))\\\n",
    ".where(\"order_status like 'PEND%'\").show()"
   ]
  },
  {
   "cell_type": "code",
   "execution_count": null,
   "id": "fe610192",
   "metadata": {},
   "outputs": [],
   "source": []
  }
 ],
 "metadata": {
  "kernelspec": {
   "display_name": "Pyspark 3",
   "language": "python",
   "name": "pyspark3"
  },
  "language_info": {
   "codemirror_mode": {
    "name": "ipython",
    "version": 3
   },
   "file_extension": ".py",
   "mimetype": "text/x-python",
   "name": "python",
   "nbconvert_exporter": "python",
   "pygments_lexer": "ipython3",
   "version": "3.6.12"
  }
 },
 "nbformat": 4,
 "nbformat_minor": 5
}
