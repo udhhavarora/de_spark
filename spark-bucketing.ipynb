{
 "cells": [
  {
   "cell_type": "code",
   "execution_count": 1,
   "id": "478341d0",
   "metadata": {},
   "outputs": [
    {
     "data": {
      "text/html": [
       "\n",
       "            <div>\n",
       "                <p><b>SparkSession - hive</b></p>\n",
       "                \n",
       "        <div>\n",
       "            <p><b>SparkContext</b></p>\n",
       "\n",
       "            <p><a href=\"http://g01.itversity.com:4040\">Spark UI</a></p>\n",
       "\n",
       "            <dl>\n",
       "              <dt>Version</dt>\n",
       "                <dd><code>v3.1.2</code></dd>\n",
       "              <dt>Master</dt>\n",
       "                <dd><code>yarn</code></dd>\n",
       "              <dt>AppName</dt>\n",
       "                <dd><code>bucketing</code></dd>\n",
       "            </dl>\n",
       "        </div>\n",
       "        \n",
       "            </div>\n",
       "        "
      ],
      "text/plain": [
       "<pyspark.sql.session.SparkSession at 0x7f79a3af6208>"
      ]
     },
     "execution_count": 1,
     "metadata": {},
     "output_type": "execute_result"
    }
   ],
   "source": [
    "from pyspark.sql import SparkSession\n",
    "from pyspark.sql.functions import *\n",
    "from pyspark.sql import * #for window\n",
    "\n",
    "spark = SparkSession\\\n",
    ".builder\\\n",
    ".master(\"yarn\")\\\n",
    ".appName(\"bucketing\")\\\n",
    ".enableHiveSupport()\\\n",
    ".config(\"spark.sql.warehouse.dir\",\"/user/itv009490/warehouse\")\\\n",
    ".getOrCreate()\n",
    "\n",
    "spark"
   ]
  },
  {
   "cell_type": "code",
   "execution_count": null,
   "id": "461a1fe7",
   "metadata": {},
   "outputs": [],
   "source": []
  },
  {
   "cell_type": "code",
   "execution_count": null,
   "id": "303f0d89",
   "metadata": {},
   "outputs": [],
   "source": []
  },
  {
   "cell_type": "code",
   "execution_count": 5,
   "id": "33116f7c",
   "metadata": {},
   "outputs": [],
   "source": [
    "df2 = spark.read.format(\"csv\").option(\"inferSchema\",True).\\\n",
    "load(\"/public/trendytech/retail_db/customers/part-00000\")"
   ]
  },
  {
   "cell_type": "code",
   "execution_count": 6,
   "id": "51f0ed18",
   "metadata": {},
   "outputs": [],
   "source": [
    "df2 = df2.toDF(\"customer_id\",\"firstname\",\"lastname\",\"email\",\"password\",\"street\",\"city\",\"state\",\"zipcode\")"
   ]
  },
  {
   "cell_type": "code",
   "execution_count": 7,
   "id": "c2e4d725",
   "metadata": {},
   "outputs": [
    {
     "name": "stdout",
     "output_type": "stream",
     "text": [
      "+-----------+-----------+---------+---------+---------+--------------------+-------------+-----+-------+\n",
      "|customer_id|  firstname| lastname|    email| password|              street|         city|state|zipcode|\n",
      "+-----------+-----------+---------+---------+---------+--------------------+-------------+-----+-------+\n",
      "|          1|    Richard|Hernandez|XXXXXXXXX|XXXXXXXXX|  6303 Heather Plaza|  Brownsville|   TX|  78521|\n",
      "|          2|       Mary|  Barrett|XXXXXXXXX|XXXXXXXXX|9526 Noble Embers...|    Littleton|   CO|  80126|\n",
      "|          3|        Ann|    Smith|XXXXXXXXX|XXXXXXXXX|3422 Blue Pioneer...|       Caguas|   PR|    725|\n",
      "|          4|       Mary|    Jones|XXXXXXXXX|XXXXXXXXX|  8324 Little Common|   San Marcos|   CA|  92069|\n",
      "|          5|     Robert|   Hudson|XXXXXXXXX|XXXXXXXXX|10 Crystal River ...|       Caguas|   PR|    725|\n",
      "|          6|       Mary|    Smith|XXXXXXXXX|XXXXXXXXX|3151 Sleepy Quail...|      Passaic|   NJ|   7055|\n",
      "|          7|    Melissa|   Wilcox|XXXXXXXXX|XXXXXXXXX|9453 High Concession|       Caguas|   PR|    725|\n",
      "|          8|      Megan|    Smith|XXXXXXXXX|XXXXXXXXX|3047 Foggy Forest...|     Lawrence|   MA|   1841|\n",
      "|          9|       Mary|    Perez|XXXXXXXXX|XXXXXXXXX| 3616 Quaking Street|       Caguas|   PR|    725|\n",
      "|         10|    Melissa|    Smith|XXXXXXXXX|XXXXXXXXX|8598 Harvest Beac...|     Stafford|   VA|  22554|\n",
      "|         11|       Mary|  Huffman|XXXXXXXXX|XXXXXXXXX|    3169 Stony Woods|       Caguas|   PR|    725|\n",
      "|         12|Christopher|    Smith|XXXXXXXXX|XXXXXXXXX|5594 Jagged Ember...|  San Antonio|   TX|  78227|\n",
      "|         13|       Mary|  Baldwin|XXXXXXXXX|XXXXXXXXX|7922 Iron Oak Gar...|       Caguas|   PR|    725|\n",
      "|         14|  Katherine|    Smith|XXXXXXXXX|XXXXXXXXX|5666 Hazy Pony Sq...|  Pico Rivera|   CA|  90660|\n",
      "|         15|       Jane|     Luna|XXXXXXXXX|XXXXXXXXX|    673 Burning Glen|      Fontana|   CA|  92336|\n",
      "|         16|    Tiffany|    Smith|XXXXXXXXX|XXXXXXXXX|      6651 Iron Port|       Caguas|   PR|    725|\n",
      "|         17|       Mary| Robinson|XXXXXXXXX|XXXXXXXXX|     1325 Noble Pike|       Taylor|   MI|  48180|\n",
      "|         18|     Robert|    Smith|XXXXXXXXX|XXXXXXXXX|2734 Hazy Butterf...|     Martinez|   CA|  94553|\n",
      "|         19|  Stephanie| Mitchell|XXXXXXXXX|XXXXXXXXX|3543 Red Treasure...|       Caguas|   PR|    725|\n",
      "|         20|       Mary|    Ellis|XXXXXXXXX|XXXXXXXXX|      4703 Old Route|West New York|   NJ|   7093|\n",
      "+-----------+-----------+---------+---------+---------+--------------------+-------------+-----+-------+\n",
      "only showing top 20 rows\n",
      "\n"
     ]
    }
   ],
   "source": [
    "df2.show()"
   ]
  },
  {
   "cell_type": "code",
   "execution_count": 8,
   "id": "19c7f239",
   "metadata": {},
   "outputs": [
    {
     "data": {
      "text/html": [
       "<table border='1'>\n",
       "<tr><th></th></tr>\n",
       "</table>\n"
      ],
      "text/plain": [
       "++\n",
       "||\n",
       "++\n",
       "++"
      ]
     },
     "execution_count": 8,
     "metadata": {},
     "output_type": "execute_result"
    }
   ],
   "source": [
    "spark.sql(\"\"\"create database itv009490_bucketingdb\"\"\")"
   ]
  },
  {
   "cell_type": "code",
   "execution_count": null,
   "id": "5d9d1a14",
   "metadata": {},
   "outputs": [],
   "source": []
  },
  {
   "cell_type": "code",
   "execution_count": 10,
   "id": "34ff8270",
   "metadata": {},
   "outputs": [],
   "source": [
    "#2 levels pf partitioning\n",
    "\n",
    "df2.write.format(\"parquet\").\\\n",
    "mode(\"overwrite\").\\\n",
    "bucketBy(4,\"customer_id\").\\\n",
    "saveAsTable(\"itv009490_bucketingdb.customers_new\")"
   ]
  },
  {
   "cell_type": "code",
   "execution_count": 11,
   "id": "136adfd6",
   "metadata": {},
   "outputs": [
    {
     "name": "stdout",
     "output_type": "stream",
     "text": [
      "Found 6 items\n",
      "drwxr-xr-x   - itv009490 supergroup          0 2023-10-29 05:48 /user/itv009490/warehouse/009490_retail.db\n",
      "drwxr-xr-x   - itv009490 supergroup          0 2023-11-26 13:19 /user/itv009490/warehouse/assignment_7.db\n",
      "drwxr-xr-x   - itv009490 supergroup          0 2023-11-26 13:41 /user/itv009490/warehouse/itv009490_assingment_ext.db\n",
      "drwxr-xr-x   - itv009490 supergroup          0 2023-12-03 14:21 /user/itv009490/warehouse/itv009490_bucketingdb.db\n",
      "drwxr-xr-x   - itv009490 supergroup          0 2023-11-26 11:54 /user/itv009490/warehouse/itv009490_caching_demo_ext.db\n",
      "drwxr-xr-x   - itv009490 supergroup          0 2023-11-26 12:29 /user/itv009490/warehouse/itv009490_cachingdemo_db.db\n"
     ]
    }
   ],
   "source": [
    "!hdfs dfs -ls /user/itv009490/warehouse"
   ]
  },
  {
   "cell_type": "code",
   "execution_count": 12,
   "id": "fd885e86",
   "metadata": {},
   "outputs": [
    {
     "name": "stdout",
     "output_type": "stream",
     "text": [
      "Found 1 items\n",
      "drwxr-xr-x   - itv009490 supergroup          0 2023-12-03 14:21 /user/itv009490/warehouse/itv009490_bucketingdb.db/customers_new\n"
     ]
    }
   ],
   "source": [
    "!hdfs dfs -ls /user/itv009490/warehouse/itv009490_bucketingdb.db"
   ]
  },
  {
   "cell_type": "code",
   "execution_count": 13,
   "id": "342b23eb",
   "metadata": {},
   "outputs": [
    {
     "name": "stdout",
     "output_type": "stream",
     "text": [
      "Found 5 items\n",
      "-rw-r--r--   3 itv009490 supergroup          0 2023-12-03 14:21 /user/itv009490/warehouse/itv009490_bucketingdb.db/customers_new/_SUCCESS\n",
      "-rw-r--r--   3 itv009490 supergroup      85911 2023-12-03 14:21 /user/itv009490/warehouse/itv009490_bucketingdb.db/customers_new/part-00000-eeac2e44-4e78-4bfd-9cd4-3c5f921a2b34_00000.c000.snappy.parquet\n",
      "-rw-r--r--   3 itv009490 supergroup      86808 2023-12-03 14:21 /user/itv009490/warehouse/itv009490_bucketingdb.db/customers_new/part-00000-eeac2e44-4e78-4bfd-9cd4-3c5f921a2b34_00001.c000.snappy.parquet\n",
      "-rw-r--r--   3 itv009490 supergroup      86911 2023-12-03 14:21 /user/itv009490/warehouse/itv009490_bucketingdb.db/customers_new/part-00000-eeac2e44-4e78-4bfd-9cd4-3c5f921a2b34_00002.c000.snappy.parquet\n",
      "-rw-r--r--   3 itv009490 supergroup      85587 2023-12-03 14:21 /user/itv009490/warehouse/itv009490_bucketingdb.db/customers_new/part-00000-eeac2e44-4e78-4bfd-9cd4-3c5f921a2b34_00003.c000.snappy.parquet\n"
     ]
    }
   ],
   "source": [
    "!hdfs dfs -ls /user/itv009490/warehouse/itv009490_bucketingdb.db/customers_new"
   ]
  },
  {
   "cell_type": "code",
   "execution_count": null,
   "id": "924cddfc",
   "metadata": {},
   "outputs": [],
   "source": [
    "df3 = spark.read.format(\"parquet\").load(\"/user/itv009490/warehouse/itv009490_bucketingdb.db/customers_new\")"
   ]
  },
  {
   "cell_type": "code",
   "execution_count": 16,
   "id": "85eea92a",
   "metadata": {},
   "outputs": [
    {
     "name": "stdout",
     "output_type": "stream",
     "text": [
      "+--------+\n",
      "|count(1)|\n",
      "+--------+\n",
      "|     635|\n",
      "+--------+\n",
      "\n"
     ]
    }
   ],
   "source": [
    "spark.sql(\"\"\"select count(*) from itv009490_bucketingdb.customers_new where state = 'TX'\"\"\").show()"
   ]
  },
  {
   "cell_type": "code",
   "execution_count": 17,
   "id": "350caf45",
   "metadata": {},
   "outputs": [
    {
     "name": "stdout",
     "output_type": "stream",
     "text": [
      "+--------+\n",
      "|count(1)|\n",
      "+--------+\n",
      "|       1|\n",
      "+--------+\n",
      "\n"
     ]
    }
   ],
   "source": [
    "spark.sql(\"\"\"select count(*) from itv009490_bucketingdb.customers_new where customer_id = 10\"\"\").show()"
   ]
  },
  {
   "cell_type": "code",
   "execution_count": null,
   "id": "b325b92e",
   "metadata": {},
   "outputs": [],
   "source": []
  }
 ],
 "metadata": {
  "kernelspec": {
   "display_name": "Pyspark 3",
   "language": "python",
   "name": "pyspark3"
  },
  "language_info": {
   "codemirror_mode": {
    "name": "ipython",
    "version": 3
   },
   "file_extension": ".py",
   "mimetype": "text/x-python",
   "name": "python",
   "nbconvert_exporter": "python",
   "pygments_lexer": "ipython3",
   "version": "3.6.12"
  }
 },
 "nbformat": 4,
 "nbformat_minor": 5
}
