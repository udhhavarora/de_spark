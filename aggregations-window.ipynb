{
 "cells": [
  {
   "cell_type": "code",
   "execution_count": 26,
   "id": "c109e8c4",
   "metadata": {},
   "outputs": [
    {
     "data": {
      "text/html": [
       "\n",
       "            <div>\n",
       "                <p><b>SparkSession - hive</b></p>\n",
       "                \n",
       "        <div>\n",
       "            <p><b>SparkContext</b></p>\n",
       "\n",
       "            <p><a href=\"http://g01.itversity.com:4040\">Spark UI</a></p>\n",
       "\n",
       "            <dl>\n",
       "              <dt>Version</dt>\n",
       "                <dd><code>v3.1.2</code></dd>\n",
       "              <dt>Master</dt>\n",
       "                <dd><code>yarn</code></dd>\n",
       "              <dt>AppName</dt>\n",
       "                <dd><code>window functions</code></dd>\n",
       "            </dl>\n",
       "        </div>\n",
       "        \n",
       "            </div>\n",
       "        "
      ],
      "text/plain": [
       "<pyspark.sql.session.SparkSession at 0x7f4e55f98780>"
      ]
     },
     "execution_count": 26,
     "metadata": {},
     "output_type": "execute_result"
    }
   ],
   "source": [
    "from pyspark.sql import SparkSession\n",
    "from pyspark.sql.functions import *\n",
    "from pyspark.sql import * #for window\n",
    "\n",
    "spark = SparkSession\\\n",
    ".builder\\\n",
    ".master(\"yarn\")\\\n",
    ".appName(\"window functions\")\\\n",
    ".enableHiveSupport()\\\n",
    ".config(\"spark.sql.warehouse.dir\",\"/user/itv009490/warehouse\")\\\n",
    ".getOrCreate()\n",
    "\n",
    "spark"
   ]
  },
  {
   "cell_type": "code",
   "execution_count": 27,
   "id": "237676e0",
   "metadata": {},
   "outputs": [],
   "source": [
    "df = spark.read.format(\"csv\").\\\n",
    "option(\"inferSchema\",\"true\").\\\n",
    "option(\"header\",\"true\").\\\n",
    "load(\"/public/trendytech/datasets/windowdata.csv\")"
   ]
  },
  {
   "cell_type": "code",
   "execution_count": 6,
   "id": "7a4437a4",
   "metadata": {},
   "outputs": [
    {
     "name": "stdout",
     "output_type": "stream",
     "text": [
      "+---------------+-------+-----------+-------------+------------+\n",
      "|        country|weeknum|numinvoices|totalquantity|invoicevalue|\n",
      "+---------------+-------+-----------+-------------+------------+\n",
      "|      Australia|     49|          1|          214|       258.9|\n",
      "|      Australia|     48|          1|          107|      358.25|\n",
      "|      Australia|     50|          2|          133|      387.95|\n",
      "|        Austria|     50|          2|            3|      257.04|\n",
      "|        Bahrain|     51|          1|           54|      205.74|\n",
      "|        Belgium|     48|          1|          528|       346.1|\n",
      "|        Belgium|     50|          2|          285|      625.16|\n",
      "|        Belgium|     51|          2|          942|      838.65|\n",
      "|Channel Islands|     49|          1|           80|      363.53|\n",
      "|         Cyprus|     50|          1|          917|     1590.82|\n",
      "|        Denmark|     49|          1|          454|      1281.5|\n",
      "|        Finland|     50|          1|         1254|       892.8|\n",
      "|         France|     49|          9|         2303|     4527.01|\n",
      "|         France|     48|          4|         1299|     2808.16|\n",
      "|         France|     51|          5|          847|     1702.87|\n",
      "|         France|     50|          6|          529|      537.32|\n",
      "|        Germany|     48|         11|         1795|     3309.75|\n",
      "|        Germany|     50|         15|         1973|     5065.79|\n",
      "|        Germany|     49|         12|         1852|     4521.39|\n",
      "|        Germany|     51|          5|         1103|     1665.91|\n",
      "+---------------+-------+-----------+-------------+------------+\n",
      "only showing top 20 rows\n",
      "\n"
     ]
    }
   ],
   "source": [
    "df.sort(\"country\").show()"
   ]
  },
  {
   "cell_type": "code",
   "execution_count": 10,
   "id": "65d34a92",
   "metadata": {},
   "outputs": [
    {
     "name": "stdout",
     "output_type": "stream",
     "text": [
      "+---------------+----+\n",
      "|        country| max|\n",
      "+---------------+----+\n",
      "|      Australia| 214|\n",
      "|        Austria|   3|\n",
      "|        Bahrain|  54|\n",
      "|        Belgium| 942|\n",
      "|Channel Islands|  80|\n",
      "|         Cyprus| 917|\n",
      "|        Denmark| 454|\n",
      "|        Finland|1254|\n",
      "|         France|2303|\n",
      "|        Germany|1973|\n",
      "|        Iceland| 319|\n",
      "|          India|2822|\n",
      "|         Israel| -56|\n",
      "|          Italy| 164|\n",
      "|          Japan|3897|\n",
      "|      Lithuania| 622|\n",
      "|    Netherlands|6714|\n",
      "|         Norway|1852|\n",
      "|         Poland| 140|\n",
      "|       Portugal| 726|\n",
      "+---------------+----+\n",
      "only showing top 20 rows\n",
      "\n"
     ]
    }
   ],
   "source": [
    "grpd_cntry = df.groupBy(\"country\").agg(max(col(\"totalquantity\")).alias(\"max\")).sort(\"country\").show()"
   ]
  },
  {
   "cell_type": "code",
   "execution_count": 28,
   "id": "6d4f2cfb",
   "metadata": {},
   "outputs": [],
   "source": [
    "my_window = Window.partitionBy(\"country\").orderBy(\"weeknum\").rowsBetween(Window.unboundedPreceding,Window.currentRow)"
   ]
  },
  {
   "cell_type": "code",
   "execution_count": 29,
   "id": "5676e1cb",
   "metadata": {},
   "outputs": [],
   "source": [
    "res=df.withColumn(\"runningTotal\",sum(\"invoicevalue\").over(my_window))"
   ]
  },
  {
   "cell_type": "code",
   "execution_count": 32,
   "id": "6784da95",
   "metadata": {},
   "outputs": [
    {
     "name": "stdout",
     "output_type": "stream",
     "text": [
      "+---------------+-------+-----------+-------------+------------+------------------+\n",
      "|        country|weeknum|numinvoices|totalquantity|invoicevalue|      runningTotal|\n",
      "+---------------+-------+-----------+-------------+------------+------------------+\n",
      "|      Australia|     48|          1|          107|      358.25|            358.25|\n",
      "|      Australia|     49|          1|          214|       258.9|            617.15|\n",
      "|      Australia|     50|          2|          133|      387.95|1005.0999999999999|\n",
      "|        Austria|     50|          2|            3|      257.04|            257.04|\n",
      "|        Bahrain|     51|          1|           54|      205.74|            205.74|\n",
      "|        Belgium|     48|          1|          528|       346.1|             346.1|\n",
      "|        Belgium|     50|          2|          285|      625.16|            971.26|\n",
      "|        Belgium|     51|          2|          942|      838.65|1809.9099999999999|\n",
      "|Channel Islands|     49|          1|           80|      363.53|            363.53|\n",
      "|         Cyprus|     50|          1|          917|     1590.82|           1590.82|\n",
      "|        Denmark|     49|          1|          454|      1281.5|            1281.5|\n",
      "|        Finland|     50|          1|         1254|       892.8|             892.8|\n",
      "|         France|     48|          4|         1299|     2808.16|           2808.16|\n",
      "|         France|     49|          9|         2303|     4527.01|           7335.17|\n",
      "|         France|     50|          6|          529|      537.32|           7872.49|\n",
      "|         France|     51|          5|          847|     1702.87|           9575.36|\n",
      "|        Germany|     48|         11|         1795|     3309.75|           3309.75|\n",
      "|        Germany|     49|         12|         1852|     4521.39|           7831.14|\n",
      "|        Germany|     50|         15|         1973|     5065.79|          12896.93|\n",
      "|        Germany|     51|          5|         1103|     1665.91|          14562.84|\n",
      "+---------------+-------+-----------+-------------+------------+------------------+\n",
      "only showing top 20 rows\n",
      "\n"
     ]
    }
   ],
   "source": [
    "res.sort(\"country\",\"weeknum\").show()"
   ]
  },
  {
   "cell_type": "code",
   "execution_count": 33,
   "id": "3c79877e",
   "metadata": {},
   "outputs": [],
   "source": [
    "my_window = Window.partitionBy(\"country\").orderBy(\"weeknum\").rowsBetween(-2,Window.currentRow) #2 prev rows"
   ]
  },
  {
   "cell_type": "code",
   "execution_count": 34,
   "id": "7cb722cb",
   "metadata": {},
   "outputs": [],
   "source": [
    "res=df.withColumn(\"runningTotal\",sum(\"invoicevalue\").over(my_window))"
   ]
  },
  {
   "cell_type": "code",
   "execution_count": 35,
   "id": "64c02bac",
   "metadata": {},
   "outputs": [
    {
     "name": "stdout",
     "output_type": "stream",
     "text": [
      "+---------------+-------+-----------+-------------+------------+------------------+\n",
      "|        country|weeknum|numinvoices|totalquantity|invoicevalue|      runningTotal|\n",
      "+---------------+-------+-----------+-------------+------------+------------------+\n",
      "|      Australia|     48|          1|          107|      358.25|            358.25|\n",
      "|      Australia|     49|          1|          214|       258.9|            617.15|\n",
      "|      Australia|     50|          2|          133|      387.95|1005.0999999999999|\n",
      "|        Austria|     50|          2|            3|      257.04|            257.04|\n",
      "|        Bahrain|     51|          1|           54|      205.74|            205.74|\n",
      "|        Belgium|     48|          1|          528|       346.1|             346.1|\n",
      "|        Belgium|     50|          2|          285|      625.16|            971.26|\n",
      "|        Belgium|     51|          2|          942|      838.65|1809.9099999999999|\n",
      "|Channel Islands|     49|          1|           80|      363.53|            363.53|\n",
      "|         Cyprus|     50|          1|          917|     1590.82|           1590.82|\n",
      "|        Denmark|     49|          1|          454|      1281.5|            1281.5|\n",
      "|        Finland|     50|          1|         1254|       892.8|             892.8|\n",
      "|         France|     48|          4|         1299|     2808.16|           2808.16|\n",
      "|         France|     49|          9|         2303|     4527.01|           7335.17|\n",
      "|         France|     50|          6|          529|      537.32|           7872.49|\n",
      "|         France|     51|          5|          847|     1702.87|            6767.2|\n",
      "|        Germany|     48|         11|         1795|     3309.75|           3309.75|\n",
      "|        Germany|     49|         12|         1852|     4521.39|           7831.14|\n",
      "|        Germany|     50|         15|         1973|     5065.79|          12896.93|\n",
      "|        Germany|     51|          5|         1103|     1665.91|          11253.09|\n",
      "+---------------+-------+-----------+-------------+------------+------------------+\n",
      "only showing top 20 rows\n",
      "\n"
     ]
    }
   ],
   "source": [
    "res.sort(\"country\",\"weeknum\").show()"
   ]
  },
  {
   "cell_type": "code",
   "execution_count": 42,
   "id": "03adf5cc",
   "metadata": {},
   "outputs": [],
   "source": [
    "#rolling sum of quantity\n",
    "\n",
    "my_window_new = Window.partitionBy(\"country\").orderBy(\"weeknum\").rowsBetween(Window.unboundedPreceding,Window.currentRow)"
   ]
  },
  {
   "cell_type": "code",
   "execution_count": 43,
   "id": "389fcbde",
   "metadata": {},
   "outputs": [],
   "source": [
    "res2 = df.withColumn(\"running_quantity_sum\",sum(\"totalquantity\").over(my_window_new))"
   ]
  },
  {
   "cell_type": "code",
   "execution_count": 44,
   "id": "1e2b10ab",
   "metadata": {},
   "outputs": [
    {
     "name": "stdout",
     "output_type": "stream",
     "text": [
      "+-------+-------+-----------+-------------+------------+--------------------+\n",
      "|country|weeknum|numinvoices|totalquantity|invoicevalue|running_quantity_sum|\n",
      "+-------+-------+-----------+-------------+------------+--------------------+\n",
      "| Sweden|     50|          3|         3714|      2646.3|                3714|\n",
      "|Germany|     48|         11|         1795|     3309.75|                1795|\n",
      "|Germany|     49|         12|         1852|     4521.39|                3647|\n",
      "|Germany|     50|         15|         1973|     5065.79|                5620|\n",
      "|Germany|     51|          5|         1103|     1665.91|                6723|\n",
      "| France|     48|          4|         1299|     2808.16|                1299|\n",
      "| France|     49|          9|         2303|     4527.01|                3602|\n",
      "| France|     50|          6|          529|      537.32|                4131|\n",
      "| France|     51|          5|          847|     1702.87|                4978|\n",
      "|Belgium|     48|          1|          528|       346.1|                 528|\n",
      "|Belgium|     50|          2|          285|      625.16|                 813|\n",
      "|Belgium|     51|          2|          942|      838.65|                1755|\n",
      "|Finland|     50|          1|         1254|       892.8|                1254|\n",
      "|  India|     48|          7|         2822|     3147.23|                2822|\n",
      "|  India|     49|          5|         1280|      3284.1|                4102|\n",
      "|  India|     50|          5|         1184|     2321.78|                5286|\n",
      "|  India|     51|          5|           95|      276.84|                5381|\n",
      "|  Italy|     48|          1|          164|       427.8|                 164|\n",
      "|  Italy|     49|          1|           -2|       -17.0|                 162|\n",
      "|  Italy|     51|          1|          131|       383.7|                 293|\n",
      "+-------+-------+-----------+-------------+------------+--------------------+\n",
      "only showing top 20 rows\n",
      "\n"
     ]
    }
   ],
   "source": [
    "res2.show()"
   ]
  },
  {
   "cell_type": "code",
   "execution_count": 45,
   "id": "c74fcb39",
   "metadata": {},
   "outputs": [
    {
     "name": "stdout",
     "output_type": "stream",
     "text": [
      "+-------+-------+-----------+-------------+------------+--------------------+\n",
      "|country|weeknum|numinvoices|totalquantity|invoicevalue|running_quantity_sum|\n",
      "+-------+-------+-----------+-------------+------------+--------------------+\n",
      "| Sweden|     50|          3|         3714|      2646.3|                3714|\n",
      "|Germany|     48|         11|         1795|     3309.75|                1795|\n",
      "|Germany|     49|         12|         1852|     4521.39|                3647|\n",
      "|Germany|     50|         15|         1973|     5065.79|                3825|\n",
      "|Germany|     51|          5|         1103|     1665.91|                3076|\n",
      "| France|     48|          4|         1299|     2808.16|                1299|\n",
      "| France|     49|          9|         2303|     4527.01|                3602|\n",
      "| France|     50|          6|          529|      537.32|                2832|\n",
      "| France|     51|          5|          847|     1702.87|                1376|\n",
      "|Belgium|     48|          1|          528|       346.1|                 528|\n",
      "|Belgium|     50|          2|          285|      625.16|                 813|\n",
      "|Belgium|     51|          2|          942|      838.65|                1227|\n",
      "|Finland|     50|          1|         1254|       892.8|                1254|\n",
      "|  India|     48|          7|         2822|     3147.23|                2822|\n",
      "|  India|     49|          5|         1280|      3284.1|                4102|\n",
      "|  India|     50|          5|         1184|     2321.78|                2464|\n",
      "|  India|     51|          5|           95|      276.84|                1279|\n",
      "|  Italy|     48|          1|          164|       427.8|                 164|\n",
      "|  Italy|     49|          1|           -2|       -17.0|                 162|\n",
      "|  Italy|     51|          1|          131|       383.7|                 129|\n",
      "+-------+-------+-----------+-------------+------------+--------------------+\n",
      "only showing top 20 rows\n",
      "\n"
     ]
    }
   ],
   "source": [
    "#rolling sum of quantity\n",
    "\n",
    "my_window_new = Window.partitionBy(\"country\").orderBy(\"weeknum\").rowsBetween(-1,Window.currentRow)\n",
    "res3 = df.withColumn(\"running_quantity_sum\",sum(\"totalquantity\").over(my_window_new))\n",
    "res3.show()"
   ]
  },
  {
   "cell_type": "code",
   "execution_count": null,
   "id": "8eee3ebd",
   "metadata": {},
   "outputs": [],
   "source": []
  }
 ],
 "metadata": {
  "kernelspec": {
   "display_name": "Pyspark 3",
   "language": "python",
   "name": "pyspark3"
  },
  "language_info": {
   "codemirror_mode": {
    "name": "ipython",
    "version": 3
   },
   "file_extension": ".py",
   "mimetype": "text/x-python",
   "name": "python",
   "nbconvert_exporter": "python",
   "pygments_lexer": "ipython3",
   "version": "3.6.12"
  }
 },
 "nbformat": 4,
 "nbformat_minor": 5
}
