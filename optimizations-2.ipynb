{
 "cells": [
  {
   "cell_type": "code",
   "execution_count": 1,
   "id": "304067e6",
   "metadata": {},
   "outputs": [
    {
     "data": {
      "text/html": [
       "\n",
       "            <div>\n",
       "                <p><b>SparkSession - hive</b></p>\n",
       "                \n",
       "        <div>\n",
       "            <p><b>SparkContext</b></p>\n",
       "\n",
       "            <p><a href=\"http://g01.itversity.com:4040\">Spark UI</a></p>\n",
       "\n",
       "            <dl>\n",
       "              <dt>Version</dt>\n",
       "                <dd><code>v3.1.2</code></dd>\n",
       "              <dt>Master</dt>\n",
       "                <dd><code>yarn</code></dd>\n",
       "              <dt>AppName</dt>\n",
       "                <dd><code>spark optimizations</code></dd>\n",
       "            </dl>\n",
       "        </div>\n",
       "        \n",
       "            </div>\n",
       "        "
      ],
      "text/plain": [
       "<pyspark.sql.session.SparkSession at 0x7f26c4fbb128>"
      ]
     },
     "execution_count": 1,
     "metadata": {},
     "output_type": "execute_result"
    }
   ],
   "source": [
    "from pyspark.sql import SparkSession\n",
    "from pyspark.sql.functions import *\n",
    "from pyspark.sql import * #for window\n",
    "\n",
    "spark = SparkSession\\\n",
    ".builder\\\n",
    ".master(\"yarn\")\\\n",
    ".appName(\"spark optimizations\")\\\n",
    ".enableHiveSupport()\\\n",
    ".config(\"spark.shuffle.useOldFetchProtocol\",'true')\\\n",
    ".config(\"spark.sql.warehouse.dir\",\"/user/itv009490/warehouse\")\\\n",
    ".getOrCreate()\n",
    "\n",
    "spark"
   ]
  },
  {
   "cell_type": "code",
   "execution_count": 6,
   "id": "20c5630b",
   "metadata": {},
   "outputs": [],
   "source": [
    "order_schema = 'order_id  long, order_date string, customer_id long, order_status string '\n",
    "df = spark.read.format(\"csv\").\\\n",
    "schema(order_schema).\\\n",
    "load(\"/public/trendytech/orders/orders_1gb.csv\")"
   ]
  },
  {
   "cell_type": "code",
   "execution_count": 7,
   "id": "6889cfcf",
   "metadata": {},
   "outputs": [
    {
     "name": "stdout",
     "output_type": "stream",
     "text": [
      "+--------+--------------------+-----------+---------------+\n",
      "|order_id|          order_date|customer_id|   order_status|\n",
      "+--------+--------------------+-----------+---------------+\n",
      "|       1|2013-07-25 00:00:...|      11599|         CLOSED|\n",
      "|       2|2013-07-25 00:00:...|        256|PENDING_PAYMENT|\n",
      "|       3|2013-07-25 00:00:...|      12111|       COMPLETE|\n",
      "|       4|2013-07-25 00:00:...|       8827|         CLOSED|\n",
      "|       5|2013-07-25 00:00:...|      11318|       COMPLETE|\n",
      "|       6|2013-07-25 00:00:...|       7130|       COMPLETE|\n",
      "|       7|2013-07-25 00:00:...|       4530|       COMPLETE|\n",
      "|       8|2013-07-25 00:00:...|       2911|     PROCESSING|\n",
      "|       9|2013-07-25 00:00:...|       5657|PENDING_PAYMENT|\n",
      "|      10|2013-07-25 00:00:...|       5648|PENDING_PAYMENT|\n",
      "|      11|2013-07-25 00:00:...|        918| PAYMENT_REVIEW|\n",
      "|      12|2013-07-25 00:00:...|       1837|         CLOSED|\n",
      "|      13|2013-07-25 00:00:...|       9149|PENDING_PAYMENT|\n",
      "|      14|2013-07-25 00:00:...|       9842|     PROCESSING|\n",
      "|      15|2013-07-25 00:00:...|       2568|       COMPLETE|\n",
      "|      16|2013-07-25 00:00:...|       7276|PENDING_PAYMENT|\n",
      "|      17|2013-07-25 00:00:...|       2667|       COMPLETE|\n",
      "|      18|2013-07-25 00:00:...|       1205|         CLOSED|\n",
      "|      19|2013-07-25 00:00:...|       9488|PENDING_PAYMENT|\n",
      "|      20|2013-07-25 00:00:...|       9198|     PROCESSING|\n",
      "+--------+--------------------+-----------+---------------+\n",
      "only showing top 20 rows\n",
      "\n"
     ]
    }
   ],
   "source": [
    "df.show()"
   ]
  },
  {
   "cell_type": "code",
   "execution_count": 8,
   "id": "20467331",
   "metadata": {},
   "outputs": [
    {
     "data": {
      "text/plain": [
       "9"
      ]
     },
     "execution_count": 8,
     "metadata": {},
     "output_type": "execute_result"
    }
   ],
   "source": [
    "df.rdd.getNumPartitions()"
   ]
  },
  {
   "cell_type": "code",
   "execution_count": 9,
   "id": "96b7b41d",
   "metadata": {},
   "outputs": [],
   "source": [
    "customers_schema = \"\"\"customerid long, customer_fname string, customer_lname string, username string, password string,\n",
    "address string, city string, state string, pincode long\"\"\""
   ]
  },
  {
   "cell_type": "code",
   "execution_count": 10,
   "id": "ef26dae5",
   "metadata": {},
   "outputs": [],
   "source": [
    "cust_df = spark.read.format(\"csv\").schema(customers_schema).load(\"/public/trendytech/retail_db/customers\")"
   ]
  },
  {
   "cell_type": "code",
   "execution_count": 11,
   "id": "83cacd2b",
   "metadata": {},
   "outputs": [
    {
     "name": "stdout",
     "output_type": "stream",
     "text": [
      "+----------+--------------+--------------+---------+---------+--------------------+-------------+-----+-------+\n",
      "|customerid|customer_fname|customer_lname| username| password|             address|         city|state|pincode|\n",
      "+----------+--------------+--------------+---------+---------+--------------------+-------------+-----+-------+\n",
      "|         1|       Richard|     Hernandez|XXXXXXXXX|XXXXXXXXX|  6303 Heather Plaza|  Brownsville|   TX|  78521|\n",
      "|         2|          Mary|       Barrett|XXXXXXXXX|XXXXXXXXX|9526 Noble Embers...|    Littleton|   CO|  80126|\n",
      "|         3|           Ann|         Smith|XXXXXXXXX|XXXXXXXXX|3422 Blue Pioneer...|       Caguas|   PR|    725|\n",
      "|         4|          Mary|         Jones|XXXXXXXXX|XXXXXXXXX|  8324 Little Common|   San Marcos|   CA|  92069|\n",
      "|         5|        Robert|        Hudson|XXXXXXXXX|XXXXXXXXX|10 Crystal River ...|       Caguas|   PR|    725|\n",
      "|         6|          Mary|         Smith|XXXXXXXXX|XXXXXXXXX|3151 Sleepy Quail...|      Passaic|   NJ|   7055|\n",
      "|         7|       Melissa|        Wilcox|XXXXXXXXX|XXXXXXXXX|9453 High Concession|       Caguas|   PR|    725|\n",
      "|         8|         Megan|         Smith|XXXXXXXXX|XXXXXXXXX|3047 Foggy Forest...|     Lawrence|   MA|   1841|\n",
      "|         9|          Mary|         Perez|XXXXXXXXX|XXXXXXXXX| 3616 Quaking Street|       Caguas|   PR|    725|\n",
      "|        10|       Melissa|         Smith|XXXXXXXXX|XXXXXXXXX|8598 Harvest Beac...|     Stafford|   VA|  22554|\n",
      "|        11|          Mary|       Huffman|XXXXXXXXX|XXXXXXXXX|    3169 Stony Woods|       Caguas|   PR|    725|\n",
      "|        12|   Christopher|         Smith|XXXXXXXXX|XXXXXXXXX|5594 Jagged Ember...|  San Antonio|   TX|  78227|\n",
      "|        13|          Mary|       Baldwin|XXXXXXXXX|XXXXXXXXX|7922 Iron Oak Gar...|       Caguas|   PR|    725|\n",
      "|        14|     Katherine|         Smith|XXXXXXXXX|XXXXXXXXX|5666 Hazy Pony Sq...|  Pico Rivera|   CA|  90660|\n",
      "|        15|          Jane|          Luna|XXXXXXXXX|XXXXXXXXX|    673 Burning Glen|      Fontana|   CA|  92336|\n",
      "|        16|       Tiffany|         Smith|XXXXXXXXX|XXXXXXXXX|      6651 Iron Port|       Caguas|   PR|    725|\n",
      "|        17|          Mary|      Robinson|XXXXXXXXX|XXXXXXXXX|     1325 Noble Pike|       Taylor|   MI|  48180|\n",
      "|        18|        Robert|         Smith|XXXXXXXXX|XXXXXXXXX|2734 Hazy Butterf...|     Martinez|   CA|  94553|\n",
      "|        19|     Stephanie|      Mitchell|XXXXXXXXX|XXXXXXXXX|3543 Red Treasure...|       Caguas|   PR|    725|\n",
      "|        20|          Mary|         Ellis|XXXXXXXXX|XXXXXXXXX|      4703 Old Route|West New York|   NJ|   7093|\n",
      "+----------+--------------+--------------+---------+---------+--------------------+-------------+-----+-------+\n",
      "only showing top 20 rows\n",
      "\n"
     ]
    }
   ],
   "source": [
    "cust_df.show()"
   ]
  },
  {
   "cell_type": "code",
   "execution_count": 12,
   "id": "8b794244",
   "metadata": {},
   "outputs": [
    {
     "data": {
      "text/plain": [
       "1"
      ]
     },
     "execution_count": 12,
     "metadata": {},
     "output_type": "execute_result"
    }
   ],
   "source": [
    "cust_df.rdd.getNumPartitions()"
   ]
  },
  {
   "cell_type": "code",
   "execution_count": 13,
   "id": "00178ba3",
   "metadata": {},
   "outputs": [
    {
     "data": {
      "text/plain": [
       "'10485760b'"
      ]
     },
     "execution_count": 13,
     "metadata": {},
     "output_type": "execute_result"
    }
   ],
   "source": [
    "spark.conf.get('spark.sql.autoBroadcastJoinThreshold')"
   ]
  },
  {
   "cell_type": "code",
   "execution_count": 19,
   "id": "79813449",
   "metadata": {},
   "outputs": [],
   "source": [
    "spark.conf.set('spark.sql.autoBroadcastJoinThreshold','-1')"
   ]
  },
  {
   "cell_type": "code",
   "execution_count": 20,
   "id": "2b011ee5",
   "metadata": {},
   "outputs": [
    {
     "data": {
      "text/plain": [
       "'-1'"
      ]
     },
     "execution_count": 20,
     "metadata": {},
     "output_type": "execute_result"
    }
   ],
   "source": [
    "spark.conf.get('spark.sql.autoBroadcastJoinThreshold')"
   ]
  },
  {
   "cell_type": "code",
   "execution_count": 22,
   "id": "c0a897d1",
   "metadata": {},
   "outputs": [],
   "source": [
    "df.join(cust_df,df.customer_id==cust_df.customerid,'inner').write.format('noop').mode(\"overwrite\").save()"
   ]
  },
  {
   "cell_type": "code",
   "execution_count": 23,
   "id": "fd0bd79e",
   "metadata": {},
   "outputs": [
    {
     "data": {
      "text/plain": [
       "1048576"
      ]
     },
     "execution_count": 23,
     "metadata": {},
     "output_type": "execute_result"
    }
   ],
   "source": [
    "1024*1024"
   ]
  },
  {
   "cell_type": "code",
   "execution_count": 26,
   "id": "5294d450",
   "metadata": {},
   "outputs": [],
   "source": [
    "spark.conf.set('spark.sql.autoBroadcastJoinThreshold','10485760b')"
   ]
  },
  {
   "cell_type": "code",
   "execution_count": 27,
   "id": "4dbb38aa",
   "metadata": {},
   "outputs": [
    {
     "data": {
      "text/plain": [
       "'10485760b'"
      ]
     },
     "execution_count": 27,
     "metadata": {},
     "output_type": "execute_result"
    }
   ],
   "source": [
    "spark.conf.get('spark.sql.autoBroadcastJoinThreshold')"
   ]
  },
  {
   "cell_type": "code",
   "execution_count": 28,
   "id": "6550d117",
   "metadata": {},
   "outputs": [],
   "source": [
    "df.join(cust_df,df.customer_id==cust_df.customerid,'inner').write.format('noop').mode(\"overwrite\").save()"
   ]
  },
  {
   "cell_type": "code",
   "execution_count": null,
   "id": "dccc41c9",
   "metadata": {},
   "outputs": [],
   "source": []
  },
  {
   "cell_type": "code",
   "execution_count": null,
   "id": "67053963",
   "metadata": {},
   "outputs": [],
   "source": []
  },
  {
   "cell_type": "code",
   "execution_count": null,
   "id": "45b21d54",
   "metadata": {},
   "outputs": [],
   "source": []
  },
  {
   "cell_type": "code",
   "execution_count": null,
   "id": "d9746bb4",
   "metadata": {},
   "outputs": [],
   "source": []
  },
  {
   "cell_type": "code",
   "execution_count": 14,
   "id": "fd1bb1ee",
   "metadata": {},
   "outputs": [],
   "source": [
    "order_schema = 'order_id  long, order_date string, customer_id long, order_status string '\n",
    "df = spark.read.format(\"csv\").\\\n",
    "schema(order_schema).\\\n",
    "load(\"/public/trendytech/retail_db/ordersnew\")"
   ]
  },
  {
   "cell_type": "code",
   "execution_count": 15,
   "id": "65b97285",
   "metadata": {},
   "outputs": [],
   "source": [
    "mapping_schema = 'order_status string, code int'\n",
    "\n",
    "mapping_df = spark.read.format(\"csv\").option(\"delimiter\",\"|\").schema(mapping_schema).load(\"/public/trendytech/datasets/mapping_data\")"
   ]
  },
  {
   "cell_type": "code",
   "execution_count": 17,
   "id": "11599cd1",
   "metadata": {},
   "outputs": [
    {
     "data": {
      "text/plain": [
       "1"
      ]
     },
     "execution_count": 17,
     "metadata": {},
     "output_type": "execute_result"
    }
   ],
   "source": [
    "mapping_df.rdd.getNumPartitions()"
   ]
  },
  {
   "cell_type": "code",
   "execution_count": 19,
   "id": "a0216114",
   "metadata": {},
   "outputs": [
    {
     "name": "stdout",
     "output_type": "stream",
     "text": [
      "+--------+--------------------+-----------+------------+\n",
      "|order_id|          order_date|customer_id|order_status|\n",
      "+--------+--------------------+-----------+------------+\n",
      "|    2480|2013-08-07 00:00:...|       3807|    COMPLETE|\n",
      "|   30479|2014-01-30 00:00:...|       9265|    COMPLETE|\n",
      "|    2481|2013-08-07 00:00:...|       2476|    COMPLETE|\n",
      "|   30481|2014-01-30 00:00:...|       9240|    COMPLETE|\n",
      "|    2483|2013-08-07 00:00:...|      10453|    COMPLETE|\n",
      "|   30484|2014-01-30 00:00:...|       2876|    COMPLETE|\n",
      "|    2484|2013-08-07 00:00:...|       9256|    COMPLETE|\n",
      "|   30485|2014-01-30 00:00:...|       1069|    COMPLETE|\n",
      "|    2488|2013-08-07 00:00:...|       1255|    COMPLETE|\n",
      "|   30486|2014-01-30 00:00:...|       1151|    COMPLETE|\n",
      "|    2491|2013-08-07 00:00:...|        247|    COMPLETE|\n",
      "|   30487|2014-01-30 00:00:...|       6772|    COMPLETE|\n",
      "|    2495|2013-08-07 00:00:...|       9011|    COMPLETE|\n",
      "|   30489|2014-01-30 00:00:...|       5717|    COMPLETE|\n",
      "|    2498|2013-08-07 00:00:...|       1966|    COMPLETE|\n",
      "|   30490|2014-01-30 00:00:...|      12189|    COMPLETE|\n",
      "|    2511|2013-08-07 00:00:...|       8544|    COMPLETE|\n",
      "|   30492|2014-01-30 00:00:...|       3710|    COMPLETE|\n",
      "|    2515|2013-08-07 00:00:...|      12056|    COMPLETE|\n",
      "|   30494|2014-01-30 00:00:...|       2724|    COMPLETE|\n",
      "+--------+--------------------+-----------+------------+\n",
      "only showing top 20 rows\n",
      "\n"
     ]
    }
   ],
   "source": [
    "df.show()"
   ]
  },
  {
   "cell_type": "code",
   "execution_count": 20,
   "id": "cd3debc4",
   "metadata": {},
   "outputs": [],
   "source": [
    "spark.conf.set('spark.sql.autoBroadcastJoinThreshold','-1') #Disable broadcast join"
   ]
  },
  {
   "cell_type": "code",
   "execution_count": 23,
   "id": "27cfb8ad",
   "metadata": {},
   "outputs": [],
   "source": [
    "df.join(mapping_df,df.order_status==mapping_df.order_status,\"inner\").write.format(\"noop\").mode(\"overwrite\").save()"
   ]
  },
  {
   "cell_type": "code",
   "execution_count": null,
   "id": "c61e1417",
   "metadata": {},
   "outputs": [],
   "source": []
  },
  {
   "cell_type": "code",
   "execution_count": null,
   "id": "b5b739f7",
   "metadata": {},
   "outputs": [],
   "source": []
  },
  {
   "cell_type": "code",
   "execution_count": 24,
   "id": "c9f6df6d",
   "metadata": {},
   "outputs": [],
   "source": [
    "order_schema = 'order_id  long, order_date string, customer_id long, order_status string '\n",
    "orders_df = spark.read.format(\"csv\").\\\n",
    "schema(order_schema).\\\n",
    "load(\"/public/trendytech/retail_db/ordersnew\")"
   ]
  },
  {
   "cell_type": "code",
   "execution_count": 29,
   "id": "37776092",
   "metadata": {},
   "outputs": [],
   "source": [
    "customers_schema = \"\"\"customerid long, customer_fname string, customer_lname string, username string, password string,\n",
    "address string, city string, state string, pincode long\"\"\"\n",
    "customers_df = spark.read.format(\"csv\").\\\n",
    "schema(customers_schema).\\\n",
    "load(\"/public/trendytech/retail_db/customersnew\")"
   ]
  },
  {
   "cell_type": "code",
   "execution_count": 30,
   "id": "9b7bc222",
   "metadata": {},
   "outputs": [
    {
     "name": "stdout",
     "output_type": "stream",
     "text": [
      "+--------+--------------------+-----------+------------+\n",
      "|order_id|          order_date|customer_id|order_status|\n",
      "+--------+--------------------+-----------+------------+\n",
      "|    2480|2013-08-07 00:00:...|       3807|    COMPLETE|\n",
      "|   30479|2014-01-30 00:00:...|       9265|    COMPLETE|\n",
      "|    2481|2013-08-07 00:00:...|       2476|    COMPLETE|\n",
      "|   30481|2014-01-30 00:00:...|       9240|    COMPLETE|\n",
      "|    2483|2013-08-07 00:00:...|      10453|    COMPLETE|\n",
      "|   30484|2014-01-30 00:00:...|       2876|    COMPLETE|\n",
      "|    2484|2013-08-07 00:00:...|       9256|    COMPLETE|\n",
      "|   30485|2014-01-30 00:00:...|       1069|    COMPLETE|\n",
      "|    2488|2013-08-07 00:00:...|       1255|    COMPLETE|\n",
      "|   30486|2014-01-30 00:00:...|       1151|    COMPLETE|\n",
      "|    2491|2013-08-07 00:00:...|        247|    COMPLETE|\n",
      "|   30487|2014-01-30 00:00:...|       6772|    COMPLETE|\n",
      "|    2495|2013-08-07 00:00:...|       9011|    COMPLETE|\n",
      "|   30489|2014-01-30 00:00:...|       5717|    COMPLETE|\n",
      "|    2498|2013-08-07 00:00:...|       1966|    COMPLETE|\n",
      "|   30490|2014-01-30 00:00:...|      12189|    COMPLETE|\n",
      "|    2511|2013-08-07 00:00:...|       8544|    COMPLETE|\n",
      "|   30492|2014-01-30 00:00:...|       3710|    COMPLETE|\n",
      "|    2515|2013-08-07 00:00:...|      12056|    COMPLETE|\n",
      "|   30494|2014-01-30 00:00:...|       2724|    COMPLETE|\n",
      "+--------+--------------------+-----------+------------+\n",
      "only showing top 20 rows\n",
      "\n"
     ]
    }
   ],
   "source": [
    "orders_df.show()"
   ]
  },
  {
   "cell_type": "code",
   "execution_count": 31,
   "id": "43d5ca3e",
   "metadata": {},
   "outputs": [
    {
     "name": "stdout",
     "output_type": "stream",
     "text": [
      "+----------+--------------+--------------+---------+---------+--------------------+-------------+-----+-------+\n",
      "|customerid|customer_fname|customer_lname| username| password|             address|         city|state|pincode|\n",
      "+----------+--------------+--------------+---------+---------+--------------------+-------------+-----+-------+\n",
      "|         1|       Richard|     Hernandez|XXXXXXXXX|XXXXXXXXX|  6303 Heather Plaza|  Brownsville|   TX|  78521|\n",
      "|         2|          Mary|       Barrett|XXXXXXXXX|XXXXXXXXX|9526 Noble Embers...|    Littleton|   CO|  80126|\n",
      "|         3|           Ann|         Smith|XXXXXXXXX|XXXXXXXXX|3422 Blue Pioneer...|       Caguas|   PR|    725|\n",
      "|         4|          Mary|         Jones|XXXXXXXXX|XXXXXXXXX|  8324 Little Common|   San Marcos|   CA|  92069|\n",
      "|         5|        Robert|        Hudson|XXXXXXXXX|XXXXXXXXX|10 Crystal River ...|       Caguas|   PR|    725|\n",
      "|         6|          Mary|         Smith|XXXXXXXXX|XXXXXXXXX|3151 Sleepy Quail...|      Passaic|   NJ|   7055|\n",
      "|         7|       Melissa|        Wilcox|XXXXXXXXX|XXXXXXXXX|9453 High Concession|       Caguas|   PR|    725|\n",
      "|         8|         Megan|         Smith|XXXXXXXXX|XXXXXXXXX|3047 Foggy Forest...|     Lawrence|   MA|   1841|\n",
      "|         9|          Mary|         Perez|XXXXXXXXX|XXXXXXXXX| 3616 Quaking Street|       Caguas|   PR|    725|\n",
      "|        10|       Melissa|         Smith|XXXXXXXXX|XXXXXXXXX|8598 Harvest Beac...|     Stafford|   VA|  22554|\n",
      "|        11|          Mary|       Huffman|XXXXXXXXX|XXXXXXXXX|    3169 Stony Woods|       Caguas|   PR|    725|\n",
      "|        12|   Christopher|         Smith|XXXXXXXXX|XXXXXXXXX|5594 Jagged Ember...|  San Antonio|   TX|  78227|\n",
      "|        13|          Mary|       Baldwin|XXXXXXXXX|XXXXXXXXX|7922 Iron Oak Gar...|       Caguas|   PR|    725|\n",
      "|        14|     Katherine|         Smith|XXXXXXXXX|XXXXXXXXX|5666 Hazy Pony Sq...|  Pico Rivera|   CA|  90660|\n",
      "|        15|          Jane|          Luna|XXXXXXXXX|XXXXXXXXX|    673 Burning Glen|      Fontana|   CA|  92336|\n",
      "|        16|       Tiffany|         Smith|XXXXXXXXX|XXXXXXXXX|      6651 Iron Port|       Caguas|   PR|    725|\n",
      "|        17|          Mary|      Robinson|XXXXXXXXX|XXXXXXXXX|     1325 Noble Pike|       Taylor|   MI|  48180|\n",
      "|        18|        Robert|         Smith|XXXXXXXXX|XXXXXXXXX|2734 Hazy Butterf...|     Martinez|   CA|  94553|\n",
      "|        19|     Stephanie|      Mitchell|XXXXXXXXX|XXXXXXXXX|3543 Red Treasure...|       Caguas|   PR|    725|\n",
      "|        20|          Mary|         Ellis|XXXXXXXXX|XXXXXXXXX|      4703 Old Route|West New York|   NJ|   7093|\n",
      "+----------+--------------+--------------+---------+---------+--------------------+-------------+-----+-------+\n",
      "only showing top 20 rows\n",
      "\n"
     ]
    }
   ],
   "source": [
    "customers_df.show()"
   ]
  },
  {
   "cell_type": "code",
   "execution_count": 33,
   "id": "aadc4a87",
   "metadata": {},
   "outputs": [],
   "source": [
    "orders_df.join(customers_df.distinct(),orders_df.customer_id==customers_df.distinct().customerid,\"inner\").write.format(\"noop\").mode(\"overwrite\").save()"
   ]
  },
  {
   "cell_type": "code",
   "execution_count": null,
   "id": "b2723a18",
   "metadata": {},
   "outputs": [],
   "source": []
  }
 ],
 "metadata": {
  "kernelspec": {
   "display_name": "Pyspark 3",
   "language": "python",
   "name": "pyspark3"
  },
  "language_info": {
   "codemirror_mode": {
    "name": "ipython",
    "version": 3
   },
   "file_extension": ".py",
   "mimetype": "text/x-python",
   "name": "python",
   "nbconvert_exporter": "python",
   "pygments_lexer": "ipython3",
   "version": "3.6.12"
  }
 },
 "nbformat": 4,
 "nbformat_minor": 5
}
