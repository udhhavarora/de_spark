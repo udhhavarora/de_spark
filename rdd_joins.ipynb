{
 "cells": [
  {
   "cell_type": "code",
   "execution_count": 12,
   "id": "c65c4c84",
   "metadata": {},
   "outputs": [
    {
     "data": {
      "text/html": [
       "\n",
       "            <div>\n",
       "                <p><b>SparkSession - hive</b></p>\n",
       "                \n",
       "        <div>\n",
       "            <p><b>SparkContext</b></p>\n",
       "\n",
       "            <p><a href=\"http://g01.itversity.com:42083\">Spark UI</a></p>\n",
       "\n",
       "            <dl>\n",
       "              <dt>Version</dt>\n",
       "                <dd><code>v3.1.2</code></dd>\n",
       "              <dt>Master</dt>\n",
       "                <dd><code>yarn</code></dd>\n",
       "              <dt>AppName</dt>\n",
       "                <dd><code>pyspark-shell</code></dd>\n",
       "            </dl>\n",
       "        </div>\n",
       "        \n",
       "            </div>\n",
       "        "
      ],
      "text/plain": [
       "<pyspark.sql.session.SparkSession at 0x7fe7e6f87fd0>"
      ]
     },
     "execution_count": 12,
     "metadata": {},
     "output_type": "execute_result"
    }
   ],
   "source": [
    "from pyspark.sql import SparkSession\n",
    "\n",
    "import getpass\n",
    "\n",
    "username = getpass.getuser()\n",
    "\n",
    "spark = SparkSession.\\\n",
    "builder. \\\n",
    "config('spark.ui.port','0'). \\\n",
    "config(\"spark.sql.warehouse.dir\", f\"/user/{username}/warehouse\"). \\\n",
    "enableHiveSupport(). \\\n",
    "master('yarn'). \\\n",
    "getOrCreate()\n",
    "\n",
    "spark"
   ]
  },
  {
   "cell_type": "code",
   "execution_count": 13,
   "id": "88b0997c",
   "metadata": {},
   "outputs": [],
   "source": [
    "orders_rdd = spark.sparkContext.textFile(\"/public/trendytech/orders/orders_1gb.csv\")"
   ]
  },
  {
   "cell_type": "code",
   "execution_count": 14,
   "id": "49368592",
   "metadata": {},
   "outputs": [
    {
     "data": {
      "text/plain": [
       "[('11599', 'CLOSED'),\n",
       " ('256', 'PENDING_PAYMENT'),\n",
       " ('12111', 'COMPLETE'),\n",
       " ('8827', 'CLOSED'),\n",
       " ('11318', 'COMPLETE')]"
      ]
     },
     "execution_count": 14,
     "metadata": {},
     "output_type": "execute_result"
    }
   ],
   "source": [
    "mapped_rdd = orders_rdd.map(lambda x : (x.split(\",\")[-2],x.split(\",\")[-1]))\n",
    "mapped_rdd.take(5)"
   ]
  },
  {
   "cell_type": "code",
   "execution_count": 15,
   "id": "7020ca84",
   "metadata": {},
   "outputs": [],
   "source": [
    "customers_rdd = spark.sparkContext.textFile(\"/public/trendytech/retail_db/customers/part-00000\")"
   ]
  },
  {
   "cell_type": "code",
   "execution_count": 16,
   "id": "6ba73f74",
   "metadata": {},
   "outputs": [
    {
     "data": {
      "text/plain": [
       "[('1', '78521'),\n",
       " ('2', '80126'),\n",
       " ('3', '00725'),\n",
       " ('4', '92069'),\n",
       " ('5', '00725')]"
      ]
     },
     "execution_count": 16,
     "metadata": {},
     "output_type": "execute_result"
    }
   ],
   "source": [
    "customers_mapped = customers_rdd.map(lambda x : (x.split(\",\")[0],x.split(\",\")[-1]))\n",
    "customers_mapped.take(5)"
   ]
  },
  {
   "cell_type": "code",
   "execution_count": 17,
   "id": "491d7d65",
   "metadata": {},
   "outputs": [],
   "source": [
    "joined_rdd = customers_mapped.join(mapped_rdd)\n",
    "# joined_rdd.saveAsTextFile(\"data/orders_joined\")"
   ]
  },
  {
   "cell_type": "code",
   "execution_count": null,
   "id": "aff1def1",
   "metadata": {},
   "outputs": [],
   "source": []
  },
  {
   "cell_type": "code",
   "execution_count": 19,
   "id": "922c2aa8",
   "metadata": {},
   "outputs": [],
   "source": [
    "broadcasted_customers = spark.sparkContext.broadcast(customers_mapped.collect())"
   ]
  },
  {
   "cell_type": "code",
   "execution_count": 20,
   "id": "a68498d7",
   "metadata": {},
   "outputs": [],
   "source": [
    "def get_zip(customer_id):\n",
    "    try:\n",
    "        return broadcasted_customers.value[customer_id]\n",
    "    except:\n",
    "        return \"-1\"\n",
    "        "
   ]
  },
  {
   "cell_type": "code",
   "execution_count": 21,
   "id": "1faf8d52",
   "metadata": {},
   "outputs": [
    {
     "data": {
      "text/plain": [
       "<pyspark.broadcast.Broadcast at 0x7fe7e6fbf5c0>"
      ]
     },
     "execution_count": 21,
     "metadata": {},
     "output_type": "execute_result"
    }
   ],
   "source": [
    "mapped_rdd.map(lambda x : get_zip(x.split(\",\")[-2]))"
   ]
  },
  {
   "cell_type": "code",
   "execution_count": null,
   "id": "b544b9fa",
   "metadata": {},
   "outputs": [],
   "source": []
  },
  {
   "cell_type": "code",
   "execution_count": null,
   "id": "f858b677",
   "metadata": {},
   "outputs": [],
   "source": []
  },
  {
   "cell_type": "code",
   "execution_count": null,
   "id": "3dc383f8",
   "metadata": {},
   "outputs": [],
   "source": []
  },
  {
   "cell_type": "code",
   "execution_count": 10,
   "id": "899f2ca9",
   "metadata": {},
   "outputs": [],
   "source": [
    "spark.stop()"
   ]
  },
  {
   "cell_type": "code",
   "execution_count": null,
   "id": "e6a8b24b",
   "metadata": {},
   "outputs": [],
   "source": []
  }
 ],
 "metadata": {
  "kernelspec": {
   "display_name": "Pyspark 3",
   "language": "python",
   "name": "pyspark3"
  },
  "language_info": {
   "codemirror_mode": {
    "name": "ipython",
    "version": 3
   },
   "file_extension": ".py",
   "mimetype": "text/x-python",
   "name": "python",
   "nbconvert_exporter": "python",
   "pygments_lexer": "ipython3",
   "version": "3.6.12"
  }
 },
 "nbformat": 4,
 "nbformat_minor": 5
}
