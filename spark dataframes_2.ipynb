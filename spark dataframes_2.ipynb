{
 "cells": [
  {
   "cell_type": "code",
   "execution_count": 1,
   "id": "f5991adc",
   "metadata": {},
   "outputs": [
    {
     "data": {
      "text/html": [
       "\n",
       "            <div>\n",
       "                <p><b>SparkSession - hive</b></p>\n",
       "                \n",
       "        <div>\n",
       "            <p><b>SparkContext</b></p>\n",
       "\n",
       "            <p><a href=\"http://g01.itversity.com:41665\">Spark UI</a></p>\n",
       "\n",
       "            <dl>\n",
       "              <dt>Version</dt>\n",
       "                <dd><code>v3.1.2</code></dd>\n",
       "              <dt>Master</dt>\n",
       "                <dd><code>yarn</code></dd>\n",
       "              <dt>AppName</dt>\n",
       "                <dd><code>pyspark-shell</code></dd>\n",
       "            </dl>\n",
       "        </div>\n",
       "        \n",
       "            </div>\n",
       "        "
      ],
      "text/plain": [
       "<pyspark.sql.session.SparkSession at 0x7fce1510f7b8>"
      ]
     },
     "execution_count": 1,
     "metadata": {},
     "output_type": "execute_result"
    }
   ],
   "source": [
    "from pyspark.sql import SparkSession\n",
    "\n",
    "import getpass\n",
    "\n",
    "username = getpass.getuser()\n",
    "\n",
    "spark = SparkSession.\\\n",
    "builder. \\\n",
    "config('spark.ui.port','0'). \\\n",
    "config(\"spark.sql.warehouse.dir\", f\"/user/{username}/warehouse\"). \\\n",
    "enableHiveSupport(). \\\n",
    "master('yarn'). \\\n",
    "getOrCreate()\n",
    "\n",
    "spark"
   ]
  },
  {
   "cell_type": "code",
   "execution_count": 2,
   "id": "dcd79ab2",
   "metadata": {},
   "outputs": [],
   "source": [
    "orders_df = spark.read.format(\"csv\")\\\n",
    ".option(\"header\",\"true\")\\\n",
    ".option(\"inferSchema\",\"true\")\\\n",
    ".load(\"/public/trendytech/orders_wh/*\")"
   ]
  },
  {
   "cell_type": "code",
   "execution_count": 3,
   "id": "0d6aec8f",
   "metadata": {},
   "outputs": [
    {
     "name": "stdout",
     "output_type": "stream",
     "text": [
      "+--------+--------------------+-----------+---------------+\n",
      "|order_id|          order_date|customer_id|   order_status|\n",
      "+--------+--------------------+-----------+---------------+\n",
      "|       1|2013-07-25 00:00:...|      11599|         CLOSED|\n",
      "|       2|2013-07-25 00:00:...|        256|PENDING_PAYMENT|\n",
      "|       3|2013-07-25 00:00:...|      12111|       COMPLETE|\n",
      "|       4|2013-07-25 00:00:...|       8827|         CLOSED|\n",
      "|       5|2013-07-25 00:00:...|      11318|       COMPLETE|\n",
      "|       6|2013-07-25 00:00:...|       7130|       COMPLETE|\n",
      "|       7|2013-07-25 00:00:...|       4530|       COMPLETE|\n",
      "|       8|2013-07-25 00:00:...|       2911|     PROCESSING|\n",
      "|       9|2013-07-25 00:00:...|       5657|PENDING_PAYMENT|\n",
      "|      10|2013-07-25 00:00:...|       5648|PENDING_PAYMENT|\n",
      "|      11|2013-07-25 00:00:...|        918| PAYMENT_REVIEW|\n",
      "|      12|2013-07-25 00:00:...|       1837|         CLOSED|\n",
      "|      13|2013-07-25 00:00:...|       9149|PENDING_PAYMENT|\n",
      "|      14|2013-07-25 00:00:...|       9842|     PROCESSING|\n",
      "|      15|2013-07-25 00:00:...|       2568|       COMPLETE|\n",
      "|      16|2013-07-25 00:00:...|       7276|PENDING_PAYMENT|\n",
      "|      17|2013-07-25 00:00:...|       2667|       COMPLETE|\n",
      "|      18|2013-07-25 00:00:...|       1205|         CLOSED|\n",
      "|      19|2013-07-25 00:00:...|       9488|PENDING_PAYMENT|\n",
      "|      20|2013-07-25 00:00:...|       9198|     PROCESSING|\n",
      "+--------+--------------------+-----------+---------------+\n",
      "only showing top 20 rows\n",
      "\n"
     ]
    }
   ],
   "source": [
    "orders_df.show()"
   ]
  },
  {
   "cell_type": "code",
   "execution_count": 4,
   "id": "1ba814e4",
   "metadata": {},
   "outputs": [
    {
     "name": "stdout",
     "output_type": "stream",
     "text": [
      "root\n",
      " |-- order_id: integer (nullable = true)\n",
      " |-- order_date: string (nullable = true)\n",
      " |-- customer_id: integer (nullable = true)\n",
      " |-- order_status: string (nullable = true)\n",
      "\n"
     ]
    }
   ],
   "source": [
    "orders_df.printSchema()"
   ]
  },
  {
   "cell_type": "code",
   "execution_count": 5,
   "id": "b55907ef",
   "metadata": {},
   "outputs": [],
   "source": [
    "orders_df.createOrReplaceTempView(\"orders\")"
   ]
  },
  {
   "cell_type": "markdown",
   "id": "38b8dcbb",
   "metadata": {},
   "source": [
    "## top 15 customers who placed max number of orders"
   ]
  },
  {
   "cell_type": "code",
   "execution_count": 17,
   "id": "b0547028",
   "metadata": {},
   "outputs": [
    {
     "name": "stdout",
     "output_type": "stream",
     "text": [
      "+-----------+------+\n",
      "|customer_id|orders|\n",
      "+-----------+------+\n",
      "|5897       |16    |\n",
      "|12431      |16    |\n",
      "|569        |16    |\n",
      "|6316       |16    |\n",
      "|12284      |15    |\n",
      "|4320       |15    |\n",
      "|5624       |15    |\n",
      "|5283       |15    |\n",
      "|221        |15    |\n",
      "|5654       |15    |\n",
      "|6248       |14    |\n",
      "|3708       |14    |\n",
      "|1011       |14    |\n",
      "|8652       |14    |\n",
      "|4517       |14    |\n",
      "+-----------+------+\n",
      "\n"
     ]
    }
   ],
   "source": [
    "ans_df = spark.sql(\"\"\"select customer_id,count(*) as orders from orders group by customer_id order by orders desc limit 15\n",
    "\"\"\")\n",
    "ans_df.show(truncate=0)"
   ]
  },
  {
   "cell_type": "code",
   "execution_count": 14,
   "id": "040d8137",
   "metadata": {},
   "outputs": [
    {
     "name": "stdout",
     "output_type": "stream",
     "text": [
      "+-----------+-----+\n",
      "|customer_id|count|\n",
      "+-----------+-----+\n",
      "|        569|   16|\n",
      "|       5897|   16|\n",
      "|      12431|   16|\n",
      "|       6316|   16|\n",
      "|        221|   15|\n",
      "|       4320|   15|\n",
      "|       5654|   15|\n",
      "|      12284|   15|\n",
      "|       5283|   15|\n",
      "|       5624|   15|\n",
      "|       3708|   14|\n",
      "|       4517|   14|\n",
      "|       6248|   14|\n",
      "|       3710|   14|\n",
      "|        791|   14|\n",
      "+-----------+-----+\n",
      "only showing top 15 rows\n",
      "\n"
     ]
    }
   ],
   "source": [
    "ans_df = orders_df.groupBy(\"customer_id\").count()\n",
    "ans_df.sort(\"count\",ascending=False).show(15)"
   ]
  },
  {
   "cell_type": "markdown",
   "id": "2448fb0a",
   "metadata": {},
   "source": [
    "## number of orders under each order status"
   ]
  },
  {
   "cell_type": "code",
   "execution_count": 18,
   "id": "eb85139f",
   "metadata": {},
   "outputs": [
    {
     "name": "stdout",
     "output_type": "stream",
     "text": [
      "+---------------+------+\n",
      "|order_status   |orders|\n",
      "+---------------+------+\n",
      "|COMPLETE       |22899 |\n",
      "|PENDING_PAYMENT|15030 |\n",
      "|PROCESSING     |8275  |\n",
      "|PENDING        |7610  |\n",
      "|CLOSED         |7556  |\n",
      "|ON_HOLD        |3798  |\n",
      "|SUSPECTED_FRAUD|1558  |\n",
      "|CANCELED       |1428  |\n",
      "|PAYMENT_REVIEW |729   |\n",
      "+---------------+------+\n",
      "\n"
     ]
    }
   ],
   "source": [
    "ans_df = spark.sql(\"\"\"select order_status,count(*) as orders from orders group by order_status order by orders desc\n",
    "\"\"\")\n",
    "ans_df.show(truncate=0)"
   ]
  },
  {
   "cell_type": "code",
   "execution_count": 16,
   "id": "ce1a45a9",
   "metadata": {},
   "outputs": [
    {
     "name": "stdout",
     "output_type": "stream",
     "text": [
      "+---------------+-----+\n",
      "|   order_status|count|\n",
      "+---------------+-----+\n",
      "|       COMPLETE|22899|\n",
      "|PENDING_PAYMENT|15030|\n",
      "|     PROCESSING| 8275|\n",
      "|        PENDING| 7610|\n",
      "|         CLOSED| 7556|\n",
      "|        ON_HOLD| 3798|\n",
      "|SUSPECTED_FRAUD| 1558|\n",
      "|       CANCELED| 1428|\n",
      "| PAYMENT_REVIEW|  729|\n",
      "+---------------+-----+\n",
      "\n"
     ]
    }
   ],
   "source": [
    "ans_df = orders_df.groupBy(\"order_status\").count()\n",
    "ans_df.sort(\"count\",ascending=False).show()"
   ]
  },
  {
   "cell_type": "markdown",
   "id": "1801a0cf",
   "metadata": {},
   "source": [
    "## no. of active customers (with atleast one order)"
   ]
  },
  {
   "cell_type": "code",
   "execution_count": 23,
   "id": "eca654a0",
   "metadata": {},
   "outputs": [
    {
     "data": {
      "text/plain": [
       "12405"
      ]
     },
     "execution_count": 23,
     "metadata": {},
     "output_type": "execute_result"
    }
   ],
   "source": [
    "ans_df = orders_df.select(\"customer_id\").distinct().count()\n",
    "ans_df"
   ]
  },
  {
   "cell_type": "code",
   "execution_count": 24,
   "id": "fe712f80",
   "metadata": {},
   "outputs": [
    {
     "data": {
      "text/plain": [
       "12405"
      ]
     },
     "execution_count": 24,
     "metadata": {},
     "output_type": "execute_result"
    }
   ],
   "source": [
    "ans_df = spark.sql(\"\"\"select distinct customer_id from orders\"\"\")\n",
    "ans_df.count()"
   ]
  },
  {
   "cell_type": "markdown",
   "id": "e80bdf8a",
   "metadata": {},
   "source": [
    "## customers with most number of closed orders"
   ]
  },
  {
   "cell_type": "code",
   "execution_count": 29,
   "id": "076e03ff",
   "metadata": {},
   "outputs": [
    {
     "name": "stdout",
     "output_type": "stream",
     "text": [
      "+-----------+-----+\n",
      "|customer_id|count|\n",
      "+-----------+-----+\n",
      "|       1833|    6|\n",
      "+-----------+-----+\n",
      "only showing top 1 row\n",
      "\n"
     ]
    }
   ],
   "source": [
    "ans_df = orders_df.filter(\"order_status='CLOSED'\").groupBy(\"customer_id\").count()\n",
    "ans_df.sort(\"count\",ascending=False).show(1)"
   ]
  },
  {
   "cell_type": "code",
   "execution_count": 30,
   "id": "570d7d7a",
   "metadata": {},
   "outputs": [
    {
     "name": "stdout",
     "output_type": "stream",
     "text": [
      "+-----------+---+\n",
      "|customer_id|cnt|\n",
      "+-----------+---+\n",
      "|1833       |6  |\n",
      "+-----------+---+\n",
      "\n"
     ]
    }
   ],
   "source": [
    "ans_df = spark.sql(\"\"\"select customer_id,count(*) as cnt from orders where order_status='CLOSED' group by customer_id\n",
    "order by cnt desc limit 1\n",
    "\"\"\")\n",
    "ans_df.show(truncate=0)"
   ]
  },
  {
   "cell_type": "code",
   "execution_count": null,
   "id": "bab7260c",
   "metadata": {},
   "outputs": [],
   "source": []
  }
 ],
 "metadata": {
  "kernelspec": {
   "display_name": "Pyspark 3",
   "language": "python",
   "name": "pyspark3"
  },
  "language_info": {
   "codemirror_mode": {
    "name": "ipython",
    "version": 3
   },
   "file_extension": ".py",
   "mimetype": "text/x-python",
   "name": "python",
   "nbconvert_exporter": "python",
   "pygments_lexer": "ipython3",
   "version": "3.6.12"
  }
 },
 "nbformat": 4,
 "nbformat_minor": 5
}
