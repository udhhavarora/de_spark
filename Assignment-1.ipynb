{
 "cells": [
  {
   "cell_type": "code",
   "execution_count": 1,
   "id": "5581abd6",
   "metadata": {},
   "outputs": [
    {
     "data": {
      "text/html": [
       "\n",
       "            <div>\n",
       "                <p><b>SparkSession - hive</b></p>\n",
       "                \n",
       "        <div>\n",
       "            <p><b>SparkContext</b></p>\n",
       "\n",
       "            <p><a href=\"http://g01.itversity.com:43835\">Spark UI</a></p>\n",
       "\n",
       "            <dl>\n",
       "              <dt>Version</dt>\n",
       "                <dd><code>v3.1.2</code></dd>\n",
       "              <dt>Master</dt>\n",
       "                <dd><code>yarn</code></dd>\n",
       "              <dt>AppName</dt>\n",
       "                <dd><code>pyspark-shell</code></dd>\n",
       "            </dl>\n",
       "        </div>\n",
       "        \n",
       "            </div>\n",
       "        "
      ],
      "text/plain": [
       "<pyspark.sql.session.SparkSession at 0x7f12275187b8>"
      ]
     },
     "execution_count": 1,
     "metadata": {},
     "output_type": "execute_result"
    }
   ],
   "source": [
    "from pyspark.sql import SparkSession\n",
    "\n",
    "import getpass\n",
    "\n",
    "username = getpass.getuser()\n",
    "\n",
    "spark = SparkSession.\\\n",
    "builder. \\\n",
    "config('spark.ui.port','0'). \\\n",
    "config(\"spark.sql.warehouse.dir\", f\"/user/{username}/warehouse\"). \\\n",
    "enableHiveSupport(). \\\n",
    "master('yarn'). \\\n",
    "getOrCreate()\n",
    "\n",
    "spark"
   ]
  },
  {
   "cell_type": "code",
   "execution_count": 2,
   "id": "9de6f39d",
   "metadata": {},
   "outputs": [],
   "source": [
    "orders_rdd=spark.sparkContext.textFile(\"/public/trendytech/retail_db/orders/*\")\n",
    "order_items_rdd=spark.sparkContext.textFile(\"/public/trendytech/retail_db/order_items/*\")"
   ]
  },
  {
   "cell_type": "code",
   "execution_count": 3,
   "id": "de99bbbd",
   "metadata": {},
   "outputs": [
    {
     "data": {
      "text/plain": [
       "[('1', 299.98), ('2', 199.99), ('3', 250.0), ('4', 129.99), ('5', 49.98)]"
      ]
     },
     "execution_count": 3,
     "metadata": {},
     "output_type": "execute_result"
    }
   ],
   "source": [
    "order_items_total = order_items_rdd.map(lambda x:(x.split(\",\")[0],float(x.split(\",\")[4])))\n",
    "order_items_total.take(5)"
   ]
  },
  {
   "cell_type": "code",
   "execution_count": 4,
   "id": "b247e37c",
   "metadata": {},
   "outputs": [
    {
     "data": {
      "text/plain": [
       "[('1', '11599'), ('2', '256'), ('3', '12111'), ('4', '8827'), ('5', '11318')]"
      ]
     },
     "execution_count": 4,
     "metadata": {},
     "output_type": "execute_result"
    }
   ],
   "source": [
    "orders_customer = orders_rdd.map(lambda x:(x.split(\",\")[0],x.split(\",\")[2]))\n",
    "orders_customer.take(5)"
   ]
  },
  {
   "cell_type": "code",
   "execution_count": 5,
   "id": "a96c941f",
   "metadata": {},
   "outputs": [
    {
     "data": {
      "text/plain": [
       "[('34566', ('3066', 199.99)),\n",
       " ('34568', ('1271', 79.98)),\n",
       " ('34569', ('11083', 399.98)),\n",
       " ('34577', ('7733', 129.99)),\n",
       " ('34583', ('1558', 199.99))]"
      ]
     },
     "execution_count": 5,
     "metadata": {},
     "output_type": "execute_result"
    }
   ],
   "source": [
    "orders_joined = orders_customer.join(order_items_total)\n",
    "orders_joined.take(5)"
   ]
  },
  {
   "cell_type": "code",
   "execution_count": 6,
   "id": "419f83e7",
   "metadata": {},
   "outputs": [
    {
     "data": {
      "text/plain": [
       "[('3066', 199.99),\n",
       " ('1271', 79.98),\n",
       " ('11083', 399.98),\n",
       " ('7733', 129.99),\n",
       " ('1558', 199.99)]"
      ]
     },
     "execution_count": 6,
     "metadata": {},
     "output_type": "execute_result"
    }
   ],
   "source": [
    "mapped_rdd=orders_joined.map(lambda x:(x[1][0],x[1][1]))\n",
    "mapped_rdd.take(5)"
   ]
  },
  {
   "cell_type": "code",
   "execution_count": 7,
   "id": "12fa2147",
   "metadata": {},
   "outputs": [
    {
     "data": {
      "text/plain": [
       "[('9639', 4299.68),\n",
       " ('5897', 4279.610000000001),\n",
       " ('6316', 3679.55),\n",
       " ('9056', 3559.7000000000003),\n",
       " ('5004', 3519.55),\n",
       " ('11689', 3440.75),\n",
       " ('5146', 3434.75),\n",
       " ('898', 3369.75),\n",
       " ('5582', 3359.5200000000004),\n",
       " ('10235', 3289.6200000000003)]"
      ]
     },
     "execution_count": 7,
     "metadata": {},
     "output_type": "execute_result"
    }
   ],
   "source": [
    "reduced_rdd = mapped_rdd.reduceByKey(lambda x,y:x+y ).sortBy(lambda x:x[1],False)\n",
    "reduced_rdd.take(10)\n",
    "# reduced_rdd.sortBy()"
   ]
  },
  {
   "cell_type": "code",
   "execution_count": null,
   "id": "26288915",
   "metadata": {},
   "outputs": [],
   "source": []
  },
  {
   "cell_type": "code",
   "execution_count": null,
   "id": "02f56ba9",
   "metadata": {},
   "outputs": [],
   "source": []
  },
  {
   "cell_type": "code",
   "execution_count": null,
   "id": "59667f71",
   "metadata": {},
   "outputs": [],
   "source": []
  },
  {
   "cell_type": "code",
   "execution_count": 8,
   "id": "c33798d6",
   "metadata": {},
   "outputs": [],
   "source": [
    "order_items_rdd=spark.sparkContext.textFile(\"/public/trendytech/retail_db/order_items/*\")"
   ]
  },
  {
   "cell_type": "code",
   "execution_count": 9,
   "id": "6779528b",
   "metadata": {},
   "outputs": [
    {
     "data": {
      "text/plain": [
       "[(365, 73698),\n",
       " (502, 62956),\n",
       " (1014, 57803),\n",
       " (191, 36680),\n",
       " (627, 31735),\n",
       " (403, 22246),\n",
       " (1004, 17325),\n",
       " (1073, 15500),\n",
       " (957, 13729),\n",
       " (977, 998)]"
      ]
     },
     "execution_count": 9,
     "metadata": {},
     "output_type": "execute_result"
    }
   ],
   "source": [
    "id_quantity = order_items_rdd.map(lambda x:(int(x.split(\",\")[2]),int(x.split(\",\")[3])))\n",
    "reduced_rdd = id_quantity.reduceByKey(lambda x,y : x+y)\n",
    "reduced_rdd.sortBy(lambda x:x[1],False).take(10)"
   ]
  },
  {
   "cell_type": "code",
   "execution_count": null,
   "id": "cecc8320",
   "metadata": {},
   "outputs": [],
   "source": []
  },
  {
   "cell_type": "code",
   "execution_count": null,
   "id": "2d57ebc6",
   "metadata": {},
   "outputs": [],
   "source": []
  },
  {
   "cell_type": "code",
   "execution_count": null,
   "id": "41f110d5",
   "metadata": {},
   "outputs": [],
   "source": []
  },
  {
   "cell_type": "code",
   "execution_count": 10,
   "id": "9a3b7a1e",
   "metadata": {},
   "outputs": [
    {
     "data": {
      "text/plain": [
       "['1,Richard,Hernandez,XXXXXXXXX,XXXXXXXXX,6303 Heather Plaza,Brownsville,TX,78521',\n",
       " '2,Mary,Barrett,XXXXXXXXX,XXXXXXXXX,9526 Noble Embers Ridge,Littleton,CO,80126',\n",
       " '3,Ann,Smith,XXXXXXXXX,XXXXXXXXX,3422 Blue Pioneer Bend,Caguas,PR,00725',\n",
       " '4,Mary,Jones,XXXXXXXXX,XXXXXXXXX,8324 Little Common,San Marcos,CA,92069',\n",
       " '5,Robert,Hudson,XXXXXXXXX,XXXXXXXXX,\"10 Crystal River Mall \",Caguas,PR,00725']"
      ]
     },
     "execution_count": 10,
     "metadata": {},
     "output_type": "execute_result"
    }
   ],
   "source": [
    "customers_rdd=spark.sparkContext.textFile(\"/public/trendytech/retail_db/customers/*\")\n",
    "customers_rdd.take(5)"
   ]
  },
  {
   "cell_type": "code",
   "execution_count": 11,
   "id": "15825457",
   "metadata": {},
   "outputs": [
    {
     "data": {
      "text/plain": [
       "['3,Ann,Smith,XXXXXXXXX,XXXXXXXXX,3422 Blue Pioneer Bend,Caguas,PR,00725',\n",
       " '5,Robert,Hudson,XXXXXXXXX,XXXXXXXXX,\"10 Crystal River Mall \",Caguas,PR,00725',\n",
       " '7,Melissa,Wilcox,XXXXXXXXX,XXXXXXXXX,9453 High Concession,Caguas,PR,00725',\n",
       " '9,Mary,Perez,XXXXXXXXX,XXXXXXXXX,3616 Quaking Street,Caguas,PR,00725',\n",
       " '11,Mary,Huffman,XXXXXXXXX,XXXXXXXXX,3169 Stony Woods,Caguas,PR,00725',\n",
       " '13,Mary,Baldwin,XXXXXXXXX,XXXXXXXXX,7922 Iron Oak Gardens,Caguas,PR,00725',\n",
       " '16,Tiffany,Smith,XXXXXXXXX,XXXXXXXXX,6651 Iron Port,Caguas,PR,00725',\n",
       " '19,Stephanie,Mitchell,XXXXXXXXX,XXXXXXXXX,3543 Red Treasure Bay,Caguas,PR,00725',\n",
       " '21,William,Zimmerman,XXXXXXXXX,XXXXXXXXX,\"3323 Old Willow Mall \",Caguas,PR,00725',\n",
       " '24,Mary,Smith,XXXXXXXXX,XXXXXXXXX,9417 Emerald Towers,Caguas,PR,00725']"
      ]
     },
     "execution_count": 11,
     "metadata": {},
     "output_type": "execute_result"
    }
   ],
   "source": [
    "filtered_rdd = customers_rdd.filter(lambda x:x.split(\",\")[-3]==\"Caguas\")\n",
    "filtered_rdd.take(10)"
   ]
  },
  {
   "cell_type": "code",
   "execution_count": 12,
   "id": "c5ced13a",
   "metadata": {},
   "outputs": [
    {
     "data": {
      "text/plain": [
       "4584"
      ]
     },
     "execution_count": 12,
     "metadata": {},
     "output_type": "execute_result"
    }
   ],
   "source": [
    "filtered_rdd_2 = filtered_rdd.map(lambda x:x.split(\",\")[0]).distinct()\n",
    "filtered_rdd_2.count()"
   ]
  },
  {
   "cell_type": "code",
   "execution_count": null,
   "id": "40d29aab",
   "metadata": {},
   "outputs": [],
   "source": []
  },
  {
   "cell_type": "code",
   "execution_count": null,
   "id": "5e23ca9e",
   "metadata": {},
   "outputs": [],
   "source": []
  },
  {
   "cell_type": "code",
   "execution_count": null,
   "id": "13227a5d",
   "metadata": {},
   "outputs": [],
   "source": []
  },
  {
   "cell_type": "code",
   "execution_count": null,
   "id": "9ce98749",
   "metadata": {},
   "outputs": [],
   "source": []
  },
  {
   "cell_type": "code",
   "execution_count": 13,
   "id": "41ccdfbd",
   "metadata": {},
   "outputs": [],
   "source": [
    "customers_rdd=spark.sparkContext.textFile(\"/public/trendytech/retail_db/customers/*\")"
   ]
  },
  {
   "cell_type": "code",
   "execution_count": 14,
   "id": "1c175de2",
   "metadata": {},
   "outputs": [
    {
     "data": {
      "text/plain": [
       "[('PR', 4771), ('CA', 2012), ('NY', 775)]"
      ]
     },
     "execution_count": 14,
     "metadata": {},
     "output_type": "execute_result"
    }
   ],
   "source": [
    "states_rdd = customers_rdd.map(lambda x : (x.split(\",\")[-2],1))\n",
    "state_cnt = states_rdd.reduceByKey(lambda x,y:x+y)\n",
    "state_cnt.sortBy(lambda x:x[1],False).take(3)"
   ]
  },
  {
   "cell_type": "code",
   "execution_count": null,
   "id": "d68e17b8",
   "metadata": {},
   "outputs": [],
   "source": []
  },
  {
   "cell_type": "code",
   "execution_count": null,
   "id": "63834043",
   "metadata": {},
   "outputs": [],
   "source": []
  },
  {
   "cell_type": "code",
   "execution_count": null,
   "id": "dea71988",
   "metadata": {},
   "outputs": [],
   "source": []
  },
  {
   "cell_type": "code",
   "execution_count": 15,
   "id": "3adcba80",
   "metadata": {},
   "outputs": [],
   "source": [
    "orders_rdd=spark.sparkContext.textFile(\"/public/trendytech/retail_db/orders/*\")\n",
    "order_items_rdd=spark.sparkContext.textFile(\"/public/trendytech/retail_db/order_items/*\")"
   ]
  },
  {
   "cell_type": "code",
   "execution_count": 16,
   "id": "46f4e605",
   "metadata": {},
   "outputs": [],
   "source": [
    "order_items_map=order_items_rdd.map(lambda x:((int(x.split(',')[1]),float(x.split(',')[4]))))\n",
    "orders_map=orders_rdd.map(lambda x:(int(x.split(',')[0]),(int(x.split(',')[2]))))"
   ]
  },
  {
   "cell_type": "code",
   "execution_count": 17,
   "id": "1437f47c",
   "metadata": {},
   "outputs": [],
   "source": [
    "join_rdd=order_items_map.join(orders_map)"
   ]
  },
  {
   "cell_type": "code",
   "execution_count": 18,
   "id": "1a01a99a",
   "metadata": {},
   "outputs": [
    {
     "data": {
      "text/plain": [
       "[(4, (49.98, 8827)),\n",
       " (4, (299.95, 8827)),\n",
       " (4, (150.0, 8827)),\n",
       " (4, (199.92, 8827)),\n",
       " (8, (179.97, 2911))]"
      ]
     },
     "execution_count": 18,
     "metadata": {},
     "output_type": "execute_result"
    }
   ],
   "source": [
    "join_rdd.take(5)"
   ]
  },
  {
   "cell_type": "code",
   "execution_count": 19,
   "id": "ae7295c6",
   "metadata": {},
   "outputs": [],
   "source": [
    "cust_amount = join_rdd.map(lambda x:(x[1][1],x[1][0]))\n",
    "reduced_cust = cust_amount.reduceByKey(lambda x,y:x+y)\n",
    "filtered_rdd = reduced_cust.filter(lambda x : x[-1]>1000)\n",
    "result = filtered_rdd.map(lambda x:x[0]).distinct().count()"
   ]
  },
  {
   "cell_type": "code",
   "execution_count": 20,
   "id": "481156d9",
   "metadata": {},
   "outputs": [
    {
     "data": {
      "text/plain": [
       "11148"
      ]
     },
     "execution_count": 20,
     "metadata": {},
     "output_type": "execute_result"
    }
   ],
   "source": [
    "result"
   ]
  },
  {
   "cell_type": "code",
   "execution_count": null,
   "id": "ba26759b",
   "metadata": {},
   "outputs": [],
   "source": []
  },
  {
   "cell_type": "code",
   "execution_count": null,
   "id": "7420bc3c",
   "metadata": {},
   "outputs": [],
   "source": []
  },
  {
   "cell_type": "code",
   "execution_count": null,
   "id": "a58ef12c",
   "metadata": {},
   "outputs": [],
   "source": []
  },
  {
   "cell_type": "code",
   "execution_count": null,
   "id": "f776702f",
   "metadata": {},
   "outputs": [],
   "source": []
  },
  {
   "cell_type": "code",
   "execution_count": 21,
   "id": "91e8ab13",
   "metadata": {},
   "outputs": [],
   "source": [
    "orders_rdd=spark.sparkContext.textFile(\"/public/trendytech/retail_db/orders/*\")\n",
    "customers_rdd=spark.sparkContext.textFile(\"/public/trendytech/retail_db/customers/*\")"
   ]
  },
  {
   "cell_type": "code",
   "execution_count": 22,
   "id": "c59a6ceb",
   "metadata": {},
   "outputs": [
    {
     "data": {
      "text/plain": [
       "['1,2013-07-25 00:00:00.0,11599,CLOSED',\n",
       " '2,2013-07-25 00:00:00.0,256,PENDING_PAYMENT',\n",
       " '3,2013-07-25 00:00:00.0,12111,COMPLETE',\n",
       " '4,2013-07-25 00:00:00.0,8827,CLOSED',\n",
       " '5,2013-07-25 00:00:00.0,11318,COMPLETE']"
      ]
     },
     "execution_count": 22,
     "metadata": {},
     "output_type": "execute_result"
    }
   ],
   "source": [
    "orders_rdd.take(5)"
   ]
  },
  {
   "cell_type": "code",
   "execution_count": 23,
   "id": "458ec747",
   "metadata": {},
   "outputs": [
    {
     "data": {
      "text/plain": [
       "['1,Richard,Hernandez,XXXXXXXXX,XXXXXXXXX,6303 Heather Plaza,Brownsville,TX,78521',\n",
       " '2,Mary,Barrett,XXXXXXXXX,XXXXXXXXX,9526 Noble Embers Ridge,Littleton,CO,80126',\n",
       " '3,Ann,Smith,XXXXXXXXX,XXXXXXXXX,3422 Blue Pioneer Bend,Caguas,PR,00725',\n",
       " '4,Mary,Jones,XXXXXXXXX,XXXXXXXXX,8324 Little Common,San Marcos,CA,92069',\n",
       " '5,Robert,Hudson,XXXXXXXXX,XXXXXXXXX,\"10 Crystal River Mall \",Caguas,PR,00725']"
      ]
     },
     "execution_count": 23,
     "metadata": {},
     "output_type": "execute_result"
    }
   ],
   "source": [
    "customers_rdd.take(5)"
   ]
  },
  {
   "cell_type": "code",
   "execution_count": 24,
   "id": "3cc8e3b6",
   "metadata": {},
   "outputs": [
    {
     "data": {
      "text/plain": [
       "[('11599', 'CLOSED'),\n",
       " ('256', 'PENDING_PAYMENT'),\n",
       " ('12111', 'COMPLETE'),\n",
       " ('8827', 'CLOSED'),\n",
       " ('11318', 'COMPLETE')]"
      ]
     },
     "execution_count": 24,
     "metadata": {},
     "output_type": "execute_result"
    }
   ],
   "source": [
    "#pick customerid,status from orders\n",
    "orders_base = orders_rdd.map(lambda x : (x.split(\",\")[2],x.split(\",\")[-1]))\n",
    "orders_base.take(5)"
   ]
  },
  {
   "cell_type": "code",
   "execution_count": 25,
   "id": "160ce764",
   "metadata": {},
   "outputs": [
    {
     "data": {
      "text/plain": [
       "[('1', 'TX'), ('2', 'CO'), ('3', 'PR'), ('4', 'CA'), ('5', 'PR')]"
      ]
     },
     "execution_count": 25,
     "metadata": {},
     "output_type": "execute_result"
    }
   ],
   "source": [
    "#pick customer_id,state from customers_rdd\n",
    "customers_base = customers_rdd.map(lambda x : (x.split(\",\")[0],x.split(\",\")[-2]))\n",
    "customers_base.take(5)"
   ]
  },
  {
   "cell_type": "code",
   "execution_count": 26,
   "id": "f1a96e1c",
   "metadata": {},
   "outputs": [
    {
     "data": {
      "text/plain": [
       "[('2248', ('PROCESSING', 'PR')),\n",
       " ('2248', ('ON_HOLD', 'PR')),\n",
       " ('2248', ('CLOSED', 'PR')),\n",
       " ('2248', ('COMPLETE', 'PR')),\n",
       " ('7733', ('CANCELED', 'CA'))]"
      ]
     },
     "execution_count": 26,
     "metadata": {},
     "output_type": "execute_result"
    }
   ],
   "source": [
    "joined_rdd = orders_base.join(customers_base)\n",
    "joined_rdd.take(5)"
   ]
  },
  {
   "cell_type": "code",
   "execution_count": 32,
   "id": "5b18e162",
   "metadata": {},
   "outputs": [
    {
     "data": {
      "text/plain": [
       "[('PR', 2891)]"
      ]
     },
     "execution_count": 32,
     "metadata": {},
     "output_type": "execute_result"
    }
   ],
   "source": [
    "closed_filter = joined_rdd.filter(lambda x : x[1][0]==\"CLOSED\")\n",
    "closed_filter_new = closed_filter.map(lambda x : (x[1][1],1))\n",
    "reduced_state=closed_filter_new.reduceByKey(lambda x,y:x+y)\n",
    "res = reduced_state.sortBy(lambda x : x[1],False)\n",
    "res.take(1)"
   ]
  },
  {
   "cell_type": "code",
   "execution_count": null,
   "id": "28e5f244",
   "metadata": {},
   "outputs": [],
   "source": []
  },
  {
   "cell_type": "code",
   "execution_count": null,
   "id": "fd01e5cc",
   "metadata": {},
   "outputs": [],
   "source": []
  },
  {
   "cell_type": "code",
   "execution_count": null,
   "id": "b2f92c9a",
   "metadata": {},
   "outputs": [],
   "source": []
  },
  {
   "cell_type": "code",
   "execution_count": 34,
   "id": "842b9068",
   "metadata": {},
   "outputs": [
    {
     "data": {
      "text/plain": [
       "['1,2013-07-25 00:00:00.0,11599,CLOSED',\n",
       " '2,2013-07-25 00:00:00.0,256,PENDING_PAYMENT',\n",
       " '3,2013-07-25 00:00:00.0,12111,COMPLETE',\n",
       " '4,2013-07-25 00:00:00.0,8827,CLOSED',\n",
       " '5,2013-07-25 00:00:00.0,11318,COMPLETE',\n",
       " '6,2013-07-25 00:00:00.0,7130,COMPLETE',\n",
       " '7,2013-07-25 00:00:00.0,4530,COMPLETE',\n",
       " '8,2013-07-25 00:00:00.0,2911,PROCESSING',\n",
       " '9,2013-07-25 00:00:00.0,5657,PENDING_PAYMENT',\n",
       " '10,2013-07-25 00:00:00.0,5648,PENDING_PAYMENT']"
      ]
     },
     "execution_count": 34,
     "metadata": {},
     "output_type": "execute_result"
    }
   ],
   "source": [
    "orders_rdd=spark.sparkContext.textFile(\"/public/trendytech/retail_db/orders/*\")\n",
    "orders_rdd.take(10)"
   ]
  },
  {
   "cell_type": "code",
   "execution_count": 35,
   "id": "1a3d9060",
   "metadata": {},
   "outputs": [
    {
     "data": {
      "text/plain": [
       "12405"
      ]
     },
     "execution_count": 35,
     "metadata": {},
     "output_type": "execute_result"
    }
   ],
   "source": [
    "orders_rdd.map(lambda x : x.split(\",\")[-2]).distinct().count()"
   ]
  },
  {
   "cell_type": "code",
   "execution_count": null,
   "id": "27da5d1a",
   "metadata": {},
   "outputs": [],
   "source": []
  },
  {
   "cell_type": "code",
   "execution_count": null,
   "id": "c3c54166",
   "metadata": {},
   "outputs": [],
   "source": []
  },
  {
   "cell_type": "code",
   "execution_count": null,
   "id": "8c1dfe16",
   "metadata": {},
   "outputs": [],
   "source": []
  },
  {
   "cell_type": "code",
   "execution_count": 36,
   "id": "d2b998c5",
   "metadata": {},
   "outputs": [],
   "source": [
    "customers_rdd=spark.sparkContext.textFile(\"/public/trendytech/retail_db/customers/*\")\n",
    "orders_rdd=spark.sparkContext.textFile(\"/public/trendytech/retail_db/orders/*\")\n",
    "order_items_rdd=spark.sparkContext.textFile(\"/public/trendytech/retail_db/order_items/*\")"
   ]
  },
  {
   "cell_type": "code",
   "execution_count": 40,
   "id": "f47f98db",
   "metadata": {},
   "outputs": [
    {
     "data": {
      "text/plain": [
       "[(1, 'TX'),\n",
       " (2, 'CO'),\n",
       " (3, 'PR'),\n",
       " (4, 'CA'),\n",
       " (5, 'PR'),\n",
       " (6, 'NJ'),\n",
       " (7, 'PR'),\n",
       " (8, 'MA'),\n",
       " (9, 'PR'),\n",
       " (10, 'VA')]"
      ]
     },
     "execution_count": 40,
     "metadata": {},
     "output_type": "execute_result"
    }
   ],
   "source": [
    "#from orders, pick order_id,customer_id & from customers pick customer_id & state\n",
    "\n",
    "orders_base1 = orders_rdd.map(lambda x : (int(x.split(\",\")[0]),int(x.split(\",\")[2])))\n",
    "customers_base1 = customers_rdd.map(lambda x : (int(x.split(\",\")[0]),x.split(\",\")[-2]))\n",
    "customers_base1.take(10)"
   ]
  },
  {
   "cell_type": "code",
   "execution_count": 42,
   "id": "139718b5",
   "metadata": {},
   "outputs": [
    {
     "data": {
      "text/plain": [
       "[(6244, (5638, 'FL')),\n",
       " (6248, (11150, 'CA')),\n",
       " (6252, (9091, 'TX')),\n",
       " (6256, (3713, 'NJ')),\n",
       " (6260, (9628, 'PR')),\n",
       " (6264, (12177, 'IL')),\n",
       " (6268, (5853, 'PR')),\n",
       " (6272, (1666, 'NJ')),\n",
       " (6276, (4831, 'IL')),\n",
       " (6280, (9186, 'PR'))]"
      ]
     },
     "execution_count": 42,
     "metadata": {},
     "output_type": "execute_result"
    }
   ],
   "source": [
    "order_cust_join = orders_base1.join(customers_base1)\n",
    "order_cust_join.take(10)"
   ]
  },
  {
   "cell_type": "code",
   "execution_count": 45,
   "id": "ac04af3f",
   "metadata": {},
   "outputs": [
    {
     "data": {
      "text/plain": [
       "[(5638, 'FL'),\n",
       " (11150, 'CA'),\n",
       " (9091, 'TX'),\n",
       " (3713, 'NJ'),\n",
       " (9628, 'PR'),\n",
       " (12177, 'IL'),\n",
       " (5853, 'PR'),\n",
       " (1666, 'NJ'),\n",
       " (4831, 'IL'),\n",
       " (9186, 'PR')]"
      ]
     },
     "execution_count": 45,
     "metadata": {},
     "output_type": "execute_result"
    }
   ],
   "source": [
    "mapped_rdd_1 = order_cust_join.map(lambda x:(x[1][0],x[1][1]))\n",
    "mapped_rdd_1.take(10)"
   ]
  },
  {
   "cell_type": "code",
   "execution_count": 46,
   "id": "c188c65b",
   "metadata": {},
   "outputs": [
    {
     "data": {
      "text/plain": [
       "[(1, 299.98),\n",
       " (2, 199.99),\n",
       " (3, 250.0),\n",
       " (4, 129.99),\n",
       " (5, 49.98),\n",
       " (6, 299.95),\n",
       " (7, 150.0),\n",
       " (8, 199.92),\n",
       " (9, 299.98),\n",
       " (10, 299.95)]"
      ]
     },
     "execution_count": 46,
     "metadata": {},
     "output_type": "execute_result"
    }
   ],
   "source": [
    "order_items_base1 = order_items_rdd.map(lambda x:(int(x.split(\",\")[0]),float(x.split(\",\")[-2])))\n",
    "order_items_base1.take(10)"
   ]
  },
  {
   "cell_type": "code",
   "execution_count": 48,
   "id": "a7cbbc23",
   "metadata": {},
   "outputs": [
    {
     "data": {
      "text/plain": [
       "[(8136, ('NY', 299.98)),\n",
       " (2256, ('MD', 124.95)),\n",
       " (2256, ('NY', 124.95)),\n",
       " (2256, ('NJ', 124.95)),\n",
       " (8220, ('PR', 119.98)),\n",
       " (8220, ('MD', 119.98)),\n",
       " (8220, ('PR', 119.98)),\n",
       " (6174, ('MD', 159.96)),\n",
       " (618, ('FL', 399.98)),\n",
       " (618, ('PR', 399.98))]"
      ]
     },
     "execution_count": 48,
     "metadata": {},
     "output_type": "execute_result"
    }
   ],
   "source": [
    "joined_rdd_2 = mapped_rdd_1.join(order_items_base1)\n",
    "joined_rdd_2.take(10)"
   ]
  },
  {
   "cell_type": "code",
   "execution_count": 50,
   "id": "0f6a0746",
   "metadata": {},
   "outputs": [
    {
     "data": {
      "text/plain": [
       "[('PR', 199.99),\n",
       " ('PR', 399.98),\n",
       " ('CA', 299.98),\n",
       " ('PR', 299.98),\n",
       " ('FL', 299.98),\n",
       " ('PR', 299.98),\n",
       " ('CA', 129.99),\n",
       " ('PR', 129.99),\n",
       " ('CA', 129.99),\n",
       " ('PR', 49.98)]"
      ]
     },
     "execution_count": 50,
     "metadata": {},
     "output_type": "execute_result"
    }
   ],
   "source": [
    "fin_mapped = joined_rdd_2.map(lambda x : (x[1][0],x[1][1]))\n",
    "fin_mapped.take(10)"
   ]
  },
  {
   "cell_type": "code",
   "execution_count": 53,
   "id": "17d9fcd1",
   "metadata": {},
   "outputs": [
    {
     "data": {
      "text/plain": [
       "[('PR', 937988.2600000022),\n",
       " ('CA', 392986.0700000002),\n",
       " ('NY', 156973.85000000003),\n",
       " ('TX', 124398.84999999998),\n",
       " ('IL', 104542.49999999993),\n",
       " ('FL', 71457.25999999995),\n",
       " ('PA', 51268.68999999999),\n",
       " ('OH', 50620.839999999975),\n",
       " ('MI', 49637.96999999999),\n",
       " ('NJ', 42829.529999999984),\n",
       " ('AZ', 41158.62999999998),\n",
       " ('GA', 33905.109999999986),\n",
       " ('NC', 32799.19999999999),\n",
       " ('MD', 31671.08999999999),\n",
       " ('VA', 26247.26),\n",
       " ('CO', 25473.97),\n",
       " ('OR', 23570.35),\n",
       " ('MA', 21894.190000000002),\n",
       " ('TN', 21723.369999999995),\n",
       " ('NV', 21072.19),\n",
       " ('MO', 19135.82),\n",
       " ('HI', 17558.59),\n",
       " ('UT', 14525.44),\n",
       " ('NM', 14247.43),\n",
       " ('WA', 14171.509999999998),\n",
       " ('CT', 13898.109999999999),\n",
       " ('LA', 12721.39),\n",
       " ('WI', 12432.670000000002),\n",
       " ('SC', 8484.970000000001),\n",
       " ('DC', 8074.110000000001),\n",
       " ('MN', 7713.240000000001),\n",
       " ('IN', 6853.18),\n",
       " ('KY', 6690.89),\n",
       " ('KS', 5884.3),\n",
       " ('DE', 4882.4400000000005),\n",
       " ('RI', 3179.5900000000006),\n",
       " ('OK', 3105.6400000000003),\n",
       " ('WV', 2879.6800000000003),\n",
       " ('AR', 2719.69),\n",
       " ('ND', 2426.7200000000003),\n",
       " ('ID', 2159.8100000000004),\n",
       " ('MT', 1467.8700000000001),\n",
       " ('IA', 749.78),\n",
       " ('AL', 419.89)]"
      ]
     },
     "execution_count": 53,
     "metadata": {},
     "output_type": "execute_result"
    }
   ],
   "source": [
    "res = fin_mapped.reduceByKey(lambda x,y:x+y)\n",
    "res_fin = res.sortBy(lambda x:x[1],False)\n",
    "res_fin.collect()"
   ]
  },
  {
   "cell_type": "code",
   "execution_count": null,
   "id": "77996132",
   "metadata": {},
   "outputs": [],
   "source": []
  }
 ],
 "metadata": {
  "kernelspec": {
   "display_name": "Pyspark 3",
   "language": "python",
   "name": "pyspark3"
  },
  "language_info": {
   "codemirror_mode": {
    "name": "ipython",
    "version": 3
   },
   "file_extension": ".py",
   "mimetype": "text/x-python",
   "name": "python",
   "nbconvert_exporter": "python",
   "pygments_lexer": "ipython3",
   "version": "3.6.12"
  }
 },
 "nbformat": 4,
 "nbformat_minor": 5
}
