{
 "cells": [
  {
   "cell_type": "code",
   "execution_count": 1,
   "id": "05425c1e",
   "metadata": {},
   "outputs": [
    {
     "data": {
      "text/html": [
       "\n",
       "            <div>\n",
       "                <p><b>SparkSession - hive</b></p>\n",
       "                \n",
       "        <div>\n",
       "            <p><b>SparkContext</b></p>\n",
       "\n",
       "            <p><a href=\"http://g01.itversity.com:42221\">Spark UI</a></p>\n",
       "\n",
       "            <dl>\n",
       "              <dt>Version</dt>\n",
       "                <dd><code>v3.1.2</code></dd>\n",
       "              <dt>Master</dt>\n",
       "                <dd><code>yarn</code></dd>\n",
       "              <dt>AppName</dt>\n",
       "                <dd><code>pyspark-shell</code></dd>\n",
       "            </dl>\n",
       "        </div>\n",
       "        \n",
       "            </div>\n",
       "        "
      ],
      "text/plain": [
       "<pyspark.sql.session.SparkSession at 0x7f5c33558710>"
      ]
     },
     "execution_count": 1,
     "metadata": {},
     "output_type": "execute_result"
    }
   ],
   "source": [
    "from pyspark.sql import SparkSession\n",
    "\n",
    "import getpass\n",
    "\n",
    "username = getpass.getuser()\n",
    "\n",
    "spark = SparkSession.\\\n",
    "builder. \\\n",
    "config('spark.ui.port','0'). \\\n",
    "config(\"spark.sql.warehouse.dir\", f\"/user/{username}/warehouse\"). \\\n",
    "enableHiveSupport(). \\\n",
    "master('yarn'). \\\n",
    "getOrCreate()\n",
    "\n",
    "spark"
   ]
  },
  {
   "cell_type": "code",
   "execution_count": 2,
   "id": "06e9d96a",
   "metadata": {},
   "outputs": [],
   "source": [
    "orders_rdd=spark.sparkContext.textFile(\"/public/trendytech/retail_db/orders/*\")\n",
    "order_items_rdd=spark.sparkContext.textFile(\"/public/trendytech/retail_db/order_items/*\")"
   ]
  },
  {
   "cell_type": "code",
   "execution_count": 3,
   "id": "11b84364",
   "metadata": {},
   "outputs": [
    {
     "data": {
      "text/plain": [
       "[('1', 299.98), ('2', 199.99), ('3', 250.0), ('4', 129.99), ('5', 49.98)]"
      ]
     },
     "execution_count": 3,
     "metadata": {},
     "output_type": "execute_result"
    }
   ],
   "source": [
    "order_items_total = order_items_rdd.map(lambda x:(x.split(\",\")[0],float(x.split(\",\")[4])))\n",
    "order_items_total.take(5)"
   ]
  },
  {
   "cell_type": "code",
   "execution_count": 4,
   "id": "0731f996",
   "metadata": {},
   "outputs": [
    {
     "data": {
      "text/plain": [
       "[('1', '11599'), ('2', '256'), ('3', '12111'), ('4', '8827'), ('5', '11318')]"
      ]
     },
     "execution_count": 4,
     "metadata": {},
     "output_type": "execute_result"
    }
   ],
   "source": [
    "orders_customer = orders_rdd.map(lambda x:(x.split(\",\")[0],x.split(\",\")[2]))\n",
    "orders_customer.take(5)"
   ]
  },
  {
   "cell_type": "code",
   "execution_count": 5,
   "id": "6fe07037",
   "metadata": {},
   "outputs": [
    {
     "data": {
      "text/plain": [
       "[('34566', ('3066', 199.99)),\n",
       " ('34568', ('1271', 79.98)),\n",
       " ('34569', ('11083', 399.98)),\n",
       " ('34577', ('7733', 129.99)),\n",
       " ('34583', ('1558', 199.99))]"
      ]
     },
     "execution_count": 5,
     "metadata": {},
     "output_type": "execute_result"
    }
   ],
   "source": [
    "orders_joined = orders_customer.join(order_items_total)\n",
    "orders_joined.take(5)"
   ]
  },
  {
   "cell_type": "code",
   "execution_count": 6,
   "id": "df75204e",
   "metadata": {},
   "outputs": [
    {
     "data": {
      "text/plain": [
       "[('3066', 199.99),\n",
       " ('1271', 79.98),\n",
       " ('11083', 399.98),\n",
       " ('7733', 129.99),\n",
       " ('1558', 199.99)]"
      ]
     },
     "execution_count": 6,
     "metadata": {},
     "output_type": "execute_result"
    }
   ],
   "source": [
    "mapped_rdd=orders_joined.map(lambda x:(x[1][0],x[1][1]))\n",
    "mapped_rdd.take(5)"
   ]
  },
  {
   "cell_type": "code",
   "execution_count": 7,
   "id": "873d4253",
   "metadata": {},
   "outputs": [
    {
     "data": {
      "text/plain": [
       "[('9639', 4299.68),\n",
       " ('5897', 4279.610000000001),\n",
       " ('6316', 3679.55),\n",
       " ('9056', 3559.7000000000003),\n",
       " ('5004', 3519.55),\n",
       " ('11689', 3440.75),\n",
       " ('5146', 3434.75),\n",
       " ('898', 3369.75),\n",
       " ('5582', 3359.5200000000004),\n",
       " ('10235', 3289.6200000000003)]"
      ]
     },
     "execution_count": 7,
     "metadata": {},
     "output_type": "execute_result"
    }
   ],
   "source": [
    "reduced_rdd = mapped_rdd.reduceByKey(lambda x,y:x+y ).sortBy(lambda x:x[1],False)\n",
    "reduced_rdd.take(10)\n",
    "# reduced_rdd.sortBy()"
   ]
  },
  {
   "cell_type": "code",
   "execution_count": null,
   "id": "8f6ff607",
   "metadata": {},
   "outputs": [],
   "source": []
  },
  {
   "cell_type": "code",
   "execution_count": null,
   "id": "13fe4ab6",
   "metadata": {},
   "outputs": [],
   "source": []
  },
  {
   "cell_type": "code",
   "execution_count": null,
   "id": "3b1eb47f",
   "metadata": {},
   "outputs": [],
   "source": []
  },
  {
   "cell_type": "code",
   "execution_count": 8,
   "id": "dd49752d",
   "metadata": {},
   "outputs": [],
   "source": [
    "order_items_rdd=spark.sparkContext.textFile(\"/public/trendytech/retail_db/order_items/*\")"
   ]
  },
  {
   "cell_type": "code",
   "execution_count": 9,
   "id": "07f27b7f",
   "metadata": {},
   "outputs": [
    {
     "data": {
      "text/plain": [
       "[(365, 73698),\n",
       " (502, 62956),\n",
       " (1014, 57803),\n",
       " (191, 36680),\n",
       " (627, 31735),\n",
       " (403, 22246),\n",
       " (1004, 17325),\n",
       " (1073, 15500),\n",
       " (957, 13729),\n",
       " (977, 998)]"
      ]
     },
     "execution_count": 9,
     "metadata": {},
     "output_type": "execute_result"
    }
   ],
   "source": [
    "id_quantity = order_items_rdd.map(lambda x:(int(x.split(\",\")[2]),int(x.split(\",\")[3])))\n",
    "reduced_rdd = id_quantity.reduceByKey(lambda x,y : x+y)\n",
    "reduced_rdd.sortBy(lambda x:x[1],False).take(10)"
   ]
  },
  {
   "cell_type": "code",
   "execution_count": null,
   "id": "2d0a5a9f",
   "metadata": {},
   "outputs": [],
   "source": []
  },
  {
   "cell_type": "code",
   "execution_count": null,
   "id": "05bfcf9a",
   "metadata": {},
   "outputs": [],
   "source": []
  },
  {
   "cell_type": "code",
   "execution_count": null,
   "id": "d17ba7d9",
   "metadata": {},
   "outputs": [],
   "source": []
  },
  {
   "cell_type": "code",
   "execution_count": 10,
   "id": "aea02cd1",
   "metadata": {},
   "outputs": [
    {
     "data": {
      "text/plain": [
       "['1,Richard,Hernandez,XXXXXXXXX,XXXXXXXXX,6303 Heather Plaza,Brownsville,TX,78521',\n",
       " '2,Mary,Barrett,XXXXXXXXX,XXXXXXXXX,9526 Noble Embers Ridge,Littleton,CO,80126',\n",
       " '3,Ann,Smith,XXXXXXXXX,XXXXXXXXX,3422 Blue Pioneer Bend,Caguas,PR,00725',\n",
       " '4,Mary,Jones,XXXXXXXXX,XXXXXXXXX,8324 Little Common,San Marcos,CA,92069',\n",
       " '5,Robert,Hudson,XXXXXXXXX,XXXXXXXXX,\"10 Crystal River Mall \",Caguas,PR,00725']"
      ]
     },
     "execution_count": 10,
     "metadata": {},
     "output_type": "execute_result"
    }
   ],
   "source": [
    "customers_rdd=spark.sparkContext.textFile(\"/public/trendytech/retail_db/customers/*\")\n",
    "customers_rdd.take(5)"
   ]
  },
  {
   "cell_type": "code",
   "execution_count": 11,
   "id": "8cb9d4e4",
   "metadata": {},
   "outputs": [
    {
     "data": {
      "text/plain": [
       "['3,Ann,Smith,XXXXXXXXX,XXXXXXXXX,3422 Blue Pioneer Bend,Caguas,PR,00725',\n",
       " '5,Robert,Hudson,XXXXXXXXX,XXXXXXXXX,\"10 Crystal River Mall \",Caguas,PR,00725',\n",
       " '7,Melissa,Wilcox,XXXXXXXXX,XXXXXXXXX,9453 High Concession,Caguas,PR,00725',\n",
       " '9,Mary,Perez,XXXXXXXXX,XXXXXXXXX,3616 Quaking Street,Caguas,PR,00725',\n",
       " '11,Mary,Huffman,XXXXXXXXX,XXXXXXXXX,3169 Stony Woods,Caguas,PR,00725',\n",
       " '13,Mary,Baldwin,XXXXXXXXX,XXXXXXXXX,7922 Iron Oak Gardens,Caguas,PR,00725',\n",
       " '16,Tiffany,Smith,XXXXXXXXX,XXXXXXXXX,6651 Iron Port,Caguas,PR,00725',\n",
       " '19,Stephanie,Mitchell,XXXXXXXXX,XXXXXXXXX,3543 Red Treasure Bay,Caguas,PR,00725',\n",
       " '21,William,Zimmerman,XXXXXXXXX,XXXXXXXXX,\"3323 Old Willow Mall \",Caguas,PR,00725',\n",
       " '24,Mary,Smith,XXXXXXXXX,XXXXXXXXX,9417 Emerald Towers,Caguas,PR,00725']"
      ]
     },
     "execution_count": 11,
     "metadata": {},
     "output_type": "execute_result"
    }
   ],
   "source": [
    "filtered_rdd = customers_rdd.filter(lambda x:x.split(\",\")[-3]==\"Caguas\")\n",
    "filtered_rdd.take(10)"
   ]
  },
  {
   "cell_type": "code",
   "execution_count": 12,
   "id": "c98e83d2",
   "metadata": {},
   "outputs": [
    {
     "data": {
      "text/plain": [
       "4584"
      ]
     },
     "execution_count": 12,
     "metadata": {},
     "output_type": "execute_result"
    }
   ],
   "source": [
    "filtered_rdd_2 = filtered_rdd.map(lambda x:x.split(\",\")[0]).distinct()\n",
    "filtered_rdd_2.count()"
   ]
  },
  {
   "cell_type": "code",
   "execution_count": null,
   "id": "89fb2eaf",
   "metadata": {},
   "outputs": [],
   "source": []
  },
  {
   "cell_type": "code",
   "execution_count": null,
   "id": "2b19d8c3",
   "metadata": {},
   "outputs": [],
   "source": []
  },
  {
   "cell_type": "code",
   "execution_count": null,
   "id": "83a39a90",
   "metadata": {},
   "outputs": [],
   "source": []
  },
  {
   "cell_type": "code",
   "execution_count": null,
   "id": "2bca86f0",
   "metadata": {},
   "outputs": [],
   "source": []
  },
  {
   "cell_type": "code",
   "execution_count": 13,
   "id": "23be010a",
   "metadata": {},
   "outputs": [],
   "source": [
    "customers_rdd=spark.sparkContext.textFile(\"/public/trendytech/retail_db/customers/*\")"
   ]
  },
  {
   "cell_type": "code",
   "execution_count": 14,
   "id": "2b44d022",
   "metadata": {},
   "outputs": [
    {
     "data": {
      "text/plain": [
       "[('PR', 4771), ('CA', 2012), ('NY', 775)]"
      ]
     },
     "execution_count": 14,
     "metadata": {},
     "output_type": "execute_result"
    }
   ],
   "source": [
    "states_rdd = customers_rdd.map(lambda x : (x.split(\",\")[-2],1))\n",
    "state_cnt = states_rdd.reduceByKey(lambda x,y:x+y)\n",
    "state_cnt.sortBy(lambda x:x[1],False).take(3)"
   ]
  },
  {
   "cell_type": "code",
   "execution_count": null,
   "id": "fcc15e55",
   "metadata": {},
   "outputs": [],
   "source": []
  },
  {
   "cell_type": "code",
   "execution_count": null,
   "id": "4241ef32",
   "metadata": {},
   "outputs": [],
   "source": []
  },
  {
   "cell_type": "code",
   "execution_count": null,
   "id": "4c120585",
   "metadata": {},
   "outputs": [],
   "source": []
  },
  {
   "cell_type": "code",
   "execution_count": 15,
   "id": "16ce3e63",
   "metadata": {},
   "outputs": [],
   "source": [
    "orders_rdd=spark.sparkContext.textFile(\"/public/trendytech/retail_db/orders/*\")\n",
    "order_items_rdd=spark.sparkContext.textFile(\"/public/trendytech/retail_db/order_items/*\")"
   ]
  },
  {
   "cell_type": "code",
   "execution_count": 16,
   "id": "d607fb59",
   "metadata": {},
   "outputs": [],
   "source": [
    "order_items_map=order_items_rdd.map(lambda x:((int(x.split(',')[1]),float(x.split(',')[4]))))\n",
    "orders_map=orders_rdd.map(lambda x:(int(x.split(',')[0]),(int(x.split(',')[2]))))"
   ]
  },
  {
   "cell_type": "code",
   "execution_count": 17,
   "id": "4cd2faa1",
   "metadata": {},
   "outputs": [],
   "source": [
    "join_rdd=order_items_map.join(orders_map)"
   ]
  },
  {
   "cell_type": "code",
   "execution_count": 18,
   "id": "cf6362cb",
   "metadata": {},
   "outputs": [
    {
     "data": {
      "text/plain": [
       "[(4, (49.98, 8827)),\n",
       " (4, (299.95, 8827)),\n",
       " (4, (150.0, 8827)),\n",
       " (4, (199.92, 8827)),\n",
       " (8, (179.97, 2911))]"
      ]
     },
     "execution_count": 18,
     "metadata": {},
     "output_type": "execute_result"
    }
   ],
   "source": [
    "join_rdd.take(5)"
   ]
  },
  {
   "cell_type": "code",
   "execution_count": 19,
   "id": "fe097cc9",
   "metadata": {},
   "outputs": [],
   "source": [
    "cust_amount = join_rdd.map(lambda x:(x[1][1],x[1][0]))\n",
    "reduced_cust = cust_amount.reduceByKey(lambda x,y:x+y)\n",
    "filtered_rdd = reduced_cust.filter(lambda x : x[-1]>1000)\n",
    "result = filtered_rdd.map(lambda x:x[0]).distinct().count()"
   ]
  },
  {
   "cell_type": "code",
   "execution_count": 20,
   "id": "f96be7ad",
   "metadata": {},
   "outputs": [
    {
     "data": {
      "text/plain": [
       "11148"
      ]
     },
     "execution_count": 20,
     "metadata": {},
     "output_type": "execute_result"
    }
   ],
   "source": [
    "result"
   ]
  },
  {
   "cell_type": "code",
   "execution_count": null,
   "id": "25ec2201",
   "metadata": {},
   "outputs": [],
   "source": []
  },
  {
   "cell_type": "code",
   "execution_count": null,
   "id": "fac04edb",
   "metadata": {},
   "outputs": [],
   "source": []
  },
  {
   "cell_type": "code",
   "execution_count": null,
   "id": "04d00708",
   "metadata": {},
   "outputs": [],
   "source": []
  },
  {
   "cell_type": "code",
   "execution_count": null,
   "id": "34f7c49f",
   "metadata": {},
   "outputs": [],
   "source": []
  },
  {
   "cell_type": "code",
   "execution_count": 21,
   "id": "f2b9afac",
   "metadata": {},
   "outputs": [],
   "source": [
    "orders_rdd=spark.sparkContext.textFile(\"/public/trendytech/retail_db/orders/*\")\n",
    "customers_rdd=spark.sparkContext.textFile(\"/public/trendytech/retail_db/customers/*\")"
   ]
  },
  {
   "cell_type": "code",
   "execution_count": 22,
   "id": "7ac14a6d",
   "metadata": {},
   "outputs": [
    {
     "data": {
      "text/plain": [
       "['1,2013-07-25 00:00:00.0,11599,CLOSED',\n",
       " '2,2013-07-25 00:00:00.0,256,PENDING_PAYMENT',\n",
       " '3,2013-07-25 00:00:00.0,12111,COMPLETE',\n",
       " '4,2013-07-25 00:00:00.0,8827,CLOSED',\n",
       " '5,2013-07-25 00:00:00.0,11318,COMPLETE']"
      ]
     },
     "execution_count": 22,
     "metadata": {},
     "output_type": "execute_result"
    }
   ],
   "source": [
    "orders_rdd.take(5)"
   ]
  },
  {
   "cell_type": "code",
   "execution_count": 23,
   "id": "8bfaac27",
   "metadata": {},
   "outputs": [
    {
     "data": {
      "text/plain": [
       "['1,Richard,Hernandez,XXXXXXXXX,XXXXXXXXX,6303 Heather Plaza,Brownsville,TX,78521',\n",
       " '2,Mary,Barrett,XXXXXXXXX,XXXXXXXXX,9526 Noble Embers Ridge,Littleton,CO,80126',\n",
       " '3,Ann,Smith,XXXXXXXXX,XXXXXXXXX,3422 Blue Pioneer Bend,Caguas,PR,00725',\n",
       " '4,Mary,Jones,XXXXXXXXX,XXXXXXXXX,8324 Little Common,San Marcos,CA,92069',\n",
       " '5,Robert,Hudson,XXXXXXXXX,XXXXXXXXX,\"10 Crystal River Mall \",Caguas,PR,00725']"
      ]
     },
     "execution_count": 23,
     "metadata": {},
     "output_type": "execute_result"
    }
   ],
   "source": [
    "customers_rdd.take(5)"
   ]
  },
  {
   "cell_type": "code",
   "execution_count": 24,
   "id": "875f31c9",
   "metadata": {},
   "outputs": [
    {
     "data": {
      "text/plain": [
       "[('11599', 'CLOSED'),\n",
       " ('256', 'PENDING_PAYMENT'),\n",
       " ('12111', 'COMPLETE'),\n",
       " ('8827', 'CLOSED'),\n",
       " ('11318', 'COMPLETE')]"
      ]
     },
     "execution_count": 24,
     "metadata": {},
     "output_type": "execute_result"
    }
   ],
   "source": [
    "#pick customerid,status from orders\n",
    "orders_base = orders_rdd.map(lambda x : (x.split(\",\")[2],x.split(\",\")[-1]))\n",
    "orders_base.take(5)"
   ]
  },
  {
   "cell_type": "code",
   "execution_count": 25,
   "id": "1c5d8a61",
   "metadata": {},
   "outputs": [
    {
     "data": {
      "text/plain": [
       "[('1', 'TX'), ('2', 'CO'), ('3', 'PR'), ('4', 'CA'), ('5', 'PR')]"
      ]
     },
     "execution_count": 25,
     "metadata": {},
     "output_type": "execute_result"
    }
   ],
   "source": [
    "#pick customer_id,state from customers_rdd\n",
    "customers_base = customers_rdd.map(lambda x : (x.split(\",\")[0],x.split(\",\")[-2]))\n",
    "customers_base.take(5)"
   ]
  },
  {
   "cell_type": "code",
   "execution_count": 26,
   "id": "eb376fe6",
   "metadata": {},
   "outputs": [
    {
     "data": {
      "text/plain": [
       "[('2248', ('PROCESSING', 'PR')),\n",
       " ('2248', ('ON_HOLD', 'PR')),\n",
       " ('2248', ('CLOSED', 'PR')),\n",
       " ('2248', ('COMPLETE', 'PR')),\n",
       " ('7733', ('CANCELED', 'CA'))]"
      ]
     },
     "execution_count": 26,
     "metadata": {},
     "output_type": "execute_result"
    }
   ],
   "source": [
    "joined_rdd = orders_base.join(customers_base)\n",
    "joined_rdd.take(5)"
   ]
  },
  {
   "cell_type": "code",
   "execution_count": 32,
   "id": "a1db6144",
   "metadata": {},
   "outputs": [
    {
     "data": {
      "text/plain": [
       "[('PR', 2891)]"
      ]
     },
     "execution_count": 32,
     "metadata": {},
     "output_type": "execute_result"
    }
   ],
   "source": [
    "closed_filter = joined_rdd.filter(lambda x : x[1][0]==\"CLOSED\")\n",
    "closed_filter_new = closed_filter.map(lambda x : (x[1][1],1))\n",
    "reduced_state=closed_filter_new.reduceByKey(lambda x,y:x+y)\n",
    "res = reduced_state.sortBy(lambda x : x[1],False)\n",
    "res.take(1)"
   ]
  },
  {
   "cell_type": "code",
   "execution_count": null,
   "id": "626cd342",
   "metadata": {},
   "outputs": [],
   "source": []
  },
  {
   "cell_type": "code",
   "execution_count": null,
   "id": "ea663738",
   "metadata": {},
   "outputs": [],
   "source": []
  },
  {
   "cell_type": "code",
   "execution_count": null,
   "id": "110bf7fe",
   "metadata": {},
   "outputs": [],
   "source": []
  },
  {
   "cell_type": "code",
   "execution_count": 34,
   "id": "520e827c",
   "metadata": {},
   "outputs": [
    {
     "data": {
      "text/plain": [
       "['1,2013-07-25 00:00:00.0,11599,CLOSED',\n",
       " '2,2013-07-25 00:00:00.0,256,PENDING_PAYMENT',\n",
       " '3,2013-07-25 00:00:00.0,12111,COMPLETE',\n",
       " '4,2013-07-25 00:00:00.0,8827,CLOSED',\n",
       " '5,2013-07-25 00:00:00.0,11318,COMPLETE',\n",
       " '6,2013-07-25 00:00:00.0,7130,COMPLETE',\n",
       " '7,2013-07-25 00:00:00.0,4530,COMPLETE',\n",
       " '8,2013-07-25 00:00:00.0,2911,PROCESSING',\n",
       " '9,2013-07-25 00:00:00.0,5657,PENDING_PAYMENT',\n",
       " '10,2013-07-25 00:00:00.0,5648,PENDING_PAYMENT']"
      ]
     },
     "execution_count": 34,
     "metadata": {},
     "output_type": "execute_result"
    }
   ],
   "source": [
    "orders_rdd=spark.sparkContext.textFile(\"/public/trendytech/retail_db/orders/*\")\n",
    "orders_rdd.take(10)"
   ]
  },
  {
   "cell_type": "code",
   "execution_count": 35,
   "id": "88ffa3ee",
   "metadata": {},
   "outputs": [
    {
     "data": {
      "text/plain": [
       "12405"
      ]
     },
     "execution_count": 35,
     "metadata": {},
     "output_type": "execute_result"
    }
   ],
   "source": [
    "orders_rdd.map(lambda x : x.split(\",\")[-2]).distinct().count()"
   ]
  },
  {
   "cell_type": "code",
   "execution_count": null,
   "id": "f866e9a4",
   "metadata": {},
   "outputs": [],
   "source": []
  },
  {
   "cell_type": "code",
   "execution_count": null,
   "id": "1c661b40",
   "metadata": {},
   "outputs": [],
   "source": []
  },
  {
   "cell_type": "code",
   "execution_count": null,
   "id": "af666e87",
   "metadata": {},
   "outputs": [],
   "source": []
  },
  {
   "cell_type": "code",
   "execution_count": 36,
   "id": "64a19059",
   "metadata": {},
   "outputs": [],
   "source": [
    "customers_rdd=spark.sparkContext.textFile(\"/public/trendytech/retail_db/customers/*\")\n",
    "orders_rdd=spark.sparkContext.textFile(\"/public/trendytech/retail_db/orders/*\")\n",
    "order_items_rdd=spark.sparkContext.textFile(\"/public/trendytech/retail_db/order_items/*\")"
   ]
  },
  {
   "cell_type": "code",
   "execution_count": 40,
   "id": "fd27cfcd",
   "metadata": {},
   "outputs": [
    {
     "data": {
      "text/plain": [
       "[(1, 'TX'),\n",
       " (2, 'CO'),\n",
       " (3, 'PR'),\n",
       " (4, 'CA'),\n",
       " (5, 'PR'),\n",
       " (6, 'NJ'),\n",
       " (7, 'PR'),\n",
       " (8, 'MA'),\n",
       " (9, 'PR'),\n",
       " (10, 'VA')]"
      ]
     },
     "execution_count": 40,
     "metadata": {},
     "output_type": "execute_result"
    }
   ],
   "source": [
    "#from orders, pick order_id,customer_id & from customers pick customer_id & state\n",
    "\n",
    "orders_base1 = orders_rdd.map(lambda x : (int(x.split(\",\")[0]),int(x.split(\",\")[2])))\n",
    "customers_base1 = customers_rdd.map(lambda x : (int(x.split(\",\")[0]),x.split(\",\")[-2]))\n",
    "customers_base1.take(10)"
   ]
  },
  {
   "cell_type": "code",
   "execution_count": 42,
   "id": "495bbbc0",
   "metadata": {},
   "outputs": [
    {
     "data": {
      "text/plain": [
       "[(6244, (5638, 'FL')),\n",
       " (6248, (11150, 'CA')),\n",
       " (6252, (9091, 'TX')),\n",
       " (6256, (3713, 'NJ')),\n",
       " (6260, (9628, 'PR')),\n",
       " (6264, (12177, 'IL')),\n",
       " (6268, (5853, 'PR')),\n",
       " (6272, (1666, 'NJ')),\n",
       " (6276, (4831, 'IL')),\n",
       " (6280, (9186, 'PR'))]"
      ]
     },
     "execution_count": 42,
     "metadata": {},
     "output_type": "execute_result"
    }
   ],
   "source": [
    "order_cust_join = orders_base1.join(customers_base1)\n",
    "order_cust_join.take(10)"
   ]
  },
  {
   "cell_type": "code",
   "execution_count": 45,
   "id": "9b4108f7",
   "metadata": {},
   "outputs": [
    {
     "data": {
      "text/plain": [
       "[(5638, 'FL'),\n",
       " (11150, 'CA'),\n",
       " (9091, 'TX'),\n",
       " (3713, 'NJ'),\n",
       " (9628, 'PR'),\n",
       " (12177, 'IL'),\n",
       " (5853, 'PR'),\n",
       " (1666, 'NJ'),\n",
       " (4831, 'IL'),\n",
       " (9186, 'PR')]"
      ]
     },
     "execution_count": 45,
     "metadata": {},
     "output_type": "execute_result"
    }
   ],
   "source": [
    "mapped_rdd_1 = order_cust_join.map(lambda x:(x[1][0],x[1][1]))\n",
    "mapped_rdd_1.take(10)"
   ]
  },
  {
   "cell_type": "code",
   "execution_count": 46,
   "id": "59871157",
   "metadata": {},
   "outputs": [
    {
     "data": {
      "text/plain": [
       "[(1, 299.98),\n",
       " (2, 199.99),\n",
       " (3, 250.0),\n",
       " (4, 129.99),\n",
       " (5, 49.98),\n",
       " (6, 299.95),\n",
       " (7, 150.0),\n",
       " (8, 199.92),\n",
       " (9, 299.98),\n",
       " (10, 299.95)]"
      ]
     },
     "execution_count": 46,
     "metadata": {},
     "output_type": "execute_result"
    }
   ],
   "source": [
    "order_items_base1 = order_items_rdd.map(lambda x:(int(x.split(\",\")[0]),float(x.split(\",\")[-2])))\n",
    "order_items_base1.take(10)"
   ]
  },
  {
   "cell_type": "code",
   "execution_count": 48,
   "id": "e082b5cf",
   "metadata": {},
   "outputs": [
    {
     "data": {
      "text/plain": [
       "[(8136, ('NY', 299.98)),\n",
       " (2256, ('MD', 124.95)),\n",
       " (2256, ('NY', 124.95)),\n",
       " (2256, ('NJ', 124.95)),\n",
       " (8220, ('PR', 119.98)),\n",
       " (8220, ('MD', 119.98)),\n",
       " (8220, ('PR', 119.98)),\n",
       " (6174, ('MD', 159.96)),\n",
       " (618, ('FL', 399.98)),\n",
       " (618, ('PR', 399.98))]"
      ]
     },
     "execution_count": 48,
     "metadata": {},
     "output_type": "execute_result"
    }
   ],
   "source": [
    "joined_rdd_2 = mapped_rdd_1.join(order_items_base1)\n",
    "joined_rdd_2.take(10)"
   ]
  },
  {
   "cell_type": "code",
   "execution_count": 50,
   "id": "23c7bbae",
   "metadata": {},
   "outputs": [
    {
     "data": {
      "text/plain": [
       "[('PR', 199.99),\n",
       " ('PR', 399.98),\n",
       " ('CA', 299.98),\n",
       " ('PR', 299.98),\n",
       " ('FL', 299.98),\n",
       " ('PR', 299.98),\n",
       " ('CA', 129.99),\n",
       " ('PR', 129.99),\n",
       " ('CA', 129.99),\n",
       " ('PR', 49.98)]"
      ]
     },
     "execution_count": 50,
     "metadata": {},
     "output_type": "execute_result"
    }
   ],
   "source": [
    "fin_mapped = joined_rdd_2.map(lambda x : (x[1][0],x[1][1]))\n",
    "fin_mapped.take(10)"
   ]
  },
  {
   "cell_type": "code",
   "execution_count": 53,
   "id": "01e1bdc6",
   "metadata": {},
   "outputs": [
    {
     "data": {
      "text/plain": [
       "[('PR', 937988.2600000022),\n",
       " ('CA', 392986.0700000002),\n",
       " ('NY', 156973.85000000003),\n",
       " ('TX', 124398.84999999998),\n",
       " ('IL', 104542.49999999993),\n",
       " ('FL', 71457.25999999995),\n",
       " ('PA', 51268.68999999999),\n",
       " ('OH', 50620.839999999975),\n",
       " ('MI', 49637.96999999999),\n",
       " ('NJ', 42829.529999999984),\n",
       " ('AZ', 41158.62999999998),\n",
       " ('GA', 33905.109999999986),\n",
       " ('NC', 32799.19999999999),\n",
       " ('MD', 31671.08999999999),\n",
       " ('VA', 26247.26),\n",
       " ('CO', 25473.97),\n",
       " ('OR', 23570.35),\n",
       " ('MA', 21894.190000000002),\n",
       " ('TN', 21723.369999999995),\n",
       " ('NV', 21072.19),\n",
       " ('MO', 19135.82),\n",
       " ('HI', 17558.59),\n",
       " ('UT', 14525.44),\n",
       " ('NM', 14247.43),\n",
       " ('WA', 14171.509999999998),\n",
       " ('CT', 13898.109999999999),\n",
       " ('LA', 12721.39),\n",
       " ('WI', 12432.670000000002),\n",
       " ('SC', 8484.970000000001),\n",
       " ('DC', 8074.110000000001),\n",
       " ('MN', 7713.240000000001),\n",
       " ('IN', 6853.18),\n",
       " ('KY', 6690.89),\n",
       " ('KS', 5884.3),\n",
       " ('DE', 4882.4400000000005),\n",
       " ('RI', 3179.5900000000006),\n",
       " ('OK', 3105.6400000000003),\n",
       " ('WV', 2879.6800000000003),\n",
       " ('AR', 2719.69),\n",
       " ('ND', 2426.7200000000003),\n",
       " ('ID', 2159.8100000000004),\n",
       " ('MT', 1467.8700000000001),\n",
       " ('IA', 749.78),\n",
       " ('AL', 419.89)]"
      ]
     },
     "execution_count": 53,
     "metadata": {},
     "output_type": "execute_result"
    }
   ],
   "source": [
    "res = fin_mapped.reduceByKey(lambda x,y:x+y)\n",
    "res_fin = res.sortBy(lambda x:x[1],False)\n",
    "res_fin.collect()"
   ]
  },
  {
   "cell_type": "code",
   "execution_count": null,
   "id": "e7ee15f3",
   "metadata": {},
   "outputs": [],
   "source": []
  },
  {
   "cell_type": "code",
   "execution_count": 37,
   "id": "73255e61",
   "metadata": {},
   "outputs": [
    {
     "data": {
      "text/html": [
       "\n",
       "            <div>\n",
       "                <p><b>SparkSession - hive</b></p>\n",
       "                \n",
       "        <div>\n",
       "            <p><b>SparkContext</b></p>\n",
       "\n",
       "            <p><a href=\"http://g01.itversity.com:41301\">Spark UI</a></p>\n",
       "\n",
       "            <dl>\n",
       "              <dt>Version</dt>\n",
       "                <dd><code>v3.1.2</code></dd>\n",
       "              <dt>Master</dt>\n",
       "                <dd><code>yarn</code></dd>\n",
       "              <dt>AppName</dt>\n",
       "                <dd><code>pyspark-shell</code></dd>\n",
       "            </dl>\n",
       "        </div>\n",
       "        \n",
       "            </div>\n",
       "        "
      ],
      "text/plain": [
       "<pyspark.sql.session.SparkSession at 0x7f20f8f58710>"
      ]
     },
     "execution_count": 37,
     "metadata": {},
     "output_type": "execute_result"
    }
   ],
   "source": [
    "spark"
   ]
  },
  {
   "cell_type": "code",
   "execution_count": null,
   "id": "377ec248",
   "metadata": {},
   "outputs": [],
   "source": []
  },
  {
   "cell_type": "markdown",
   "id": "c1544e0b",
   "metadata": {},
   "source": [
    "## Find the top 10 states with the highest no.of positive cases"
   ]
  },
  {
   "cell_type": "code",
   "execution_count": 2,
   "id": "080bfb40",
   "metadata": {},
   "outputs": [
    {
     "data": {
      "text/plain": [
       "['20200122,AP,2,0,48,26,15,18,2,38,10,34,B,18,19/05/2022,23,24,29,34,19,45,5,44,42,49,53,0,0,2,2,0,2,0,0,8f8db794931706272489cddd51e917a4a69c8c9b,0,0,0,0,0',\n",
       " '20200123,AP,2,0,48,41,2,20,30,40,5,50,B,1,08/11/2022,14,7,33,36,14,18,36,37,45,8,53,0,0,2,2,0,2,0,0,e16af2a6a8f060355ff5ba499a28309a262c0b1e,0,0,0,0,0',\n",
       " '20200124,HP,2,0,16,14,5,29,43,22,11,11,D,31,17/05/2022,10,37,11,25,45,25,2,32,30,41,53,0,0,2,2,0,2,0,0,094154f68e74bfc30b977cdee888f9c07be4360e,0,0,0,0,0',\n",
       " '20200125,HP,2,0,10,13,41,50,26,19,34,8,D,40,07/10/2022,32,5,33,9,50,31,18,38,7,16,53,0,0,2,2,0,2,0,0,9b52ca94dd2a996822542ea5f17a7363e7ad91cf,0,0,0,0,0',\n",
       " '20200126,AS,2,0,15,43,23,45,20,46,15,30,D,31,28/12/2022,22,14,1,29,2,24,15,12,9,10,53,0,0,2,2,0,2,0,0,7acb526e14f20a29cc74a0b32a37328bc6eac6c2,0,0,0,0,0']"
      ]
     },
     "execution_count": 2,
     "metadata": {},
     "output_type": "execute_result"
    }
   ],
   "source": [
    "cases_rdd = spark.sparkContext.textFile(\"/public/trendytech/covid19/cases/*\")\n",
    "cases_rdd.take(5)"
   ]
  },
  {
   "cell_type": "code",
   "execution_count": 5,
   "id": "36184433",
   "metadata": {},
   "outputs": [
    {
     "data": {
      "text/plain": [
       "[('AP', 2),\n",
       " ('AP', 2),\n",
       " ('HP', 2),\n",
       " ('HP', 2),\n",
       " ('AS', 2),\n",
       " ('HR', 2),\n",
       " ('KA', 2),\n",
       " ('KA', 3),\n",
       " ('WA', 3),\n",
       " ('WA', 3)]"
      ]
     },
     "execution_count": 5,
     "metadata": {},
     "output_type": "execute_result"
    }
   ],
   "source": [
    "#secluding state & positive cases\n",
    "rdd1 = cases_rdd.map(lambda x:(x.split(\",\")[1],int(x.split(\",\")[2])))\n",
    "rdd1.take(10)"
   ]
  },
  {
   "cell_type": "code",
   "execution_count": 6,
   "id": "f7c6f613",
   "metadata": {},
   "outputs": [
    {
     "data": {
      "text/plain": [
       "[('WA', 1701),\n",
       " ('GA', 1017),\n",
       " ('MH', 730),\n",
       " ('MI', 61),\n",
       " ('CA', 53),\n",
       " ('GJ', 35),\n",
       " ('BR', 23),\n",
       " ('JH', 13),\n",
       " ('CG', 8),\n",
       " ('RI', 6)]"
      ]
     },
     "execution_count": 6,
     "metadata": {},
     "output_type": "execute_result"
    }
   ],
   "source": [
    "rdd2 = rdd1.reduceByKey(lambda x,y:x+y).sortBy(lambda x:x[1],False)\n",
    "rdd2.take(10)"
   ]
  },
  {
   "cell_type": "code",
   "execution_count": null,
   "id": "98a26787",
   "metadata": {},
   "outputs": [],
   "source": []
  },
  {
   "cell_type": "code",
   "execution_count": null,
   "id": "64684acf",
   "metadata": {},
   "outputs": [],
   "source": []
  },
  {
   "cell_type": "markdown",
   "id": "1e600cf1",
   "metadata": {},
   "source": [
    "## Find the total count of people in ICU currently"
   ]
  },
  {
   "cell_type": "code",
   "execution_count": 7,
   "id": "9e85293e",
   "metadata": {},
   "outputs": [
    {
     "data": {
      "text/plain": [
       "[18, 20, 29, 50, 45, 46, 33, 44, 23, 41]"
      ]
     },
     "execution_count": 7,
     "metadata": {},
     "output_type": "execute_result"
    }
   ],
   "source": [
    "icu = cases_rdd.map(lambda x: int(x.split(\",\")[7]))\n",
    "icu.take(10)"
   ]
  },
  {
   "cell_type": "code",
   "execution_count": 8,
   "id": "6f21c7fc",
   "metadata": {},
   "outputs": [
    {
     "data": {
      "text/plain": [
       "1344"
      ]
     },
     "execution_count": 8,
     "metadata": {},
     "output_type": "execute_result"
    }
   ],
   "source": [
    "icu.reduce(lambda x,y:x+y)"
   ]
  },
  {
   "cell_type": "code",
   "execution_count": null,
   "id": "ec427bde",
   "metadata": {},
   "outputs": [],
   "source": []
  },
  {
   "cell_type": "code",
   "execution_count": null,
   "id": "80b53c79",
   "metadata": {},
   "outputs": [],
   "source": []
  },
  {
   "cell_type": "markdown",
   "id": "1122399a",
   "metadata": {},
   "source": [
    "## Find the top 15 States having maximum no.of recovery"
   ]
  },
  {
   "cell_type": "code",
   "execution_count": 12,
   "id": "a1aa9677",
   "metadata": {},
   "outputs": [
    {
     "data": {
      "text/plain": [
       "[('WA', 451),\n",
       " ('MH', 165),\n",
       " ('MI', 101),\n",
       " ('GA', 87),\n",
       " ('AP', 84),\n",
       " ('RI', 72),\n",
       " ('BR', 68),\n",
       " ('JH', 50),\n",
       " ('KA', 43),\n",
       " ('AZ', 38),\n",
       " ('AS', 30),\n",
       " ('GJ', 27),\n",
       " ('CA', 23),\n",
       " ('HR', 20),\n",
       " ('HP', 19)]"
      ]
     },
     "execution_count": 12,
     "metadata": {},
     "output_type": "execute_result"
    }
   ],
   "source": [
    "recovered = cases_rdd.map(lambda x: (x.split(\",\")[1],int(x.split(\",\")[11])))\n",
    "total_recovered_per_state = recovered.reduceByKey(lambda x,y:x+y).sortBy(lambda x:x[1],False)\n",
    "total_recovered_per_state.take(15)"
   ]
  },
  {
   "cell_type": "code",
   "execution_count": null,
   "id": "dc4b6f90",
   "metadata": {},
   "outputs": [],
   "source": []
  },
  {
   "cell_type": "code",
   "execution_count": null,
   "id": "6fc18cb5",
   "metadata": {},
   "outputs": [],
   "source": []
  },
  {
   "cell_type": "markdown",
   "id": "63dcda15",
   "metadata": {},
   "source": [
    "## Find the top 3 States having least no.of deaths"
   ]
  },
  {
   "cell_type": "code",
   "execution_count": 14,
   "id": "6b982c2f",
   "metadata": {},
   "outputs": [
    {
     "data": {
      "text/plain": [
       "[('AS', 9), ('JH', 10), ('CG', 31)]"
      ]
     },
     "execution_count": 14,
     "metadata": {},
     "output_type": "execute_result"
    }
   ],
   "source": [
    "death_confirmed = cases_rdd.map(lambda x: (x.split(\",\")[1],int(x.split(\",\")[23])))\n",
    "total_deaths_per_state = death_confirmed.reduceByKey(lambda x,y:x+y).sortBy(lambda x:x[1])\n",
    "total_deaths_per_state.take(3)"
   ]
  },
  {
   "cell_type": "code",
   "execution_count": null,
   "id": "3f1a0f12",
   "metadata": {},
   "outputs": [],
   "source": []
  },
  {
   "cell_type": "code",
   "execution_count": null,
   "id": "f6bd4056",
   "metadata": {},
   "outputs": [],
   "source": []
  },
  {
   "cell_type": "markdown",
   "id": "98fa151f",
   "metadata": {},
   "source": [
    "## total no. of people hospitalized currently"
   ]
  },
  {
   "cell_type": "code",
   "execution_count": 16,
   "id": "2f4ff235",
   "metadata": {},
   "outputs": [
    {
     "data": {
      "text/plain": [
       "1319"
      ]
     },
     "execution_count": 16,
     "metadata": {},
     "output_type": "execute_result"
    }
   ],
   "source": [
    "in_hspt = cases_rdd.map(lambda x: int(x.split(\",\")[5]))\n",
    "in_hspt.reduce(lambda x,y:x+y)"
   ]
  },
  {
   "cell_type": "code",
   "execution_count": null,
   "id": "c3ec37c2",
   "metadata": {},
   "outputs": [],
   "source": []
  },
  {
   "cell_type": "code",
   "execution_count": null,
   "id": "f4ed5576",
   "metadata": {},
   "outputs": [],
   "source": []
  },
  {
   "cell_type": "code",
   "execution_count": 6,
   "id": "07af48a8",
   "metadata": {},
   "outputs": [],
   "source": [
    "positive_cases = cases_rdd.map(lambda x: (x.split(\",\")[1],int(x.split(\",\")[2])))\n",
    "positive_cases_per_state = positive_cases.reduceByKey(lambda x,y:x+y)"
   ]
  },
  {
   "cell_type": "code",
   "execution_count": 3,
   "id": "c3d7ef89",
   "metadata": {},
   "outputs": [
    {
     "data": {
      "text/plain": [
       "['HP,null,https://covid19.hp.gov.in/ ,https://covid-19archive.org/,https://www.azdhs.gov,@HPCovid,https://arcg.is/0brSGj,null,53,,',\n",
       " 'AS,null,https://covid19.hp.gov.in/ ,https://covid-19archive.org/,https://www.azdhs.gov,@ASCovid,null,null,6,null,null',\n",
       " 'HR,null,https://covid19.hp.gov.in/ ,https://covid-19archive.org/,https://www.azdhs.gov,@HRCovid,null,null,9,null,null',\n",
       " 'KA,null,https://covid19.hp.gov.in/ ,https://covid-19archive.org/,https://www.azdhs.gov,@KACovid,null,null,53,null,null',\n",
       " 'WA,null,https://covid19.hp.gov.in/ ,https://covid-19archive.org/,https://www.azdhs.gov,@WACovid,null,null,44,null,null',\n",
       " 'CG,null,https://covid19.hp.gov.in/ ,https://covid-19archive.org/,https://www.azdhs.gov,@CGCovid,null,null,53,null,null',\n",
       " 'BR,null,https://covid19.hp.gov.in/ ,https://covid-19archive.org/,https://www.azdhs.gov,@BRCovid,null,null,53,null,null',\n",
       " 'JH,null,https://covid19.hp.gov.in/ ,https://covid-19archive.org/,null,@JHCovid,null,null,53,null,null',\n",
       " 'GJ,null,https://covid19.hp.gov.in/ ,https://covid-19archive.org/,null,@GJCovid,null,null,44,null,null',\n",
       " 'MH,null,https://covid19.hp.gov.in/ ,https://covid-19archive.org/,null,@MHCovid,null,null,26,null,null']"
      ]
     },
     "execution_count": 3,
     "metadata": {},
     "output_type": "execute_result"
    }
   ],
   "source": [
    "states = spark.sparkContext.textFile(\"/public/trendytech/covid19/states/*\")\n",
    "states.take(10)"
   ]
  },
  {
   "cell_type": "code",
   "execution_count": 4,
   "id": "70253a49",
   "metadata": {},
   "outputs": [
    {
     "data": {
      "text/plain": [
       "[('HP', ('@HPCovid', 53)),\n",
       " ('AS', ('@ASCovid', 6)),\n",
       " ('HR', ('@HRCovid', 9)),\n",
       " ('KA', ('@KACovid', 53)),\n",
       " ('WA', ('@WACovid', 44))]"
      ]
     },
     "execution_count": 4,
     "metadata": {},
     "output_type": "execute_result"
    }
   ],
   "source": [
    "twitter_fips = states.map(lambda x:(x.split(\",\")[0],(x.split(\",\")[5],int(x.split(\",\")[8]))))\n",
    "twitter_fips.take(5)"
   ]
  },
  {
   "cell_type": "code",
   "execution_count": 7,
   "id": "7ec38ff5",
   "metadata": {},
   "outputs": [
    {
     "data": {
      "text/plain": [
       "[('GJ', (35, ('@GJCovid', 44))),\n",
       " ('MH', (730, ('@MHCovid', 26))),\n",
       " ('AS', (2, ('@ASCovid', 6))),\n",
       " ('AZ', (2, ('@AZCovid', 53))),\n",
       " ('HR', (2, ('@HRCovid', 9)))]"
      ]
     },
     "execution_count": 7,
     "metadata": {},
     "output_type": "execute_result"
    }
   ],
   "source": [
    "joined_rdd = positive_cases_per_state.join(twitter_fips)\n",
    "joined_rdd.take(5)"
   ]
  },
  {
   "cell_type": "code",
   "execution_count": 8,
   "id": "2aacc278",
   "metadata": {},
   "outputs": [
    {
     "data": {
      "text/plain": [
       "[('WA', (1701, ('@WACovid', 44))),\n",
       " ('GA', (1017, ('@GACovid', 44))),\n",
       " ('MH', (730, ('@MHCovid', 26))),\n",
       " ('MI', (61, ('@MICovid', 53))),\n",
       " ('CA', (53, ('@CACovid', 4))),\n",
       " ('GJ', (35, ('@GJCovid', 44))),\n",
       " ('BR', (23, ('@BRCovid', 53))),\n",
       " ('JH', (13, ('@JHCovid', 53))),\n",
       " ('CG', (8, ('@CGCovid', 53))),\n",
       " ('RI', (6, ('@RICovid', 26))),\n",
       " ('KA', (5, ('@KACovid', 53))),\n",
       " ('HP', (4, ('@HPCovid', 53))),\n",
       " ('AS', (2, ('@ASCovid', 6))),\n",
       " ('HR', (2, ('@HRCovid', 9))),\n",
       " ('AZ', (2, ('@AZCovid', 53)))]"
      ]
     },
     "execution_count": 8,
     "metadata": {},
     "output_type": "execute_result"
    }
   ],
   "source": [
    "final_rdd=joined_rdd.sortBy(lambda x:x[1][0],ascending=False)\n",
    "final_rdd.take(15)"
   ]
  },
  {
   "cell_type": "code",
   "execution_count": null,
   "id": "d8e43309",
   "metadata": {},
   "outputs": [],
   "source": []
  },
  {
   "cell_type": "code",
   "execution_count": null,
   "id": "8c7ba3c7",
   "metadata": {},
   "outputs": [],
   "source": []
  },
  {
   "cell_type": "code",
   "execution_count": null,
   "id": "f27b39de",
   "metadata": {},
   "outputs": [],
   "source": []
  },
  {
   "cell_type": "code",
   "execution_count": null,
   "id": "ded5a3e6",
   "metadata": {},
   "outputs": [],
   "source": []
  },
  {
   "cell_type": "code",
   "execution_count": 17,
   "id": "2bf69d6b",
   "metadata": {},
   "outputs": [
    {
     "data": {
      "text/plain": [
       "['I got to know about this course by recommendation from one of my senior and i would say that the course has Excellent lectures(content) that explored my mind.',\n",
       " 'The Sumit is very much passionate about teaching Big Data and his style of teaching is very unique and engaging the flow of course content.',\n",
       " 'Any One can learn from the scratch and do wonders if he follows the course regularly with discipline .I highly recommend this course to everyone who is looking to learn and grow in big data domain.',\n",
       " \"I was working in a SQL support project and wanted to switch my career to a big data domain. I got to know this course from a friend who took it and benifitted immensely in his career. I  highly recommend the Big Data course at Trendytech as the curriculum is well designed as per current industry demands and includes all the needed topics. Sumit Sir's way of explaining the topics is the best part of this course, he has  deep knowledge of the subject which makes the program worthwhile.\",\n",
       " 'Excellent support from the trendy tech team and live sessions keeps you relevant and achieve your goals.']"
      ]
     },
     "execution_count": 17,
     "metadata": {},
     "output_type": "execute_result"
    }
   ],
   "source": [
    "reviews_raw = spark.sparkContext.textFile(\"/public/trendytech/reviews/trendytech-student-reviews.csv\")\n",
    "reviews_raw.take(5)"
   ]
  },
  {
   "cell_type": "code",
   "execution_count": 21,
   "id": "b6e41440",
   "metadata": {},
   "outputs": [
    {
     "data": {
      "text/plain": [
       "[('was', 61),\n",
       " ('learning', 31),\n",
       " ('journey', 6),\n",
       " ('sumit', 109),\n",
       " ('i', 215),\n",
       " ('new', 5),\n",
       " ('technology', 3),\n",
       " ('them', 1),\n",
       " ('career', 28),\n",
       " ('of', 182)]"
      ]
     },
     "execution_count": 21,
     "metadata": {},
     "output_type": "execute_result"
    }
   ],
   "source": [
    "rdd2=reviews_raw.flatMap(lambda x:x.split(\" \")).map(lambda x:x.lower())\n",
    "rdd3=rdd2.map(lambda x:(x,1)).reduceByKey(lambda x,y:x+y)\n",
    "rdd3.take(10)\n",
    "                                                   "
   ]
  },
  {
   "cell_type": "code",
   "execution_count": 23,
   "id": "d76da3ae",
   "metadata": {},
   "outputs": [
    {
     "data": {
      "text/plain": [
       "['shouldnt',\n",
       " 'worrying',\n",
       " 'simplify',\n",
       " 'tidy',\n",
       " 'shouldnt',\n",
       " 'yep',\n",
       " 'the',\n",
       " 'lively',\n",
       " 'borrow',\n",
       " 'whichever']"
      ]
     },
     "execution_count": 23,
     "metadata": {},
     "output_type": "execute_result"
    }
   ],
   "source": [
    "boring_words=spark.sparkContext.textFile(\"/user/itv009490/TT/boringwords.txt\")\n",
    "boring_words.take(10)"
   ]
  },
  {
   "cell_type": "code",
   "execution_count": 24,
   "id": "9e231e45",
   "metadata": {},
   "outputs": [],
   "source": [
    "broadcast_bw=spark.sparkContext.broadcast(boring_words.collect())"
   ]
  },
  {
   "cell_type": "code",
   "execution_count": 27,
   "id": "8f44ed4f",
   "metadata": {},
   "outputs": [
    {
     "data": {
      "text/plain": [
       "[('lectures(content)', 1),\n",
       " ('explored', 1),\n",
       " ('sumit', 109),\n",
       " ('passionate', 6),\n",
       " ('wonders', 1)]"
      ]
     },
     "execution_count": 27,
     "metadata": {},
     "output_type": "execute_result"
    }
   ],
   "source": [
    "rdd4 = rdd3.filter(lambda x:x[0] not in broadcast_bw.value )\n",
    "rdd4.take(5)"
   ]
  },
  {
   "cell_type": "code",
   "execution_count": 29,
   "id": "584db9f6",
   "metadata": {},
   "outputs": [
    {
     "data": {
      "text/plain": [
       "[('data', 201),\n",
       " ('sumit', 109),\n",
       " ('trendytech', 67),\n",
       " ('', 64),\n",
       " ('data.', 34),\n",
       " ('course.', 33),\n",
       " (\"sir's\", 23),\n",
       " ('trendy', 14),\n",
       " ('course,', 13),\n",
       " (\"master's\", 13),\n",
       " ('domain.', 12),\n",
       " (\"trendytech's\", 12),\n",
       " ('sir.', 11),\n",
       " ('program.', 9),\n",
       " ('concepts.', 9),\n",
       " ('field.', 9),\n",
       " ('hands-on', 8),\n",
       " ('fresher', 8),\n",
       " ('amazing.', 8),\n",
       " ('career.', 7)]"
      ]
     },
     "execution_count": 29,
     "metadata": {},
     "output_type": "execute_result"
    }
   ],
   "source": [
    "rdd5=rdd4.reduceByKey(lambda x,y:x+y).sortBy(lambda x:x[1],ascending=False)\n",
    "rdd5.take(20)"
   ]
  },
  {
   "cell_type": "code",
   "execution_count": null,
   "id": "d94952b1",
   "metadata": {},
   "outputs": [],
   "source": []
  }
 ],
 "metadata": {
  "kernelspec": {
   "display_name": "Pyspark 3",
   "language": "python",
   "name": "pyspark3"
  },
  "language_info": {
   "codemirror_mode": {
    "name": "ipython",
    "version": 3
   },
   "file_extension": ".py",
   "mimetype": "text/x-python",
   "name": "python",
   "nbconvert_exporter": "python",
   "pygments_lexer": "ipython3",
   "version": "3.6.12"
  }
 },
 "nbformat": 4,
 "nbformat_minor": 5
}
