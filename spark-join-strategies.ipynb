{
 "cells": [
  {
   "cell_type": "code",
   "execution_count": 1,
   "id": "0f4dbff4",
   "metadata": {},
   "outputs": [
    {
     "data": {
      "text/html": [
       "\n",
       "            <div>\n",
       "                <p><b>SparkSession - hive</b></p>\n",
       "                \n",
       "        <div>\n",
       "            <p><b>SparkContext</b></p>\n",
       "\n",
       "            <p><a href=\"http://g01.itversity.com:4040\">Spark UI</a></p>\n",
       "\n",
       "            <dl>\n",
       "              <dt>Version</dt>\n",
       "                <dd><code>v3.1.2</code></dd>\n",
       "              <dt>Master</dt>\n",
       "                <dd><code>yarn</code></dd>\n",
       "              <dt>AppName</dt>\n",
       "                <dd><code>spark join strategies</code></dd>\n",
       "            </dl>\n",
       "        </div>\n",
       "        \n",
       "            </div>\n",
       "        "
      ],
      "text/plain": [
       "<pyspark.sql.session.SparkSession at 0x7fc6d12fe198>"
      ]
     },
     "execution_count": 1,
     "metadata": {},
     "output_type": "execute_result"
    }
   ],
   "source": [
    "from pyspark.sql import SparkSession\n",
    "from pyspark.sql.functions import *\n",
    "from pyspark.sql import * #for window\n",
    "\n",
    "spark = SparkSession\\\n",
    ".builder\\\n",
    ".master(\"yarn\")\\\n",
    ".appName(\"spark join strategies\")\\\n",
    ".enableHiveSupport()\\\n",
    ".config(\"spark.shuffle.useOldFetchProtocol\",'true')\\\n",
    ".config(\"spark.sql.warehouse.dir\",\"/user/itv009490/warehouse\")\\\n",
    ".getOrCreate()\n",
    "\n",
    "spark"
   ]
  },
  {
   "cell_type": "code",
   "execution_count": 3,
   "id": "9bc00311",
   "metadata": {},
   "outputs": [],
   "source": [
    "order_schema = 'order_id  long, order_date string, customer_id long, order_status string '\n",
    "orders_df = spark.read.format(\"csv\").\\\n",
    "schema(order_schema).\\\n",
    "load(\"/public/trendytech/orders/orders_1gb.csv\")"
   ]
  },
  {
   "cell_type": "code",
   "execution_count": 4,
   "id": "5943c1e7",
   "metadata": {},
   "outputs": [],
   "source": [
    "customers_schema = \"\"\"customerid long, customer_fname string, customer_lname string, username string, password string,\n",
    "address string, city string, state string, pincode long\"\"\"\n",
    "customers_df = spark.read.format(\"csv\").schema(customers_schema).load(\"/public/trendytech/retail_db/customers\")"
   ]
  },
  {
   "cell_type": "code",
   "execution_count": 5,
   "id": "54f8db3d",
   "metadata": {},
   "outputs": [
    {
     "data": {
      "text/plain": [
       "'10485760b'"
      ]
     },
     "execution_count": 5,
     "metadata": {},
     "output_type": "execute_result"
    }
   ],
   "source": [
    "spark.conf.get('spark.sql.autoBroadcastJoinThreshold')"
   ]
  },
  {
   "cell_type": "markdown",
   "id": "27bc224b",
   "metadata": {},
   "source": [
    "### Broadcast Hash Join"
   ]
  },
  {
   "cell_type": "code",
   "execution_count": 6,
   "id": "fc92b6c5",
   "metadata": {},
   "outputs": [],
   "source": [
    "orders_df.join(customers_df,orders_df.customer_id==customers_df.customerid,\"inner\").write.format(\"noop\").mode(\"overwrite\").save()"
   ]
  },
  {
   "cell_type": "code",
   "execution_count": null,
   "id": "4d862dcf",
   "metadata": {},
   "outputs": [],
   "source": []
  },
  {
   "cell_type": "code",
   "execution_count": null,
   "id": "136540c3",
   "metadata": {},
   "outputs": [],
   "source": []
  },
  {
   "cell_type": "markdown",
   "id": "3fdb61c9",
   "metadata": {},
   "source": [
    "### Sort Merge Join"
   ]
  },
  {
   "cell_type": "code",
   "execution_count": 7,
   "id": "ea254078",
   "metadata": {},
   "outputs": [],
   "source": [
    "spark.conf.set('spark.sql.autoBroadcastJoinThreshold','-1')"
   ]
  },
  {
   "cell_type": "code",
   "execution_count": 8,
   "id": "d2a3472b",
   "metadata": {},
   "outputs": [
    {
     "data": {
      "text/plain": [
       "'-1'"
      ]
     },
     "execution_count": 8,
     "metadata": {},
     "output_type": "execute_result"
    }
   ],
   "source": [
    "spark.conf.get('spark.sql.autoBroadcastJoinThreshold')"
   ]
  },
  {
   "cell_type": "code",
   "execution_count": 9,
   "id": "91e53220",
   "metadata": {},
   "outputs": [],
   "source": [
    "orders_df.join(customers_df,orders_df.customer_id==customers_df.customerid,\"inner\").write.format(\"noop\").mode(\"overwrite\").save()"
   ]
  },
  {
   "cell_type": "code",
   "execution_count": 10,
   "id": "779c44d7",
   "metadata": {},
   "outputs": [
    {
     "name": "stdout",
     "output_type": "stream",
     "text": [
      "== Physical Plan ==\n",
      "*(5) SortMergeJoin [customer_id#10L], [customerid#16L], Inner\n",
      ":- *(2) Sort [customer_id#10L ASC NULLS FIRST], false, 0\n",
      ":  +- Exchange hashpartitioning(customer_id#10L, 200), ENSURE_REQUIREMENTS, [id=#118]\n",
      ":     +- *(1) Filter isnotnull(customer_id#10L)\n",
      ":        +- FileScan csv [order_id#8L,order_date#9,customer_id#10L,order_status#11] Batched: false, DataFilters: [isnotnull(customer_id#10L)], Format: CSV, Location: InMemoryFileIndex[hdfs://m01.itversity.com:9000/public/trendytech/orders/orders_1gb.csv], PartitionFilters: [], PushedFilters: [IsNotNull(customer_id)], ReadSchema: struct<order_id:bigint,order_date:string,customer_id:bigint,order_status:string>\n",
      "+- *(4) Sort [customerid#16L ASC NULLS FIRST], false, 0\n",
      "   +- Exchange hashpartitioning(customerid#16L, 200), ENSURE_REQUIREMENTS, [id=#126]\n",
      "      +- *(3) Filter isnotnull(customerid#16L)\n",
      "         +- FileScan csv [customerid#16L,customer_fname#17,customer_lname#18,username#19,password#20,address#21,city#22,state#23,pincode#24L] Batched: false, DataFilters: [isnotnull(customerid#16L)], Format: CSV, Location: InMemoryFileIndex[hdfs://m01.itversity.com:9000/public/trendytech/retail_db/customers], PartitionFilters: [], PushedFilters: [IsNotNull(customerid)], ReadSchema: struct<customerid:bigint,customer_fname:string,customer_lname:string,username:string,password:str...\n",
      "\n",
      "\n"
     ]
    }
   ],
   "source": [
    "orders_df.join(customers_df,orders_df.customer_id==customers_df.customerid,\"inner\").explain()"
   ]
  },
  {
   "cell_type": "code",
   "execution_count": 11,
   "id": "c338cbc8",
   "metadata": {},
   "outputs": [
    {
     "name": "stdout",
     "output_type": "stream",
     "text": [
      "== Physical Plan ==\n",
      "*(3) ShuffledHashJoin [customer_id#10L], [customerid#16L], Inner, BuildRight\n",
      ":- Exchange hashpartitioning(customer_id#10L, 200), ENSURE_REQUIREMENTS, [id=#160]\n",
      ":  +- *(1) Filter isnotnull(customer_id#10L)\n",
      ":     +- FileScan csv [order_id#8L,order_date#9,customer_id#10L,order_status#11] Batched: false, DataFilters: [isnotnull(customer_id#10L)], Format: CSV, Location: InMemoryFileIndex[hdfs://m01.itversity.com:9000/public/trendytech/orders/orders_1gb.csv], PartitionFilters: [], PushedFilters: [IsNotNull(customer_id)], ReadSchema: struct<order_id:bigint,order_date:string,customer_id:bigint,order_status:string>\n",
      "+- Exchange hashpartitioning(customerid#16L, 200), ENSURE_REQUIREMENTS, [id=#165]\n",
      "   +- *(2) Filter isnotnull(customerid#16L)\n",
      "      +- FileScan csv [customerid#16L,customer_fname#17,customer_lname#18,username#19,password#20,address#21,city#22,state#23,pincode#24L] Batched: false, DataFilters: [isnotnull(customerid#16L)], Format: CSV, Location: InMemoryFileIndex[hdfs://m01.itversity.com:9000/public/trendytech/retail_db/customers], PartitionFilters: [], PushedFilters: [IsNotNull(customerid)], ReadSchema: struct<customerid:bigint,customer_fname:string,customer_lname:string,username:string,password:str...\n",
      "\n",
      "\n"
     ]
    }
   ],
   "source": [
    "orders_df.join(customers_df.hint(\"shuffle_hash\"),orders_df.customer_id==customers_df.customerid,\"inner\").explain()"
   ]
  },
  {
   "cell_type": "code",
   "execution_count": 12,
   "id": "d5eafe5f",
   "metadata": {},
   "outputs": [],
   "source": [
    "orders_df.join(customers_df.hint(\"shuffle_hash\"),orders_df.customer_id==customers_df.customerid,\"inner\").write.format(\"noop\").mode(\"overwrite\").save()"
   ]
  },
  {
   "cell_type": "code",
   "execution_count": 13,
   "id": "e25cf12f",
   "metadata": {},
   "outputs": [],
   "source": [
    "orders_df.join(customers_df.hint(\"shuffle_merge\"),orders_df.customer_id==customers_df.customerid,\"inner\").write.format(\"noop\").mode(\"overwrite\").save()"
   ]
  },
  {
   "cell_type": "code",
   "execution_count": null,
   "id": "bea00c8e",
   "metadata": {},
   "outputs": [],
   "source": []
  }
 ],
 "metadata": {
  "kernelspec": {
   "display_name": "Pyspark 3",
   "language": "python",
   "name": "pyspark3"
  },
  "language_info": {
   "codemirror_mode": {
    "name": "ipython",
    "version": 3
   },
   "file_extension": ".py",
   "mimetype": "text/x-python",
   "name": "python",
   "nbconvert_exporter": "python",
   "pygments_lexer": "ipython3",
   "version": "3.6.12"
  }
 },
 "nbformat": 4,
 "nbformat_minor": 5
}
