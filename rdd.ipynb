{
 "cells": [
  {
   "cell_type": "code",
   "execution_count": 2,
   "id": "e4fcc78e",
   "metadata": {},
   "outputs": [],
   "source": [
    "from  pyspark.sql import SparkSession\n",
    "import getpass\n",
    "username=getpass.getuser()\n",
    "spark=SparkSession.\\\n",
    "builder.\\\n",
    "config('spark.ui.port','0').\\\n",
    "config(\"spark.sql.warehouse.dir\",f\"/user/itv009490/warehouse\").\\\n",
    "enableHiveSupport().\\\n",
    "master('yarn').\\\n",
    "getOrCreate()"
   ]
  },
  {
   "cell_type": "code",
   "execution_count": 3,
   "id": "4c73567a",
   "metadata": {},
   "outputs": [
    {
     "data": {
      "text/html": [
       "\n",
       "            <div>\n",
       "                <p><b>SparkSession - hive</b></p>\n",
       "                \n",
       "        <div>\n",
       "            <p><b>SparkContext</b></p>\n",
       "\n",
       "            <p><a href=\"http://g01.itversity.com:35409\">Spark UI</a></p>\n",
       "\n",
       "            <dl>\n",
       "              <dt>Version</dt>\n",
       "                <dd><code>v3.1.2</code></dd>\n",
       "              <dt>Master</dt>\n",
       "                <dd><code>yarn</code></dd>\n",
       "              <dt>AppName</dt>\n",
       "                <dd><code>pyspark-shell</code></dd>\n",
       "            </dl>\n",
       "        </div>\n",
       "        \n",
       "            </div>\n",
       "        "
      ],
      "text/plain": [
       "<pyspark.sql.session.SparkSession at 0x7f6b553995c0>"
      ]
     },
     "execution_count": 3,
     "metadata": {},
     "output_type": "execute_result"
    }
   ],
   "source": [
    "spark"
   ]
  },
  {
   "cell_type": "code",
   "execution_count": 32,
   "id": "c8e75911",
   "metadata": {},
   "outputs": [],
   "source": [
    "rdd1 = spark.sparkContext.textFile(\"/user/itv009490/data/input/input.txt\")"
   ]
  },
  {
   "cell_type": "code",
   "execution_count": 33,
   "id": "48745fb7",
   "metadata": {},
   "outputs": [],
   "source": [
    "rdd2= rdd1.flatMap(lambda line : line.split(\" \"))"
   ]
  },
  {
   "cell_type": "code",
   "execution_count": 34,
   "id": "d923ed8a",
   "metadata": {},
   "outputs": [],
   "source": [
    "rdd3 = rdd2.map(lambda word : (word,1))"
   ]
  },
  {
   "cell_type": "code",
   "execution_count": 35,
   "id": "7678a3aa",
   "metadata": {},
   "outputs": [],
   "source": [
    "rdd4 = rdd3.reduceByKey(lambda x,y : x+y)"
   ]
  },
  {
   "cell_type": "code",
   "execution_count": 36,
   "id": "b937bf15",
   "metadata": {},
   "outputs": [
    {
     "data": {
      "text/plain": [
       "[('Hi', 1),\n",
       " ('name', 1),\n",
       " ('is', 4),\n",
       " ('Hello', 1),\n",
       " ('am', 1),\n",
       " ('of', 2),\n",
       " ('very', 1),\n",
       " ('interesting', 1),\n",
       " ('trending', 1),\n",
       " ('technology', 1),\n",
       " ('Sumit', 1),\n",
       " (\"Sir's\", 1),\n",
       " ('My', 1),\n",
       " ('Udhhav', 1),\n",
       " ('I', 1),\n",
       " ('currently', 1),\n",
       " ('workng', 1),\n",
       " ('on', 1),\n",
       " ('week3', 1),\n",
       " ('big', 3),\n",
       " ('data', 3),\n",
       " ('course', 2),\n",
       " ('one', 1),\n",
       " ('the', 1),\n",
       " ('most', 1),\n",
       " ('This', 1)]"
      ]
     },
     "execution_count": 36,
     "metadata": {},
     "output_type": "execute_result"
    }
   ],
   "source": [
    "rdd4.collect()"
   ]
  },
  {
   "cell_type": "code",
   "execution_count": 37,
   "id": "6f4267be",
   "metadata": {},
   "outputs": [],
   "source": [
    "rdd4.saveAsTextFile(\"/user/itv009490/data/output_rdd\")"
   ]
  },
  {
   "cell_type": "code",
   "execution_count": null,
   "id": "2e7f7477",
   "metadata": {},
   "outputs": [],
   "source": []
  }
 ],
 "metadata": {
  "kernelspec": {
   "display_name": "Pyspark 3",
   "language": "python",
   "name": "pyspark3"
  },
  "language_info": {
   "codemirror_mode": {
    "name": "ipython",
    "version": 3
   },
   "file_extension": ".py",
   "mimetype": "text/x-python",
   "name": "python",
   "nbconvert_exporter": "python",
   "pygments_lexer": "ipython3",
   "version": "3.6.12"
  }
 },
 "nbformat": 4,
 "nbformat_minor": 5
}
